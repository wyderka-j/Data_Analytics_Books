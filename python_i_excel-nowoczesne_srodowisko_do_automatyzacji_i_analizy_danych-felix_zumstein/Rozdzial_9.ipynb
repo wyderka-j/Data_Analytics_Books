{
 "cells": [
  {
   "cell_type": "markdown",
   "id": "2118ce6d",
   "metadata": {},
   "source": [
    "# Automatyzacja Excela\n",
    "# Pierwsze kroki z xlwings\n",
    "## Excel jako przeglądarka danych"
   ]
  },
  {
   "cell_type": "code",
   "execution_count": 1,
   "id": "7a473987",
   "metadata": {},
   "outputs": [],
   "source": [
    "# Najpierw importujemy pakiety, których będziemy używać w tym rozdziale\n",
    "import datetime as dt\n",
    "import xlwings as xw\n",
    "import pandas as pd\n",
    "import numpy as np"
   ]
  },
  {
   "cell_type": "code",
   "execution_count": 2,
   "id": "f00d6e1e",
   "metadata": {},
   "outputs": [
    {
     "data": {
      "text/html": [
       "<div>\n",
       "<style scoped>\n",
       "    .dataframe tbody tr th:only-of-type {\n",
       "        vertical-align: middle;\n",
       "    }\n",
       "\n",
       "    .dataframe tbody tr th {\n",
       "        vertical-align: top;\n",
       "    }\n",
       "\n",
       "    .dataframe thead th {\n",
       "        text-align: right;\n",
       "    }\n",
       "</style>\n",
       "<table border=\"1\" class=\"dataframe\">\n",
       "  <thead>\n",
       "    <tr style=\"text-align: right;\">\n",
       "      <th></th>\n",
       "      <th>Próba 1</th>\n",
       "      <th>Próba 2</th>\n",
       "      <th>Próba 3</th>\n",
       "      <th>Próba 4</th>\n",
       "      <th>Próba 5</th>\n",
       "    </tr>\n",
       "  </thead>\n",
       "  <tbody>\n",
       "    <tr>\n",
       "      <th>0</th>\n",
       "      <td>1.267261</td>\n",
       "      <td>-0.798587</td>\n",
       "      <td>1.256049</td>\n",
       "      <td>-0.087560</td>\n",
       "      <td>0.283736</td>\n",
       "    </tr>\n",
       "    <tr>\n",
       "      <th>1</th>\n",
       "      <td>-1.011866</td>\n",
       "      <td>0.092810</td>\n",
       "      <td>1.156487</td>\n",
       "      <td>0.402309</td>\n",
       "      <td>0.165430</td>\n",
       "    </tr>\n",
       "    <tr>\n",
       "      <th>2</th>\n",
       "      <td>-0.178673</td>\n",
       "      <td>-0.162553</td>\n",
       "      <td>0.104831</td>\n",
       "      <td>2.853571</td>\n",
       "      <td>-0.242929</td>\n",
       "    </tr>\n",
       "    <tr>\n",
       "      <th>3</th>\n",
       "      <td>-1.257034</td>\n",
       "      <td>-0.512577</td>\n",
       "      <td>-1.573996</td>\n",
       "      <td>-0.796289</td>\n",
       "      <td>0.435056</td>\n",
       "    </tr>\n",
       "    <tr>\n",
       "      <th>4</th>\n",
       "      <td>1.128399</td>\n",
       "      <td>0.005740</td>\n",
       "      <td>0.391642</td>\n",
       "      <td>0.402148</td>\n",
       "      <td>-0.233489</td>\n",
       "    </tr>\n",
       "    <tr>\n",
       "      <th>...</th>\n",
       "      <td>...</td>\n",
       "      <td>...</td>\n",
       "      <td>...</td>\n",
       "      <td>...</td>\n",
       "      <td>...</td>\n",
       "    </tr>\n",
       "    <tr>\n",
       "      <th>95</th>\n",
       "      <td>-1.047346</td>\n",
       "      <td>1.583055</td>\n",
       "      <td>0.469622</td>\n",
       "      <td>0.645340</td>\n",
       "      <td>-0.546757</td>\n",
       "    </tr>\n",
       "    <tr>\n",
       "      <th>96</th>\n",
       "      <td>0.336235</td>\n",
       "      <td>-1.187729</td>\n",
       "      <td>0.183414</td>\n",
       "      <td>0.326437</td>\n",
       "      <td>0.147353</td>\n",
       "    </tr>\n",
       "    <tr>\n",
       "      <th>97</th>\n",
       "      <td>1.243576</td>\n",
       "      <td>0.280914</td>\n",
       "      <td>-2.240688</td>\n",
       "      <td>-1.076059</td>\n",
       "      <td>-2.016165</td>\n",
       "    </tr>\n",
       "    <tr>\n",
       "      <th>98</th>\n",
       "      <td>0.991566</td>\n",
       "      <td>-1.323651</td>\n",
       "      <td>-1.794318</td>\n",
       "      <td>1.056378</td>\n",
       "      <td>1.299409</td>\n",
       "    </tr>\n",
       "    <tr>\n",
       "      <th>99</th>\n",
       "      <td>-0.269775</td>\n",
       "      <td>-0.218852</td>\n",
       "      <td>-0.347659</td>\n",
       "      <td>0.766861</td>\n",
       "      <td>0.177146</td>\n",
       "    </tr>\n",
       "  </tbody>\n",
       "</table>\n",
       "<p>100 rows × 5 columns</p>\n",
       "</div>"
      ],
      "text/plain": [
       "     Próba 1   Próba 2   Próba 3   Próba 4   Próba 5\n",
       "0   1.267261 -0.798587  1.256049 -0.087560  0.283736\n",
       "1  -1.011866  0.092810  1.156487  0.402309  0.165430\n",
       "2  -0.178673 -0.162553  0.104831  2.853571 -0.242929\n",
       "3  -1.257034 -0.512577 -1.573996 -0.796289  0.435056\n",
       "4   1.128399  0.005740  0.391642  0.402148 -0.233489\n",
       "..       ...       ...       ...       ...       ...\n",
       "95 -1.047346  1.583055  0.469622  0.645340 -0.546757\n",
       "96  0.336235 -1.187729  0.183414  0.326437  0.147353\n",
       "97  1.243576  0.280914 -2.240688 -1.076059 -2.016165\n",
       "98  0.991566 -1.323651 -1.794318  1.056378  1.299409\n",
       "99 -0.269775 -0.218852 -0.347659  0.766861  0.177146\n",
       "\n",
       "[100 rows x 5 columns]"
      ]
     },
     "execution_count": 2,
     "metadata": {},
     "output_type": "execute_result"
    }
   ],
   "source": [
    "# Tworzymy DataFrame na podstawie liczb pseudolosowych, z taką\n",
    "# liczbą wierszy, że widoczne będą tylko początkowe i końcowe\n",
    "df = pd.DataFrame(data=np.random.randn(100, 5),\n",
    "                  columns=[f\"Próba {i}\" for i in range(1, 6)])\n",
    "df"
   ]
  },
  {
   "cell_type": "code",
   "execution_count": 3,
   "id": "06fd7c23",
   "metadata": {},
   "outputs": [],
   "source": [
    "# Wyświetlenie DataFrame w Excelu\n",
    "xw.view(df)"
   ]
  },
  {
   "cell_type": "markdown",
   "id": "7ec52178",
   "metadata": {},
   "source": [
    "## Model obiektowy Excela"
   ]
  },
  {
   "cell_type": "code",
   "execution_count": 4,
   "id": "2b6fee3a",
   "metadata": {},
   "outputs": [
    {
     "data": {
      "text/plain": [
       "'Book2'"
      ]
     },
     "execution_count": 4,
     "metadata": {},
     "output_type": "execute_result"
    }
   ],
   "source": [
    "# Utworzenie nowego pustego skoroszytu i wypisanie jego nazwy. Tego skoroszytu \n",
    "# będziemy używać do uruchamiania większości przykładów kodu z tego rozdziału.\n",
    "book = xw.Book()\n",
    "book.name"
   ]
  },
  {
   "cell_type": "code",
   "execution_count": 5,
   "id": "5c00d036",
   "metadata": {},
   "outputs": [
    {
     "data": {
      "text/plain": [
       "Sheets([<Sheet [Book2]Sheet1>])"
      ]
     },
     "execution_count": 5,
     "metadata": {},
     "output_type": "execute_result"
    }
   ],
   "source": [
    "# Uzyskanie dostępu do kolekcji arkuszy\n",
    "book.sheets"
   ]
  },
  {
   "cell_type": "code",
   "execution_count": 6,
   "id": "743b6c21",
   "metadata": {},
   "outputs": [],
   "source": [
    "# Uzyskanie obiektu arkusza poprzez indeks lub nazwę. \n",
    "sheet1 = book.sheets[0]\n",
    "sheet1 = book.sheets[\"Sheet1\"]"
   ]
  },
  {
   "cell_type": "code",
   "execution_count": 7,
   "id": "d578637f",
   "metadata": {},
   "outputs": [
    {
     "data": {
      "text/plain": [
       "<Range [Book2]Sheet1!$A$1>"
      ]
     },
     "execution_count": 7,
     "metadata": {},
     "output_type": "execute_result"
    }
   ],
   "source": [
    "sheet1.range(\"A1\")"
   ]
  },
  {
   "cell_type": "code",
   "execution_count": 8,
   "id": "d7318ec9",
   "metadata": {},
   "outputs": [],
   "source": [
    "# Najczęstsze zadania: zapisywanie wartości ...\n",
    "sheet1.range(\"A1\").value = [[1, 2],\n",
    "                            [3, 4]]\n",
    "sheet1.range(\"A4\").value = \"Witaj!\""
   ]
  },
  {
   "cell_type": "code",
   "execution_count": 9,
   "id": "a7af6acb",
   "metadata": {},
   "outputs": [
    {
     "data": {
      "text/plain": [
       "[[1.0, 2.0], [3.0, 4.0]]"
      ]
     },
     "execution_count": 9,
     "metadata": {},
     "output_type": "execute_result"
    }
   ],
   "source": [
    "# ... i odczytywanie wartości\n",
    "sheet1.range(\"A1:B2\").value"
   ]
  },
  {
   "cell_type": "code",
   "execution_count": 10,
   "id": "46f51523",
   "metadata": {},
   "outputs": [
    {
     "data": {
      "text/plain": [
       "'Witaj!'"
      ]
     },
     "execution_count": 10,
     "metadata": {},
     "output_type": "execute_result"
    }
   ],
   "source": [
    "sheet1.range(\"A4\").value"
   ]
  },
  {
   "cell_type": "code",
   "execution_count": 11,
   "id": "4b952ac3",
   "metadata": {},
   "outputs": [
    {
     "data": {
      "text/plain": [
       "<Range [Book2]Sheet1!$A$1>"
      ]
     },
     "execution_count": 11,
     "metadata": {},
     "output_type": "execute_result"
    }
   ],
   "source": [
    "# Indeksowanie\n",
    "sheet1.range(\"A1:B2\")[0, 0]"
   ]
  },
  {
   "cell_type": "code",
   "execution_count": 12,
   "id": "58b5524a",
   "metadata": {},
   "outputs": [
    {
     "data": {
      "text/plain": [
       "<Range [Book2]Sheet1!$B$1:$B$2>"
      ]
     },
     "execution_count": 12,
     "metadata": {},
     "output_type": "execute_result"
    }
   ],
   "source": [
    "# Wycinanie\n",
    "sheet1.range(\"A1:B2\")[:, 1]"
   ]
  },
  {
   "cell_type": "code",
   "execution_count": 13,
   "id": "b258c593",
   "metadata": {},
   "outputs": [
    {
     "data": {
      "text/plain": [
       "<Range [Book2]Sheet1!$A$1>"
      ]
     },
     "execution_count": 13,
     "metadata": {},
     "output_type": "execute_result"
    }
   ],
   "source": [
    "# Pojedyncza komórka: notacja A1\n",
    "sheet1[\"A1\"]"
   ]
  },
  {
   "cell_type": "code",
   "execution_count": 14,
   "id": "a70a04a4",
   "metadata": {},
   "outputs": [
    {
     "data": {
      "text/plain": [
       "<Range [Book2]Sheet1!$A$1:$B$2>"
      ]
     },
     "execution_count": 14,
     "metadata": {},
     "output_type": "execute_result"
    }
   ],
   "source": [
    "# Wiele komórek: notacja A1\n",
    "sheet1[\"A1:B2\"]"
   ]
  },
  {
   "cell_type": "code",
   "execution_count": 15,
   "id": "c99e8716",
   "metadata": {},
   "outputs": [
    {
     "data": {
      "text/plain": [
       "<Range [Book2]Sheet1!$A$1>"
      ]
     },
     "execution_count": 15,
     "metadata": {},
     "output_type": "execute_result"
    }
   ],
   "source": [
    "# Pojedyncza komórka: indeksowanie\n",
    "sheet1[0, 0]"
   ]
  },
  {
   "cell_type": "code",
   "execution_count": 16,
   "id": "dcedfcfe",
   "metadata": {},
   "outputs": [
    {
     "data": {
      "text/plain": [
       "<Range [Book2]Sheet1!$A$1:$B$2>"
      ]
     },
     "execution_count": 16,
     "metadata": {},
     "output_type": "execute_result"
    }
   ],
   "source": [
    "# Wiele komórek: wycinanie\n",
    "sheet1[:2, :2]"
   ]
  },
  {
   "cell_type": "code",
   "execution_count": 17,
   "id": "17a3df2c",
   "metadata": {},
   "outputs": [
    {
     "data": {
      "text/plain": [
       "<Range [Book2]Sheet1!$D$10>"
      ]
     },
     "execution_count": 17,
     "metadata": {},
     "output_type": "execute_result"
    }
   ],
   "source": [
    "# D10 poprzez indeksowanie arkusza\n",
    "sheet1[9, 3]"
   ]
  },
  {
   "cell_type": "code",
   "execution_count": 18,
   "id": "3c361290",
   "metadata": {},
   "outputs": [
    {
     "data": {
      "text/plain": [
       "<Range [Book2]Sheet1!$D$10>"
      ]
     },
     "execution_count": 18,
     "metadata": {},
     "output_type": "execute_result"
    }
   ],
   "source": [
    "# D10 poprzez obiekt range\n",
    "sheet1.range((10, 4))"
   ]
  },
  {
   "cell_type": "code",
   "execution_count": 19,
   "id": "e1a2889f",
   "metadata": {},
   "outputs": [
    {
     "data": {
      "text/plain": [
       "<Range [Book2]Sheet1!$D$10:$F$11>"
      ]
     },
     "execution_count": 19,
     "metadata": {},
     "output_type": "execute_result"
    }
   ],
   "source": [
    "# D10:F11 poprzez wycinanie arkusza\n",
    "sheet1[9:11, 3:6]"
   ]
  },
  {
   "cell_type": "code",
   "execution_count": 20,
   "id": "b1c1fb78",
   "metadata": {},
   "outputs": [
    {
     "data": {
      "text/plain": [
       "<Range [Book2]Sheet1!$D$10:$F$11>"
      ]
     },
     "execution_count": 20,
     "metadata": {},
     "output_type": "execute_result"
    }
   ],
   "source": [
    "# D10:F11 poprzez obiekt range\n",
    "sheet1.range((10, 4), (11, 6))"
   ]
  },
  {
   "cell_type": "code",
   "execution_count": 21,
   "id": "35c69301",
   "metadata": {},
   "outputs": [
    {
     "data": {
      "text/plain": [
       "<App [excel] 6320>"
      ]
     },
     "execution_count": 21,
     "metadata": {},
     "output_type": "execute_result"
    }
   ],
   "source": [
    "sheet1[\"A1\"].sheet.book.app"
   ]
  },
  {
   "cell_type": "code",
   "execution_count": 22,
   "id": "ae2c5c62",
   "metadata": {},
   "outputs": [],
   "source": [
    "# Pobranie jednego obiektu app z otwartego skoroszytu\n",
    "# i utworzenie dodatkowej niewidocznej instancji app\n",
    "visible_app = sheet1.book.app\n",
    "invisible_app = xw.App(visible=False)"
   ]
  },
  {
   "cell_type": "code",
   "execution_count": 23,
   "id": "e88d5f68",
   "metadata": {},
   "outputs": [
    {
     "data": {
      "text/plain": [
       "['Book1', 'Book2']"
      ]
     },
     "execution_count": 23,
     "metadata": {},
     "output_type": "execute_result"
    }
   ],
   "source": [
    "# Wypisanie nazw skoroszytów, które są otwarte w każdej instancji,\n",
    "# poprzez wykorzystanie listy składanej\n",
    "[book.name for book in visible_app.books]"
   ]
  },
  {
   "cell_type": "code",
   "execution_count": 24,
   "id": "a8d0562d",
   "metadata": {},
   "outputs": [
    {
     "data": {
      "text/plain": [
       "['Book3']"
      ]
     },
     "execution_count": 24,
     "metadata": {},
     "output_type": "execute_result"
    }
   ],
   "source": [
    "[book.name for book in invisible_app.books]"
   ]
  },
  {
   "cell_type": "code",
   "execution_count": 25,
   "id": "c61d0148",
   "metadata": {},
   "outputs": [
    {
     "data": {
      "text/plain": [
       "[10348, 6320]"
      ]
     },
     "execution_count": 25,
     "metadata": {},
     "output_type": "execute_result"
    }
   ],
   "source": [
    "# Klucz aplikacji, reprezentujący identyfikator procesu (PID)\n",
    "xw.apps.keys()"
   ]
  },
  {
   "cell_type": "code",
   "execution_count": 26,
   "id": "bc311882",
   "metadata": {},
   "outputs": [
    {
     "data": {
      "text/plain": [
       "10348"
      ]
     },
     "execution_count": 26,
     "metadata": {},
     "output_type": "execute_result"
    }
   ],
   "source": [
    "# Można uzyskać do niego dostęp również poprzez atrybut pid\n",
    "xw.apps.active.pid"
   ]
  },
  {
   "cell_type": "code",
   "execution_count": 27,
   "id": "bd604de6",
   "metadata": {},
   "outputs": [],
   "source": [
    "# Praca ze skoroszytem w niewidocznej instancji Excela\n",
    "invisible_book = invisible_app.books[0]\n",
    "invisible_book.sheets[0][\"A1\"].value = \"Utworzone przez niewidoczną aplikację.\""
   ]
  },
  {
   "cell_type": "code",
   "execution_count": 28,
   "id": "4600dfe7",
   "metadata": {},
   "outputs": [],
   "source": [
    "# Zapisanie skoroszytu Excela w katalogu xl\n",
    "invisible_book.save(\"xl/invisible.xlsx\")"
   ]
  },
  {
   "cell_type": "code",
   "execution_count": 29,
   "id": "7f9d7d2f",
   "metadata": {},
   "outputs": [],
   "source": [
    "# Zamknięcie niewidocznej instancji Excela\n",
    "invisible_app.quit()"
   ]
  },
  {
   "cell_type": "markdown",
   "id": "68ca1362",
   "metadata": {},
   "source": [
    "## Uruchamianie kodu VBA"
   ]
  },
  {
   "cell_type": "code",
   "execution_count": 30,
   "id": "33adb4d5",
   "metadata": {},
   "outputs": [],
   "source": [
    "vba_book = xw.Book(\"xl/vba.xlsm\")"
   ]
  },
  {
   "cell_type": "code",
   "execution_count": 31,
   "id": "67165168",
   "metadata": {},
   "outputs": [
    {
     "data": {
      "text/plain": [
       "9.0"
      ]
     },
     "execution_count": 31,
     "metadata": {},
     "output_type": "execute_result"
    }
   ],
   "source": [
    "# Utworzenie instancji obiektu macro z funkcją VBA\n",
    "mysum = vba_book.macro(\"Module1.MySum\")\n",
    "# Wywołanie funkcji VBA\n",
    "mysum(5, 4)"
   ]
  },
  {
   "cell_type": "code",
   "execution_count": 33,
   "id": "44b31369",
   "metadata": {},
   "outputs": [],
   "source": [
    "# Tak samo działa to z procedurą Sub VBA\n",
    "show_msgbox = vba_book.macro(\"Module1.ShowMsgBox\")\n",
    "show_msgbox(\"Witaj, xlwings!\")"
   ]
  },
  {
   "cell_type": "code",
   "execution_count": 34,
   "id": "e28ef4b4",
   "metadata": {},
   "outputs": [],
   "source": [
    "# Zamknięcie skoroszytu (upewnij się, że najpierw zamknąłeś okno MessageBox)\n",
    "vba_book.close()"
   ]
  },
  {
   "cell_type": "markdown",
   "id": "135a72f7",
   "metadata": {},
   "source": [
    "# Konwertery, opcje i kolekcje\n",
    "## Praca z obiektami DataFrame"
   ]
  },
  {
   "cell_type": "code",
   "execution_count": 35,
   "id": "9abd2587",
   "metadata": {},
   "outputs": [
    {
     "data": {
      "text/html": [
       "<div>\n",
       "<style scoped>\n",
       "    .dataframe tbody tr th:only-of-type {\n",
       "        vertical-align: middle;\n",
       "    }\n",
       "\n",
       "    .dataframe tbody tr th {\n",
       "        vertical-align: top;\n",
       "    }\n",
       "\n",
       "    .dataframe thead th {\n",
       "        text-align: right;\n",
       "    }\n",
       "</style>\n",
       "<table border=\"1\" class=\"dataframe\">\n",
       "  <thead>\n",
       "    <tr style=\"text-align: right;\">\n",
       "      <th></th>\n",
       "      <th>imię</th>\n",
       "      <th>wiek</th>\n",
       "      <th>kraj</th>\n",
       "      <th>ocena</th>\n",
       "      <th>kontynent</th>\n",
       "    </tr>\n",
       "    <tr>\n",
       "      <th>numer</th>\n",
       "      <th></th>\n",
       "      <th></th>\n",
       "      <th></th>\n",
       "      <th></th>\n",
       "      <th></th>\n",
       "    </tr>\n",
       "  </thead>\n",
       "  <tbody>\n",
       "    <tr>\n",
       "      <th>1001</th>\n",
       "      <td>Mark</td>\n",
       "      <td>55</td>\n",
       "      <td>Włochy</td>\n",
       "      <td>4.5</td>\n",
       "      <td>Europa</td>\n",
       "    </tr>\n",
       "    <tr>\n",
       "      <th>1000</th>\n",
       "      <td>John</td>\n",
       "      <td>33</td>\n",
       "      <td>USA</td>\n",
       "      <td>6.7</td>\n",
       "      <td>Ameryka</td>\n",
       "    </tr>\n",
       "  </tbody>\n",
       "</table>\n",
       "</div>"
      ],
      "text/plain": [
       "       imię  wiek    kraj  ocena kontynent\n",
       "numer                                     \n",
       "1001   Mark    55  Włochy    4.5    Europa\n",
       "1000   John    33     USA    6.7   Ameryka"
      ]
     },
     "execution_count": 35,
     "metadata": {},
     "output_type": "execute_result"
    }
   ],
   "source": [
    "data=[[\"Mark\", 55, \"Włochy\", 4.5, \"Europa\"],\n",
    "      [\"John\", 33, \"USA\", 6.7, \"Ameryka\"]]\n",
    "df = pd.DataFrame(data=data,\n",
    "                  columns=[\"imię\", \"wiek\", \"kraj\",\n",
    "                           \"ocena\", \"kontynent\"],\n",
    "                  index=[1001, 1000])\n",
    "df.index.name = \"numer\"\n",
    "df"
   ]
  },
  {
   "cell_type": "code",
   "execution_count": 36,
   "id": "a5f2ce0b",
   "metadata": {},
   "outputs": [],
   "source": [
    "sheet1[\"A6\"].value = df"
   ]
  },
  {
   "cell_type": "code",
   "execution_count": 37,
   "id": "268f6a61",
   "metadata": {},
   "outputs": [],
   "source": [
    "# wyłączenie nagłówków kolumn i indeksów\n",
    "sheet1[\"B10\"].options(header=False, index=False).value = df"
   ]
  },
  {
   "cell_type": "code",
   "execution_count": 38,
   "id": "d3d38049",
   "metadata": {},
   "outputs": [
    {
     "data": {
      "text/html": [
       "<div>\n",
       "<style scoped>\n",
       "    .dataframe tbody tr th:only-of-type {\n",
       "        vertical-align: middle;\n",
       "    }\n",
       "\n",
       "    .dataframe tbody tr th {\n",
       "        vertical-align: top;\n",
       "    }\n",
       "\n",
       "    .dataframe thead th {\n",
       "        text-align: right;\n",
       "    }\n",
       "</style>\n",
       "<table border=\"1\" class=\"dataframe\">\n",
       "  <thead>\n",
       "    <tr style=\"text-align: right;\">\n",
       "      <th></th>\n",
       "      <th>imię</th>\n",
       "      <th>wiek</th>\n",
       "      <th>kraj</th>\n",
       "      <th>ocena</th>\n",
       "      <th>kontynent</th>\n",
       "    </tr>\n",
       "    <tr>\n",
       "      <th>numer</th>\n",
       "      <th></th>\n",
       "      <th></th>\n",
       "      <th></th>\n",
       "      <th></th>\n",
       "      <th></th>\n",
       "    </tr>\n",
       "  </thead>\n",
       "  <tbody>\n",
       "    <tr>\n",
       "      <th>1001.0</th>\n",
       "      <td>Mark</td>\n",
       "      <td>55.0</td>\n",
       "      <td>Włochy</td>\n",
       "      <td>4.5</td>\n",
       "      <td>Europa</td>\n",
       "    </tr>\n",
       "    <tr>\n",
       "      <th>1000.0</th>\n",
       "      <td>John</td>\n",
       "      <td>33.0</td>\n",
       "      <td>USA</td>\n",
       "      <td>6.7</td>\n",
       "      <td>Ameryka</td>\n",
       "    </tr>\n",
       "  </tbody>\n",
       "</table>\n",
       "</div>"
      ],
      "text/plain": [
       "        imię  wiek    kraj  ocena kontynent\n",
       "numer                                      \n",
       "1001.0  Mark  55.0  Włochy    4.5    Europa\n",
       "1000.0  John  33.0     USA    6.7   Ameryka"
      ]
     },
     "execution_count": 38,
     "metadata": {},
     "output_type": "execute_result"
    }
   ],
   "source": [
    "df2 = sheet1[\"A6\"].expand().options(pd.DataFrame).value\n",
    "df2"
   ]
  },
  {
   "cell_type": "code",
   "execution_count": 39,
   "id": "1b48fa45",
   "metadata": {},
   "outputs": [
    {
     "data": {
      "text/html": [
       "<div>\n",
       "<style scoped>\n",
       "    .dataframe tbody tr th:only-of-type {\n",
       "        vertical-align: middle;\n",
       "    }\n",
       "\n",
       "    .dataframe tbody tr th {\n",
       "        vertical-align: top;\n",
       "    }\n",
       "\n",
       "    .dataframe thead th {\n",
       "        text-align: right;\n",
       "    }\n",
       "</style>\n",
       "<table border=\"1\" class=\"dataframe\">\n",
       "  <thead>\n",
       "    <tr style=\"text-align: right;\">\n",
       "      <th></th>\n",
       "      <th>imię</th>\n",
       "      <th>wiek</th>\n",
       "      <th>kraj</th>\n",
       "      <th>ocena</th>\n",
       "      <th>kontynent</th>\n",
       "    </tr>\n",
       "    <tr>\n",
       "      <th>numer</th>\n",
       "      <th></th>\n",
       "      <th></th>\n",
       "      <th></th>\n",
       "      <th></th>\n",
       "      <th></th>\n",
       "    </tr>\n",
       "  </thead>\n",
       "  <tbody>\n",
       "    <tr>\n",
       "      <th>1001</th>\n",
       "      <td>Mark</td>\n",
       "      <td>55.0</td>\n",
       "      <td>Włochy</td>\n",
       "      <td>4.5</td>\n",
       "      <td>Europa</td>\n",
       "    </tr>\n",
       "    <tr>\n",
       "      <th>1000</th>\n",
       "      <td>John</td>\n",
       "      <td>33.0</td>\n",
       "      <td>USA</td>\n",
       "      <td>6.7</td>\n",
       "      <td>Ameryka</td>\n",
       "    </tr>\n",
       "  </tbody>\n",
       "</table>\n",
       "</div>"
      ],
      "text/plain": [
       "       imię  wiek    kraj  ocena kontynent\n",
       "numer                                     \n",
       "1001   Mark  55.0  Włochy    4.5    Europa\n",
       "1000   John  33.0     USA    6.7   Ameryka"
      ]
     },
     "execution_count": 39,
     "metadata": {},
     "output_type": "execute_result"
    }
   ],
   "source": [
    "# Jeśli chcesz, aby indeks zawierał liczby całkowite,\n",
    "# możesz zmienić jego typ danych\n",
    "df2.index = df2.index.astype(int)\n",
    "df2"
   ]
  },
  {
   "cell_type": "code",
   "execution_count": 40,
   "id": "046b383f",
   "metadata": {},
   "outputs": [
    {
     "data": {
      "text/html": [
       "<div>\n",
       "<style scoped>\n",
       "    .dataframe tbody tr th:only-of-type {\n",
       "        vertical-align: middle;\n",
       "    }\n",
       "\n",
       "    .dataframe tbody tr th {\n",
       "        vertical-align: top;\n",
       "    }\n",
       "\n",
       "    .dataframe thead th {\n",
       "        text-align: right;\n",
       "    }\n",
       "</style>\n",
       "<table border=\"1\" class=\"dataframe\">\n",
       "  <thead>\n",
       "    <tr style=\"text-align: right;\">\n",
       "      <th></th>\n",
       "      <th>numer</th>\n",
       "      <th>imię</th>\n",
       "      <th>wiek</th>\n",
       "      <th>kraj</th>\n",
       "      <th>ocena</th>\n",
       "      <th>kontynent</th>\n",
       "    </tr>\n",
       "  </thead>\n",
       "  <tbody>\n",
       "    <tr>\n",
       "      <th>0</th>\n",
       "      <td>1001.0</td>\n",
       "      <td>Mark</td>\n",
       "      <td>55.0</td>\n",
       "      <td>Włochy</td>\n",
       "      <td>4.5</td>\n",
       "      <td>Europa</td>\n",
       "    </tr>\n",
       "    <tr>\n",
       "      <th>1</th>\n",
       "      <td>1000.0</td>\n",
       "      <td>John</td>\n",
       "      <td>33.0</td>\n",
       "      <td>USA</td>\n",
       "      <td>6.7</td>\n",
       "      <td>Ameryka</td>\n",
       "    </tr>\n",
       "  </tbody>\n",
       "</table>\n",
       "</div>"
      ],
      "text/plain": [
       "    numer  imię  wiek    kraj  ocena kontynent\n",
       "0  1001.0  Mark  55.0  Włochy    4.5    Europa\n",
       "1  1000.0  John  33.0     USA    6.7   Ameryka"
      ]
     },
     "execution_count": 40,
     "metadata": {},
     "output_type": "execute_result"
    }
   ],
   "source": [
    "# Ustawienie index=False spowoduje, że wszystkie wartości z Excela zostaną\n",
    "# umieszczone w części danych DataFrame i zostanie użyty domyślny indeks\n",
    "sheet1[\"A6\"].expand().options(pd.DataFrame, index=False).value"
   ]
  },
  {
   "cell_type": "markdown",
   "id": "bcefcfe7",
   "metadata": {},
   "source": [
    "## Konwertery i opcje"
   ]
  },
  {
   "cell_type": "code",
   "execution_count": 41,
   "id": "f79eaebe",
   "metadata": {},
   "outputs": [
    {
     "data": {
      "text/plain": [
       "[1.0, 2.0]"
      ]
     },
     "execution_count": 41,
     "metadata": {},
     "output_type": "execute_result"
    }
   ],
   "source": [
    "# Zakres poziomy (jednowymiarowy)\n",
    "sheet1[\"A1:B1\"].value"
   ]
  },
  {
   "cell_type": "code",
   "execution_count": 42,
   "id": "254a6da5",
   "metadata": {},
   "outputs": [
    {
     "data": {
      "text/plain": [
       "[1.0, 3.0]"
      ]
     },
     "execution_count": 42,
     "metadata": {},
     "output_type": "execute_result"
    }
   ],
   "source": [
    "# Zakres pionowy (jednowymiarowy)\n",
    "sheet1[\"A1:A2\"].value"
   ]
  },
  {
   "cell_type": "code",
   "execution_count": 43,
   "id": "4a931683",
   "metadata": {},
   "outputs": [
    {
     "data": {
      "text/plain": [
       "[[1.0, 2.0]]"
      ]
     },
     "execution_count": 43,
     "metadata": {},
     "output_type": "execute_result"
    }
   ],
   "source": [
    "# Zakres poziomy (dwuwymiarowy)\n",
    "sheet1[\"A1:B1\"].options(ndim=2).value"
   ]
  },
  {
   "cell_type": "code",
   "execution_count": 44,
   "id": "66aec89e",
   "metadata": {},
   "outputs": [
    {
     "data": {
      "text/plain": [
       "[[1.0], [3.0]]"
      ]
     },
     "execution_count": 44,
     "metadata": {},
     "output_type": "execute_result"
    }
   ],
   "source": [
    "# Zakres pionowy (dwuwymiarowy)\n",
    "sheet1[\"A1:A2\"].options(ndim=2).value"
   ]
  },
  {
   "cell_type": "code",
   "execution_count": 45,
   "id": "bc23c8d7",
   "metadata": {},
   "outputs": [
    {
     "data": {
      "text/plain": [
       "array([1., 3.])"
      ]
     },
     "execution_count": 45,
     "metadata": {},
     "output_type": "execute_result"
    }
   ],
   "source": [
    "# Taki sam efekt da użycie konwertera do tablic NumPy:\n",
    "# pionowy zakres prowadzi do tablicy jednowymiarowej\n",
    "sheet1[\"A1:A2\"].options(np.array).value"
   ]
  },
  {
   "cell_type": "code",
   "execution_count": 46,
   "id": "8f8eac05",
   "metadata": {},
   "outputs": [
    {
     "data": {
      "text/plain": [
       "array([[1.],\n",
       "       [3.]])"
      ]
     },
     "execution_count": 46,
     "metadata": {},
     "output_type": "execute_result"
    }
   ],
   "source": [
    "# Zachowanie orientacji kolumn\n",
    "sheet1[\"A1:A2\"].options(np.array, ndim=2).value"
   ]
  },
  {
   "cell_type": "code",
   "execution_count": 47,
   "id": "91a88a4a",
   "metadata": {},
   "outputs": [],
   "source": [
    "# Jeśli musisz wypisać listę w pionie,\n",
    "# przydatna będzie opcja \"transpose\".\n",
    "sheet1[\"D1\"].options(transpose=True).value = [100, 200]"
   ]
  },
  {
   "cell_type": "code",
   "execution_count": 48,
   "id": "5e29f2ac",
   "metadata": {},
   "outputs": [],
   "source": [
    "# Wypisz jakieś przykładowe dane\n",
    "sheet1[\"A13\"].value = [dt.datetime(2020, 1, 1), None, 1.0]"
   ]
  },
  {
   "cell_type": "code",
   "execution_count": 49,
   "id": "ddc5f62c",
   "metadata": {},
   "outputs": [
    {
     "data": {
      "text/plain": [
       "[datetime.datetime(2020, 1, 1, 0, 0), None, 1.0]"
      ]
     },
     "execution_count": 49,
     "metadata": {},
     "output_type": "execute_result"
    }
   ],
   "source": [
    "# Wczytaj je z powrotem, używając domyślnych opcji\n",
    "sheet1[\"A13:C13\"].value"
   ]
  },
  {
   "cell_type": "code",
   "execution_count": 50,
   "id": "9884825f",
   "metadata": {},
   "outputs": [
    {
     "data": {
      "text/plain": [
       "[datetime.date(2020, 1, 1), 'nd.', 1]"
      ]
     },
     "execution_count": 50,
     "metadata": {},
     "output_type": "execute_result"
    }
   ],
   "source": [
    "# Wczytaj je ponownie, używając opcji innych niż domyślne\n",
    "sheet1[\"A13:C13\"].options(empty=\"nd.\",\n",
    "                          dates=dt.date,\n",
    "                          numbers=int).value"
   ]
  },
  {
   "cell_type": "markdown",
   "id": "b7e7c2a6",
   "metadata": {},
   "source": [
    "## Wykresy, obrazy i zdefiniowane nazwy"
   ]
  },
  {
   "cell_type": "code",
   "execution_count": 51,
   "id": "c233993e",
   "metadata": {},
   "outputs": [],
   "source": [
    "sheet1[\"A15\"].value = [[None, \"Północ\", \"Południe\"],\n",
    "                       [\"Ubiegły rok\", 2, 5],\n",
    "                       [\"Bieżący rok\", 3, 6]]"
   ]
  },
  {
   "cell_type": "code",
   "execution_count": 52,
   "id": "dfaa6830",
   "metadata": {},
   "outputs": [],
   "source": [
    "chart = sheet1.charts.add(top=sheet1[\"A19\"].top,\n",
    "                          left=sheet1[\"A19\"].left)\n",
    "chart.chart_type = \"column_clustered\"\n",
    "chart.set_source_data(sheet1[\"A15\"].expand())"
   ]
  },
  {
   "cell_type": "code",
   "execution_count": 53,
   "id": "b01ab7b9",
   "metadata": {},
   "outputs": [
    {
     "data": {
      "text/html": [
       "<div>\n",
       "<style scoped>\n",
       "    .dataframe tbody tr th:only-of-type {\n",
       "        vertical-align: middle;\n",
       "    }\n",
       "\n",
       "    .dataframe tbody tr th {\n",
       "        vertical-align: top;\n",
       "    }\n",
       "\n",
       "    .dataframe thead th {\n",
       "        text-align: right;\n",
       "    }\n",
       "</style>\n",
       "<table border=\"1\" class=\"dataframe\">\n",
       "  <thead>\n",
       "    <tr style=\"text-align: right;\">\n",
       "      <th></th>\n",
       "      <th>Północ</th>\n",
       "      <th>Południe</th>\n",
       "    </tr>\n",
       "  </thead>\n",
       "  <tbody>\n",
       "    <tr>\n",
       "      <th>Ubiegły rok</th>\n",
       "      <td>2.0</td>\n",
       "      <td>5.0</td>\n",
       "    </tr>\n",
       "    <tr>\n",
       "      <th>Bieżący rok</th>\n",
       "      <td>3.0</td>\n",
       "      <td>6.0</td>\n",
       "    </tr>\n",
       "  </tbody>\n",
       "</table>\n",
       "</div>"
      ],
      "text/plain": [
       "             Północ  Południe\n",
       "Ubiegły rok     2.0       5.0\n",
       "Bieżący rok     3.0       6.0"
      ]
     },
     "execution_count": 53,
     "metadata": {},
     "output_type": "execute_result"
    }
   ],
   "source": [
    "# Wczytanie danych wykresu jako DataFrame\n",
    "df = sheet1[\"A15\"].expand().options(pd.DataFrame).value\n",
    "df"
   ]
  },
  {
   "cell_type": "code",
   "execution_count": 54,
   "id": "fbfcde86",
   "metadata": {},
   "outputs": [
    {
     "name": "stderr",
     "output_type": "stream",
     "text": [
      "C:\\Users\\jola6\\AppData\\Local\\Temp\\ipykernel_15472\\2969196276.py:5: MatplotlibDeprecationWarning: The seaborn styles shipped by Matplotlib are deprecated since 3.6, as they no longer correspond to the styles shipped by seaborn. However, they will remain available as 'seaborn-v0_8-<style>'. Alternatively, directly use the seaborn API instead.\n",
      "  plt.style.use(\"seaborn\")\n"
     ]
    }
   ],
   "source": [
    "# Włączenie Matplotlib przy użyciu magicznego polecenia\n",
    "# i przełączenie na styl \"seaborn\"\n",
    "%matplotlib inline\n",
    "import matplotlib.pyplot as plt\n",
    "plt.style.use(\"seaborn\")"
   ]
  },
  {
   "cell_type": "code",
   "execution_count": 55,
   "id": "b0117d76",
   "metadata": {},
   "outputs": [
    {
     "data": {
      "image/png": "[encoded data removed]",
      "text/plain": [
       "<Figure size 800x550 with 1 Axes>"
      ]
     },
     "metadata": {},
     "output_type": "display_data"
    }
   ],
   "source": [
    "# Metoda plot biblioteki pandas zwraca obiekt \"axis\", z którego\n",
    "# można uzyskać obiekt figure. \"T\" wykonuje transpozycję DataFrame,\n",
    "# aby ustawić wykres w żądanej orientacji\n",
    "ax = df.T.plot.bar()\n",
    "fig = ax.get_figure()"
   ]
  },
  {
   "cell_type": "code",
   "execution_count": 56,
   "id": "d2702c80",
   "metadata": {},
   "outputs": [],
   "source": [
    "# Wysłanie wykresu do Excela.\n",
    "plot = sheet1.pictures.add(fig, name=\"SalesPlot\",\n",
    "                           top=sheet1[\"H19\"].top,\n",
    "                           left=sheet1[\"H19\"].left)\n",
    "# Przeskalowanie wykresu do 70%\n",
    "plot.width, plot.height = plot.width * 0.7, plot.height * 0.7"
   ]
  },
  {
   "cell_type": "code",
   "execution_count": 57,
   "id": "b17c418b",
   "metadata": {},
   "outputs": [],
   "source": [
    "# zaktualizowanie obrazu z nowym wykresem\n",
    "ax = (df + 1).T.plot.bar()\n",
    "plot = plot.update(ax.get_figure())"
   ]
  },
  {
   "cell_type": "markdown",
   "id": "74b1e135",
   "metadata": {},
   "source": [
    "### Zdefiniowane nazwy"
   ]
  },
  {
   "cell_type": "code",
   "execution_count": 58,
   "id": "2cd56c6e",
   "metadata": {},
   "outputs": [],
   "source": [
    "# Zakresem domyślnym jest zakres skoroszytu\n",
    "sheet1[\"A1:B2\"].name = \"macierz1\""
   ]
  },
  {
   "cell_type": "code",
   "execution_count": 60,
   "id": "e2341c96",
   "metadata": {},
   "outputs": [],
   "source": [
    "# W przypadku zakresu arkusza po nazwie arkusza\n",
    "# należy wstawić wykrzyknik\n",
    "sheet1[\"B10:E11\"].name = \"Sheet1!macierz2\""
   ]
  },
  {
   "cell_type": "code",
   "execution_count": 61,
   "id": "d3426821",
   "metadata": {},
   "outputs": [
    {
     "data": {
      "text/plain": [
       "<Range [Book2]Sheet1!$A$1:$B$2>"
      ]
     },
     "execution_count": 61,
     "metadata": {},
     "output_type": "execute_result"
    }
   ],
   "source": [
    "# Teraz możesz uzyskać dostęp do zakresu poprzez nazwę\n",
    "sheet1[\"macierz1\"]"
   ]
  },
  {
   "cell_type": "code",
   "execution_count": 62,
   "id": "e717b453",
   "metadata": {},
   "outputs": [
    {
     "data": {
      "text/plain": [
       "[<Name 'Sheet1!macierz2': =Sheet1!$B$10:$E$11>]"
      ]
     },
     "execution_count": 62,
     "metadata": {},
     "output_type": "execute_result"
    }
   ],
   "source": [
    "# Jeśli dostęp do kolekcji nazw odbywa się poprzez obiekt \"sheet1\",\n",
    "# zawiera ona tylko nazwy w obrębie tego arkusza\n",
    "sheet1.names"
   ]
  },
  {
   "cell_type": "code",
   "execution_count": 63,
   "id": "af3d9452",
   "metadata": {},
   "outputs": [
    {
     "data": {
      "text/plain": [
       "[<Name 'macierz1': =Sheet1!$A$1:$B$2>, <Name 'Sheet1!macierz2': =Sheet1!$B$10:$E$11>]"
      ]
     },
     "execution_count": 63,
     "metadata": {},
     "output_type": "execute_result"
    }
   ],
   "source": [
    "# Jeśli dostęp do kolekcji nazw odbywa się poprzez obiekt \"book\",\n",
    "# zawiera ona wszystkie nazwy, zarówno w obrębie skoroszytu, jak i arkusza\n",
    "book.names"
   ]
  },
  {
   "cell_type": "code",
   "execution_count": 64,
   "id": "6f4a8320",
   "metadata": {},
   "outputs": [
    {
     "data": {
      "text/plain": [
       "<Range [Book2]Sheet1!$A$1:$B$2>"
      ]
     },
     "execution_count": 64,
     "metadata": {},
     "output_type": "execute_result"
    }
   ],
   "source": [
    "# Nazwy mają różne metody i atrybuty.\n",
    "# Dzięki temu możesz np. uzyskać odpowiedni obiekt zakresu.\n",
    "book.names[\"macierz1\"].refers_to_range"
   ]
  },
  {
   "cell_type": "code",
   "execution_count": 65,
   "id": "52394db9",
   "metadata": {},
   "outputs": [
    {
     "data": {
      "text/plain": [
       "<Name 'EURUSD': =1.1151>"
      ]
     },
     "execution_count": 65,
     "metadata": {},
     "output_type": "execute_result"
    }
   ],
   "source": [
    "# Jeśli chcesz przypisać nazwę do stałej\n",
    "# lub formuły, użyj metody \"add\"\n",
    "book.names.add(\"EURUSD\", \"=1,1151\")"
   ]
  },
  {
   "cell_type": "markdown",
   "id": "4cd383e5",
   "metadata": {},
   "source": [
    "# Zagadnienia zaawansowane\n",
    "## Wydajność"
   ]
  },
  {
   "cell_type": "code",
   "execution_count": 66,
   "id": "7511cfcd",
   "metadata": {},
   "outputs": [],
   "source": [
    "# Dodanie nowego arkusza i wpisanie do niego\n",
    "# 150 wartości, by mieć z czym pracować\n",
    "sheet2 = book.sheets.add()\n",
    "sheet2[\"A1\"].value = np.arange(150).reshape(30, 5)"
   ]
  },
  {
   "cell_type": "code",
   "execution_count": 67,
   "id": "360c4be8",
   "metadata": {},
   "outputs": [
    {
     "name": "stdout",
     "output_type": "stream",
     "text": [
      "CPU times: total: 562 ms\n",
      "Wall time: 1.81 s\n"
     ]
    }
   ],
   "source": [
    "%%time\n",
    "# W ten sposób powstaje 150 wywołań międzyaplikacyjnych\n",
    "for cell in sheet2[\"A1:E30\"]:\n",
    "    cell.value += 1"
   ]
  },
  {
   "cell_type": "code",
   "execution_count": 68,
   "id": "0f8212db",
   "metadata": {},
   "outputs": [
    {
     "name": "stdout",
     "output_type": "stream",
     "text": [
      "CPU times: total: 31.2 ms\n",
      "Wall time: 97 ms\n"
     ]
    }
   ],
   "source": [
    "%%time\n",
    "# W ten sposób powstają tylko dwa wywołania międzyaplikacyjne\n",
    "values = sheet2[\"A1:E30\"].options(np.array).value\n",
    "sheet2[\"A1\"].value = values + 1"
   ]
  },
  {
   "cell_type": "code",
   "execution_count": 69,
   "id": "400c956c",
   "metadata": {},
   "outputs": [],
   "source": [
    "# W przypadku surowych wartości musisz podać pełny\n",
    "# zakres docelowy, sheet[\"A35\"] już nie zadziała\n",
    "sheet1[\"A35:B36\"].options(\"raw\").value = [[1, 2], [3, 4]]"
   ]
  },
  {
   "cell_type": "code",
   "execution_count": null,
   "id": "9dfb267c",
   "metadata": {},
   "outputs": [],
   "source": []
  }
 ],
 "metadata": {
  "kernelspec": {
   "display_name": "Python 3 (ipykernel)",
   "language": "python",
   "name": "python3"
  },
  "language_info": {
   "codemirror_mode": {
    "name": "ipython",
    "version": 3
   },
   "file_extension": ".py",
   "mimetype": "text/x-python",
   "name": "python",
   "nbconvert_exporter": "python",
   "pygments_lexer": "ipython3",
   "version": "3.10.9"
  }
 },
 "nbformat": 4,
 "nbformat_minor": 5
}
