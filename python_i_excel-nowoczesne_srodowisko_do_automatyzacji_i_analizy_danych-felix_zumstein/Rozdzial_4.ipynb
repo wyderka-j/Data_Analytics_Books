{
 "cells": [
  {
   "cell_type": "markdown",
   "id": "ba242456",
   "metadata": {},
   "source": [
    "# Podstawy NumPy\n",
    "## Tablica NumPy"
   ]
  },
  {
   "cell_type": "code",
   "execution_count": 1,
   "id": "64680e56",
   "metadata": {},
   "outputs": [],
   "source": [
    "matrix = [[1, 2, 3],\n",
    "          [4, 5, 6],\n",
    "          [7, 8, 9]]"
   ]
  },
  {
   "cell_type": "code",
   "execution_count": 2,
   "id": "7013cc47",
   "metadata": {},
   "outputs": [
    {
     "data": {
      "text/plain": [
       "[[2, 3, 4], [5, 6, 7], [8, 9, 10]]"
      ]
     },
     "execution_count": 2,
     "metadata": {},
     "output_type": "execute_result"
    }
   ],
   "source": [
    "[[i + 1 for i in row] for row in matrix]"
   ]
  },
  {
   "cell_type": "code",
   "execution_count": 3,
   "id": "53a2058d",
   "metadata": {},
   "outputs": [],
   "source": [
    "# Najpierw importujemy NumPy\n",
    "import numpy as np"
   ]
  },
  {
   "cell_type": "code",
   "execution_count": 4,
   "id": "10d4fb09",
   "metadata": {},
   "outputs": [],
   "source": [
    "# Tworząc tablicę z prostej listy, otrzymamy tablicę jednowymiarową\n",
    "array1 = np.array([10, 100, 1000.])"
   ]
  },
  {
   "cell_type": "code",
   "execution_count": 5,
   "id": "11db5e89",
   "metadata": {},
   "outputs": [],
   "source": [
    "# Tworząc tablicę z listy zagnieżdżonej, otrzymamy tablicę dwuwymiarową\n",
    "array2 = np.array([[1., 2., 3.],\n",
    "                   [4., 5., 6.]])"
   ]
  },
  {
   "cell_type": "code",
   "execution_count": 6,
   "id": "892fab9c",
   "metadata": {},
   "outputs": [
    {
     "data": {
      "text/plain": [
       "dtype('float64')"
      ]
     },
     "execution_count": 6,
     "metadata": {},
     "output_type": "execute_result"
    }
   ],
   "source": [
    "# typ danych tablicy\n",
    "array1.dtype"
   ]
  },
  {
   "cell_type": "code",
   "execution_count": 7,
   "id": "cfca2466",
   "metadata": {},
   "outputs": [
    {
     "data": {
      "text/plain": [
       "10.0"
      ]
     },
     "execution_count": 7,
     "metadata": {},
     "output_type": "execute_result"
    }
   ],
   "source": [
    "# przekonwertowanie typu danych\n",
    "float(array1[0])"
   ]
  },
  {
   "cell_type": "markdown",
   "id": "b39a3794",
   "metadata": {},
   "source": [
    "## Wektoryzacja i rozgłaszanie"
   ]
  },
  {
   "cell_type": "code",
   "execution_count": 8,
   "id": "f7a13b12",
   "metadata": {},
   "outputs": [
    {
     "data": {
      "text/plain": [
       "array([[2., 3., 4.],\n",
       "       [5., 6., 7.]])"
      ]
     },
     "execution_count": 8,
     "metadata": {},
     "output_type": "execute_result"
    }
   ],
   "source": [
    "array2 + 1"
   ]
  },
  {
   "cell_type": "code",
   "execution_count": 9,
   "id": "95cc19c8",
   "metadata": {},
   "outputs": [
    {
     "data": {
      "text/plain": [
       "array([[ 1.,  4.,  9.],\n",
       "       [16., 25., 36.]])"
      ]
     },
     "execution_count": 9,
     "metadata": {},
     "output_type": "execute_result"
    }
   ],
   "source": [
    "array2 * array2"
   ]
  },
  {
   "cell_type": "code",
   "execution_count": 10,
   "id": "1e43be3c",
   "metadata": {},
   "outputs": [
    {
     "data": {
      "text/plain": [
       "array([[  10.,  200., 3000.],\n",
       "       [  40.,  500., 6000.]])"
      ]
     },
     "execution_count": 10,
     "metadata": {},
     "output_type": "execute_result"
    }
   ],
   "source": [
    "array2 * array1"
   ]
  },
  {
   "cell_type": "code",
   "execution_count": 11,
   "id": "60377cee",
   "metadata": {},
   "outputs": [
    {
     "data": {
      "text/plain": [
       "array([[14., 32.],\n",
       "       [32., 77.]])"
      ]
     },
     "execution_count": 11,
     "metadata": {},
     "output_type": "execute_result"
    }
   ],
   "source": [
    "array2 @ array2.T  # array2.T to skrót od array2.transpose()"
   ]
  },
  {
   "cell_type": "markdown",
   "id": "84e5e39b",
   "metadata": {},
   "source": [
    "## Funkcje uniwersalne"
   ]
  },
  {
   "cell_type": "code",
   "execution_count": 12,
   "id": "ac9be9f1",
   "metadata": {},
   "outputs": [],
   "source": [
    "import math"
   ]
  },
  {
   "cell_type": "code",
   "execution_count": 13,
   "id": "f500ff4c",
   "metadata": {},
   "outputs": [
    {
     "ename": "TypeError",
     "evalue": "only size-1 arrays can be converted to Python scalars",
     "output_type": "error",
     "traceback": [
      "\u001b[1;31m---------------------------------------------------------------------------\u001b[0m",
      "\u001b[1;31mTypeError\u001b[0m                                 Traceback (most recent call last)",
      "Cell \u001b[1;32mIn[13], line 1\u001b[0m\n\u001b[1;32m----> 1\u001b[0m \u001b[43mmath\u001b[49m\u001b[38;5;241;43m.\u001b[39;49m\u001b[43msqrt\u001b[49m\u001b[43m(\u001b[49m\u001b[43marray2\u001b[49m\u001b[43m)\u001b[49m\n",
      "\u001b[1;31mTypeError\u001b[0m: only size-1 arrays can be converted to Python scalars"
     ]
    }
   ],
   "source": [
    "math.sqrt(array2)  # Spowoduje to zgłoszenie błędu"
   ]
  },
  {
   "cell_type": "code",
   "execution_count": 14,
   "id": "ad9d6a2e",
   "metadata": {},
   "outputs": [
    {
     "data": {
      "text/plain": [
       "array([[1.        , 1.41421356, 1.73205081],\n",
       "       [2.        , 2.23606798, 2.44948974]])"
      ]
     },
     "execution_count": 14,
     "metadata": {},
     "output_type": "execute_result"
    }
   ],
   "source": [
    "# zagnieżdżona pętla\n",
    "np.array([[math.sqrt(i) for i in row] for row in array2])"
   ]
  },
  {
   "cell_type": "code",
   "execution_count": 15,
   "id": "74ace1c3",
   "metadata": {},
   "outputs": [
    {
     "data": {
      "text/plain": [
       "array([[1.        , 1.41421356, 1.73205081],\n",
       "       [2.        , 2.23606798, 2.44948974]])"
      ]
     },
     "execution_count": 15,
     "metadata": {},
     "output_type": "execute_result"
    }
   ],
   "source": [
    "np.sqrt(array2)"
   ]
  },
  {
   "cell_type": "code",
   "execution_count": 16,
   "id": "c29f9af7",
   "metadata": {},
   "outputs": [
    {
     "data": {
      "text/plain": [
       "array([5., 7., 9.])"
      ]
     },
     "execution_count": 16,
     "metadata": {},
     "output_type": "execute_result"
    }
   ],
   "source": [
    "array2.sum(axis=0)  # Zwraca jednowymiarową tablicę"
   ]
  },
  {
   "cell_type": "code",
   "execution_count": 17,
   "id": "b3a05214",
   "metadata": {},
   "outputs": [
    {
     "data": {
      "text/plain": [
       "21.0"
      ]
     },
     "execution_count": 17,
     "metadata": {},
     "output_type": "execute_result"
    }
   ],
   "source": [
    "# suma całej tablicy\n",
    "array2.sum()"
   ]
  },
  {
   "cell_type": "markdown",
   "id": "9e40a06c",
   "metadata": {},
   "source": [
    "## Pobieranie i wybieranie elementów tablicy"
   ]
  },
  {
   "cell_type": "code",
   "execution_count": 18,
   "id": "fa95c0f8",
   "metadata": {},
   "outputs": [
    {
     "data": {
      "text/plain": [
       "1000.0"
      ]
     },
     "execution_count": 18,
     "metadata": {},
     "output_type": "execute_result"
    }
   ],
   "source": [
    "array1[2]  # Zwraca skalar"
   ]
  },
  {
   "cell_type": "code",
   "execution_count": 19,
   "id": "32ff8ef4",
   "metadata": {},
   "outputs": [
    {
     "data": {
      "text/plain": [
       "1.0"
      ]
     },
     "execution_count": 19,
     "metadata": {},
     "output_type": "execute_result"
    }
   ],
   "source": [
    "array2[0, 0]  # Zwraca skalar"
   ]
  },
  {
   "cell_type": "code",
   "execution_count": 20,
   "id": "ea5c36c7",
   "metadata": {},
   "outputs": [
    {
     "data": {
      "text/plain": [
       "array([[2., 3.],\n",
       "       [5., 6.]])"
      ]
     },
     "execution_count": 20,
     "metadata": {},
     "output_type": "execute_result"
    }
   ],
   "source": [
    "array2[:, 1:]  # Zwraca tablicę dwuwymiarową"
   ]
  },
  {
   "cell_type": "code",
   "execution_count": 21,
   "id": "b9a9859c",
   "metadata": {},
   "outputs": [
    {
     "data": {
      "text/plain": [
       "array([2., 5.])"
      ]
     },
     "execution_count": 21,
     "metadata": {},
     "output_type": "execute_result"
    }
   ],
   "source": [
    "array2[:, 1]  # Zwraca tablicę jednowymiarową"
   ]
  },
  {
   "cell_type": "code",
   "execution_count": 22,
   "id": "b019e8a6",
   "metadata": {},
   "outputs": [
    {
     "data": {
      "text/plain": [
       "array([4., 5.])"
      ]
     },
     "execution_count": 22,
     "metadata": {},
     "output_type": "execute_result"
    }
   ],
   "source": [
    "array2[1, :2]  # Zwraca tablicę jednowymiarową"
   ]
  },
  {
   "cell_type": "markdown",
   "id": "2d22a134",
   "metadata": {},
   "source": [
    "## Przydatne konstruktory tablicowe"
   ]
  },
  {
   "cell_type": "code",
   "execution_count": 23,
   "id": "2bc5f341",
   "metadata": {},
   "outputs": [
    {
     "data": {
      "text/plain": [
       "array([[0, 1, 2, 3, 4],\n",
       "       [5, 6, 7, 8, 9]])"
      ]
     },
     "execution_count": 23,
     "metadata": {},
     "output_type": "execute_result"
    }
   ],
   "source": [
    "np.arange(2 * 5).reshape(2, 5)  # 2 wiersze, 5 kolumn"
   ]
  },
  {
   "cell_type": "code",
   "execution_count": 24,
   "id": "cfee28f7",
   "metadata": {},
   "outputs": [
    {
     "data": {
      "text/plain": [
       "array([[ 2.46810384, -1.13122088,  1.053042  ],\n",
       "       [ 1.24830963,  1.08045364, -1.15139993]])"
      ]
     },
     "execution_count": 24,
     "metadata": {},
     "output_type": "execute_result"
    }
   ],
   "source": [
    "np.random.randn(2, 3)  # 2 wiersze, 3 kolumny"
   ]
  },
  {
   "cell_type": "markdown",
   "id": "f8dcc841",
   "metadata": {},
   "source": [
    "## Widok a kopia"
   ]
  },
  {
   "cell_type": "code",
   "execution_count": 25,
   "id": "b1ffae79",
   "metadata": {},
   "outputs": [
    {
     "data": {
      "text/plain": [
       "array([[1., 2., 3.],\n",
       "       [4., 5., 6.]])"
      ]
     },
     "execution_count": 25,
     "metadata": {},
     "output_type": "execute_result"
    }
   ],
   "source": [
    "array2"
   ]
  },
  {
   "cell_type": "code",
   "execution_count": 26,
   "id": "612f94f2",
   "metadata": {},
   "outputs": [
    {
     "data": {
      "text/plain": [
       "array([[1., 2.],\n",
       "       [4., 5.]])"
      ]
     },
     "execution_count": 26,
     "metadata": {},
     "output_type": "execute_result"
    }
   ],
   "source": [
    "subset = array2[:, :2]\n",
    "subset"
   ]
  },
  {
   "cell_type": "code",
   "execution_count": 27,
   "id": "644694df",
   "metadata": {},
   "outputs": [],
   "source": [
    "subset[0, 0] = 1000"
   ]
  },
  {
   "cell_type": "code",
   "execution_count": 28,
   "id": "602b038d",
   "metadata": {},
   "outputs": [
    {
     "data": {
      "text/plain": [
       "array([[1000.,    2.],\n",
       "       [   4.,    5.]])"
      ]
     },
     "execution_count": 28,
     "metadata": {},
     "output_type": "execute_result"
    }
   ],
   "source": [
    "subset"
   ]
  },
  {
   "cell_type": "code",
   "execution_count": 29,
   "id": "caf57cff",
   "metadata": {},
   "outputs": [
    {
     "data": {
      "text/plain": [
       "array([[1000.,    2.,    3.],\n",
       "       [   4.,    5.,    6.]])"
      ]
     },
     "execution_count": 29,
     "metadata": {},
     "output_type": "execute_result"
    }
   ],
   "source": [
    "array2"
   ]
  },
  {
   "cell_type": "code",
   "execution_count": null,
   "id": "b523ac36",
   "metadata": {},
   "outputs": [],
   "source": []
  }
 ],
 "metadata": {
  "kernelspec": {
   "display_name": "Python 3 (ipykernel)",
   "language": "python",
   "name": "python3"
  },
  "language_info": {
   "codemirror_mode": {
    "name": "ipython",
    "version": 3
   },
   "file_extension": ".py",
   "mimetype": "text/x-python",
   "name": "python",
   "nbconvert_exporter": "python",
   "pygments_lexer": "ipython3",
   "version": "3.10.9"
  }
 },
 "nbformat": 4,
 "nbformat_minor": 5
}
