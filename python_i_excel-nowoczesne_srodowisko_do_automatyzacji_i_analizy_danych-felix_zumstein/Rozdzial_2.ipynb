{
 "cells": [
  {
   "cell_type": "code",
   "execution_count": 7,
   "id": "66d87c22",
   "metadata": {},
   "outputs": [
    {
     "data": {
      "text/plain": [
       "7"
      ]
     },
     "execution_count": 7,
     "metadata": {},
     "output_type": "execute_result"
    }
   ],
   "source": [
    "3 + 4"
   ]
  },
  {
   "cell_type": "markdown",
   "id": "c33a2e46",
   "metadata": {},
   "source": [
    "# To jest nagłówek pierwszego poziomu\n",
    "\n",
    "## To jest nagłówek drugiego poziomu\n",
    "\n",
    "Tekst może być zapisany czcionką *pochyloną*, **pogrubioną** lub `o stałej szerokości`.\n",
    "\n",
    "* To jest jest element listy wypunktowanej\n",
    "* To jest kolejny element listy wypunktowanej"
   ]
  },
  {
   "cell_type": "code",
   "execution_count": 8,
   "id": "b050f18a",
   "metadata": {},
   "outputs": [],
   "source": [
    "## Kolejność uruchamiania ma znaczenie"
   ]
  },
  {
   "cell_type": "code",
   "execution_count": 9,
   "id": "1695fcf1",
   "metadata": {},
   "outputs": [],
   "source": [
    "a = 1"
   ]
  },
  {
   "cell_type": "code",
   "execution_count": 10,
   "id": "31c2f305",
   "metadata": {},
   "outputs": [
    {
     "data": {
      "text/plain": [
       "1"
      ]
     },
     "execution_count": 10,
     "metadata": {},
     "output_type": "execute_result"
    }
   ],
   "source": [
    "a"
   ]
  },
  {
   "cell_type": "code",
   "execution_count": 11,
   "id": "8f1ee19b",
   "metadata": {},
   "outputs": [],
   "source": [
    "a = 2"
   ]
  },
  {
   "cell_type": "code",
   "execution_count": null,
   "id": "e989c9bb",
   "metadata": {},
   "outputs": [],
   "source": []
  }
 ],
 "metadata": {
  "kernelspec": {
   "display_name": "Python 3 (ipykernel)",
   "language": "python",
   "name": "python3"
  },
  "language_info": {
   "codemirror_mode": {
    "name": "ipython",
    "version": 3
   },
   "file_extension": ".py",
   "mimetype": "text/x-python",
   "name": "python",
   "nbconvert_exporter": "python",
   "pygments_lexer": "ipython3",
   "version": "3.10.9"
  }
 },
 "nbformat": 4,
 "nbformat_minor": 5
}
