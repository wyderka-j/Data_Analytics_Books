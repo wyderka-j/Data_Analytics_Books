{
 "cells": [
  {
   "cell_type": "markdown",
   "metadata": {},
   "source": [
    "# Funkcje definiowane przez użytkownika (UDF)"
   ]
  },
  {
   "cell_type": "markdown",
   "metadata": {},
   "source": [
    "## Dekoratory funkcji"
   ]
  },
  {
   "cell_type": "code",
   "execution_count": 1,
   "metadata": {},
   "outputs": [],
   "source": [
    "# To jest definicja dekoratora funkcji\n",
    "def verbose(func):\n",
    "    def wrapper():\n",
    "        print(\"Przed wywołaniem funkcji.\")\n",
    "        func()\n",
    "        print(\"Po wywołaniu funkcji.\")\n",
    "    return wrapper"
   ]
  },
  {
   "cell_type": "code",
   "execution_count": 2,
   "metadata": {},
   "outputs": [],
   "source": [
    "# Użycie dekoratora funkcji\n",
    "@verbose\n",
    "def print_hello():\n",
    "    print(\"Witaj!\")"
   ]
  },
  {
   "cell_type": "code",
   "execution_count": 3,
   "metadata": {},
   "outputs": [
    {
     "name": "stdout",
     "output_type": "stream",
     "text": [
      "Przed wywołaniem funkcji.\n",
      "Witaj!\n",
      "Po wywołaniu funkcji.\n"
     ]
    }
   ],
   "source": [
    "# Efekt wywołania funkcji dekorowanej\n",
    "print_hello()"
   ]
  },
  {
   "cell_type": "markdown",
   "metadata": {},
   "source": [
    "## Pobieranie danych z Google Trends"
   ]
  },
  {
   "cell_type": "code",
   "execution_count": 4,
   "metadata": {},
   "outputs": [],
   "source": [
    "from pytrends.request import TrendReq"
   ]
  },
  {
   "cell_type": "code",
   "execution_count": 5,
   "metadata": {},
   "outputs": [],
   "source": [
    "# Najpierw utwórzmy instancję obiektu TrendRequest\n",
    "trend = TrendReq()"
   ]
  },
  {
   "cell_type": "code",
   "execution_count": 6,
   "metadata": {},
   "outputs": [
    {
     "data": {
      "text/plain": [
       "[{'mid': '/m/05z1_', 'title': 'Python', 'type': 'Programming language'},\n",
       " {'mid': '/g/11fmrll9fp',\n",
       "  'title': 'Automate the Boring Stuff with Python: Practical Programming for Total Beginners',\n",
       "  'type': 'Book by Al Al Sweigart'},\n",
       " {'mid': '/m/05tb5', 'title': 'Python family', 'type': 'Snake'},\n",
       " {'mid': '/m/0cv6_m', 'title': 'Pythons', 'type': 'Snake'},\n",
       " {'mid': '/m/0c0_6',\n",
       "  'title': \"Monty Python's Flying Circus\",\n",
       "  'type': 'British comedy series'}]"
      ]
     },
     "execution_count": 6,
     "metadata": {},
     "output_type": "execute_result"
    }
   ],
   "source": [
    "# Teraz możemy wypisać sugestie tak, jak pojawiłyby się one\n",
    "# online w rozwijanej liście Google Trends po wpisaniu \"Python\"\n",
    "trend.suggestions(\"Python\")"
   ]
  },
  {
   "cell_type": "markdown",
   "metadata": {},
   "source": [
    "## Buforowanie"
   ]
  },
  {
   "cell_type": "code",
   "execution_count": 7,
   "metadata": {},
   "outputs": [],
   "source": [
    "import time"
   ]
  },
  {
   "cell_type": "code",
   "execution_count": 8,
   "metadata": {},
   "outputs": [],
   "source": [
    "cache = {}\n",
    "\n",
    "def slow_sum(a, b):\n",
    "    key = (a, b)\n",
    "    if key in cache:\n",
    "        return cache[key]\n",
    "    else:\n",
    "        time.sleep(2)  # uśpienie na 2 sekundy\n",
    "        result = a + b\n",
    "        cache[key] = result\n",
    "        return result"
   ]
  },
  {
   "cell_type": "code",
   "execution_count": 9,
   "metadata": {},
   "outputs": [
    {
     "name": "stdout",
     "output_type": "stream",
     "text": [
      "CPU times: total: 0 ns\n",
      "Wall time: 2.01 s\n"
     ]
    },
    {
     "data": {
      "text/plain": [
       "3"
      ]
     },
     "execution_count": 9,
     "metadata": {},
     "output_type": "execute_result"
    }
   ],
   "source": [
    "%%time\n",
    "slow_sum(1, 2)"
   ]
  },
  {
   "cell_type": "code",
   "execution_count": 10,
   "metadata": {},
   "outputs": [
    {
     "name": "stdout",
     "output_type": "stream",
     "text": [
      "CPU times: total: 0 ns\n",
      "Wall time: 0 ns\n"
     ]
    },
    {
     "data": {
      "text/plain": [
       "3"
      ]
     },
     "execution_count": 10,
     "metadata": {},
     "output_type": "execute_result"
    }
   ],
   "source": [
    "%%time\n",
    "slow_sum(1, 2)"
   ]
  },
  {
   "cell_type": "code",
   "execution_count": null,
   "metadata": {},
   "outputs": [],
   "source": []
  }
 ],
 "metadata": {
  "kernelspec": {
   "display_name": "Python 3 (ipykernel)",
   "language": "python",
   "name": "python3"
  },
  "language_info": {
   "codemirror_mode": {
    "name": "ipython",
    "version": 3
   },
   "file_extension": ".py",
   "mimetype": "text/x-python",
   "name": "python",
   "nbconvert_exporter": "python",
   "pygments_lexer": "ipython3",
   "version": "3.10.9"
  }
 },
 "nbformat": 4,
 "nbformat_minor": 4
}
