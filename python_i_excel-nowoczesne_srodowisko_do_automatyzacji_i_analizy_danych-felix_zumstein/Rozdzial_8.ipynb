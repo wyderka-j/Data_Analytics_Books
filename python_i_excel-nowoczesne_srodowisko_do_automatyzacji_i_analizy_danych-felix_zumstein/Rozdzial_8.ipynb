{
 "cells": [
  {
   "cell_type": "markdown",
   "metadata": {},
   "source": [
    "# Pakiety do odczytu i zapisu"
   ]
  },
  {
   "cell_type": "markdown",
   "metadata": {},
   "source": [
    "## openpyxl\n",
    "### Odczyt z openpyxl"
   ]
  },
  {
   "cell_type": "code",
   "execution_count": 1,
   "metadata": {},
   "outputs": [],
   "source": [
    "import pandas as pd\n",
    "import openpyxl\n",
    "import excel\n",
    "import datetime as dt"
   ]
  },
  {
   "cell_type": "code",
   "execution_count": 2,
   "metadata": {},
   "outputs": [],
   "source": [
    "# Otwarcie skoroszytu w celu odczytania wartości komórek.\n",
    "# Po wczytaniu danych plik jest automatycznie zamykany.\n",
    "book = openpyxl.load_workbook(\"xl/stores.xlsx\", data_only=True)"
   ]
  },
  {
   "cell_type": "code",
   "execution_count": 3,
   "metadata": {},
   "outputs": [],
   "source": [
    "# Pobranie obiektu arkusza na podstawie nazwy lub indeksu (liczonego od 0)\n",
    "sheet = book[\"2019\"]\n",
    "sheet = book.worksheets[0]"
   ]
  },
  {
   "cell_type": "code",
   "execution_count": 4,
   "metadata": {},
   "outputs": [
    {
     "data": {
      "text/plain": [
       "['2019', '2020', '2019-2020']"
      ]
     },
     "execution_count": 4,
     "metadata": {},
     "output_type": "execute_result"
    }
   ],
   "source": [
    "# Pobranie listy z nazwami wszystkich arkuszy\n",
    "book.sheetnames"
   ]
  },
  {
   "cell_type": "code",
   "execution_count": 5,
   "metadata": {},
   "outputs": [
    {
     "name": "stdout",
     "output_type": "stream",
     "text": [
      "2019\n",
      "2020\n",
      "2019-2020\n"
     ]
    }
   ],
   "source": [
    "# Pętla przechodząca przez obiekty arkusza.\n",
    "# Zamiast \"name\", openpyxl używa \"title\".\n",
    "for i in book.worksheets:\n",
    "    print(i.title)"
   ]
  },
  {
   "cell_type": "code",
   "execution_count": 6,
   "metadata": {},
   "outputs": [
    {
     "data": {
      "text/plain": [
       "(8, 6)"
      ]
     },
     "execution_count": 6,
     "metadata": {},
     "output_type": "execute_result"
    }
   ],
   "source": [
    "# Pobranie wymiarów,\n",
    "# czyli używanego zakresu arkusza\n",
    "sheet.max_row, sheet.max_column"
   ]
  },
  {
   "cell_type": "code",
   "execution_count": 7,
   "metadata": {},
   "outputs": [
    {
     "data": {
      "text/plain": [
       "'Boston'"
      ]
     },
     "execution_count": 7,
     "metadata": {},
     "output_type": "execute_result"
    }
   ],
   "source": [
    "# Odczytanie wartości pojedynczej komórki\n",
    "# przy użyciu notacji \"A1\" i indeksów komórek (liczonych od 1)\n",
    "sheet[\"B6\"].value\n",
    "sheet.cell(row=6, column=2).value"
   ]
  },
  {
   "cell_type": "code",
   "execution_count": 8,
   "metadata": {},
   "outputs": [
    {
     "data": {
      "text/plain": [
       "[['Sklep', 'Pracownicy', 'Kierownik', 'Data otwarcia', 'Sklep firmowy'],\n",
       " ['New York', 10, 'Sarah', datetime.datetime(2018, 7, 20, 0, 0), False]]"
      ]
     },
     "execution_count": 8,
     "metadata": {},
     "output_type": "execute_result"
    }
   ],
   "source": [
    "# Wczytanie zakresu wartości komórek przy użyciu naszego modułu excel\n",
    "data = excel.read(book[\"2019\"], (2, 2), (8, 6))\n",
    "data[:2]  # Wypisuje dwa pierwsze wiersze"
   ]
  },
  {
   "cell_type": "markdown",
   "metadata": {},
   "source": [
    "### Zapisywanie z openpyxl"
   ]
  },
  {
   "cell_type": "code",
   "execution_count": 9,
   "metadata": {},
   "outputs": [],
   "source": [
    "import openpyxl\n",
    "from openpyxl.drawing.image import Image\n",
    "from openpyxl.chart import BarChart, Reference\n",
    "from openpyxl.styles import Font, colors\n",
    "from openpyxl.styles.borders import Border, Side\n",
    "from openpyxl.styles.alignment import Alignment\n",
    "from openpyxl.styles.fills import PatternFill\n",
    "import excel"
   ]
  },
  {
   "cell_type": "code",
   "execution_count": 10,
   "metadata": {},
   "outputs": [],
   "source": [
    "# Utworzenie instancji skoroszytu\n",
    "book = openpyxl.Workbook()\n",
    "\n",
    "# Pobranie pierwszego arkusza i nadanie mu nazwy\n",
    "sheet = book.active\n",
    "sheet.title = \"Arkusz1\"\n",
    "\n",
    "# Zapisywanie pojedynczych komórek przy użyciu notacji A1\n",
    "# i indeksów komórek (liczonych od 1)\n",
    "sheet[\"A1\"].value = \"Witaj 1\"\n",
    "sheet.cell(row=2, column=1, value=\"Witaj 2\")\n",
    "\n",
    "# Formatowanie: kolor wypełnienia, wyrównanie, obramowanie i czcionka\n",
    "font_format = Font(color=\"FF0000\", bold=True)\n",
    "thin = Side(border_style=\"thin\", color=\"FF0000\")\n",
    "sheet[\"A3\"].value = \"Witaj 3\"\n",
    "sheet[\"A3\"].font = font_format\n",
    "sheet[\"A3\"].border = Border(top=thin, left=thin,\n",
    "                            right=thin, bottom=thin)\n",
    "sheet[\"A3\"].alignment = Alignment(horizontal=\"center\")\n",
    "sheet[\"A3\"].fill = PatternFill(fgColor=\"FFFF00\", fill_type=\"solid\")\n",
    "\n",
    "# Formatowanie liczb (przy użyciu kodów formatujących Excela)\n",
    "sheet[\"A4\"].value = 3.3333\n",
    "sheet[\"A4\"].number_format = \"0.00\"\n",
    "\n",
    "# Formatowanie daty (przy użyciu kodów formatujących Excela)\n",
    "sheet[\"A5\"].value = dt.date(2016, 10, 13)\n",
    "sheet[\"A5\"].number_format = \"yyyy/mm/dd\"\n",
    "\n",
    "# Formuła: należy użyć angielskiej nazwy formuły\n",
    "# z przecinkami jako separatorami\n",
    "sheet[\"A6\"].value = \"=SUM(A4, 2)\"\n",
    "\n",
    "# Obraz\n",
    "sheet.add_image(Image(\"images/python.png\"), \"C1\")\n",
    "\n",
    "# Lista dwuwymiarowa (używamy naszego modułu excel)\n",
    "data = [[None, \"Północ\", \"Południe\"],\n",
    "        [\"Ubiegły rok\", 2, 5],\n",
    "        [\"Bieżący rok\", 3, 6]]\n",
    "excel.write(sheet, data, \"A10\")\n",
    "\n",
    "# Wykres\n",
    "chart = BarChart()\n",
    "chart.type = \"col\"\n",
    "chart.title = \"Sprzedaż z podziałem na regiony\"\n",
    "chart.x_axis.title = \"Regiony\"\n",
    "chart.y_axis.title = \"Sprzedaż\"\n",
    "chart_data = Reference(sheet, min_row=11, min_col=1,\n",
    "                       max_row=12, max_col=3)\n",
    "chart_categories = Reference(sheet, min_row=10, min_col=2,\n",
    "                             max_row=10, max_col=3)\n",
    "# from_rows interpretuje dane w taki sam sposób,\n",
    "# jak przy ręcznym dodawaniu wykresu w Excelu\n",
    "chart.add_data(chart_data, titles_from_data=True, from_rows=True)\n",
    "chart.set_categories(chart_categories)\n",
    "sheet.add_chart(chart, \"A15\")\n",
    "\n",
    "# Zapisanie skoroszytu tworzy plik na dysku\n",
    "book.save(\"openpyxl.xlsx\")"
   ]
  },
  {
   "cell_type": "code",
   "execution_count": 11,
   "metadata": {},
   "outputs": [],
   "source": [
    "book = openpyxl.Workbook()\n",
    "sheet = book.active\n",
    "sheet[\"A1\"].value = \"To jest szablon\"\n",
    "book.template = True\n",
    "book.save(\"template.xltx\")"
   ]
  },
  {
   "cell_type": "markdown",
   "metadata": {},
   "source": [
    "### Edycja z openpyxl"
   ]
  },
  {
   "cell_type": "code",
   "execution_count": 12,
   "metadata": {},
   "outputs": [],
   "source": [
    "# Wczytanie pliku stores.xlsx, zmiana komórki\n",
    "# i zapisanie go ze zmianą lokalizacji i (lub) nazwy.\n",
    "book = openpyxl.load_workbook(\"xl/stores.xlsx\")\n",
    "book[\"2019\"][\"A1\"].value = \"zmodyfikowano\"\n",
    "book.save(\"stores_edited.xlsx\")"
   ]
  },
  {
   "cell_type": "code",
   "execution_count": 13,
   "metadata": {},
   "outputs": [],
   "source": [
    "book = openpyxl.load_workbook(\"xl/macro.xlsm\", keep_vba=True)\n",
    "book[\"Arkusz1\"][\"A1\"].value = \"Kliknij przycisk!\"\n",
    "book.save(\"macro_openpyxl.xlsm\")"
   ]
  },
  {
   "cell_type": "markdown",
   "metadata": {},
   "source": [
    "## XlsxWriter"
   ]
  },
  {
   "cell_type": "code",
   "execution_count": 14,
   "metadata": {},
   "outputs": [],
   "source": [
    "import datetime as dt\n",
    "import xlsxwriter\n",
    "import excel"
   ]
  },
  {
   "cell_type": "code",
   "execution_count": 15,
   "metadata": {},
   "outputs": [],
   "source": [
    "# Utworzenie instancji skoroszytu\n",
    "book = xlsxwriter.Workbook(\"xlxswriter.xlsx\")\n",
    "\n",
    "# Dodanie arkusza i nadanie mu nazwy\n",
    "sheet = book.add_worksheet(\"Arkusz1\")\n",
    "\n",
    "# Zapisywanie pojedynczych komórek przy użyciu notacji A1\n",
    "# i indeksów komórek (liczonych od 0)\n",
    "sheet.write(\"A1\", \"Witaj 1\")\n",
    "sheet.write(1, 0, \"Witaj 2\")\n",
    "\n",
    "# Formatowanie: kolor wypełnienia, wyrównanie, obramowanie i czcionka\n",
    "formatting = book.add_format({\"font_color\": \"#FF0000\",\n",
    "                              \"bg_color\": \"#FFFF00\",\n",
    "                              \"bold\": True, \"align\": \"center\",\n",
    "                              \"border\": 1, \"border_color\": \"#FF0000\"})\n",
    "sheet.write(\"A3\", \"Witaj 3\", formatting)\n",
    "\n",
    "# Formatowanie liczb (przy użyciu kodów formatujących Excela)\n",
    "number_format = book.add_format({\"num_format\": \"0.00\"})\n",
    "sheet.write(\"A4\", 3.3333, number_format)\n",
    "\n",
    "# Formatowanie daty (przy użyciu kodów formatujących Excela)\n",
    "date_format = book.add_format({\"num_format\": \"yyyy/mm/dd\"})\n",
    "sheet.write(\"A5\", dt.date(2016, 10, 13), date_format)\n",
    "\n",
    "# Formuła: należy użyć angielskiej nazwy formuły\n",
    "# z przecinkami jako separatorami\n",
    "sheet.write(\"A6\", \"=SUM(A4, 2)\")\n",
    "\n",
    "# Obraz\n",
    "sheet.insert_image(0, 2, \"images/python.png\")\n",
    "\n",
    "# Lista dwuwymiarowa (używamy naszego modułu excel)\n",
    "data = [[None, \"Północ\", \"Południe\"],\n",
    "        [\"Ubiegły rok\", 2, 5],\n",
    "        [\"Bieżący rok\", 3, 6]]\n",
    "excel.write(sheet, data, \"A10\")\n",
    "\n",
    "# Wykres: zajrzyj do pliku \"sales_report_xlsxwriter.py\"\n",
    "# z repozytorium towarzyszącego książce, aby zobaczyć\n",
    "# jak można pracować z użyciem indeksów zamiast adresów komórek\n",
    "chart = book.add_chart({\"type\": \"column\"})\n",
    "chart.set_title({\"name\": \"Sprzedaż z podziałem na regiony\"})\n",
    "chart.add_series({\"name\": \"=Arkusz1!A11\",\n",
    "                  \"categories\": \"=Arkusz1!B10:C10\",\n",
    "                  \"values\": \"=Arkusz1!B11:C11\"})\n",
    "chart.add_series({\"name\": \"=Arkusz1!A12\",\n",
    "                  \"categories\": \"=Arkusz1!B10:C10\",\n",
    "                  \"values\": \"=Arkusz1!B12:C12\"})\n",
    "chart.set_x_axis({\"name\": \"Regiony\"})\n",
    "chart.set_y_axis({\"name\": \"Sprzedaż\"})\n",
    "sheet.insert_chart(\"A15\", chart)\n",
    "\n",
    "# Zamknięcie skoroszytu utworzy plik na dysku\n",
    "book.close()"
   ]
  },
  {
   "cell_type": "code",
   "execution_count": 16,
   "metadata": {},
   "outputs": [],
   "source": [
    "book = xlsxwriter.Workbook(\"macro_xlxswriter.xlsm\")\n",
    "sheet = book.add_worksheet(\"Arkusz1\")\n",
    "sheet.write(\"A1\", \"Kliknij przycisk!\")\n",
    "book.add_vba_project(\"xl/vbaProject.bin\")\n",
    "sheet.insert_button(\"A3\", {\"macro\": \"Witaj\", \"caption\": \"Przycisk 1\",\n",
    "                           \"width\": 130, \"height\": 35})\n",
    "book.close()"
   ]
  },
  {
   "cell_type": "markdown",
   "metadata": {},
   "source": [
    "## pyxlsb"
   ]
  },
  {
   "cell_type": "code",
   "execution_count": 17,
   "metadata": {},
   "outputs": [],
   "source": [
    "import pyxlsb\n",
    "import excel"
   ]
  },
  {
   "cell_type": "code",
   "execution_count": 18,
   "metadata": {},
   "outputs": [
    {
     "name": "stdout",
     "output_type": "stream",
     "text": [
      "Arkusz '2019' ma 7 wierszy i 5 kolumn\n",
      "Arkusz '2020' ma 7 wierszy i 5 kolumn\n",
      "Arkusz '2019-2020' ma 20 wierszy i 5 kolumn\n"
     ]
    }
   ],
   "source": [
    "# Pętla po arkuszach. Z pyxlsb, skoroszyt i obiekty arkuszy\n",
    "# mogą być wykorzystywane jako menedżery kontekstu.\n",
    "# book.sheets zwraca listę nazw arkuszy, a nie obiektów!\n",
    "# Aby uzyskać obiekt arkusza, użyj get_sheet().\n",
    "with pyxlsb.open_workbook(\"xl/stores.xlsb\") as book:\n",
    "    for sheet_name in book.sheets:\n",
    "        with book.get_sheet(sheet_name) as sheet:\n",
    "            dim = sheet.dimension\n",
    "            print(f\"Arkusz '{sheet_name}' ma \" \n",
    "                  f\"{dim.h} wierszy i {dim.w} kolumn\")"
   ]
  },
  {
   "cell_type": "code",
   "execution_count": 19,
   "metadata": {},
   "outputs": [
    {
     "data": {
      "text/plain": [
       "[['Sklep', 'Pracownicy', 'Kierownik', 'Data otwarcia', 'Sklep firmowy'],\n",
       " ['New York', 10.0, 'Sarah', 43301.0, False]]"
      ]
     },
     "execution_count": 19,
     "metadata": {},
     "output_type": "execute_result"
    }
   ],
   "source": [
    "# Wczytanie wartości z zakresu komórek za pomocą naszego modułu excel.\n",
    "# Zamiast \"2019\" można również użyć indeksu arkusza (liczonego od 1).\n",
    "with pyxlsb.open_workbook(\"xl/stores.xlsb\") as book:\n",
    "    with book.get_sheet(\"2019\") as sheet:\n",
    "        data = excel.read(sheet, \"B2\")\n",
    "data[:2]  # Wypisuje dwa pierwsze wiersze."
   ]
  },
  {
   "cell_type": "code",
   "execution_count": 20,
   "metadata": {},
   "outputs": [
    {
     "data": {
      "text/plain": [
       "datetime.datetime(2018, 7, 20, 0, 0)"
      ]
     },
     "execution_count": 20,
     "metadata": {},
     "output_type": "execute_result"
    }
   ],
   "source": [
    "from pyxlsb import convert_date\n",
    "convert_date(data[1][3])"
   ]
  },
  {
   "cell_type": "code",
   "execution_count": 21,
   "metadata": {},
   "outputs": [],
   "source": [
    "df = pd.read_excel(\"xl/stores.xlsb\", engine=\"pyxlsb\")"
   ]
  },
  {
   "cell_type": "markdown",
   "metadata": {},
   "source": [
    "## xlrd, xlwt i xlutils"
   ]
  },
  {
   "cell_type": "markdown",
   "metadata": {},
   "source": [
    "### Odczyt z xlrd"
   ]
  },
  {
   "cell_type": "code",
   "execution_count": 22,
   "metadata": {},
   "outputs": [],
   "source": [
    "import xlrd\n",
    "import xlwt\n",
    "from xlwt.Utils import cell_to_rowcol2\n",
    "import xlutils\n",
    "import excel"
   ]
  },
  {
   "cell_type": "code",
   "execution_count": 23,
   "metadata": {},
   "outputs": [],
   "source": [
    "# Otwarcie skoroszytu w celu odczytania wartości komórek.\n",
    "# Po wczytaniu danych plik jest automatycznie zamykany.\n",
    "book = xlrd.open_workbook(\"xl/stores.xls\")"
   ]
  },
  {
   "cell_type": "code",
   "execution_count": 24,
   "metadata": {},
   "outputs": [
    {
     "data": {
      "text/plain": [
       "['2019', '2020', '2019-2020']"
      ]
     },
     "execution_count": 24,
     "metadata": {},
     "output_type": "execute_result"
    }
   ],
   "source": [
    "# Pobranie listy z nazwami wszystkich arkuszy\n",
    "book.sheet_names()"
   ]
  },
  {
   "cell_type": "code",
   "execution_count": 25,
   "metadata": {},
   "outputs": [
    {
     "name": "stdout",
     "output_type": "stream",
     "text": [
      "2019\n",
      "2020\n",
      "2019-2020\n"
     ]
    }
   ],
   "source": [
    "# Pętla przechodząca przez obiekty arkusza\n",
    "for sheet in book.sheets():\n",
    "    print(sheet.name)"
   ]
  },
  {
   "cell_type": "code",
   "execution_count": 26,
   "metadata": {},
   "outputs": [],
   "source": [
    "# Pobranie obiektu arkusza na podstawie nazwy lub indeksu (liczonego od 0)\n",
    "sheet = book.sheet_by_index(0)\n",
    "sheet = book.sheet_by_name(\"2019\")"
   ]
  },
  {
   "cell_type": "code",
   "execution_count": 27,
   "metadata": {},
   "outputs": [
    {
     "data": {
      "text/plain": [
       "(8, 6)"
      ]
     },
     "execution_count": 27,
     "metadata": {},
     "output_type": "execute_result"
    }
   ],
   "source": [
    "# Wymiary\n",
    "sheet.nrows, sheet.ncols"
   ]
  },
  {
   "cell_type": "code",
   "execution_count": 28,
   "metadata": {},
   "outputs": [
    {
     "data": {
      "text/plain": [
       "'New York'"
      ]
     },
     "execution_count": 28,
     "metadata": {},
     "output_type": "execute_result"
    }
   ],
   "source": [
    "# Odczytanie wartości pojedynczej komórki\n",
    "# przy użyciu notacji \"A1\" i indeksów komórek (liczonych od 1).\n",
    "# Znak \"*\" rozpakowuje krotkę zwracaną przez cell_to_rowcol2\n",
    "# na pojedyncze argumenty.\n",
    "sheet.cell(*cell_to_rowcol2(\"B3\")).value\n",
    "sheet.cell(2, 1).value"
   ]
  },
  {
   "cell_type": "code",
   "execution_count": 29,
   "metadata": {},
   "outputs": [
    {
     "data": {
      "text/plain": [
       "[['Sklep', 'Pracownicy', 'Kierownik', 'Data otwarcia', 'Sklep firmowy'],\n",
       " ['New York', 10.0, 'Sarah', datetime.datetime(2018, 7, 20, 0, 0), False]]"
      ]
     },
     "execution_count": 29,
     "metadata": {},
     "output_type": "execute_result"
    }
   ],
   "source": [
    "# Wczytanie zakresu wartości komórek przy użyciu naszego modułu excel\n",
    "data = excel.read(sheet, \"B2\")\n",
    "data[:2]  # Wypisuje dwa pierwsze wiersze"
   ]
  },
  {
   "cell_type": "markdown",
   "metadata": {},
   "source": [
    "### Zapisywanie z xlwt"
   ]
  },
  {
   "cell_type": "code",
   "execution_count": 30,
   "metadata": {},
   "outputs": [],
   "source": [
    "import xlwt\n",
    "from xlwt.Utils import cell_to_rowcol2\n",
    "import datetime as dt\n",
    "import excel"
   ]
  },
  {
   "cell_type": "code",
   "execution_count": 31,
   "metadata": {},
   "outputs": [],
   "source": [
    "# Utworzenie instancji skoroszytu\n",
    "book = xlwt.Workbook()\n",
    "\n",
    "# Dodanie arkusza i nadanie mu nazwy\n",
    "sheet = book.add_sheet(\"Arkusz1\")\n",
    "\n",
    "# Zapisywanie pojedynczych komórek przy użyciu notacji A1\n",
    "# i indeksów komórek (liczonych od 0)\n",
    "sheet.write(*cell_to_rowcol2(\"A1\"), \"Witaj 1\")\n",
    "sheet.write(r=1, c=0, label=\"Witaj 2\")\n",
    "\n",
    "# Formatowanie: kolor wypełnienia, wyrównanie, obramowanie i czcionka\n",
    "formatting = xlwt.easyxf(\"font: bold on, color red;\"\n",
    "                         \"align: horiz center;\"\n",
    "                         \"borders: top_color red, bottom_color red,\"\n",
    "                                  \"right_color red, left_color red,\"\n",
    "                                  \"left thin, right thin,\"\n",
    "                                  \"top thin, bottom thin;\"\n",
    "                         \"pattern: pattern solid, fore_color yellow;\")\n",
    "sheet.write(r=2, c=0, label=\"Witaj 3\", style=formatting)\n",
    "\n",
    "# Formatowanie liczb (przy użyciu kodów formatujących Excela)\n",
    "number_format = xlwt.easyxf(num_format_str=\"0.00\")\n",
    "sheet.write(3, 0, 3.3333, number_format)\n",
    "\n",
    "# Formatowanie daty (przy użyciu kodów formatujących Excela)\n",
    "date_format = xlwt.easyxf(num_format_str=\"yyyy/mm/dd\")\n",
    "sheet.write(4, 0, dt.datetime(2012, 2, 3), date_format)\n",
    "\n",
    "# Formuła: należy użyć angielskiej nazwy formuły\n",
    "# z przecinkami jako separatorami\n",
    "sheet.write(5, 0, xlwt.Formula(\"SUM(A4, 2)\"))\n",
    "\n",
    "# Lista dwuwymiarowa (używamy naszego modułu excel)\n",
    "data = [[None, \"Północ\", \"Południe\"],\n",
    "        [\"Ubiegły rok\", 2, 5],\n",
    "        [\"Bieżący rok\", 3, 6]]\n",
    "excel.write(sheet, data, \"A10\")\n",
    "\n",
    "# Obraz (dopuszczalny jest tylko format bmp)\n",
    "sheet.insert_bitmap(\"images/python.bmp\", 0, 2)\n",
    "\n",
    "# Zapisanie pliku na dysk\n",
    "book.save(\"xlwt.xls\")"
   ]
  },
  {
   "cell_type": "markdown",
   "metadata": {},
   "source": [
    "### Edytowanie z xlutils"
   ]
  },
  {
   "cell_type": "code",
   "execution_count": 32,
   "metadata": {},
   "outputs": [],
   "source": [
    "from xlutils.copy import copy"
   ]
  },
  {
   "cell_type": "code",
   "execution_count": 33,
   "metadata": {},
   "outputs": [],
   "source": [
    "book = xlrd.open_workbook(\"xl/stores.xls\", formatting_info=True)\n",
    "book = copy(book)\n",
    "book.get_sheet(0).write(0, 0, \"zmienione!\")\n",
    "book.save(\"stores_edited.xls\")"
   ]
  },
  {
   "cell_type": "markdown",
   "metadata": {},
   "source": [
    "# Zagadnienia zaawansowane\n",
    "## Praca z dużymi plikami"
   ]
  },
  {
   "cell_type": "markdown",
   "metadata": {},
   "source": [
    "### Zapis za pomocą openpyxl"
   ]
  },
  {
   "cell_type": "code",
   "execution_count": 34,
   "metadata": {},
   "outputs": [],
   "source": [
    "book = openpyxl.Workbook(write_only=True)\n",
    "# Przy write_only=True, book.active nie działa\n",
    "sheet = book.create_sheet()\n",
    "# Spowoduje to utworzenie arkusza o wymiarach 1000 x 200 komórek\n",
    "for row in range(1000):\n",
    "    sheet.append(list(range(200)))\n",
    "book.save(\"openpyxl_optimized.xlsx\")"
   ]
  },
  {
   "cell_type": "markdown",
   "metadata": {},
   "source": [
    "### Zapis za pomocą XlsxWriter"
   ]
  },
  {
   "cell_type": "code",
   "execution_count": 35,
   "metadata": {},
   "outputs": [],
   "source": [
    "book = xlsxwriter.Workbook(\"xlsxwriter_optimized.xlsx\",\n",
    "                           options={\"constant_memory\": True})\n",
    "sheet = book.add_worksheet()\n",
    "# Spowoduje to utworzenie arkusza o wymiarach 1000 x 200 komórek\n",
    "for row in range(1000):\n",
    "    sheet.write_row(row , 0, list(range(200)))\n",
    "book.close()"
   ]
  },
  {
   "cell_type": "markdown",
   "metadata": {},
   "source": [
    "### Odczyt za pomocą xlrd"
   ]
  },
  {
   "cell_type": "code",
   "execution_count": 36,
   "metadata": {},
   "outputs": [],
   "source": [
    "with xlrd.open_workbook(\"xl/stores.xls\", on_demand=True) as book:\n",
    "    sheet = book.sheet_by_index(0)  # Wczytuje tylko pierwszy arkusz"
   ]
  },
  {
   "cell_type": "code",
   "execution_count": 37,
   "metadata": {},
   "outputs": [],
   "source": [
    "with xlrd.open_workbook(\"xl/stores.xls\", on_demand=True) as book:\n",
    "    with pd.ExcelFile(book, engine=\"xlrd\") as f:\n",
    "        df = pd.read_excel(f, sheet_name=0)"
   ]
  },
  {
   "cell_type": "markdown",
   "metadata": {},
   "source": [
    "### Odczyt za pomocą openpyxl"
   ]
  },
  {
   "cell_type": "code",
   "execution_count": 38,
   "metadata": {},
   "outputs": [],
   "source": [
    "book = openpyxl.load_workbook(\"xl/big.xlsx\",\n",
    "                              data_only=True, read_only=True,\n",
    "                              keep_links=False)\n",
    "# Tutaj należy przeprowadzić żądane operacje odczytu\n",
    "book.close()  # Wymagane przy read_only=True"
   ]
  },
  {
   "cell_type": "markdown",
   "metadata": {},
   "source": [
    "### Równoległy odczyt"
   ]
  },
  {
   "cell_type": "code",
   "execution_count": 39,
   "metadata": {},
   "outputs": [
    {
     "name": "stdout",
     "output_type": "stream",
     "text": [
      "CPU times: total: 1min 59s\n",
      "Wall time: 2min\n"
     ]
    }
   ],
   "source": [
    "%%time\n",
    "data = pd.read_excel(\"xl/big.xlsx\",\n",
    "                     sheet_name=None, engine=\"openpyxl\")"
   ]
  },
  {
   "cell_type": "code",
   "execution_count": 40,
   "metadata": {},
   "outputs": [
    {
     "name": "stdout",
     "output_type": "stream",
     "text": [
      "CPU times: total: 375 ms\n",
      "Wall time: 1min 14s\n"
     ]
    }
   ],
   "source": [
    "%%time\n",
    "import parallel_pandas\n",
    "data = parallel_pandas.read_excel(\"xl/big.xlsx\", sheet_name=None)"
   ]
  },
  {
   "cell_type": "markdown",
   "metadata": {},
   "source": [
    "## Formatowanie obiektów DataFrame w Excelu"
   ]
  },
  {
   "cell_type": "code",
   "execution_count": 41,
   "metadata": {},
   "outputs": [],
   "source": [
    "with pd.ExcelFile(\"xl/stores.xlsx\", engine=\"openpyxl\") as xlfile:\n",
    "    # Wczytanie obiektu DataFrame\n",
    "    df = pd.read_excel(xlfile, sheet_name=\"2020\")\n",
    "\n",
    "    # Pobranie obiektu openpyxl dla skoroszytu\n",
    "    book = xlfile.book\n",
    "\n",
    "    # Od tego miejsca mamy kod openpyxl\n",
    "    sheet = book[\"2019\"]\n",
    "    value = sheet[\"B3\"].value  # Odczyt pojedynczej wartości"
   ]
  },
  {
   "cell_type": "code",
   "execution_count": 42,
   "metadata": {},
   "outputs": [],
   "source": [
    "with pd.ExcelWriter(\"pandas_and_openpyxl.xlsx\",\n",
    "                    engine=\"openpyxl\") as writer:\n",
    "    df = pd.DataFrame({\"kolumna1\": [1, 2, 3, 4], \"kolumna2\": [5, 6, 7, 8]})\n",
    "    # Zapisanie obiektu DataFrame\n",
    "    df.to_excel(writer, \"Arkusz1\", startrow=4, startcol=2)\n",
    "\n",
    "    # Pobranie obiektów openpyxl dla skoroszytu i arkusza\n",
    "    book = writer.book\n",
    "    sheet = writer.sheets[\"Arkusz1\"]\n",
    "\n",
    "    # Od tego miejsca mamy kod openpyxl\n",
    "    sheet[\"A1\"].value = \"To jest tytuł\"  # Zapisanie pojedynczej wartości"
   ]
  },
  {
   "cell_type": "code",
   "execution_count": 43,
   "metadata": {},
   "outputs": [
    {
     "data": {
      "text/html": [
       "<div>\n",
       "<style scoped>\n",
       "    .dataframe tbody tr th:only-of-type {\n",
       "        vertical-align: middle;\n",
       "    }\n",
       "\n",
       "    .dataframe tbody tr th {\n",
       "        vertical-align: top;\n",
       "    }\n",
       "\n",
       "    .dataframe thead th {\n",
       "        text-align: right;\n",
       "    }\n",
       "</style>\n",
       "<table border=\"1\" class=\"dataframe\">\n",
       "  <thead>\n",
       "    <tr style=\"text-align: right;\">\n",
       "      <th></th>\n",
       "      <th>kolumna1</th>\n",
       "      <th>kolumna2</th>\n",
       "    </tr>\n",
       "    <tr>\n",
       "      <th>indeks</th>\n",
       "      <th></th>\n",
       "      <th></th>\n",
       "    </tr>\n",
       "  </thead>\n",
       "  <tbody>\n",
       "    <tr>\n",
       "      <th>wiersz1</th>\n",
       "      <td>1</td>\n",
       "      <td>-3</td>\n",
       "    </tr>\n",
       "    <tr>\n",
       "      <th>wiersz2</th>\n",
       "      <td>-2</td>\n",
       "      <td>4</td>\n",
       "    </tr>\n",
       "  </tbody>\n",
       "</table>\n",
       "</div>"
      ],
      "text/plain": [
       "         kolumna1  kolumna2\n",
       "indeks                     \n",
       "wiersz1         1        -3\n",
       "wiersz2        -2         4"
      ]
     },
     "execution_count": 43,
     "metadata": {},
     "output_type": "execute_result"
    }
   ],
   "source": [
    "# formatowanie indeksu i nagłówków DataFrame\n",
    "df = pd.DataFrame({\"kolumna1\": [1, -2], \"kolumna2\": [-3, 4]},\n",
    "                   index=[\"wiersz1\", \"wiersz2\"])\n",
    "df.index.name = \"indeks\"\n",
    "df"
   ]
  },
  {
   "cell_type": "code",
   "execution_count": 44,
   "metadata": {},
   "outputs": [],
   "source": [
    "from openpyxl.styles import PatternFill"
   ]
  },
  {
   "cell_type": "code",
   "execution_count": 45,
   "metadata": {},
   "outputs": [],
   "source": [
    "with pd.ExcelWriter(\"formatting_openpyxl.xlsx\",\n",
    "                    engine=\"openpyxl\") as writer:\n",
    "    # Zapisanie df z domyślnym formatowaniem do A1\n",
    "    df.to_excel(writer, \"Arkusz1\", startrow=0, startcol=0)\n",
    "\n",
    "    # Zapisanie df z niestandardowym formatowaniem indeksu/nagłówka do G2    \n",
    "    startrow, startcol = 0, 5\n",
    "    # 1. Zapisanie części z danymi DataFrame\n",
    "    df.to_excel(writer, \"Arkusz1\", header=False, index=False,\n",
    "                startrow=startrow + 1, startcol=startcol + 1)\n",
    "    # Pobranie obiektu arkusza i utworzenie obiektu stylu\n",
    "    sheet = writer.sheets[\"Arkusz1\"]\n",
    "    style = PatternFill(fgColor=\"D9D9D9\", fill_type=\"solid\")\n",
    "\n",
    "    # 2. Zapisanie stylizowanych nagłówków kolumn\n",
    "    for i, col in enumerate(df.columns):\n",
    "        sheet.cell(row=startrow + 1, column=i + startcol + 2,\n",
    "                   value=col).fill = style\n",
    "\n",
    "    # 3. Zapisanie stylizowanego indeksu\n",
    "    index = [df.index.name if df.index.name else None] + list(df.index)\n",
    "    for i, row in enumerate(index):\n",
    "        sheet.cell(row=i + startrow + 1, column=startcol + 1,\n",
    "                   value=row).fill = style"
   ]
  },
  {
   "cell_type": "code",
   "execution_count": 46,
   "metadata": {},
   "outputs": [],
   "source": [
    "# Formatowanie indeksu/nagłówków za pomocą XlsxWrite\n",
    "with pd.ExcelWriter(\"formatting_xlsxwriter.xlsx\",\n",
    "                    engine=\"xlsxwriter\") as writer:\n",
    "    # Zapisanie df z domyślnym formatowaniem do A1\n",
    "    df.to_excel(writer, \"Arkusz1\", startrow=0, startcol=0)\n",
    "\n",
    "    # Zapisanie df z niestandardowym formatowaniem indeksu/nagłówka do G2\n",
    "    startrow, startcol = 0, 5\n",
    "    # 1. Zapisanie części z danymi DataFrame\n",
    "    df.to_excel(writer, \"Arkusz1\", header=False, index=False,\n",
    "                startrow=startrow + 1, startcol=startcol + 1)\n",
    "    # Pobranie obiektu skoroszytu i arkusza oraz utworzenie obiektu stylu\n",
    "    book = writer.book\n",
    "    sheet = writer.sheets[\"Arkusz1\"]\n",
    "    style = book.add_format({\"bg_color\": \"#D9D9D9\"})\n",
    "\n",
    "    # 2. Zapisanie stylizowanych nagłówków kolumn\n",
    "    for i, col in enumerate(df.columns):\n",
    "        sheet.write(startrow, startcol + i + 1, col, style)\n",
    "\n",
    "    # 3. Zapisanie stylizowanego indeksu\n",
    "    index = [df.index.name if df.index.name else None] + list(df.index)\n",
    "    for i, row in enumerate(index):\n",
    "        sheet.write(startrow + i, startcol, row, style)"
   ]
  },
  {
   "cell_type": "code",
   "execution_count": 47,
   "metadata": {},
   "outputs": [],
   "source": [
    "# formatowanie części DataFrame zawierającej dane\n",
    "from openpyxl.styles import Alignment"
   ]
  },
  {
   "cell_type": "code",
   "execution_count": 48,
   "metadata": {},
   "outputs": [],
   "source": [
    "with pd.ExcelWriter(\"data_format_openpyxl.xlsx\",\n",
    "                    engine=\"openpyxl\") as writer:\n",
    "    # Zapisanie DataFrame\n",
    "    df.to_excel(writer, \"Arkusz1\")\n",
    "    \n",
    "    # Pobranie obiektów skoroszytu i arkusza\n",
    "    book = writer.book\n",
    "    sheet = writer.sheets[\"Arkusz1\"]\n",
    "    \n",
    "    # Formatowanie pojedynczych komórek\n",
    "    nrows, ncols = df.shape\n",
    "    for row in range(nrows):\n",
    "        for col in range(ncols):\n",
    "            # +1, aby uwzględnić nagłówek/indeks\n",
    "            # +1, ponieważ openpyxl indeksuje od 1\n",
    "            cell = sheet.cell(row=row + 2,\n",
    "                              column=col + 2)\n",
    "            cell.number_format = \"0.000\"\n",
    "            cell.alignment = Alignment(horizontal=\"center\")"
   ]
  },
  {
   "cell_type": "code",
   "execution_count": 49,
   "metadata": {},
   "outputs": [],
   "source": [
    "with pd.ExcelWriter(\"data_format_xlsxwriter.xlsx\",\n",
    "                    engine=\"xlsxwriter\") as writer:\n",
    "    # Zapisanie DataFrame\n",
    "    df.to_excel(writer, \"Arkusz1\")\n",
    "\n",
    "    # Pobranie obiektów skoroszytu i arkusza    \n",
    "    book = writer.book\n",
    "    sheet = writer.sheets[\"Arkusz1\"]\n",
    "    \n",
    "    # Formatowanie kolumn (nie można formatować pojedynczych komórek)\n",
    "    number_format = book.add_format({\"num_format\": \"0.000\",\n",
    "                                     \"align\": \"center\"})\n",
    "    sheet.set_column(first_col=1, last_col=2,\n",
    "                     cell_format=number_format)"
   ]
  },
  {
   "cell_type": "code",
   "execution_count": 50,
   "metadata": {},
   "outputs": [],
   "source": [
    "df.style.applymap(lambda x: \"number-format: 0.000;\"\n",
    "                            \"text-align: center\")\\\n",
    "        .to_excel(\"styled.xlsx\")"
   ]
  },
  {
   "cell_type": "code",
   "execution_count": 51,
   "metadata": {},
   "outputs": [],
   "source": [
    "df = pd.DataFrame({\"Date\": [dt.date(2020, 1, 1)],\n",
    "                   \"Datetime\": [dt.datetime(2020, 1, 1, 10)]})\n",
    "with pd.ExcelWriter(\"date.xlsx\",\n",
    "                    date_format=\"yyyy-mm-dd\",\n",
    "                    datetime_format=\"yyyy-mm-dd hh:mm:ss\") as writer:\n",
    "    df.to_excel(writer)"
   ]
  },
  {
   "cell_type": "code",
   "execution_count": null,
   "metadata": {},
   "outputs": [],
   "source": []
  }
 ],
 "metadata": {
  "kernelspec": {
   "display_name": "Python 3 (ipykernel)",
   "language": "python",
   "name": "python3"
  },
  "language_info": {
   "codemirror_mode": {
    "name": "ipython",
    "version": 3
   },
   "file_extension": ".py",
   "mimetype": "text/x-python",
   "name": "python",
   "nbconvert_exporter": "python",
   "pygments_lexer": "ipython3",
   "version": "3.10.9"
  }
 },
 "nbformat": 4,
 "nbformat_minor": 4
}
