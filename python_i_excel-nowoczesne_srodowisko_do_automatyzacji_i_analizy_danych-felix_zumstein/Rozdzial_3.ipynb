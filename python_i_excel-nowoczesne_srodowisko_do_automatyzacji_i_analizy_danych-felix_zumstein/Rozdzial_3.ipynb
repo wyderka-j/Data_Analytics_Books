{
 "cells": [
  {
   "cell_type": "markdown",
   "id": "0e069901",
   "metadata": {},
   "source": [
    "# Wprowadzenie do Pythona\n",
    "\n",
    "# Typy danych\n",
    "## Zmienne"
   ]
  },
  {
   "cell_type": "code",
   "execution_count": 1,
   "id": "e0f427a4",
   "metadata": {},
   "outputs": [
    {
     "data": {
      "text/plain": [
       "7"
      ]
     },
     "execution_count": 1,
     "metadata": {},
     "output_type": "execute_result"
    }
   ],
   "source": [
    "a = 3\n",
    "b = 4\n",
    "a + b"
   ]
  },
  {
   "cell_type": "code",
   "execution_count": 2,
   "id": "b9c25e38",
   "metadata": {},
   "outputs": [
    {
     "name": "stdout",
     "output_type": "stream",
     "text": [
      "3\n",
      "trzy\n"
     ]
    }
   ],
   "source": [
    "# typowanie dynamiczne\n",
    "a = 3\n",
    "print(a)\n",
    "a = \"trzy\"\n",
    "print(a)"
   ]
  },
  {
   "cell_type": "markdown",
   "id": "c1514c9a",
   "metadata": {},
   "source": [
    "## Typy liczbowe"
   ]
  },
  {
   "cell_type": "code",
   "execution_count": 3,
   "id": "ecad3a5c",
   "metadata": {},
   "outputs": [
    {
     "data": {
      "text/plain": [
       "int"
      ]
     },
     "execution_count": 3,
     "metadata": {},
     "output_type": "execute_result"
    }
   ],
   "source": [
    "type(4)"
   ]
  },
  {
   "cell_type": "code",
   "execution_count": 4,
   "id": "bbce4171",
   "metadata": {},
   "outputs": [
    {
     "data": {
      "text/plain": [
       "float"
      ]
     },
     "execution_count": 4,
     "metadata": {},
     "output_type": "execute_result"
    }
   ],
   "source": [
    "type(4.4)"
   ]
  },
  {
   "cell_type": "code",
   "execution_count": 5,
   "id": "34a74781",
   "metadata": {},
   "outputs": [
    {
     "data": {
      "text/plain": [
       "float"
      ]
     },
     "execution_count": 5,
     "metadata": {},
     "output_type": "execute_result"
    }
   ],
   "source": [
    "type(4.)"
   ]
  },
  {
   "cell_type": "code",
   "execution_count": 6,
   "id": "fcc11ab1",
   "metadata": {},
   "outputs": [
    {
     "data": {
      "text/plain": [
       "4.0"
      ]
     },
     "execution_count": 6,
     "metadata": {},
     "output_type": "execute_result"
    }
   ],
   "source": [
    "float(4)"
   ]
  },
  {
   "cell_type": "code",
   "execution_count": 7,
   "id": "04fab565",
   "metadata": {},
   "outputs": [
    {
     "data": {
      "text/plain": [
       "4"
      ]
     },
     "execution_count": 7,
     "metadata": {},
     "output_type": "execute_result"
    }
   ],
   "source": [
    "int(4.9)"
   ]
  },
  {
   "cell_type": "code",
   "execution_count": 8,
   "id": "9a17a7df",
   "metadata": {},
   "outputs": [
    {
     "data": {
      "text/plain": [
       "0.02499999999999991"
      ]
     },
     "execution_count": 8,
     "metadata": {},
     "output_type": "execute_result"
    }
   ],
   "source": [
    "1.125 - 1.1"
   ]
  },
  {
   "cell_type": "markdown",
   "id": "2f272986",
   "metadata": {},
   "source": [
    "## Operatory matematyczne"
   ]
  },
  {
   "cell_type": "code",
   "execution_count": 9,
   "id": "6759fcf3",
   "metadata": {},
   "outputs": [
    {
     "data": {
      "text/plain": [
       "7"
      ]
     },
     "execution_count": 9,
     "metadata": {},
     "output_type": "execute_result"
    }
   ],
   "source": [
    "3 + 4  # Dodawanie"
   ]
  },
  {
   "cell_type": "code",
   "execution_count": 10,
   "id": "622b4156",
   "metadata": {},
   "outputs": [
    {
     "data": {
      "text/plain": [
       "-1"
      ]
     },
     "execution_count": 10,
     "metadata": {},
     "output_type": "execute_result"
    }
   ],
   "source": [
    "3 - 4  # Odejmowanie"
   ]
  },
  {
   "cell_type": "code",
   "execution_count": 11,
   "id": "c80323a8",
   "metadata": {},
   "outputs": [
    {
     "data": {
      "text/plain": [
       "0.75"
      ]
     },
     "execution_count": 11,
     "metadata": {},
     "output_type": "execute_result"
    }
   ],
   "source": [
    "3 / 4  # Dzielenie"
   ]
  },
  {
   "cell_type": "code",
   "execution_count": 12,
   "id": "0b56a3e5",
   "metadata": {},
   "outputs": [
    {
     "data": {
      "text/plain": [
       "12"
      ]
     },
     "execution_count": 12,
     "metadata": {},
     "output_type": "execute_result"
    }
   ],
   "source": [
    "3 * 4  # Mnożenie"
   ]
  },
  {
   "cell_type": "code",
   "execution_count": 13,
   "id": "25f10d74",
   "metadata": {},
   "outputs": [
    {
     "data": {
      "text/plain": [
       "81"
      ]
     },
     "execution_count": 13,
     "metadata": {},
     "output_type": "execute_result"
    }
   ],
   "source": [
    "3**4  # Operator potęgowania (Excel stosuje 3^4)"
   ]
  },
  {
   "cell_type": "code",
   "execution_count": 14,
   "id": "512dcef6",
   "metadata": {},
   "outputs": [
    {
     "data": {
      "text/plain": [
       "21"
      ]
     },
     "execution_count": 14,
     "metadata": {},
     "output_type": "execute_result"
    }
   ],
   "source": [
    "3 * (3 + 4)  # Użycie nawiasów"
   ]
  },
  {
   "cell_type": "markdown",
   "id": "3ea98973",
   "metadata": {},
   "source": [
    "## Komentarze"
   ]
  },
  {
   "cell_type": "code",
   "execution_count": 15,
   "id": "daa44857",
   "metadata": {},
   "outputs": [
    {
     "data": {
      "text/plain": [
       "7"
      ]
     },
     "execution_count": 15,
     "metadata": {},
     "output_type": "execute_result"
    }
   ],
   "source": [
    "# To fragment, który widzieliśmy już wcześniej.\n",
    "# Każdy wiersz komentarza musi zaczynać się od znaku #\n",
    "3 + 4"
   ]
  },
  {
   "cell_type": "code",
   "execution_count": 16,
   "id": "b8a0b35a",
   "metadata": {},
   "outputs": [
    {
     "data": {
      "text/plain": [
       "7"
      ]
     },
     "execution_count": 16,
     "metadata": {},
     "output_type": "execute_result"
    }
   ],
   "source": [
    "3 + 4  # To jest komentarz w wierszu kodu"
   ]
  },
  {
   "cell_type": "markdown",
   "id": "779e1c55",
   "metadata": {},
   "source": [
    "## Logiczny typ danych"
   ]
  },
  {
   "cell_type": "code",
   "execution_count": 17,
   "id": "3e7f6709",
   "metadata": {},
   "outputs": [
    {
     "data": {
      "text/plain": [
       "False"
      ]
     },
     "execution_count": 17,
     "metadata": {},
     "output_type": "execute_result"
    }
   ],
   "source": [
    "3 == 4  # Równość (Excel stosuje 3 = 4)"
   ]
  },
  {
   "cell_type": "code",
   "execution_count": 18,
   "id": "6b1d8c3c",
   "metadata": {},
   "outputs": [
    {
     "data": {
      "text/plain": [
       "True"
      ]
     },
     "execution_count": 18,
     "metadata": {},
     "output_type": "execute_result"
    }
   ],
   "source": [
    "3 != 4  # Nierówność (Excel stosuje 3 <> 4)"
   ]
  },
  {
   "cell_type": "code",
   "execution_count": 19,
   "id": "73988ce8",
   "metadata": {},
   "outputs": [
    {
     "data": {
      "text/plain": [
       "True"
      ]
     },
     "execution_count": 19,
     "metadata": {},
     "output_type": "execute_result"
    }
   ],
   "source": [
    "3 < 4  # Mniejsze od. Dla \"większe od\" użyj >."
   ]
  },
  {
   "cell_type": "code",
   "execution_count": 20,
   "id": "126b0e41",
   "metadata": {},
   "outputs": [
    {
     "data": {
      "text/plain": [
       "True"
      ]
     },
     "execution_count": 20,
     "metadata": {},
     "output_type": "execute_result"
    }
   ],
   "source": [
    "3 <= 4  # Mniejsze lub równe. Dla \"większe lub równe\" użyj >=."
   ]
  },
  {
   "cell_type": "code",
   "execution_count": 21,
   "id": "4e948885",
   "metadata": {},
   "outputs": [
    {
     "data": {
      "text/plain": [
       "True"
      ]
     },
     "execution_count": 21,
     "metadata": {},
     "output_type": "execute_result"
    }
   ],
   "source": [
    "# Wyrażenia logiczne można łączyć\n",
    "# W VBA byłoby to: 10 < 12 And 12 < 17\n",
    "# W formułach Excela byłoby to: =AND(10 < 12, 12 < 17)\n",
    "10 < 12 < 17"
   ]
  },
  {
   "cell_type": "code",
   "execution_count": 22,
   "id": "74022984",
   "metadata": {},
   "outputs": [
    {
     "data": {
      "text/plain": [
       "False"
      ]
     },
     "execution_count": 22,
     "metadata": {},
     "output_type": "execute_result"
    }
   ],
   "source": [
    "not True  # operator \"not\" (nie)"
   ]
  },
  {
   "cell_type": "code",
   "execution_count": 23,
   "id": "7d727f28",
   "metadata": {},
   "outputs": [
    {
     "data": {
      "text/plain": [
       "False"
      ]
     },
     "execution_count": 23,
     "metadata": {},
     "output_type": "execute_result"
    }
   ],
   "source": [
    "False and True  # operator \"and\" (i)"
   ]
  },
  {
   "cell_type": "code",
   "execution_count": 24,
   "id": "5d7237a8",
   "metadata": {},
   "outputs": [
    {
     "data": {
      "text/plain": [
       "True"
      ]
     },
     "execution_count": 24,
     "metadata": {},
     "output_type": "execute_result"
    }
   ],
   "source": [
    "False or True  # operator \"or\" (lub)"
   ]
  },
  {
   "cell_type": "code",
   "execution_count": 25,
   "id": "68debef9",
   "metadata": {},
   "outputs": [
    {
     "data": {
      "text/plain": [
       "True"
      ]
     },
     "execution_count": 25,
     "metadata": {},
     "output_type": "execute_result"
    }
   ],
   "source": [
    "bool(2)"
   ]
  },
  {
   "cell_type": "code",
   "execution_count": 26,
   "id": "762ca219",
   "metadata": {},
   "outputs": [
    {
     "data": {
      "text/plain": [
       "False"
      ]
     },
     "execution_count": 26,
     "metadata": {},
     "output_type": "execute_result"
    }
   ],
   "source": [
    "bool(0)"
   ]
  },
  {
   "cell_type": "code",
   "execution_count": 27,
   "id": "c33c5730",
   "metadata": {},
   "outputs": [
    {
     "data": {
      "text/plain": [
       "True"
      ]
     },
     "execution_count": 27,
     "metadata": {},
     "output_type": "execute_result"
    }
   ],
   "source": [
    "bool(\"some text\") "
   ]
  },
  {
   "cell_type": "code",
   "execution_count": 28,
   "id": "65aac78f",
   "metadata": {},
   "outputs": [
    {
     "data": {
      "text/plain": [
       "False"
      ]
     },
     "execution_count": 28,
     "metadata": {},
     "output_type": "execute_result"
    }
   ],
   "source": [
    "bool(\"\")"
   ]
  },
  {
   "cell_type": "code",
   "execution_count": 29,
   "id": "c0e2c936",
   "metadata": {},
   "outputs": [
    {
     "data": {
      "text/plain": [
       "False"
      ]
     },
     "execution_count": 29,
     "metadata": {},
     "output_type": "execute_result"
    }
   ],
   "source": [
    "bool(None)"
   ]
  },
  {
   "cell_type": "markdown",
   "id": "6fa59f0d",
   "metadata": {},
   "source": [
    "## Łańcuchy znaków"
   ]
  },
  {
   "cell_type": "code",
   "execution_count": 30,
   "id": "850fd6db",
   "metadata": {},
   "outputs": [
    {
     "data": {
      "text/plain": [
       "'Łańcuch znaków objęty cudzysłowami. Łańcuch znaków objęty apostrofami.'"
      ]
     },
     "execution_count": 30,
     "metadata": {},
     "output_type": "execute_result"
    }
   ],
   "source": [
    "\"Łańcuch znaków objęty cudzysłowami. \" + 'Łańcuch znaków objęty apostrofami.'"
   ]
  },
  {
   "cell_type": "code",
   "execution_count": 31,
   "id": "103a5c64",
   "metadata": {},
   "outputs": [
    {
     "name": "stdout",
     "output_type": "stream",
     "text": [
      "Nie czekaj! Naucz się \"mówić\" w języku Python.\n"
     ]
    }
   ],
   "source": [
    "print(\"Nie czekaj! \" + 'Naucz się \"mówić\" w języku Python.')"
   ]
  },
  {
   "cell_type": "code",
   "execution_count": 32,
   "id": "5b192073",
   "metadata": {},
   "outputs": [
    {
     "name": "stdout",
     "output_type": "stream",
     "text": [
      "Można łatwo \"modyfikować\" znaki za pomocą wiodącego \\.\n"
     ]
    }
   ],
   "source": [
    "print(\"Można łatwo \\\"modyfikować\\\" znaki za pomocą wiodącego \\\\.\")"
   ]
  },
  {
   "cell_type": "code",
   "execution_count": 33,
   "id": "4aa45c2e",
   "metadata": {},
   "outputs": [
    {
     "data": {
      "text/plain": [
       "'Python jest darmowy i otwartoźródłowy.'"
      ]
     },
     "execution_count": 33,
     "metadata": {},
     "output_type": "execute_result"
    }
   ],
   "source": [
    "# Zauważ, jak Python umożliwia wygodne przypisywanie\n",
    "# wielu wartości do wielu zmiennych w jednym wierszu\n",
    "first_adjective, second_adjective = \"darmowy\", \"otwartoźródłowy\"\n",
    "f\"Python jest {first_adjective} i {second_adjective}.\""
   ]
  },
  {
   "cell_type": "code",
   "execution_count": 34,
   "id": "3856a50a",
   "metadata": {},
   "outputs": [
    {
     "data": {
      "text/plain": [
       "'python'"
      ]
     },
     "execution_count": 34,
     "metadata": {},
     "output_type": "execute_result"
    }
   ],
   "source": [
    "\"PYTHON\".lower()"
   ]
  },
  {
   "cell_type": "code",
   "execution_count": 35,
   "id": "eda1bbed",
   "metadata": {},
   "outputs": [
    {
     "data": {
      "text/plain": [
       "'PYTHON'"
      ]
     },
     "execution_count": 35,
     "metadata": {},
     "output_type": "execute_result"
    }
   ],
   "source": [
    "\"python\".upper()"
   ]
  },
  {
   "cell_type": "markdown",
   "id": "69c4373d",
   "metadata": {},
   "source": [
    "# Indeksowanie i wycinanie"
   ]
  },
  {
   "cell_type": "code",
   "execution_count": 36,
   "id": "8f44a261",
   "metadata": {},
   "outputs": [],
   "source": [
    "language = \"PYTHON\""
   ]
  },
  {
   "cell_type": "code",
   "execution_count": 37,
   "id": "3794fb8a",
   "metadata": {},
   "outputs": [
    {
     "data": {
      "text/plain": [
       "'P'"
      ]
     },
     "execution_count": 37,
     "metadata": {},
     "output_type": "execute_result"
    }
   ],
   "source": [
    "language[0]"
   ]
  },
  {
   "cell_type": "code",
   "execution_count": 38,
   "id": "5668e82e",
   "metadata": {},
   "outputs": [
    {
     "data": {
      "text/plain": [
       "'Y'"
      ]
     },
     "execution_count": 38,
     "metadata": {},
     "output_type": "execute_result"
    }
   ],
   "source": [
    "language[1]"
   ]
  },
  {
   "cell_type": "code",
   "execution_count": 39,
   "id": "aedaaec5",
   "metadata": {},
   "outputs": [
    {
     "data": {
      "text/plain": [
       "'N'"
      ]
     },
     "execution_count": 39,
     "metadata": {},
     "output_type": "execute_result"
    }
   ],
   "source": [
    "language[-1]"
   ]
  },
  {
   "cell_type": "code",
   "execution_count": 40,
   "id": "19e46ce1",
   "metadata": {},
   "outputs": [
    {
     "data": {
      "text/plain": [
       "'O'"
      ]
     },
     "execution_count": 40,
     "metadata": {},
     "output_type": "execute_result"
    }
   ],
   "source": [
    "language[-2]"
   ]
  },
  {
   "cell_type": "code",
   "execution_count": 41,
   "id": "4e580912",
   "metadata": {},
   "outputs": [
    {
     "data": {
      "text/plain": [
       "'PYT'"
      ]
     },
     "execution_count": 41,
     "metadata": {},
     "output_type": "execute_result"
    }
   ],
   "source": [
    "language[:3]  # To samo, co language[0:3]"
   ]
  },
  {
   "cell_type": "code",
   "execution_count": 42,
   "id": "37f20286",
   "metadata": {},
   "outputs": [
    {
     "data": {
      "text/plain": [
       "'YT'"
      ]
     },
     "execution_count": 42,
     "metadata": {},
     "output_type": "execute_result"
    }
   ],
   "source": [
    "language[1:3]"
   ]
  },
  {
   "cell_type": "code",
   "execution_count": 43,
   "id": "1b570b43",
   "metadata": {},
   "outputs": [
    {
     "data": {
      "text/plain": [
       "'HON'"
      ]
     },
     "execution_count": 43,
     "metadata": {},
     "output_type": "execute_result"
    }
   ],
   "source": [
    "language[-3:]  # To samo, co language[-3:6]"
   ]
  },
  {
   "cell_type": "code",
   "execution_count": 44,
   "id": "0563a708",
   "metadata": {},
   "outputs": [
    {
     "data": {
      "text/plain": [
       "'HO'"
      ]
     },
     "execution_count": 44,
     "metadata": {},
     "output_type": "execute_result"
    }
   ],
   "source": [
    "language[-3:-1]"
   ]
  },
  {
   "cell_type": "code",
   "execution_count": 45,
   "id": "14b106fa",
   "metadata": {},
   "outputs": [
    {
     "data": {
      "text/plain": [
       "'PTO'"
      ]
     },
     "execution_count": 45,
     "metadata": {},
     "output_type": "execute_result"
    }
   ],
   "source": [
    "language[::2]  # Co drugi element"
   ]
  },
  {
   "cell_type": "code",
   "execution_count": 46,
   "id": "ba0f1987",
   "metadata": {},
   "outputs": [
    {
     "data": {
      "text/plain": [
       "'NOH'"
      ]
     },
     "execution_count": 46,
     "metadata": {},
     "output_type": "execute_result"
    }
   ],
   "source": [
    "language[-1:-4:-1]  # Krok ujemny przechodzi od prawej do lewej"
   ]
  },
  {
   "cell_type": "code",
   "execution_count": 47,
   "id": "3a4a95f1",
   "metadata": {},
   "outputs": [
    {
     "data": {
      "text/plain": [
       "'O'"
      ]
     },
     "execution_count": 47,
     "metadata": {},
     "output_type": "execute_result"
    }
   ],
   "source": [
    "language[-3:][1]"
   ]
  },
  {
   "cell_type": "markdown",
   "id": "529c3d1e",
   "metadata": {},
   "source": [
    "# Struktury danych\n",
    "## Listy"
   ]
  },
  {
   "cell_type": "code",
   "execution_count": 48,
   "id": "f52a8404",
   "metadata": {},
   "outputs": [],
   "source": [
    "file_names = [\"jeden.xlsx\", \"dwa.xlsx\", \"trzy.xlsx\"]\n",
    "numbers = [1, 2, 3]"
   ]
  },
  {
   "cell_type": "code",
   "execution_count": 49,
   "id": "20d91ec1",
   "metadata": {},
   "outputs": [
    {
     "data": {
      "text/plain": [
       "['jeden.xlsx', 'dwa.xlsx', 'trzy.xlsx', 1, 2, 3]"
      ]
     },
     "execution_count": 49,
     "metadata": {},
     "output_type": "execute_result"
    }
   ],
   "source": [
    "file_names + numbers"
   ]
  },
  {
   "cell_type": "code",
   "execution_count": 50,
   "id": "de4c4dfe",
   "metadata": {},
   "outputs": [],
   "source": [
    "nested_list = [[1, 2, 3], [4, 5, 6], [7, 8, 9]]"
   ]
  },
  {
   "cell_type": "code",
   "execution_count": 51,
   "id": "e9e3bade",
   "metadata": {},
   "outputs": [],
   "source": [
    "cells = [[1, 2, 3],\n",
    "         [4, 5, 6],\n",
    "         [7, 8, 9]]"
   ]
  },
  {
   "cell_type": "code",
   "execution_count": 52,
   "id": "2a61998b",
   "metadata": {},
   "outputs": [
    {
     "data": {
      "text/plain": [
       "[4, 5, 6]"
      ]
     },
     "execution_count": 52,
     "metadata": {},
     "output_type": "execute_result"
    }
   ],
   "source": [
    "cells[1]  # Drugi wiersz"
   ]
  },
  {
   "cell_type": "code",
   "execution_count": 53,
   "id": "17281d1b",
   "metadata": {},
   "outputs": [
    {
     "data": {
      "text/plain": [
       "[5, 6]"
      ]
     },
     "execution_count": 53,
     "metadata": {},
     "output_type": "execute_result"
    }
   ],
   "source": [
    "cells[1][1:]  # Drugi wiersz, druga i trzecia kolumna"
   ]
  },
  {
   "cell_type": "markdown",
   "id": "7d413b62",
   "metadata": {},
   "source": [
    "## Zawijanie wierszy"
   ]
  },
  {
   "cell_type": "code",
   "execution_count": 54,
   "id": "53cdb168",
   "metadata": {},
   "outputs": [],
   "source": [
    "a = (1 + 2\n",
    "     + 3)"
   ]
  },
  {
   "cell_type": "code",
   "execution_count": 55,
   "id": "99febeaf",
   "metadata": {},
   "outputs": [],
   "source": [
    "a = 1 + 2 \\\n",
    "    + 3"
   ]
  },
  {
   "cell_type": "code",
   "execution_count": 56,
   "id": "0530a82c",
   "metadata": {},
   "outputs": [],
   "source": [
    "# dalej listy\n",
    "users = [\"Laura\", \"Bartosz\"]"
   ]
  },
  {
   "cell_type": "code",
   "execution_count": 57,
   "id": "5946eba5",
   "metadata": {},
   "outputs": [
    {
     "data": {
      "text/plain": [
       "['Laura', 'Bartosz', 'Joanna']"
      ]
     },
     "execution_count": 57,
     "metadata": {},
     "output_type": "execute_result"
    }
   ],
   "source": [
    "users.append(\"Joanna\")  # Najczęściej dodajemy na koniec\n",
    "users"
   ]
  },
  {
   "cell_type": "code",
   "execution_count": 58,
   "id": "aed91a65",
   "metadata": {},
   "outputs": [
    {
     "data": {
      "text/plain": [
       "['Kinga', 'Laura', 'Bartosz', 'Joanna']"
      ]
     },
     "execution_count": 58,
     "metadata": {},
     "output_type": "execute_result"
    }
   ],
   "source": [
    "users.insert(0, \"Kinga\")  # Wstaw \"Kinga\" na indeksie 0 \n",
    "users"
   ]
  },
  {
   "cell_type": "code",
   "execution_count": 59,
   "id": "bef776d6",
   "metadata": {},
   "outputs": [
    {
     "data": {
      "text/plain": [
       "'Joanna'"
      ]
     },
     "execution_count": 59,
     "metadata": {},
     "output_type": "execute_result"
    }
   ],
   "source": [
    "users.pop()  # Domyślnie usuwa i zwraca ostatni element"
   ]
  },
  {
   "cell_type": "code",
   "execution_count": 60,
   "id": "b3ba3b33",
   "metadata": {},
   "outputs": [
    {
     "data": {
      "text/plain": [
       "['Kinga', 'Laura', 'Bartosz']"
      ]
     },
     "execution_count": 60,
     "metadata": {},
     "output_type": "execute_result"
    }
   ],
   "source": [
    "users"
   ]
  },
  {
   "cell_type": "code",
   "execution_count": 61,
   "id": "f5db51b2",
   "metadata": {},
   "outputs": [],
   "source": [
    "del users[0]  # del usuwa element o podanym indeksie"
   ]
  },
  {
   "cell_type": "code",
   "execution_count": 62,
   "id": "459e5f4f",
   "metadata": {},
   "outputs": [
    {
     "data": {
      "text/plain": [
       "2"
      ]
     },
     "execution_count": 62,
     "metadata": {},
     "output_type": "execute_result"
    }
   ],
   "source": [
    "len(users)  # Długość"
   ]
  },
  {
   "cell_type": "code",
   "execution_count": 63,
   "id": "2434e00a",
   "metadata": {},
   "outputs": [
    {
     "data": {
      "text/plain": [
       "True"
      ]
     },
     "execution_count": 63,
     "metadata": {},
     "output_type": "execute_result"
    }
   ],
   "source": [
    "\"Laura\" in users  # Sprawdź, czy lista users zawiera element \"Laura\""
   ]
  },
  {
   "cell_type": "code",
   "execution_count": 64,
   "id": "cea4e3d0",
   "metadata": {},
   "outputs": [
    {
     "name": "stdout",
     "output_type": "stream",
     "text": [
      "['Bartosz', 'Laura']\n",
      "['Laura', 'Bartosz']\n"
     ]
    }
   ],
   "source": [
    "print(sorted(users))  # Zwraca nową, posortowaną listę\n",
    "print(users)  # Pierwotna lista pozostaje niezmieniona"
   ]
  },
  {
   "cell_type": "code",
   "execution_count": 65,
   "id": "9291267f",
   "metadata": {},
   "outputs": [
    {
     "data": {
      "text/plain": [
       "['Bartosz', 'Laura']"
      ]
     },
     "execution_count": 65,
     "metadata": {},
     "output_type": "execute_result"
    }
   ],
   "source": [
    "users.sort()  # Sortuje pierwotną listę\n",
    "users"
   ]
  },
  {
   "cell_type": "code",
   "execution_count": 66,
   "id": "e586b337",
   "metadata": {},
   "outputs": [
    {
     "data": {
      "text/plain": [
       "6"
      ]
     },
     "execution_count": 66,
     "metadata": {},
     "output_type": "execute_result"
    }
   ],
   "source": [
    "# len dla łańcuchów\n",
    "len(\"Python\")"
   ]
  },
  {
   "cell_type": "code",
   "execution_count": 67,
   "id": "8a86a61b",
   "metadata": {},
   "outputs": [
    {
     "data": {
      "text/plain": [
       "True"
      ]
     },
     "execution_count": 67,
     "metadata": {},
     "output_type": "execute_result"
    }
   ],
   "source": [
    "\"darmowy\" in \"Python jest darmowy i otwartoźródłowy.\""
   ]
  },
  {
   "cell_type": "markdown",
   "id": "799aaab5",
   "metadata": {},
   "source": [
    "## Słowniki"
   ]
  },
  {
   "cell_type": "code",
   "execution_count": 68,
   "id": "88e74a21",
   "metadata": {},
   "outputs": [],
   "source": [
    "exchange_rates = {\"EURUSD\": 1.1152,\n",
    "                  \"GBPUSD\": 1.2454,\n",
    "                  \"AUDUSD\": 0.6161}"
   ]
  },
  {
   "cell_type": "code",
   "execution_count": 69,
   "id": "ea9713c0",
   "metadata": {},
   "outputs": [
    {
     "data": {
      "text/plain": [
       "1.1152"
      ]
     },
     "execution_count": 69,
     "metadata": {},
     "output_type": "execute_result"
    }
   ],
   "source": [
    "exchange_rates[\"EURUSD\"]  # Dostęp do kursu wymiany EURUSD"
   ]
  },
  {
   "cell_type": "code",
   "execution_count": 70,
   "id": "83b4caa8",
   "metadata": {},
   "outputs": [
    {
     "data": {
      "text/plain": [
       "{'EURUSD': 1.2, 'GBPUSD': 1.2454, 'AUDUSD': 0.6161}"
      ]
     },
     "execution_count": 70,
     "metadata": {},
     "output_type": "execute_result"
    }
   ],
   "source": [
    "exchange_rates[\"EURUSD\"] = 1.2  # Zmiana istniejącej wartości\n",
    "exchange_rates"
   ]
  },
  {
   "cell_type": "code",
   "execution_count": 71,
   "id": "d053927b",
   "metadata": {},
   "outputs": [
    {
     "data": {
      "text/plain": [
       "{'EURUSD': 1.2, 'GBPUSD': 1.2454, 'AUDUSD': 0.6161, 'CADUSD': 0.714}"
      ]
     },
     "execution_count": 71,
     "metadata": {},
     "output_type": "execute_result"
    }
   ],
   "source": [
    "exchange_rates[\"CADUSD\"] = 0.714  # Dodawanie nowej pary klucz-wartość\n",
    "exchange_rates"
   ]
  },
  {
   "cell_type": "code",
   "execution_count": 72,
   "id": "56444a82",
   "metadata": {},
   "outputs": [
    {
     "data": {
      "text/plain": [
       "{'EURUSD': 1.2,\n",
       " 'GBPUSD': 1.2222,\n",
       " 'AUDUSD': 0.6161,\n",
       " 'CADUSD': 0.714,\n",
       " 'SGDUSD': 0.7004}"
      ]
     },
     "execution_count": 72,
     "metadata": {},
     "output_type": "execute_result"
    }
   ],
   "source": [
    "{**exchange_rates, **{\"SGDUSD\": 0.7004, \"GBPUSD\": 1.2222}}"
   ]
  },
  {
   "cell_type": "code",
   "execution_count": 73,
   "id": "76f4fd9e",
   "metadata": {},
   "outputs": [],
   "source": [
    "currencies = {1: \"EUR\", 2: \"USD\", 3: \"AUD\"}"
   ]
  },
  {
   "cell_type": "code",
   "execution_count": 74,
   "id": "d37db4a9",
   "metadata": {},
   "outputs": [
    {
     "data": {
      "text/plain": [
       "'EUR'"
      ]
     },
     "execution_count": 74,
     "metadata": {},
     "output_type": "execute_result"
    }
   ],
   "source": [
    "currencies[1]"
   ]
  },
  {
   "cell_type": "code",
   "execution_count": 75,
   "id": "e0660b00",
   "metadata": {},
   "outputs": [
    {
     "data": {
      "text/plain": [
       "'nd.'"
      ]
     },
     "execution_count": 75,
     "metadata": {},
     "output_type": "execute_result"
    }
   ],
   "source": [
    "# currencies[100] spowodowałoby zgłoszenie wyjątku. Zamiast 100,\n",
    "# mógłbyś również użyć dowolnego innego nieistniejącego klucza.\n",
    "currencies.get(100, \"nd.\")"
   ]
  },
  {
   "cell_type": "markdown",
   "id": "7d325ce7",
   "metadata": {},
   "source": [
    "## Krotki"
   ]
  },
  {
   "cell_type": "code",
   "execution_count": 76,
   "id": "90456631",
   "metadata": {},
   "outputs": [],
   "source": [
    "currencies = (\"EUR\", \"GBP\", \"AUD\")"
   ]
  },
  {
   "cell_type": "code",
   "execution_count": 77,
   "id": "c4b25142",
   "metadata": {},
   "outputs": [
    {
     "data": {
      "text/plain": [
       "'EUR'"
      ]
     },
     "execution_count": 77,
     "metadata": {},
     "output_type": "execute_result"
    }
   ],
   "source": [
    "currencies[0]  # Uzyskiwanie dostępu do pierwszego elementu"
   ]
  },
  {
   "cell_type": "code",
   "execution_count": 78,
   "id": "6fb3aaff",
   "metadata": {},
   "outputs": [
    {
     "data": {
      "text/plain": [
       "('EUR', 'GBP', 'AUD', 'SGD')"
      ]
     },
     "execution_count": 78,
     "metadata": {},
     "output_type": "execute_result"
    }
   ],
   "source": [
    "# Konkatenacja krotek zwróci nową krotkę.\n",
    "currencies + (\"SGD\",)"
   ]
  },
  {
   "cell_type": "markdown",
   "id": "09006ec2",
   "metadata": {},
   "source": [
    "## Zbiory"
   ]
  },
  {
   "cell_type": "code",
   "execution_count": 79,
   "id": "98b967b2",
   "metadata": {},
   "outputs": [
    {
     "data": {
      "text/plain": [
       "{'EUR', 'SGD', 'USD'}"
      ]
     },
     "execution_count": 79,
     "metadata": {},
     "output_type": "execute_result"
    }
   ],
   "source": [
    "set([\"USD\", \"USD\", \"SGD\", \"EUR\", \"USD\", \"EUR\"])"
   ]
  },
  {
   "cell_type": "code",
   "execution_count": 80,
   "id": "862a5f31",
   "metadata": {},
   "outputs": [],
   "source": [
    "portfolio1 = {\"USD\", \"EUR\", \"SGD\", \"CHF\"}\n",
    "portfolio2 = {\"EUR\", \"SGD\", \"CAD\"}"
   ]
  },
  {
   "cell_type": "code",
   "execution_count": 81,
   "id": "0876ac4a",
   "metadata": {},
   "outputs": [
    {
     "data": {
      "text/plain": [
       "{'CAD', 'CHF', 'EUR', 'SGD', 'USD'}"
      ]
     },
     "execution_count": 81,
     "metadata": {},
     "output_type": "execute_result"
    }
   ],
   "source": [
    "# To samo co portfolio2.union(portfolio1)\n",
    "portfolio1.union(portfolio2)"
   ]
  },
  {
   "cell_type": "code",
   "execution_count": 82,
   "id": "217fd385",
   "metadata": {},
   "outputs": [
    {
     "data": {
      "text/plain": [
       "{'EUR', 'SGD'}"
      ]
     },
     "execution_count": 82,
     "metadata": {},
     "output_type": "execute_result"
    }
   ],
   "source": [
    "# To samo co portfolio2.intersection(portfolio1)\n",
    "portfolio1.intersection(portfolio2)"
   ]
  },
  {
   "cell_type": "code",
   "execution_count": 83,
   "id": "034857ac",
   "metadata": {},
   "outputs": [
    {
     "data": {
      "text/plain": [
       "('USD', 'EUR', 'CHF')"
      ]
     },
     "execution_count": 83,
     "metadata": {},
     "output_type": "execute_result"
    }
   ],
   "source": [
    "currencies = \"USD\", \"EUR\", \"CHF\"\n",
    "currencies"
   ]
  },
  {
   "cell_type": "code",
   "execution_count": 84,
   "id": "ee28bff2",
   "metadata": {},
   "outputs": [
    {
     "data": {
      "text/plain": [
       "['USD', 'EUR', 'CHF']"
      ]
     },
     "execution_count": 84,
     "metadata": {},
     "output_type": "execute_result"
    }
   ],
   "source": [
    "list(currencies)"
   ]
  },
  {
   "cell_type": "markdown",
   "id": "4327a3b7",
   "metadata": {},
   "source": [
    "# Przepływ sterowania\n",
    "## Instrukcja if"
   ]
  },
  {
   "cell_type": "code",
   "execution_count": 85,
   "id": "cdfb674d",
   "metadata": {},
   "outputs": [
    {
     "name": "stdout",
     "output_type": "stream",
     "text": [
      "i jest większe niż 10\n"
     ]
    }
   ],
   "source": [
    "i = 20\n",
    "if i < 5:\n",
    "    print(\"i jest mniejsze niż 5\")\n",
    "elif i <= 10:\n",
    "    print(\"i jest z przedziału od 5 do 10\")\n",
    "else:\n",
    "    print(\"i jest większe niż 10\")"
   ]
  },
  {
   "cell_type": "code",
   "execution_count": 86,
   "id": "92b006f1",
   "metadata": {},
   "outputs": [
    {
     "name": "stdout",
     "output_type": "stream",
     "text": [
      "To jest ważne.\n"
     ]
    }
   ],
   "source": [
    "is_important = True\n",
    "if is_important:\n",
    "    print(\"To jest ważne.\")\n",
    "else:\n",
    "    print(\"To nie jest ważne.\")"
   ]
  },
  {
   "cell_type": "code",
   "execution_count": 87,
   "id": "ad661a0f",
   "metadata": {},
   "outputs": [
    {
     "name": "stdout",
     "output_type": "stream",
     "text": [
      "Nie podano żadnych wartości.\n"
     ]
    }
   ],
   "source": [
    "# sprawdzenie czy sekwencja jest pusta\n",
    "values = []\n",
    "if values:\n",
    "    print(f\"Podano następujące wartości: {values}\")\n",
    "else:\n",
    "    print(\"Nie podano żadnych wartości.\")"
   ]
  },
  {
   "cell_type": "code",
   "execution_count": 88,
   "id": "7beb0558",
   "metadata": {},
   "outputs": [
    {
     "name": "stdout",
     "output_type": "stream",
     "text": [
      "nieważne\n"
     ]
    }
   ],
   "source": [
    "is_important = False\n",
    "print(\"ważne\") if is_important else print(\"nieważne\")"
   ]
  },
  {
   "cell_type": "markdown",
   "id": "89e2340b",
   "metadata": {},
   "source": [
    "## Pętle for i while"
   ]
  },
  {
   "cell_type": "code",
   "execution_count": 90,
   "id": "b33a1cc6",
   "metadata": {},
   "outputs": [
    {
     "name": "stdout",
     "output_type": "stream",
     "text": [
      "USD\n",
      "HKD\n",
      "AUD\n"
     ]
    }
   ],
   "source": [
    "currencies = [\"USD\", \"HKD\", \"AUD\"]\n",
    "\n",
    "for currency in currencies:\n",
    "    print(currency)"
   ]
  },
  {
   "cell_type": "code",
   "execution_count": 91,
   "id": "eab340be",
   "metadata": {},
   "outputs": [
    {
     "data": {
      "text/plain": [
       "range(0, 5)"
      ]
     },
     "execution_count": 91,
     "metadata": {},
     "output_type": "execute_result"
    }
   ],
   "source": [
    "range(5)"
   ]
  },
  {
   "cell_type": "code",
   "execution_count": 92,
   "id": "6113d394",
   "metadata": {},
   "outputs": [
    {
     "data": {
      "text/plain": [
       "[0, 1, 2, 3, 4]"
      ]
     },
     "execution_count": 92,
     "metadata": {},
     "output_type": "execute_result"
    }
   ],
   "source": [
    "# przekonwertowanie zakresu na listę\n",
    "list(range(5))  # argument stop"
   ]
  },
  {
   "cell_type": "code",
   "execution_count": 93,
   "id": "67c67e9c",
   "metadata": {},
   "outputs": [
    {
     "data": {
      "text/plain": [
       "[2, 4]"
      ]
     },
     "execution_count": 93,
     "metadata": {},
     "output_type": "execute_result"
    }
   ],
   "source": [
    "list(range(2, 5, 2))  # argumenty start, stop i krok"
   ]
  },
  {
   "cell_type": "code",
   "execution_count": 94,
   "id": "eeedad9b",
   "metadata": {},
   "outputs": [
    {
     "name": "stdout",
     "output_type": "stream",
     "text": [
      "0\n",
      "1\n",
      "2\n"
     ]
    }
   ],
   "source": [
    "for i in range(3):\n",
    "    print(i)"
   ]
  },
  {
   "cell_type": "code",
   "execution_count": 95,
   "id": "d8bdf5bb",
   "metadata": {},
   "outputs": [
    {
     "name": "stdout",
     "output_type": "stream",
     "text": [
      "0 USD\n",
      "1 HKD\n",
      "2 AUD\n"
     ]
    }
   ],
   "source": [
    "for i, currency in enumerate(currencies):\n",
    "    print(i, currency)"
   ]
  },
  {
   "cell_type": "code",
   "execution_count": 96,
   "id": "bcdca285",
   "metadata": {},
   "outputs": [
    {
     "name": "stdout",
     "output_type": "stream",
     "text": [
      "EURUSD\n",
      "GBPUSD\n",
      "AUDUSD\n"
     ]
    }
   ],
   "source": [
    "exchange_rates = {\"EURUSD\": 1.1152,\n",
    "                  \"GBPUSD\": 1.2454,\n",
    "                  \"AUDUSD\": 0.6161}\n",
    "for currency_pair in exchange_rates:\n",
    "    print(currency_pair)"
   ]
  },
  {
   "cell_type": "code",
   "execution_count": 97,
   "id": "86504e58",
   "metadata": {},
   "outputs": [
    {
     "name": "stdout",
     "output_type": "stream",
     "text": [
      "EURUSD 1.1152\n",
      "GBPUSD 1.2454\n",
      "AUDUSD 0.6161\n"
     ]
    }
   ],
   "source": [
    "for currency_pair, exchange_rate in exchange_rates.items():\n",
    "    print(currency_pair, exchange_rate)"
   ]
  },
  {
   "cell_type": "code",
   "execution_count": 98,
   "id": "73cda7b4",
   "metadata": {},
   "outputs": [
    {
     "name": "stdout",
     "output_type": "stream",
     "text": [
      "0\n",
      "1\n"
     ]
    }
   ],
   "source": [
    "for i in range(15):\n",
    "    if i == 2:\n",
    "        break\n",
    "    else:\n",
    "        print(i)"
   ]
  },
  {
   "cell_type": "code",
   "execution_count": 99,
   "id": "adb22116",
   "metadata": {},
   "outputs": [
    {
     "name": "stdout",
     "output_type": "stream",
     "text": [
      "0\n",
      "1\n",
      "3\n"
     ]
    }
   ],
   "source": [
    "for i in range(4):\n",
    "    if i == 2:\n",
    "        continue\n",
    "    else:\n",
    "        print(i)"
   ]
  },
  {
   "cell_type": "code",
   "execution_count": 100,
   "id": "e96bd0ee",
   "metadata": {},
   "outputs": [
    {
     "name": "stdout",
     "output_type": "stream",
     "text": [
      "1\n",
      "2\n",
      "3\n",
      "3\n"
     ]
    }
   ],
   "source": [
    "for i in range(1, 4):\n",
    "    print(i)\n",
    "print(i)"
   ]
  },
  {
   "cell_type": "code",
   "execution_count": 101,
   "id": "e846ef39",
   "metadata": {},
   "outputs": [
    {
     "name": "stdout",
     "output_type": "stream",
     "text": [
      "0\n",
      "1\n",
      "2\n"
     ]
    }
   ],
   "source": [
    "n = 0\n",
    "while n <= 2:\n",
    "    print(n)\n",
    "    n += 1"
   ]
  },
  {
   "cell_type": "markdown",
   "id": "9e235d52",
   "metadata": {},
   "source": [
    "# Lista, słownik i zbiory składane"
   ]
  },
  {
   "cell_type": "code",
   "execution_count": 102,
   "id": "032e596d",
   "metadata": {},
   "outputs": [],
   "source": [
    "currency_pairs = [\"USDJPY\", \"USDGBP\", \"USDCHF\",\n",
    "                  \"USDCAD\", \"AUDUSD\", \"NZDUSD\"]"
   ]
  },
  {
   "cell_type": "code",
   "execution_count": 103,
   "id": "6fbeebc4",
   "metadata": {},
   "outputs": [
    {
     "data": {
      "text/plain": [
       "['AUD', 'NZD']"
      ]
     },
     "execution_count": 103,
     "metadata": {},
     "output_type": "execute_result"
    }
   ],
   "source": [
    "usd_quote = []\n",
    "for pair in currency_pairs:\n",
    "    if pair[3:] == \"USD\":\n",
    "        usd_quote.append(pair[:3])\n",
    "usd_quote"
   ]
  },
  {
   "cell_type": "code",
   "execution_count": 104,
   "id": "f54b2777",
   "metadata": {},
   "outputs": [
    {
     "data": {
      "text/plain": [
       "['AUD', 'NZD']"
      ]
     },
     "execution_count": 104,
     "metadata": {},
     "output_type": "execute_result"
    }
   ],
   "source": [
    "[pair[:3] for pair in currency_pairs if pair[3:] == \"USD\"]"
   ]
  },
  {
   "cell_type": "code",
   "execution_count": 105,
   "id": "f77bb5e9",
   "metadata": {},
   "outputs": [
    {
     "data": {
      "text/plain": [
       "['JPYUSD', 'GBPUSD', 'CHFUSD', 'CADUSD', 'USDAUD', 'USDNZD']"
      ]
     },
     "execution_count": 105,
     "metadata": {},
     "output_type": "execute_result"
    }
   ],
   "source": [
    "[pair[3:] + pair[:3] for pair in currency_pairs]"
   ]
  },
  {
   "cell_type": "code",
   "execution_count": 106,
   "id": "1fd36115",
   "metadata": {},
   "outputs": [
    {
     "data": {
      "text/plain": [
       "{'EURUSD': 111.52, 'GBPUSD': 124.54, 'AUDUSD': 61.61}"
      ]
     },
     "execution_count": 106,
     "metadata": {},
     "output_type": "execute_result"
    }
   ],
   "source": [
    "exchange_rates = {\"EURUSD\": 1.1152,\n",
    "                  \"GBPUSD\": 1.2454,\n",
    "                  \"AUDUSD\": 0.6161}\n",
    "{k: v * 100 for (k, v) in exchange_rates.items()}"
   ]
  },
  {
   "cell_type": "code",
   "execution_count": 107,
   "id": "ef17cf95",
   "metadata": {},
   "outputs": [
    {
     "data": {
      "text/plain": [
       "{'EURUSD', 'GBPUSD', 'HKDUSD'}"
      ]
     },
     "execution_count": 107,
     "metadata": {},
     "output_type": "execute_result"
    }
   ],
   "source": [
    "{s + \"USD\" for s in [\"EUR\", \"GBP\", \"EUR\", \"HKD\", \"HKD\"]}"
   ]
  },
  {
   "cell_type": "markdown",
   "id": "e9f526cf",
   "metadata": {},
   "source": [
    "# Funkcje"
   ]
  },
  {
   "cell_type": "code",
   "execution_count": 108,
   "id": "114d57e1",
   "metadata": {},
   "outputs": [],
   "source": [
    "def convert_to_celsius(degrees, source=\"fahrenheit\"):\n",
    "    if source.lower() == \"fahrenheit\":\n",
    "        return (degrees-32) * (5/9)\n",
    "    elif source.lower() == \"kelvin\":\n",
    "        return degrees - 273.15\n",
    "    else:\n",
    "        return f\"Nie potrafię przekonwertować z {source}\""
   ]
  },
  {
   "cell_type": "code",
   "execution_count": 109,
   "id": "5945b603",
   "metadata": {},
   "outputs": [
    {
     "data": {
      "text/plain": [
       "37.77777777777778"
      ]
     },
     "execution_count": 109,
     "metadata": {},
     "output_type": "execute_result"
    }
   ],
   "source": [
    "convert_to_celsius(100, \"fahrenheit\")  # Argumenty pozycyjne"
   ]
  },
  {
   "cell_type": "code",
   "execution_count": 110,
   "id": "d79c01f1",
   "metadata": {},
   "outputs": [
    {
     "data": {
      "text/plain": [
       "10.0"
      ]
     },
     "execution_count": 110,
     "metadata": {},
     "output_type": "execute_result"
    }
   ],
   "source": [
    "convert_to_celsius(50)  # Użyty zostanie domyślny argument source (fahrenheit)"
   ]
  },
  {
   "cell_type": "code",
   "execution_count": 111,
   "id": "9fc6f811",
   "metadata": {},
   "outputs": [
    {
     "data": {
      "text/plain": [
       "-273.15"
      ]
     },
     "execution_count": 111,
     "metadata": {},
     "output_type": "execute_result"
    }
   ],
   "source": [
    "convert_to_celsius(source=\"kelvin\", degrees=0)  # Argumenty nazwane"
   ]
  },
  {
   "cell_type": "markdown",
   "id": "addf84a7",
   "metadata": {},
   "source": [
    "# Moduły i instrukcja import"
   ]
  },
  {
   "cell_type": "code",
   "execution_count": 112,
   "id": "f05fae8c",
   "metadata": {},
   "outputs": [
    {
     "name": "stdout",
     "output_type": "stream",
     "text": [
      "To jest moduł temperature.\n"
     ]
    }
   ],
   "source": [
    "import temperature"
   ]
  },
  {
   "cell_type": "code",
   "execution_count": 113,
   "id": "fef68806",
   "metadata": {},
   "outputs": [
    {
     "data": {
      "text/plain": [
       "('fahrenheit', 'kelvin', 'celsius')"
      ]
     },
     "execution_count": 113,
     "metadata": {},
     "output_type": "execute_result"
    }
   ],
   "source": [
    "temperature.TEMPERATURE_SCALES"
   ]
  },
  {
   "cell_type": "code",
   "execution_count": 114,
   "id": "e8d7ed17",
   "metadata": {},
   "outputs": [
    {
     "data": {
      "text/plain": [
       "48.88888888888889"
      ]
     },
     "execution_count": 114,
     "metadata": {},
     "output_type": "execute_result"
    }
   ],
   "source": [
    "temperature.convert_to_celsius(120, \"fahrenheit\")"
   ]
  },
  {
   "cell_type": "code",
   "execution_count": 115,
   "id": "6edae56f",
   "metadata": {},
   "outputs": [],
   "source": [
    "import temperature as tp"
   ]
  },
  {
   "cell_type": "code",
   "execution_count": 116,
   "id": "8e453790",
   "metadata": {},
   "outputs": [
    {
     "data": {
      "text/plain": [
       "('fahrenheit', 'kelvin', 'celsius')"
      ]
     },
     "execution_count": 116,
     "metadata": {},
     "output_type": "execute_result"
    }
   ],
   "source": [
    "tp.TEMPERATURE_SCALES"
   ]
  },
  {
   "cell_type": "code",
   "execution_count": 117,
   "id": "bdb56954",
   "metadata": {},
   "outputs": [],
   "source": [
    "from temperature import TEMPERATURE_SCALES, convert_to_celsius"
   ]
  },
  {
   "cell_type": "code",
   "execution_count": 118,
   "id": "b2d9d33a",
   "metadata": {},
   "outputs": [
    {
     "data": {
      "text/plain": [
       "('fahrenheit', 'kelvin', 'celsius')"
      ]
     },
     "execution_count": 118,
     "metadata": {},
     "output_type": "execute_result"
    }
   ],
   "source": [
    "TEMPERATURE_SCALES"
   ]
  },
  {
   "cell_type": "markdown",
   "id": "f3d66cb6",
   "metadata": {},
   "source": [
    "# Data i czas"
   ]
  },
  {
   "cell_type": "code",
   "execution_count": 119,
   "id": "ee634d94",
   "metadata": {},
   "outputs": [],
   "source": [
    "# Zaimportowanie modułu datetime jako \"dt\"\n",
    "import datetime as dt"
   ]
  },
  {
   "cell_type": "code",
   "execution_count": 120,
   "id": "1e4e2c94",
   "metadata": {},
   "outputs": [
    {
     "data": {
      "text/plain": [
       "datetime.datetime(2020, 1, 31, 14, 30)"
      ]
     },
     "execution_count": 120,
     "metadata": {},
     "output_type": "execute_result"
    }
   ],
   "source": [
    "# Utworzenie instancji obiektu datetime o nazwie \"timestamp\"\n",
    "timestamp = dt.datetime(2020, 1, 31, 14, 30)\n",
    "timestamp"
   ]
  },
  {
   "cell_type": "code",
   "execution_count": 121,
   "id": "a0c44241",
   "metadata": {},
   "outputs": [
    {
     "data": {
      "text/plain": [
       "31"
      ]
     },
     "execution_count": 121,
     "metadata": {},
     "output_type": "execute_result"
    }
   ],
   "source": [
    "# Obiekty datetime oferują różne atrybuty, np. aby uzyskać dzień\n",
    "timestamp.day"
   ]
  },
  {
   "cell_type": "code",
   "execution_count": 122,
   "id": "0476d2c2",
   "metadata": {},
   "outputs": [
    {
     "data": {
      "text/plain": [
       "datetime.timedelta(days=17, seconds=9000)"
      ]
     },
     "execution_count": 122,
     "metadata": {},
     "output_type": "execute_result"
    }
   ],
   "source": [
    "# Różnica między dwoma obiektami datetime zwraca obiekt timedelta\n",
    "timestamp - dt.datetime(2020, 1, 14, 12, 0)"
   ]
  },
  {
   "cell_type": "code",
   "execution_count": 123,
   "id": "a85cf174",
   "metadata": {},
   "outputs": [
    {
     "data": {
      "text/plain": [
       "datetime.datetime(2020, 2, 1, 18, 41)"
      ]
     },
     "execution_count": 123,
     "metadata": {},
     "output_type": "execute_result"
    }
   ],
   "source": [
    "# Można również operować na obiektach timedelta\n",
    "timestamp + dt.timedelta(days=1, hours=4, minutes=11)"
   ]
  },
  {
   "cell_type": "code",
   "execution_count": 124,
   "id": "154f49d6",
   "metadata": {},
   "outputs": [
    {
     "data": {
      "text/plain": [
       "'31/01/2020 14:30'"
      ]
     },
     "execution_count": 124,
     "metadata": {},
     "output_type": "execute_result"
    }
   ],
   "source": [
    "# Formatowanie obiektu datetime w określony sposób\n",
    "# Możesz również zastosować f-string: f\"{timestamp:%d/%m/%Y %H:%M}\"\n",
    "timestamp.strftime(\"%d/%m/%Y %H:%M\")"
   ]
  },
  {
   "cell_type": "code",
   "execution_count": 125,
   "id": "7db2acbd",
   "metadata": {},
   "outputs": [
    {
     "data": {
      "text/plain": [
       "datetime.datetime(2020, 1, 12, 0, 0)"
      ]
     },
     "execution_count": 125,
     "metadata": {},
     "output_type": "execute_result"
    }
   ],
   "source": [
    "# Przekształcenie łańcucha znaków w obiekt datetime\n",
    "dt.datetime.strptime(\"12.1.2020\", \"%d.%m.%Y\")"
   ]
  },
  {
   "cell_type": "code",
   "execution_count": null,
   "id": "fffa8ffd",
   "metadata": {},
   "outputs": [],
   "source": []
  }
 ],
 "metadata": {
  "kernelspec": {
   "display_name": "Python 3 (ipykernel)",
   "language": "python",
   "name": "python3"
  },
  "language_info": {
   "codemirror_mode": {
    "name": "ipython",
    "version": 3
   },
   "file_extension": ".py",
   "mimetype": "text/x-python",
   "name": "python",
   "nbconvert_exporter": "python",
   "pygments_lexer": "ipython3",
   "version": "3.10.9"
  }
 },
 "nbformat": 4,
 "nbformat_minor": 5
}
