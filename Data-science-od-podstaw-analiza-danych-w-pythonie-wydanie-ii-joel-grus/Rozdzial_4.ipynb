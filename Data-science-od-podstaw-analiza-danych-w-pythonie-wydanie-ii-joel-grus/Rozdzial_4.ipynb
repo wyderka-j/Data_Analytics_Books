{
 "cells": [
  {
   "cell_type": "markdown",
   "id": "3d0904aa",
   "metadata": {},
   "source": [
    "# Algebra liniowa"
   ]
  },
  {
   "cell_type": "markdown",
   "id": "74c3b242",
   "metadata": {},
   "source": [
    "### Wektory"
   ]
  },
  {
   "cell_type": "markdown",
   "id": "6a627612",
   "metadata": {},
   "source": [
    "Wektory są punktami znajdującymi się w przestrzeni o skończonej liczbie wymiarów."
   ]
  },
  {
   "cell_type": "code",
   "execution_count": 1,
   "id": "07c3458d",
   "metadata": {},
   "outputs": [],
   "source": [
    "from typing import List\n",
    "\n",
    "Vector = List[float]"
   ]
  },
  {
   "cell_type": "code",
   "execution_count": 2,
   "id": "343c940f",
   "metadata": {},
   "outputs": [],
   "source": [
    "# Dane osób zapisanych w postaci trójwymiarowych wektorów\n",
    "wzrost_waga_wiek = [170,  # centymetrów,\n",
    "                    70,   # kilogramów,\n",
    "                    40 ]  # lat"
   ]
  },
  {
   "cell_type": "code",
   "execution_count": 3,
   "id": "7030b883",
   "metadata": {},
   "outputs": [],
   "source": [
    "# Oceny studentów jako wektory czterowymiarowe\n",
    "oceny  = [95,   # egzamin1\n",
    "          80,   # egzamin2\n",
    "          75,   # egzamin3\n",
    "          62 ]  # egzamin4"
   ]
  },
  {
   "cell_type": "code",
   "execution_count": 4,
   "id": "fb4edf8d",
   "metadata": {},
   "outputs": [],
   "source": [
    "# Dodawanie wektorów\n",
    "def add(v: Vector, w: Vector) -> Vector:\n",
    "    \"\"\"dodawanie wektorów\"\"\"\n",
    "    assert len(v) == len(w), \"wektory muszą mieć tę samą długość\"\n",
    "\n",
    "    return [v_i + w_i for v_i, w_i in zip(v, w)]"
   ]
  },
  {
   "cell_type": "code",
   "execution_count": 5,
   "id": "26427812",
   "metadata": {},
   "outputs": [
    {
     "data": {
      "text/plain": [
       "[5, 7, 9]"
      ]
     },
     "execution_count": 5,
     "metadata": {},
     "output_type": "execute_result"
    }
   ],
   "source": [
    "add([1, 2, 3], [4, 5, 6])"
   ]
  },
  {
   "cell_type": "code",
   "execution_count": 6,
   "id": "57efff58",
   "metadata": {},
   "outputs": [],
   "source": [
    "# Odejmowanie wektorów\n",
    "def subtract(v: Vector, w: Vector) -> Vector:\n",
    "    \"\"\"odejmowanie wektorów\"\"\"\n",
    "    assert len(v) == len(w), \"wektory muszą mieć tę samą długość \"\n",
    "\n",
    "    return [v_i - w_i for v_i, w_i in zip(v, w)]"
   ]
  },
  {
   "cell_type": "code",
   "execution_count": 7,
   "id": "a72fba81",
   "metadata": {},
   "outputs": [
    {
     "data": {
      "text/plain": [
       "[1, 2, 3]"
      ]
     },
     "execution_count": 7,
     "metadata": {},
     "output_type": "execute_result"
    }
   ],
   "source": [
    "subtract([5, 7, 9], [4, 5, 6])"
   ]
  },
  {
   "cell_type": "code",
   "execution_count": 8,
   "id": "6e26ad73",
   "metadata": {},
   "outputs": [],
   "source": [
    "# utworzenie nowego wektora, którego pierwszy element jest sumą pierwszych elementów wszystkich wektorów, drugi drugich itd.\n",
    "def vector_sum(vectors: List[Vector]) -> Vector:\n",
    "    \"\"\"Sumuje listę wektorów\"\"\"\n",
    "    # Sprawdzenie, czy lista wektorów nie jest pusta\n",
    "    assert vectors, \"brak wektorów!\"\n",
    "\n",
    "    # Sprawdzenie, czy wszystkie wektory mają taką samą długość\n",
    "    num_elements = len(vectors[0])\n",
    "    assert all(len(v) == num_elements for v in vectors), \"różne długości!\"\n",
    "\n",
    "    # i-ty element wektora wynikowego jest sumą elementów [i] każdego wektora\n",
    "    return [sum(vector[i] for vector in vectors)\n",
    "            for i in range(num_elements)]"
   ]
  },
  {
   "cell_type": "code",
   "execution_count": 9,
   "id": "90f6f6bd",
   "metadata": {},
   "outputs": [
    {
     "data": {
      "text/plain": [
       "[16, 20]"
      ]
     },
     "execution_count": 9,
     "metadata": {},
     "output_type": "execute_result"
    }
   ],
   "source": [
    "vector_sum([[1, 2], [3, 4], [5, 6], [7, 8]])"
   ]
  },
  {
   "cell_type": "code",
   "execution_count": 10,
   "id": "cfb0f546",
   "metadata": {},
   "outputs": [],
   "source": [
    "# Mnożenie wektora przez skalar\n",
    "def scalar_multiply(c: float, v: Vector) -> Vector:\n",
    "    \"\"\"Mnoży każdy element przez c\"\"\"\n",
    "    return [c * v_i for v_i in v]"
   ]
  },
  {
   "cell_type": "code",
   "execution_count": 11,
   "id": "afa8d573",
   "metadata": {},
   "outputs": [
    {
     "data": {
      "text/plain": [
       "[2, 4, 6]"
      ]
     },
     "execution_count": 11,
     "metadata": {},
     "output_type": "execute_result"
    }
   ],
   "source": [
    "scalar_multiply(2, [1, 2, 3])"
   ]
  },
  {
   "cell_type": "code",
   "execution_count": 12,
   "id": "d13b73ca",
   "metadata": {},
   "outputs": [],
   "source": [
    "# Średnia wektorów o tych samych wymiarach\n",
    "def vector_mean(vectors: List[Vector]) -> Vector:\n",
    "    \"\"\"Oblicza wektor, którego i-ty element jest średnią i-tych elementów wektorów wejściowych.\"\"\"\n",
    "    n = len(vectors)\n",
    "    return scalar_multiply(1/n, vector_sum(vectors))"
   ]
  },
  {
   "cell_type": "code",
   "execution_count": 13,
   "id": "1fe1f610",
   "metadata": {},
   "outputs": [
    {
     "data": {
      "text/plain": [
       "[3.0, 4.0]"
      ]
     },
     "execution_count": 13,
     "metadata": {},
     "output_type": "execute_result"
    }
   ],
   "source": [
    "vector_mean([[1, 2], [3, 4], [5, 6]])"
   ]
  },
  {
   "cell_type": "code",
   "execution_count": 14,
   "id": "db084b02",
   "metadata": {},
   "outputs": [],
   "source": [
    "# Iloczyn skalarny\n",
    "def dot(v: Vector, w: Vector) -> float:\n",
    "    \"\"\"Oblicza v_1 * w_1 + ... + v_n * w_n\"\"\"\n",
    "    assert len(v) == len(w), \"wektory muszą mieć taką samą długość\"\n",
    "\n",
    "    return sum(v_i * w_i for v_i, w_i in zip(v, w))"
   ]
  },
  {
   "cell_type": "code",
   "execution_count": 15,
   "id": "c1cde04b",
   "metadata": {},
   "outputs": [
    {
     "data": {
      "text/plain": [
       "32"
      ]
     },
     "execution_count": 15,
     "metadata": {},
     "output_type": "execute_result"
    }
   ],
   "source": [
    "dot([1, 2, 3], [4, 5, 6])"
   ]
  },
  {
   "cell_type": "code",
   "execution_count": 16,
   "id": "4108a7e0",
   "metadata": {},
   "outputs": [],
   "source": [
    "# Suma kwadratów wektorów\n",
    "def sum_of_squares(v: Vector) -> float:\n",
    "    \"\"\"Zwraca v_1 * v_1 + ... + v_n * v_n\"\"\"\n",
    "    return dot(v, v)"
   ]
  },
  {
   "cell_type": "code",
   "execution_count": 17,
   "id": "1c58cade",
   "metadata": {},
   "outputs": [
    {
     "data": {
      "text/plain": [
       "14"
      ]
     },
     "execution_count": 17,
     "metadata": {},
     "output_type": "execute_result"
    }
   ],
   "source": [
    "sum_of_squares([1, 2, 3])"
   ]
  },
  {
   "cell_type": "code",
   "execution_count": 18,
   "id": "8e2b42a7",
   "metadata": {},
   "outputs": [],
   "source": [
    "# Moduł wektora\n",
    "import math\n",
    "\n",
    "def magnitude(v: Vector) -> float:\n",
    "    \"\"\"Zwraca moduł (długość) wektora v\"\"\"\n",
    "    return math.sqrt(sum_of_squares(v))   # Funkcja math.sqrt oblicza wartość pierwiastka kwadratowego."
   ]
  },
  {
   "cell_type": "code",
   "execution_count": 19,
   "id": "98950fe9",
   "metadata": {},
   "outputs": [
    {
     "data": {
      "text/plain": [
       "5.0"
      ]
     },
     "execution_count": 19,
     "metadata": {},
     "output_type": "execute_result"
    }
   ],
   "source": [
    "magnitude([3, 4])"
   ]
  },
  {
   "cell_type": "code",
   "execution_count": 20,
   "id": "3bb42685",
   "metadata": {},
   "outputs": [],
   "source": [
    "# Odległości pomiędzy dwoma wektorami\n",
    "def squared_distance(v: Vector, w: Vector) -> float:\n",
    "    \"\"\"Oblicza (v_1 - w_1) ** 2 + ... + (v_n - w_n) ** 2\"\"\"\n",
    "    return sum_of_squares(subtract(v, w))\n",
    "\n",
    "def distance(v: Vector, w: Vector) -> float:\n",
    "    \"\"\"Oblicza odległość pomiędzy v i w\"\"\"\n",
    "    return math.sqrt(squared_distance(v, w))\n",
    "\n",
    "\n",
    "def distance(v: Vector, w: Vector) -> float:  # type: ignore\n",
    "    return magnitude(subtract(v, w))"
   ]
  },
  {
   "cell_type": "markdown",
   "id": "39f47c63",
   "metadata": {},
   "source": [
    "### Macierze"
   ]
  },
  {
   "cell_type": "code",
   "execution_count": 21,
   "id": "fd56dc41",
   "metadata": {},
   "outputs": [],
   "source": [
    "# alias typu macierzy\n",
    "Matrix = List[List[float]]"
   ]
  },
  {
   "cell_type": "code",
   "execution_count": 22,
   "id": "29e1be13",
   "metadata": {},
   "outputs": [],
   "source": [
    "A = [[1, 2, 3],  # Macierz A ma 2 wiersze i 3 kolumny.\n",
    "     [4, 5, 6]]\n",
    "\n",
    "B = [[1, 2],     # Macierz B ma 3 wiersze i 2 kolumny.\n",
    "     [3, 4],\n",
    "     [5, 6]]"
   ]
  },
  {
   "cell_type": "code",
   "execution_count": 23,
   "id": "69c6e0da",
   "metadata": {},
   "outputs": [],
   "source": [
    "# Wymiar macierzy\n",
    "from typing import Tuple\n",
    "\n",
    "def shape(A: Matrix) -> Tuple[int, int]:\n",
    "    \"\"\"Zwraca liczbę wierszy i kolumn macierzy A\"\"\"\n",
    "    num_rows = len(A)\n",
    "    num_cols = len(A[0]) if A else 0   # Liczba elementów pierwszego wiersza.\n",
    "    return num_rows, num_cols"
   ]
  },
  {
   "cell_type": "code",
   "execution_count": 24,
   "id": "07a483ae",
   "metadata": {},
   "outputs": [
    {
     "data": {
      "text/plain": [
       "(2, 3)"
      ]
     },
     "execution_count": 24,
     "metadata": {},
     "output_type": "execute_result"
    }
   ],
   "source": [
    "shape([[1, 2, 3], [4, 5, 6]])  # 2 wiersze, 3 kolumny"
   ]
  },
  {
   "cell_type": "code",
   "execution_count": 25,
   "id": "ae963ad8",
   "metadata": {},
   "outputs": [],
   "source": [
    "# Każdy z wierszy macierzy nxk można traktować jako wektor o długości k, a każdą jej kolumnę jako wektor o dlugości n\n",
    "def get_row(A: Matrix, i: int) -> Vector:\n",
    "    \"\"\"Zwraca i-ty wiersz macierzy A (jako wektor)\"\"\"\n",
    "    return A[i]             # A[i] jest już i-tym wierszem.\n",
    "\n",
    "def get_column(A: Matrix, j: int) -> Vector:\n",
    "    \"\"\"Zwraca j-tą kolumnę macierzy A (jako wektor)\"\"\"\n",
    "    return [A_i[j]          # j-ty elementy wiersza A_i.\n",
    "            for A_i in A]   # Dla każdego wiersza  A_i."
   ]
  },
  {
   "cell_type": "code",
   "execution_count": 26,
   "id": "2a6655f5",
   "metadata": {},
   "outputs": [],
   "source": [
    "# Tworzenie macierzy o określonych wymiarach, korzystając z funkcji generujacej elementy macierzy\n",
    "from typing import Callable\n",
    "\n",
    "def make_matrix(num_rows: int,\n",
    "                num_cols: int,\n",
    "                entry_fn: Callable[[int, int], float]) -> Matrix:\n",
    "    \"\"\"\n",
    "    Zwraca macierz o wymiarach num_rows x num_cols, \n",
    "    której element (i, j) jest definiowany jako entry_fn(i, j).\n",
    "    \"\"\"\n",
    "    return [[entry_fn(i, j)             # Na podstawie danego i utwórz listę\n",
    "             for j in range(num_cols)]  # [entry_fn(i, 0), ... ]\n",
    "            for i in range(num_rows)]   # Utwórz po jednej liście dla każdego i"
   ]
  },
  {
   "cell_type": "code",
   "execution_count": 27,
   "id": "698ff266",
   "metadata": {},
   "outputs": [
    {
     "data": {
      "text/plain": [
       "[[1, 0, 0, 0, 0],\n",
       " [0, 1, 0, 0, 0],\n",
       " [0, 0, 1, 0, 0],\n",
       " [0, 0, 0, 1, 0],\n",
       " [0, 0, 0, 0, 1]]"
      ]
     },
     "execution_count": 27,
     "metadata": {},
     "output_type": "execute_result"
    }
   ],
   "source": [
    "# Macierz jednostkowa 5x5\n",
    "def identity_matrix(n: int) -> Matrix:\n",
    "    \"\"\"Zwraca macierz jednostkową n x n\"\"\"\n",
    "    return make_matrix(n, n, lambda i, j: 1 if i == j else 0)\n",
    "\n",
    "identity_matrix(5)"
   ]
  },
  {
   "cell_type": "code",
   "execution_count": 28,
   "id": "c16c6ec1",
   "metadata": {},
   "outputs": [],
   "source": [
    "# Przykładowe dane dotyczące wzrostu, wagi i wieku \n",
    "data = [[70, 170, 40],\n",
    "        [65, 120, 26],\n",
    "        [77, 250, 19],\n",
    "        # ....\n",
    "       ]"
   ]
  },
  {
   "cell_type": "code",
   "execution_count": 29,
   "id": "1293923b",
   "metadata": {},
   "outputs": [],
   "source": [
    "# Użyty wcześniej sposób reprezentacji danych\n",
    "friendships = [(0, 1), (0, 2), (1, 2), (1, 3), (2, 3), (3, 4),\n",
    "               (4, 5), (5, 6), (5, 7), (6, 8), (7, 8), (8, 9)]"
   ]
  },
  {
   "cell_type": "code",
   "execution_count": 30,
   "id": "8e171395",
   "metadata": {},
   "outputs": [],
   "source": [
    "# Dane te można zapisać również w następującej formie\n",
    "friend_matrix = [[0, 1, 1, 0, 0, 0, 0, 0, 0, 0],  # użytkownik  0\n",
    "                 [1, 0, 1, 1, 0, 0, 0, 0, 0, 0],  # użytkownik  1\n",
    "                 [1, 1, 0, 1, 0, 0, 0, 0, 0, 0],  # użytkownik  2\n",
    "                 [0, 1, 1, 0, 1, 0, 0, 0, 0, 0],  # użytkownik  3\n",
    "                 [0, 0, 0, 1, 0, 1, 0, 0, 0, 0],  # użytkownik  4\n",
    "                 [0, 0, 0, 0, 1, 0, 1, 1, 0, 0],  # użytkownik  5\n",
    "                 [0, 0, 0, 0, 0, 1, 0, 0, 1, 0],  # użytkownik  6\n",
    "                 [0, 0, 0, 0, 0, 1, 0, 0, 1, 0],  # użytkownik  7\n",
    "                 [0, 0, 0, 0, 0, 0, 1, 1, 0, 1],  # użytkownik  8\n",
    "                 [0, 0, 0, 0, 0, 0, 0, 0, 1, 0]]  # użytkownik  9"
   ]
  },
  {
   "cell_type": "code",
   "execution_count": 31,
   "id": "30d9f392",
   "metadata": {},
   "outputs": [
    {
     "data": {
      "text/plain": [
       "1"
      ]
     },
     "execution_count": 31,
     "metadata": {},
     "output_type": "execute_result"
    }
   ],
   "source": [
    "friend_matrix[0][2]  #\"0 i 2 są połączone\""
   ]
  },
  {
   "cell_type": "code",
   "execution_count": 32,
   "id": "f9e45769",
   "metadata": {},
   "outputs": [
    {
     "data": {
      "text/plain": [
       "0"
      ]
     },
     "execution_count": 32,
     "metadata": {},
     "output_type": "execute_result"
    }
   ],
   "source": [
    "friend_matrix[0][8]  #\"0 i 8 nie są połączone\""
   ]
  },
  {
   "cell_type": "code",
   "execution_count": 33,
   "id": "0ad9f0f3",
   "metadata": {},
   "outputs": [],
   "source": [
    "# Sprawdzenie listy znajomych wybranego użytkownika\n",
    "# Wystarczy sprawdzić zawartośćjednego wiersza.\n",
    "friends_of_five = [i\n",
    "                   for i, is_friend in enumerate(friend_matrix[5])\n",
    "                   if is_friend]"
   ]
  },
  {
   "cell_type": "code",
   "execution_count": 34,
   "id": "4624b4c9",
   "metadata": {},
   "outputs": [
    {
     "data": {
      "text/plain": [
       "[4, 6, 7]"
      ]
     },
     "execution_count": 34,
     "metadata": {},
     "output_type": "execute_result"
    }
   ],
   "source": [
    "friends_of_five"
   ]
  },
  {
   "cell_type": "code",
   "execution_count": null,
   "id": "40738e41",
   "metadata": {},
   "outputs": [],
   "source": []
  }
 ],
 "metadata": {
  "kernelspec": {
   "display_name": "Python 3 (ipykernel)",
   "language": "python",
   "name": "python3"
  },
  "language_info": {
   "codemirror_mode": {
    "name": "ipython",
    "version": 3
   },
   "file_extension": ".py",
   "mimetype": "text/x-python",
   "name": "python",
   "nbconvert_exporter": "python",
   "pygments_lexer": "ipython3",
   "version": "3.10.9"
  }
 },
 "nbformat": 4,
 "nbformat_minor": 5
}
