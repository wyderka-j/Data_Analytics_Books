{
 "cells": [
  {
   "cell_type": "markdown",
   "id": "eb17463a",
   "metadata": {},
   "source": [
    "# Uczenie maszynowe"
   ]
  },
  {
   "cell_type": "markdown",
   "id": "c4c44932",
   "metadata": {},
   "source": [
    "### Modelowanie"
   ]
  },
  {
   "cell_type": "markdown",
   "id": "972f29df",
   "metadata": {},
   "source": [
    "Przykład: zbierasz pieniądze na uruchomienie własnego serwisu społecznościowego. \n",
    "\n",
    "Model biznesowy przyjmuje dane wejściowe, takie jak \"liczba użytkowników\", \"przychód z reklam na użytkownika\" i \"liczba pracowników\", a następnie zwraca roczne zyski generowane przez serwis w ciągu kilku kolejnych lat istnienia."
   ]
  },
  {
   "cell_type": "markdown",
   "id": "58596b2f",
   "metadata": {},
   "source": [
    "### Czym jest uczenie maszynowe"
   ]
  },
  {
   "cell_type": "markdown",
   "id": "63778752",
   "metadata": {},
   "source": [
    "Uczenie maszynowe jest procesem tworzenia i używania modeli, które uczą się na odstawie danych.\n",
    "\n",
    "Zwykle naszym celem będzie zastosowanie dostępnych danych do utworzenia modeli, które mogą być użyte do przewidzenia nowych danych, np:\n",
    "- przewidzenia, czy wiadomość e-mail jest spamem\n",
    "- przewidzenia, że transakcja wykonana kartą kredytową jest oszustwem\n",
    "- przewidzenia, którą reklamę kliknie klient\n",
    "\n",
    "Model nadzorowany - model uczy się na zbiorze danych zawierającym etykiety z poprawnymi odpowiedziami\n",
    "\n",
    "Model nienadzorowany - model nie ma dostępu do etykiet\n",
    "\n",
    "Model uczenia częściowo nadzorowanego - tylko niektóre elementy zbioru danych są opatrzone etykietami\n",
    "\n",
    "Model stale uczący sie - model musi dostosować się do stałego dopływu nowych danych\n",
    "\n",
    "Model uczenia przez wzmacnianie - model po serii przewisywań otrzymuje informację zwrotną na temat ich skuteczności"
   ]
  },
  {
   "cell_type": "markdown",
   "id": "86f4adb8",
   "metadata": {},
   "source": [
    "### Nadmierne i zbyt małe dopasowanie"
   ]
  },
  {
   "cell_type": "markdown",
   "id": "45b5490c",
   "metadata": {},
   "source": [
    "Nadmierne dopasowanie - wygenerowanie modelu, który doskonale sprawdza się na treningowym zbiorze danych, ale generuje słabe wyniki w przypadku nowych danych\n",
    "\n",
    "Zbyt słabe dopasowanie - wygenerowanie modelu, który daje kiepskie efekty nawet na teningowym zbiorze danych"
   ]
  },
  {
   "cell_type": "markdown",
   "id": "ca0dcd86",
   "metadata": {},
   "source": [
    "Np. dopasowanie wielomianów"
   ]
  },
  {
   "cell_type": "code",
   "execution_count": 1,
   "id": "454e37c4",
   "metadata": {},
   "outputs": [],
   "source": [
    "import random\n",
    "from typing import TypeVar, List, Tuple\n",
    "X = TypeVar('X')  # generyczny typ do reprezentowania punktów danych\n",
    "\n",
    "def split_data(data: List[X], prob: float) -> Tuple[List[X], List[X]]:\n",
    "    \"\"\"Podziel dane na zbiór treningowy i testowy.\"\"\"\n",
    "    data = data[:]                    # Zrób tzw. płytką kopię,\n",
    "    random.shuffle(data)              # ponieważ funkcja shuffle modyfikuje listę.\n",
    "    cut = int(len(data) * prob)       # Użyj parametru prob, aby znaleźć punkt podziału,\n",
    "    return data[:cut], data[cut:]     # i rozdziel listę w tym punkcie.\n",
    "\n",
    "data = [n for n in range(1000)]\n",
    "train, test = split_data(data, 0.75)"
   ]
  },
  {
   "cell_type": "code",
   "execution_count": 2,
   "id": "b3a8850e",
   "metadata": {},
   "outputs": [
    {
     "data": {
      "text/plain": [
       "750"
      ]
     },
     "execution_count": 2,
     "metadata": {},
     "output_type": "execute_result"
    }
   ],
   "source": [
    "# Proporcje powinny się zgadzać\n",
    "# len(train) == 750\n",
    "len(train)"
   ]
  },
  {
   "cell_type": "code",
   "execution_count": 3,
   "id": "56f09c73",
   "metadata": {},
   "outputs": [
    {
     "data": {
      "text/plain": [
       "250"
      ]
     },
     "execution_count": 3,
     "metadata": {},
     "output_type": "execute_result"
    }
   ],
   "source": [
    "# len(test) == 250\n",
    "len(test)"
   ]
  },
  {
   "cell_type": "code",
   "execution_count": 4,
   "id": "313ce0a7",
   "metadata": {},
   "outputs": [],
   "source": [
    "# A oryginalne dane powinny być zachowane (w odpowiednim porządku)\n",
    "assert sorted(train + test) == data"
   ]
  },
  {
   "cell_type": "markdown",
   "id": "7d4e6973",
   "metadata": {},
   "source": [
    "Np. Dysponujemy zmiennymi wejściowymi i zmiennymi wyjściowymi, które są sparowane. W takim przypadku należy upewnić się, że w zbiorze tranigowym i testowym znalazły sie odpowiadające sobie zmienne"
   ]
  },
  {
   "cell_type": "code",
   "execution_count": 5,
   "id": "d022cf91",
   "metadata": {},
   "outputs": [],
   "source": [
    "Y = TypeVar('Y')  # generyczny typ do reprezentacji danych wyjściowych\n",
    "\n",
    "def train_test_split(xs: List[X],\n",
    "                     ys: List[Y],\n",
    "                     test_pct: float) -> Tuple[List[X], List[X], List[Y], List[Y]]:\n",
    "    # Tworzy indeksy i rozdziela je.\n",
    "    idxs = [i for i in range(len(xs))]\n",
    "    train_idxs, test_idxs = split_data(idxs, 1 - test_pct)\n",
    "\n",
    "    return ([xs[i] for i in train_idxs],  # x_train\n",
    "            [xs[i] for i in test_idxs],   # x_test\n",
    "            [ys[i] for i in train_idxs],  # y_train\n",
    "            [ys[i] for i in test_idxs])   # y_test"
   ]
  },
  {
   "cell_type": "code",
   "execution_count": 6,
   "id": "08f368bb",
   "metadata": {},
   "outputs": [],
   "source": [
    "xs = [x for x in range(1000)]  # xs to wartości 1 … 1000\n",
    "ys = [2 * x for x in xs]       # każda wartość y_i to podwojona wartość x_i\n",
    "x_train, x_test, y_train, y_test = train_test_split(xs, ys, 0.25)"
   ]
  },
  {
   "cell_type": "code",
   "execution_count": 7,
   "id": "452473a2",
   "metadata": {},
   "outputs": [
    {
     "data": {
      "text/plain": [
       "True"
      ]
     },
     "execution_count": 7,
     "metadata": {},
     "output_type": "execute_result"
    }
   ],
   "source": [
    "# Sprawdzamy, czy proporcje się zgadzają\n",
    "#len(x_train) == len(y_train) == 750\n",
    "\n",
    "len(x_train) == len(y_train) == 750"
   ]
  },
  {
   "cell_type": "code",
   "execution_count": 8,
   "id": "859b4727",
   "metadata": {},
   "outputs": [
    {
     "data": {
      "text/plain": [
       "True"
      ]
     },
     "execution_count": 8,
     "metadata": {},
     "output_type": "execute_result"
    }
   ],
   "source": [
    "len(x_test) == len(y_test) == 250"
   ]
  },
  {
   "cell_type": "code",
   "execution_count": 9,
   "id": "c1a2688c",
   "metadata": {},
   "outputs": [],
   "source": [
    "# Sprawdzamy, czy odpowiednie punkty w danych są ze sobą sparowane \n",
    "assert all(y == 2 * x for x, y in zip(x_train, y_train))\n",
    "assert all(y == 2 * x for x, y in zip(x_test, y_test))"
   ]
  },
  {
   "cell_type": "markdown",
   "id": "ac1b6711",
   "metadata": {},
   "source": [
    "### Poprawność"
   ]
  },
  {
   "cell_type": "markdown",
   "id": "3bb1318c",
   "metadata": {},
   "source": [
    "Np. model generujący wartości binarne określające to, czy dany e-mail jest spamem. Dysponujemy zbiorem danych oznaczonych etykietami, możemy stwierdzić przynależność każdego wyniku przewidywania zwróconego przez model do jednej z czterech kategorii:\n",
    "- wynik prawdziwie pozytywny: \"ta wiadomość jest spamem i poprawnie to przewidzieliśmy\"\n",
    "- wynik fałszywie pozytywny (błąd typu 1): \"ta wiadomość nie jest spamem, ale według modelu miała być spamem\"\n",
    "- wynik fałszywie nagatywny (błąd typu 2): \"ta wiadomość jest spamem, ale według modelu miała nim nie być\"\n",
    "- wynik prawdziwie negatywny: \"ta wiadomość nie jest spamem i model przewidział to poprawnie\"\n",
    "\n",
    "Inny przykład: występowanie białaczki. Imię Luke nadawane jest ok 5 na 1000 nowo narodzonych dzieci. Na białaczkę w przeciągu życia choruje ok 1,4% populacji (14 na 1000 osób). Załóżmy, że te dwa czynniki są niezależne i przyjmijmy tezę, że \"Luke choruje na białaczkę\", to w przypadku przeprowadzenia testu na próbie miliona osób:\n",
    "\n",
    "                        białaczka         Brak białaczki       Suma\n",
    "    imię Luke             70                 4930             5000\n",
    "    imię inne niż Luke   13930              981070            995000\n",
    "    Suma                 14000              986000            1000000"
   ]
  },
  {
   "cell_type": "code",
   "execution_count": 10,
   "id": "a2b2320f",
   "metadata": {},
   "outputs": [],
   "source": [
    "# Dokładność\n",
    "def accuracy(tp: int, fp: int, fn: int, tn: int) -> float:\n",
    "    correct = tp + tn\n",
    "    total = tp + fp + fn + tn\n",
    "    return correct / total"
   ]
  },
  {
   "cell_type": "code",
   "execution_count": 11,
   "id": "feb1f7f3",
   "metadata": {},
   "outputs": [
    {
     "data": {
      "text/plain": [
       "0.98114"
      ]
     },
     "execution_count": 11,
     "metadata": {},
     "output_type": "execute_result"
    }
   ],
   "source": [
    "accuracy(70, 4930, 13930, 981070)"
   ]
  },
  {
   "cell_type": "code",
   "execution_count": 12,
   "id": "4b6a359b",
   "metadata": {},
   "outputs": [],
   "source": [
    "# Precyzja\n",
    "def precision(tp: int, fp: int, fn: int, tn: int) -> float:\n",
    "    return tp / (tp + fp)"
   ]
  },
  {
   "cell_type": "code",
   "execution_count": 13,
   "id": "e58ea7e4",
   "metadata": {},
   "outputs": [
    {
     "data": {
      "text/plain": [
       "0.014"
      ]
     },
     "execution_count": 13,
     "metadata": {},
     "output_type": "execute_result"
    }
   ],
   "source": [
    "precision(70, 4930, 13930, 981070)"
   ]
  },
  {
   "cell_type": "code",
   "execution_count": 14,
   "id": "248d24bc",
   "metadata": {},
   "outputs": [],
   "source": [
    "# współczynnik przewydywania\n",
    "def recall(tp: int, fp: int, fn: int, tn: int) -> float:\n",
    "    return tp / (tp + fn)"
   ]
  },
  {
   "cell_type": "code",
   "execution_count": 15,
   "id": "3fd9f8bb",
   "metadata": {},
   "outputs": [
    {
     "data": {
      "text/plain": [
       "0.005"
      ]
     },
     "execution_count": 15,
     "metadata": {},
     "output_type": "execute_result"
    }
   ],
   "source": [
    "recall(70, 4930, 13930, 981070)"
   ]
  },
  {
   "cell_type": "markdown",
   "id": "def6f09b",
   "metadata": {},
   "source": [
    "Współczynniki przyjmują niskie wartości, co świadczy o tym, że test jest kiepskim modelem."
   ]
  },
  {
   "cell_type": "code",
   "execution_count": 16,
   "id": "34d74195",
   "metadata": {},
   "outputs": [],
   "source": [
    "# Czasem precyzję i współczynnik przewidywania łączy się w miarę F1 - jest to średnia harmoniczna\n",
    "def f1_score(tp: int, fp: int, fn: int, tn: int) -> float:\n",
    "    p = precision(tp, fp, fn, tn)\n",
    "    r = recall(tp, fp, fn, tn)\n",
    "\n",
    "    return 2 * p * r / (p + r)"
   ]
  },
  {
   "cell_type": "code",
   "execution_count": null,
   "id": "66167ba4",
   "metadata": {},
   "outputs": [],
   "source": []
  }
 ],
 "metadata": {
  "kernelspec": {
   "display_name": "Python 3 (ipykernel)",
   "language": "python",
   "name": "python3"
  },
  "language_info": {
   "codemirror_mode": {
    "name": "ipython",
    "version": 3
   },
   "file_extension": ".py",
   "mimetype": "text/x-python",
   "name": "python",
   "nbconvert_exporter": "python",
   "pygments_lexer": "ipython3",
   "version": "3.10.9"
  }
 },
 "nbformat": 4,
 "nbformat_minor": 5
}
