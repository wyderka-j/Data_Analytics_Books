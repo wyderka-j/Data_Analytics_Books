{
 "cells": [
  {
   "cell_type": "markdown",
   "id": "e5c411f7",
   "metadata": {},
   "source": [
    "# Statystyka"
   ]
  },
  {
   "cell_type": "markdown",
   "id": "c4040746",
   "metadata": {},
   "source": [
    "### Opis pojedynczego zbioru danych"
   ]
  },
  {
   "cell_type": "code",
   "execution_count": 1,
   "id": "af09a6fa",
   "metadata": {},
   "outputs": [],
   "source": [
    "# Przykładowe dane\n",
    "num_friends = [100.0,49,41,40,25,21,21,19,19,18,18,16,15,15,15,15,14,14,13,13,13,13,12,12,11,10,10,10,10,10,10,10,10,10,10,10,10,10,10,10,9,9,9,9,9,9,9,9,9,9,9,9,9,9,9,9,9,9,8,8,8,8,8,8,8,8,8,8,8,8,8,7,7,7,7,7,7,7,7,7,7,7,7,7,7,7,6,6,6,6,6,6,6,6,6,6,6,6,6,6,6,6,6,6,6,6,6,6,5,5,5,5,5,5,5,5,5,5,5,5,5,5,5,5,5,4,4,4,4,4,4,4,4,4,4,4,4,4,4,4,4,4,4,4,4,3,3,3,3,3,3,3,3,3,3,3,3,3,3,3,3,3,3,3,3,2,2,2,2,2,2,2,2,2,2,2,2,2,2,2,2,2,1,1,1,1,1,1,1,1,1,1,1,1,1,1,1,1,1,1,1,1,1,1]"
   ]
  },
  {
   "cell_type": "code",
   "execution_count": 2,
   "id": "a69320a6",
   "metadata": {},
   "outputs": [
    {
     "data": {
      "image/png": "[encoded data removed]",
      "text/plain": [
       "<Figure size 640x480 with 1 Axes>"
      ]
     },
     "metadata": {},
     "output_type": "display_data"
    }
   ],
   "source": [
    "# Liczba znajomych przedstawiona na histogramie\n",
    "from collections import Counter\n",
    "import matplotlib.pyplot as plt\n",
    "\n",
    "friend_counts = Counter(num_friends)\n",
    "xs = range(101)                         # Najwyższa wartość to 100.\n",
    "ys = [friend_counts[x] for x in xs]     # Wysokość słupków odzwierciedla liczbę znajomych.\n",
    "plt.bar(xs, ys)\n",
    "plt.axis([0, 101, 0, 25])\n",
    "plt.title(\"Histogram liczby znajomych\")\n",
    "plt.xlabel(\"Liczba znajomych\")\n",
    "plt.ylabel(\"Liczba uzytkownikow\")\n",
    "plt.show()"
   ]
  },
  {
   "cell_type": "code",
   "execution_count": 3,
   "id": "4b399022",
   "metadata": {},
   "outputs": [
    {
     "data": {
      "text/plain": [
       "204"
      ]
     },
     "execution_count": 3,
     "metadata": {},
     "output_type": "execute_result"
    }
   ],
   "source": [
    "# Liczba elementów zbioru danych\n",
    "num_points = len(num_friends)               # 204\n",
    "num_points "
   ]
  },
  {
   "cell_type": "code",
   "execution_count": 4,
   "id": "3cffa9f2",
   "metadata": {},
   "outputs": [
    {
     "data": {
      "text/plain": [
       "1"
      ]
     },
     "execution_count": 4,
     "metadata": {},
     "output_type": "execute_result"
    }
   ],
   "source": [
    "# Wartość najniższa\n",
    "smallest_value = min(num_friends)           # 1\n",
    "smallest_value "
   ]
  },
  {
   "cell_type": "code",
   "execution_count": 5,
   "id": "e79e57f8",
   "metadata": {},
   "outputs": [
    {
     "data": {
      "text/plain": [
       "100.0"
      ]
     },
     "execution_count": 5,
     "metadata": {},
     "output_type": "execute_result"
    }
   ],
   "source": [
    "# Wartość najwyższa\n",
    "largest_value = max(num_friends)            # 100\n",
    "largest_value "
   ]
  },
  {
   "cell_type": "code",
   "execution_count": 6,
   "id": "8dbcf70f",
   "metadata": {},
   "outputs": [],
   "source": [
    "# Posortowanie danych\n",
    "sorted_values = sorted(num_friends)"
   ]
  },
  {
   "cell_type": "code",
   "execution_count": 7,
   "id": "53438315",
   "metadata": {},
   "outputs": [
    {
     "data": {
      "text/plain": [
       "1"
      ]
     },
     "execution_count": 7,
     "metadata": {},
     "output_type": "execute_result"
    }
   ],
   "source": [
    "smallest_value = sorted_values[0]           # 1\n",
    "smallest_value"
   ]
  },
  {
   "cell_type": "code",
   "execution_count": 8,
   "id": "d290af9a",
   "metadata": {},
   "outputs": [
    {
     "data": {
      "text/plain": [
       "1"
      ]
     },
     "execution_count": 8,
     "metadata": {},
     "output_type": "execute_result"
    }
   ],
   "source": [
    "second_smallest_value = sorted_values[1]    # 1\n",
    "second_smallest_value "
   ]
  },
  {
   "cell_type": "code",
   "execution_count": 9,
   "id": "ceeff750",
   "metadata": {},
   "outputs": [
    {
     "data": {
      "text/plain": [
       "49"
      ]
     },
     "execution_count": 9,
     "metadata": {},
     "output_type": "execute_result"
    }
   ],
   "source": [
    "second_largest_value = sorted_values[-2]    # 49\n",
    "second_largest_value "
   ]
  },
  {
   "cell_type": "markdown",
   "id": "5c461a90",
   "metadata": {},
   "source": [
    "### Tendencje centralne"
   ]
  },
  {
   "cell_type": "code",
   "execution_count": 10,
   "id": "b50d46ea",
   "metadata": {},
   "outputs": [
    {
     "data": {
      "text/plain": [
       "7.333333333333333"
      ]
     },
     "execution_count": 10,
     "metadata": {},
     "output_type": "execute_result"
    }
   ],
   "source": [
    "# Średnia\n",
    "from typing import List\n",
    "\n",
    "def mean(xs: List[float]) -> float:\n",
    "    return sum(xs) / len(xs)\n",
    "\n",
    "mean(num_friends)   # 7.333333"
   ]
  },
  {
   "cell_type": "code",
   "execution_count": 11,
   "id": "dd62483e",
   "metadata": {},
   "outputs": [],
   "source": [
    "assert 7.3333 < mean(num_friends) < 7.3334"
   ]
  },
  {
   "cell_type": "code",
   "execution_count": 12,
   "id": "2444f2c1",
   "metadata": {},
   "outputs": [],
   "source": [
    "# Mediana\n",
    "\n",
    "# podkreślenie w nazwie oznacza, że jest to funkcja \"prywatna\";\n",
    "# zakładamy, że będzie ona wywoływana tylko przez funkcję median,\n",
    "# a nie bezpośrednio przez użytkowników\n",
    "def _median_odd(xs: List[float]) -> float:\n",
    "    \"\"\"Jeżeli len(xs) jest nieparzyste, to mediana jest środkowym elementem.\"\"\"\n",
    "    return sorted(xs)[len(xs) // 2]\n",
    "\n",
    "def _median_even(xs: List[float]) -> float:\n",
    "    \"\"\"Jeżeli len(xs) jest parzyste, to mediana jest średnią dwóch środkowych elementów.\"\"\"\n",
    "    sorted_xs = sorted(xs)\n",
    "    hi_midpoint = len(xs) // 2  # np. dla długości = 4 hi_midpoint = 2\n",
    "    return (sorted_xs[hi_midpoint - 1] + sorted_xs[hi_midpoint]) / 2\n",
    "\n",
    "def median(v: List[float]) -> float:\n",
    "    \"\"\"Zwraca medianę wektora v\"\"\"\n",
    "    return _median_even(v) if len(v) % 2 == 0 else _median_odd(v)"
   ]
  },
  {
   "cell_type": "code",
   "execution_count": 13,
   "id": "271c758a",
   "metadata": {},
   "outputs": [
    {
     "data": {
      "text/plain": [
       "5"
      ]
     },
     "execution_count": 13,
     "metadata": {},
     "output_type": "execute_result"
    }
   ],
   "source": [
    "median([1, 10, 2, 9, 5])"
   ]
  },
  {
   "cell_type": "code",
   "execution_count": 14,
   "id": "0e32883c",
   "metadata": {},
   "outputs": [
    {
     "data": {
      "text/plain": [
       "5.5"
      ]
     },
     "execution_count": 14,
     "metadata": {},
     "output_type": "execute_result"
    }
   ],
   "source": [
    "median([1, 9, 2, 10])"
   ]
  },
  {
   "cell_type": "code",
   "execution_count": 15,
   "id": "5304dbad",
   "metadata": {},
   "outputs": [
    {
     "data": {
      "text/plain": [
       "6.0"
      ]
     },
     "execution_count": 15,
     "metadata": {},
     "output_type": "execute_result"
    }
   ],
   "source": [
    "# Mediana liczby znajomych\n",
    "median(num_friends)"
   ]
  },
  {
   "cell_type": "code",
   "execution_count": 16,
   "id": "7e1829b5",
   "metadata": {},
   "outputs": [],
   "source": [
    "# Kwantyl - reprezentuje wartości mniejsze od tej, do której należy określony percentyl dancyh (mediana reprezentuje wartość \n",
    "# mniejszą od 50% danych)\n",
    "def quantile(xs: List[float], p: float) -> float:\n",
    "    \"\"\"Zwraca ze zbioru x wartość będącą p-tym percentylem.\"\"\"\n",
    "    p_index = int(p * len(xs))\n",
    "    return sorted(xs)[p_index]"
   ]
  },
  {
   "cell_type": "code",
   "execution_count": 17,
   "id": "3e7cae64",
   "metadata": {},
   "outputs": [
    {
     "data": {
      "text/plain": [
       "1"
      ]
     },
     "execution_count": 17,
     "metadata": {},
     "output_type": "execute_result"
    }
   ],
   "source": [
    "quantile(num_friends, 0.10)"
   ]
  },
  {
   "cell_type": "code",
   "execution_count": 18,
   "id": "5ea4624c",
   "metadata": {},
   "outputs": [
    {
     "data": {
      "text/plain": [
       "3"
      ]
     },
     "execution_count": 18,
     "metadata": {},
     "output_type": "execute_result"
    }
   ],
   "source": [
    "quantile(num_friends, 0.25)"
   ]
  },
  {
   "cell_type": "code",
   "execution_count": 19,
   "id": "ff6423ac",
   "metadata": {},
   "outputs": [
    {
     "data": {
      "text/plain": [
       "9"
      ]
     },
     "execution_count": 19,
     "metadata": {},
     "output_type": "execute_result"
    }
   ],
   "source": [
    "quantile(num_friends, 0.75)"
   ]
  },
  {
   "cell_type": "code",
   "execution_count": 20,
   "id": "40b65218",
   "metadata": {},
   "outputs": [
    {
     "data": {
      "text/plain": [
       "13"
      ]
     },
     "execution_count": 20,
     "metadata": {},
     "output_type": "execute_result"
    }
   ],
   "source": [
    "quantile(num_friends, 0.90)"
   ]
  },
  {
   "cell_type": "code",
   "execution_count": 21,
   "id": "54936538",
   "metadata": {},
   "outputs": [],
   "source": [
    "# Dominanta\n",
    "def mode(x: List[float]) -> List[float]:\n",
    "    \"\"\"Zwraca listę. Zbiór może zawierać więcej niż jedną dominantę.\"\"\"\n",
    "    counts = Counter(x)\n",
    "    max_count = max(counts.values())\n",
    "    return [x_i for x_i, count in counts.items()\n",
    "            if count == max_count]"
   ]
  },
  {
   "cell_type": "code",
   "execution_count": 22,
   "id": "8ee53274",
   "metadata": {},
   "outputs": [
    {
     "data": {
      "text/plain": [
       "{1, 6}"
      ]
     },
     "execution_count": 22,
     "metadata": {},
     "output_type": "execute_result"
    }
   ],
   "source": [
    "set(mode(num_friends))"
   ]
  },
  {
   "cell_type": "markdown",
   "id": "e466d03a",
   "metadata": {},
   "source": [
    "### Dyspersja"
   ]
  },
  {
   "cell_type": "markdown",
   "id": "d6b4d076",
   "metadata": {},
   "source": [
    "Dyspersja określa rozrzut danych (ich zróżnicowanie). Zazwyczaj w parametrach statystycznych wartości zbliżone do zera oznaczają \"praktyczny brak rozrzutu\", a duże wartości oznaczają \"duży rozrzut\". "
   ]
  },
  {
   "cell_type": "code",
   "execution_count": 23,
   "id": "b533d1cb",
   "metadata": {},
   "outputs": [],
   "source": [
    "# Zakres - różnica pomiędzy najwyższa i najmniejszą wartością\n",
    "# W Pythonie występuje już słowo kluczowe range, a więc skorzystamy z innej nazwy.\n",
    "def data_range(xs: List[float]) -> float:\n",
    "    return max(xs) - min(xs)"
   ]
  },
  {
   "cell_type": "code",
   "execution_count": 24,
   "id": "ae5bda6a",
   "metadata": {},
   "outputs": [
    {
     "data": {
      "text/plain": [
       "99.0"
      ]
     },
     "execution_count": 24,
     "metadata": {},
     "output_type": "execute_result"
    }
   ],
   "source": [
    "data_range(num_friends)"
   ]
  },
  {
   "cell_type": "markdown",
   "id": "a0410254",
   "metadata": {},
   "source": [
    "Wariancja określa odchylenie pojedynczej zmiennej od średniej"
   ]
  },
  {
   "cell_type": "code",
   "execution_count": 25,
   "id": "8a32ff34",
   "metadata": {},
   "outputs": [],
   "source": [
    "from typing import List\n",
    "\n",
    "Vector = List[float]\n",
    "\n",
    "def sum_of_squares(v: Vector) -> float:\n",
    "    \"\"\"Returns v_1 * v_1 + ... + v_n * v_n\"\"\"\n",
    "    return dot(v, v)"
   ]
  },
  {
   "cell_type": "code",
   "execution_count": 26,
   "id": "98306725",
   "metadata": {},
   "outputs": [],
   "source": [
    "def dot(v: Vector, w: Vector) -> float:\n",
    "    \"\"\"Computes v_1 * w_1 + ... + v_n * w_n\"\"\"\n",
    "    assert len(v) == len(w), \"vectors must be same length\"\n",
    "\n",
    "    return sum(v_i * w_i for v_i, w_i in zip(v, w))"
   ]
  },
  {
   "cell_type": "code",
   "execution_count": 27,
   "id": "b34ae948",
   "metadata": {},
   "outputs": [],
   "source": [
    "# Wariancja\n",
    "\n",
    "def de_mean(xs: List[float]) -> List[float]:\n",
    "    \"\"\"Przekształca x poprzez odjęcie średniej.\"\"\"\n",
    "    x_bar = mean(xs)\n",
    "    return [x - x_bar for x in xs]\n",
    "\n",
    "def variance(xs: List[float]) -> float:\n",
    "    \"\"\"Prawie jak średnie odchylenie kwadratowe od średniej.\"\"\"\n",
    "    assert len(xs) >= 2, \"wariancja wymaga co najmniej dwóch elementów\"\n",
    "\n",
    "    n = len(xs)\n",
    "    deviations = de_mean(xs)\n",
    "    return sum_of_squares(deviations) / (n - 1) "
   ]
  },
  {
   "cell_type": "code",
   "execution_count": 28,
   "id": "a65b7420",
   "metadata": {},
   "outputs": [
    {
     "data": {
      "text/plain": [
       "81.54351395730716"
      ]
     },
     "execution_count": 28,
     "metadata": {},
     "output_type": "execute_result"
    }
   ],
   "source": [
    "variance(num_friends)"
   ]
  },
  {
   "cell_type": "code",
   "execution_count": 29,
   "id": "7b14f766",
   "metadata": {},
   "outputs": [],
   "source": [
    "# Odchylenie standardowe\n",
    "import math\n",
    "\n",
    "def standard_deviation(xs: List[float]) -> float:\n",
    "    \"\"\"Odchylenie standardowe jest pierwiastkiem kwadratowym wariancji.\"\"\"\n",
    "    return math.sqrt(variance(xs))"
   ]
  },
  {
   "cell_type": "code",
   "execution_count": 30,
   "id": "85675b70",
   "metadata": {},
   "outputs": [
    {
     "data": {
      "text/plain": [
       "9.03014473623248"
      ]
     },
     "execution_count": 30,
     "metadata": {},
     "output_type": "execute_result"
    }
   ],
   "source": [
    "standard_deviation(num_friends)"
   ]
  },
  {
   "cell_type": "code",
   "execution_count": 31,
   "id": "7ae456a2",
   "metadata": {},
   "outputs": [],
   "source": [
    "assert 9.02 < standard_deviation(num_friends) < 9.04"
   ]
  },
  {
   "cell_type": "code",
   "execution_count": 32,
   "id": "a213b84d",
   "metadata": {},
   "outputs": [],
   "source": [
    "# Różnica pomiędzy 75. i 25. percentylem\n",
    "def interquartile_range(xs: List[float]) -> float:\n",
    "    \"\"\"Zwraca różnicę między 25 a 75 percentylem\"\"\"\n",
    "    return quantile(xs, 0.75) - quantile(xs, 0.25)"
   ]
  },
  {
   "cell_type": "code",
   "execution_count": 33,
   "id": "504476fe",
   "metadata": {},
   "outputs": [
    {
     "data": {
      "text/plain": [
       "6"
      ]
     },
     "execution_count": 33,
     "metadata": {},
     "output_type": "execute_result"
    }
   ],
   "source": [
    "interquartile_range(num_friends)"
   ]
  },
  {
   "cell_type": "markdown",
   "id": "99bb4da7",
   "metadata": {},
   "source": [
    "### Korelacja"
   ]
  },
  {
   "cell_type": "code",
   "execution_count": 34,
   "id": "0257c5e2",
   "metadata": {},
   "outputs": [],
   "source": [
    "# Kowariancja mmierzy jak dwie zmienne różnią się łacznie od swoich średnich\n",
    "daily_minutes = [1,68.77,51.25,52.08,38.36,44.54,57.13,51.4,41.42,31.22,34.76,54.01,38.79,47.59,49.1,27.66,41.03,36.73,48.65,28.12,46.62,35.57,32.98,35,26.07,23.77,39.73,40.57,31.65,31.21,36.32,20.45,21.93,26.02,27.34,23.49,46.94,30.5,33.8,24.23,21.4,27.94,32.24,40.57,25.07,19.42,22.39,18.42,46.96,23.72,26.41,26.97,36.76,40.32,35.02,29.47,30.2,31,38.11,38.18,36.31,21.03,30.86,36.07,28.66,29.08,37.28,15.28,24.17,22.31,30.17,25.53,19.85,35.37,44.6,17.23,13.47,26.33,35.02,32.09,24.81,19.33,28.77,24.26,31.98,25.73,24.86,16.28,34.51,15.23,39.72,40.8,26.06,35.76,34.76,16.13,44.04,18.03,19.65,32.62,35.59,39.43,14.18,35.24,40.13,41.82,35.45,36.07,43.67,24.61,20.9,21.9,18.79,27.61,27.21,26.61,29.77,20.59,27.53,13.82,33.2,25,33.1,36.65,18.63,14.87,22.2,36.81,25.53,24.62,26.25,18.21,28.08,19.42,29.79,32.8,35.99,28.32,27.79,35.88,29.06,36.28,14.1,36.63,37.49,26.9,18.58,38.48,24.48,18.95,33.55,14.24,29.04,32.51,25.63,22.22,19,32.73,15.16,13.9,27.2,32.01,29.27,33,13.74,20.42,27.32,18.23,35.35,28.48,9.08,24.62,20.12,35.26,19.92,31.02,16.49,12.16,30.7,31.22,34.65,13.13,27.51,33.2,31.57,14.1,33.42,17.44,10.12,24.42,9.82,23.39,30.93,15.03,21.67,31.09,33.29,22.61,26.89,23.48,8.38,27.81,32.35,23.84]\n",
    "\n",
    "daily_hours = [dm / 60 for dm in daily_minutes]"
   ]
  },
  {
   "cell_type": "code",
   "execution_count": 35,
   "id": "d1346087",
   "metadata": {},
   "outputs": [],
   "source": [
    "def covariance(xs: List[float], ys: List[float]) -> float:\n",
    "    assert len(xs) == len(ys), \"xs i ys muszą mieć taką samą liczbę elementów\"\n",
    "\n",
    "    return dot(de_mean(xs), de_mean(ys)) / (len(xs) - 1)"
   ]
  },
  {
   "cell_type": "code",
   "execution_count": 36,
   "id": "583f14b6",
   "metadata": {},
   "outputs": [
    {
     "data": {
      "text/plain": [
       "22.425435139573064"
      ]
     },
     "execution_count": 36,
     "metadata": {},
     "output_type": "execute_result"
    }
   ],
   "source": [
    "covariance(num_friends, daily_minutes)"
   ]
  },
  {
   "cell_type": "code",
   "execution_count": 37,
   "id": "081cdc0e",
   "metadata": {},
   "outputs": [
    {
     "data": {
      "text/plain": [
       "0.37375725232621776"
      ]
     },
     "execution_count": 37,
     "metadata": {},
     "output_type": "execute_result"
    }
   ],
   "source": [
    "covariance(num_friends, daily_hours)"
   ]
  },
  {
   "cell_type": "code",
   "execution_count": 38,
   "id": "fbc78c80",
   "metadata": {},
   "outputs": [],
   "source": [
    "assert 22.42 < covariance(num_friends, daily_minutes) < 22.43\n",
    "assert 22.42 / 60 < covariance(num_friends, daily_hours) < 22.43 / 60"
   ]
  },
  {
   "cell_type": "code",
   "execution_count": 39,
   "id": "017e5da1",
   "metadata": {},
   "outputs": [],
   "source": [
    "# Korelacja\n",
    "def correlation(xs: List[float], ys: List[float]) -> float:\n",
    "    \"\"\"Mierzy, jak bardzo xs i ys różnią się łącznie od swoich średnich\"\"\"\n",
    "    stdev_x = standard_deviation(xs)\n",
    "    stdev_y = standard_deviation(ys)\n",
    "    if stdev_x > 0 and stdev_y > 0:\n",
    "        return covariance(xs, ys) / stdev_x / stdev_y\n",
    "    else:\n",
    "        return 0    # Przy braku wariancji korelacja jest zerowa."
   ]
  },
  {
   "cell_type": "code",
   "execution_count": 40,
   "id": "b4a1e218",
   "metadata": {},
   "outputs": [
    {
     "data": {
      "text/plain": [
       "0.24736957366478218"
      ]
     },
     "execution_count": 40,
     "metadata": {},
     "output_type": "execute_result"
    }
   ],
   "source": [
    "correlation(num_friends, daily_minutes)"
   ]
  },
  {
   "cell_type": "code",
   "execution_count": 41,
   "id": "ea242857",
   "metadata": {},
   "outputs": [
    {
     "data": {
      "text/plain": [
       "0.24736957366478196"
      ]
     },
     "execution_count": 41,
     "metadata": {},
     "output_type": "execute_result"
    }
   ],
   "source": [
    "correlation(num_friends, daily_hours) "
   ]
  },
  {
   "cell_type": "code",
   "execution_count": 42,
   "id": "81b50836",
   "metadata": {},
   "outputs": [],
   "source": [
    "assert 0.24 < correlation(num_friends, daily_minutes) < 0.25\n",
    "assert 0.24 < correlation(num_friends, daily_hours) < 0.25"
   ]
  },
  {
   "cell_type": "code",
   "execution_count": 43,
   "id": "ca43e165",
   "metadata": {},
   "outputs": [],
   "source": [
    "# Zignorowanie osoby która ma 100 znajomych, która dziennie spędza w serwisie tylko minutę\n",
    "outlier = num_friends.index(100)    # index of outlier\n",
    "\n",
    "num_friends_good = [x\n",
    "                    for i, x in enumerate(num_friends)\n",
    "                    if i != outlier]\n",
    "\n",
    "daily_minutes_good = [x\n",
    "                      for i, x in enumerate(daily_minutes)\n",
    "                      if i != outlier]\n",
    "\n",
    "daily_hours_good = [dm / 60 for dm in daily_minutes_good]\n"
   ]
  },
  {
   "cell_type": "code",
   "execution_count": 44,
   "id": "4df46502",
   "metadata": {},
   "outputs": [
    {
     "data": {
      "text/plain": [
       "0.5736792115665573"
      ]
     },
     "execution_count": 44,
     "metadata": {},
     "output_type": "execute_result"
    }
   ],
   "source": [
    "correlation(num_friends_good, daily_minutes_good)"
   ]
  },
  {
   "cell_type": "code",
   "execution_count": 45,
   "id": "d17dcdf5",
   "metadata": {},
   "outputs": [
    {
     "data": {
      "text/plain": [
       "0.5736792115665579"
      ]
     },
     "execution_count": 45,
     "metadata": {},
     "output_type": "execute_result"
    }
   ],
   "source": [
    "correlation(num_friends_good, daily_hours_good)"
   ]
  },
  {
   "cell_type": "code",
   "execution_count": 46,
   "id": "a2481e31",
   "metadata": {},
   "outputs": [],
   "source": [
    "assert 0.57 < correlation(num_friends_good, daily_minutes_good) < 0.58\n",
    "assert 0.57 < correlation(num_friends_good, daily_hours_good) < 0.58"
   ]
  },
  {
   "cell_type": "code",
   "execution_count": null,
   "id": "f2597d93",
   "metadata": {},
   "outputs": [],
   "source": []
  }
 ],
 "metadata": {
  "kernelspec": {
   "display_name": "Python 3 (ipykernel)",
   "language": "python",
   "name": "python3"
  },
  "language_info": {
   "codemirror_mode": {
    "name": "ipython",
    "version": 3
   },
   "file_extension": ".py",
   "mimetype": "text/x-python",
   "name": "python",
   "nbconvert_exporter": "python",
   "pygments_lexer": "ipython3",
   "version": "3.10.9"
  }
 },
 "nbformat": 4,
 "nbformat_minor": 5
}
