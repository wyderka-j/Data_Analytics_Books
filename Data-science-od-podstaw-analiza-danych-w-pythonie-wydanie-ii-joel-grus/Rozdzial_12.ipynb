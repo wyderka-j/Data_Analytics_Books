{
 "cells": [
  {
   "cell_type": "markdown",
   "id": "1fbf3c1b",
   "metadata": {},
   "source": [
    "# Algorytm k najbliższych sąsiadów"
   ]
  },
  {
   "cell_type": "markdown",
   "id": "a78a8f06",
   "metadata": {},
   "source": [
    "### Model"
   ]
  },
  {
   "cell_type": "markdown",
   "id": "c53f6066",
   "metadata": {},
   "source": [
    "Model najbliższych sąsiadów to najprostrzy istniejący model predyktywny. Wymago on jedynie:\n",
    "- miar odległości\n",
    "- założenia, że punkty znajdujące się bliżej siebie są do siebie bardziej podobne\n",
    "\n",
    "Załóżmy, że wybraliśmy wartość k równą np. 3 lub 5 i chcemy dokonać klasyfikacji nowych obserwacji - znaleźć k najbliższych elementów zbioru danych, oznaczonych etykietami i na ich podstawie ustalić etykietę nowej obserwacji.\n",
    "\n",
    "W tym celu potrzebujemy funkcji liczącej głosy."
   ]
  },
  {
   "cell_type": "code",
   "execution_count": 1,
   "id": "f9246ad5",
   "metadata": {},
   "outputs": [],
   "source": [
    "from typing import List\n",
    "from collections import Counter\n",
    "\n",
    "def raw_majority_vote(labels: List[str]) -> str:\n",
    "    votes = Counter(labels)\n",
    "    winner, _ = votes.most_common(1)[0]\n",
    "    return winner\n",
    "\n",
    "assert raw_majority_vote(['a', 'b', 'c', 'b']) == 'b'"
   ]
  },
  {
   "cell_type": "markdown",
   "id": "1c0cfe92",
   "metadata": {},
   "source": [
    "Załóżmy, że określamy kategorię wiekową filmów i pięciu najbliższym filmom nadano kategorie G, G, PG, PG i R. Mamy więc dwa głosy na kategorię G i dwa głosy na PG. W takim przypadku możemy skorzystać z kilku rozwiązań:\n",
    "- wybrać zwycięzcę w sposób losowy\n",
    "- określić wagi głosów na podstawie odległości i wybra zwycięzcę na podstawie wagi\n",
    "- zmniejszać wartość parametru k aż do jednoznacznego określenia zwycięzcy.\n",
    "\n",
    "Trzecie rozwiązanie:"
   ]
  },
  {
   "cell_type": "code",
   "execution_count": 2,
   "id": "fa17dc26",
   "metadata": {},
   "outputs": [
    {
     "data": {
      "text/plain": [
       "'b'"
      ]
     },
     "execution_count": 2,
     "metadata": {},
     "output_type": "execute_result"
    }
   ],
   "source": [
    "def majority_vote(labels: List[str]) -> str:\n",
    "    \"\"\"Funkcja zakłada, że etykiety są ustawione w kolejności od najbliższej do najdalszej.\"\"\"\n",
    "    vote_counts = Counter(labels)\n",
    "    winner, winner_count = vote_counts.most_common(1)[0]\n",
    "    num_winners = len([count\n",
    "                       for count in vote_counts.values()\n",
    "                       if count == winner_count])\n",
    "\n",
    "    if num_winners == 1:\n",
    "        return winner                     # Ustalono jednoznacznie zwycięzcę. Zwróć go.\n",
    "    else:\n",
    "        return majority_vote(labels[:-1]) # Odrzuć najdalszą obserwację i spróbuj ponownie.\n",
    "\n",
    "majority_vote(['a', 'b', 'c', 'b', 'a'])"
   ]
  },
  {
   "cell_type": "code",
   "execution_count": 3,
   "id": "49d731ea",
   "metadata": {},
   "outputs": [],
   "source": [
    "# Remis, więc patrzymy na pierwsze 4 i powinno wyjść 'b'\n",
    "assert majority_vote(['a', 'b', 'c', 'b', 'a']) == 'b'"
   ]
  },
  {
   "cell_type": "code",
   "execution_count": 4,
   "id": "b8ab32d4",
   "metadata": {},
   "outputs": [],
   "source": [
    "# klasyfikator\n",
    "\n",
    "from typing import List\n",
    "\n",
    "Vector = List[float]\n",
    "\n",
    "# Moduł wektora\n",
    "import math\n",
    "\n",
    "def magnitude(v: Vector) -> float:\n",
    "    \"\"\"Zwraca moduł (długość) wektora v\"\"\"\n",
    "    return math.sqrt(sum_of_squares(v))   # Funkcja math.sqrt oblicza wartość pierwiastka kwadratowego.\n",
    "\n",
    "# Odległości pomiędzy dwoma wektorami\n",
    "def squared_distance(v: Vector, w: Vector) -> float:\n",
    "    \"\"\"Oblicza (v_1 - w_1) ** 2 + ... + (v_n - w_n) ** 2\"\"\"\n",
    "    return sum_of_squares(subtract(v, w))\n",
    "\n",
    "def distance(v: Vector, w: Vector) -> float:\n",
    "    \"\"\"Oblicza odległość pomiędzy v i w\"\"\"\n",
    "    return math.sqrt(squared_distance(v, w))\n",
    "\n",
    "def distance(v: Vector, w: Vector) -> float:  # type: ignore\n",
    "    return magnitude(subtract(v, w))"
   ]
  },
  {
   "cell_type": "code",
   "execution_count": 5,
   "id": "80a5f10c",
   "metadata": {},
   "outputs": [],
   "source": [
    "from typing import NamedTuple\n",
    "class LabeledPoint(NamedTuple):\n",
    "    point: Vector\n",
    "    label: str\n",
    "\n",
    "def knn_classify(k: int,\n",
    "                 labeled_points: List[LabeledPoint],\n",
    "                 new_point: Vector) -> str:\n",
    "\n",
    "    # Ustaw punkty oznaczone etykietami w kolejności od najbliższego do najdalszego.\n",
    "    by_distance = sorted(labeled_points,\n",
    "                         key=lambda lp: distance(lp.point, new_point))\n",
    "\n",
    "    # Ustal etykiety k najbliższych punktów.\n",
    "    k_nearest_labels = [lp.label for lp in by_distance[:k]]\n",
    "\n",
    "    # Wybierz zwycięzcę na podstawie tych etykiet.\n",
    "    return majority_vote(k_nearest_labels)"
   ]
  },
  {
   "cell_type": "code",
   "execution_count": null,
   "id": "dd8ac07f",
   "metadata": {},
   "outputs": [],
   "source": []
  }
 ],
 "metadata": {
  "kernelspec": {
   "display_name": "Python 3 (ipykernel)",
   "language": "python",
   "name": "python3"
  },
  "language_info": {
   "codemirror_mode": {
    "name": "ipython",
    "version": 3
   },
   "file_extension": ".py",
   "mimetype": "text/x-python",
   "name": "python",
   "nbconvert_exporter": "python",
   "pygments_lexer": "ipython3",
   "version": "3.10.9"
  }
 },
 "nbformat": 4,
 "nbformat_minor": 5
}
