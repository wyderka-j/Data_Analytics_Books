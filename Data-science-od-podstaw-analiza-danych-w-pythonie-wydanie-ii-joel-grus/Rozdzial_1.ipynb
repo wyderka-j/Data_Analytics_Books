{
 "cells": [
  {
   "cell_type": "markdown",
   "id": "89ece397",
   "metadata": {},
   "source": [
    "# Rozdział 1 Wprowadzenie"
   ]
  },
  {
   "cell_type": "markdown",
   "id": "1754705c",
   "metadata": {},
   "source": [
    "#### Określanie najważniejszych węzłów "
   ]
  },
  {
   "cell_type": "code",
   "execution_count": 1,
   "id": "edf1085d",
   "metadata": {},
   "outputs": [],
   "source": [
    "# Zrzut sieci użytkowników serwisu DataSciencester\n",
    "\n",
    "# lista użytkowników\n",
    "users = [\n",
    "    { \"id\": 0, \"name\": \"Hero\" },\n",
    "    { \"id\": 1, \"name\": \"Dunn\" },\n",
    "    { \"id\": 2, \"name\": \"Sue\" },\n",
    "    { \"id\": 3, \"name\": \"Chi\" },\n",
    "    { \"id\": 4, \"name\": \"Thor\" },\n",
    "    { \"id\": 5, \"name\": \"Clive\" },\n",
    "    { \"id\": 6, \"name\": \"Hicks\" },\n",
    "    { \"id\": 7, \"name\": \"Devin\" },\n",
    "    { \"id\": 8, \"name\": \"Kate\" },\n",
    "    { \"id\": 9, \"name\": \"Klein\" }\n",
    "]"
   ]
  },
  {
   "cell_type": "code",
   "execution_count": 2,
   "id": "79e42c15",
   "metadata": {},
   "outputs": [],
   "source": [
    "# dane znajomości - zbiór połączonych w pary identyfikatorów osób, które się nawzajem znają\n",
    "friendship_pairs = [(0, 1), (0, 2), (1, 2), (1, 3), (2, 3), (3, 4),\n",
    "                    (4, 5), (5, 6), (5, 7), (6, 8), (7, 8), (8, 9)]"
   ]
  },
  {
   "cell_type": "code",
   "execution_count": 3,
   "id": "58b4a6e9",
   "metadata": {},
   "outputs": [],
   "source": [
    "# Utworzenie słownika, którego kluczami bęfą identyfikatory użytkowników, a wartościami listy identyfikatorów ich znajomych\n",
    "\n",
    "# Inicjalizowanie słownika pustymi listami dla każdego użytkownika:\n",
    "friendships = {user[\"id\"]: [] for user in users}"
   ]
  },
  {
   "cell_type": "code",
   "execution_count": 4,
   "id": "81e8dc66",
   "metadata": {},
   "outputs": [],
   "source": [
    "# Zapełnienie słownika danymi z wszystkich par znajomości\n",
    "for i, j in friendship_pairs:\n",
    "    friendships[i].append(j)  # dodaje j do listy przyjaciół i\n",
    "    friendships[j].append(i)  # dodaje i do listy przyjaciół j"
   ]
  },
  {
   "cell_type": "code",
   "execution_count": 5,
   "id": "33216478",
   "metadata": {},
   "outputs": [
    {
     "data": {
      "text/plain": [
       "{0: [1, 2],\n",
       " 1: [0, 2, 3],\n",
       " 2: [0, 1, 3],\n",
       " 3: [1, 2, 4],\n",
       " 4: [3, 5],\n",
       " 5: [4, 6, 7],\n",
       " 6: [5, 8],\n",
       " 7: [5, 8],\n",
       " 8: [6, 7, 9],\n",
       " 9: [8]}"
      ]
     },
     "execution_count": 5,
     "metadata": {},
     "output_type": "execute_result"
    }
   ],
   "source": [
    "friendships"
   ]
  },
  {
   "cell_type": "code",
   "execution_count": 6,
   "id": "da021567",
   "metadata": {},
   "outputs": [],
   "source": [
    "# Określenie sumy wszystkich znajomości - zsumowanie wszystkich list friends\n",
    "def number_of_friends(user):\n",
    "    \"\"\"Ilu znajomych ma użytkownik?\"\"\"\n",
    "    user_id = user[\"id\"]\n",
    "    friend_ids = friendships[user_id]\n",
    "    return len(friend_ids)"
   ]
  },
  {
   "cell_type": "code",
   "execution_count": 7,
   "id": "e8f52fcb",
   "metadata": {},
   "outputs": [],
   "source": [
    "total_connections = sum(number_of_friends(user)\n",
    "                        for user in users)        # 24"
   ]
  },
  {
   "cell_type": "code",
   "execution_count": 8,
   "id": "c397868b",
   "metadata": {},
   "outputs": [
    {
     "data": {
      "text/plain": [
       "24"
      ]
     },
     "execution_count": 8,
     "metadata": {},
     "output_type": "execute_result"
    }
   ],
   "source": [
    "total_connections"
   ]
  },
  {
   "cell_type": "code",
   "execution_count": 9,
   "id": "0ad12877",
   "metadata": {},
   "outputs": [],
   "source": [
    "num_users = len(users)"
   ]
  },
  {
   "cell_type": "code",
   "execution_count": 10,
   "id": "7e08726d",
   "metadata": {},
   "outputs": [
    {
     "data": {
      "text/plain": [
       "10"
      ]
     },
     "execution_count": 10,
     "metadata": {},
     "output_type": "execute_result"
    }
   ],
   "source": [
    "num_users"
   ]
  },
  {
   "cell_type": "code",
   "execution_count": 11,
   "id": "aed499f4",
   "metadata": {},
   "outputs": [],
   "source": [
    "avg_connections = total_connections / num_users   # 24 / 10 == 2.4"
   ]
  },
  {
   "cell_type": "code",
   "execution_count": 12,
   "id": "e3876d91",
   "metadata": {},
   "outputs": [
    {
     "data": {
      "text/plain": [
       "2.4"
      ]
     },
     "execution_count": 12,
     "metadata": {},
     "output_type": "execute_result"
    }
   ],
   "source": [
    "avg_connections"
   ]
  },
  {
   "cell_type": "code",
   "execution_count": 13,
   "id": "baa036b5",
   "metadata": {},
   "outputs": [],
   "source": [
    "# Posortowanie użytkowników, od największej do najmniejszej liczby znajomych:\n",
    "\n",
    "# Utwórz listę (user_id, number_of_friends).\n",
    "num_friends_by_id = [(user[\"id\"], number_of_friends(user)) for user in users]"
   ]
  },
  {
   "cell_type": "code",
   "execution_count": 14,
   "id": "8224c3b9",
   "metadata": {},
   "outputs": [
    {
     "data": {
      "text/plain": [
       "[(0, 2),\n",
       " (1, 3),\n",
       " (2, 3),\n",
       " (3, 3),\n",
       " (4, 2),\n",
       " (5, 3),\n",
       " (6, 2),\n",
       " (7, 2),\n",
       " (8, 3),\n",
       " (9, 1)]"
      ]
     },
     "execution_count": 14,
     "metadata": {},
     "output_type": "execute_result"
    }
   ],
   "source": [
    "num_friends_by_id"
   ]
  },
  {
   "cell_type": "code",
   "execution_count": 15,
   "id": "bcfaa832",
   "metadata": {},
   "outputs": [],
   "source": [
    "num_friends_by_id.sort(                                # Sortuj\n",
    "       key=lambda id_and_friends: id_and_friends[1],   # według number_of_friends\n",
    "       reverse=True)                                   # w kolejności malejącej."
   ]
  },
  {
   "cell_type": "code",
   "execution_count": 16,
   "id": "2e8a442f",
   "metadata": {},
   "outputs": [
    {
     "data": {
      "text/plain": [
       "[(1, 3),\n",
       " (2, 3),\n",
       " (3, 3),\n",
       " (5, 3),\n",
       " (8, 3),\n",
       " (0, 2),\n",
       " (4, 2),\n",
       " (6, 2),\n",
       " (7, 2),\n",
       " (9, 1)]"
      ]
     },
     "execution_count": 16,
     "metadata": {},
     "output_type": "execute_result"
    }
   ],
   "source": [
    "num_friends_by_id"
   ]
  },
  {
   "cell_type": "markdown",
   "id": "008a3627",
   "metadata": {},
   "source": [
    "#### Analitycy, których możesz znać"
   ]
  },
  {
   "cell_type": "code",
   "execution_count": 17,
   "id": "b89d0acc",
   "metadata": {},
   "outputs": [],
   "source": [
    "def foaf_ids_bad(user):\n",
    "    \"\"\"Przyjaciół znajomych oznaczamy akronimem foaf. \"\"\"\n",
    "    return [foaf_id\n",
    "            for friend_id in friendships[user[\"id\"]]\n",
    "            for foaf_id in friendships[friend_id]]"
   ]
  },
  {
   "cell_type": "code",
   "execution_count": 18,
   "id": "ddef38cf",
   "metadata": {},
   "outputs": [
    {
     "data": {
      "text/plain": [
       "[0, 2, 3, 0, 1, 3]"
      ]
     },
     "execution_count": 18,
     "metadata": {},
     "output_type": "execute_result"
    }
   ],
   "source": [
    "foaf_ids_bad(users[0])"
   ]
  },
  {
   "cell_type": "code",
   "execution_count": 19,
   "id": "78b09bd3",
   "metadata": {},
   "outputs": [
    {
     "name": "stdout",
     "output_type": "stream",
     "text": [
      "[1, 2]\n"
     ]
    }
   ],
   "source": [
    "print(friendships[0])"
   ]
  },
  {
   "cell_type": "code",
   "execution_count": 20,
   "id": "24f409f3",
   "metadata": {},
   "outputs": [
    {
     "name": "stdout",
     "output_type": "stream",
     "text": [
      "[0, 2, 3]\n"
     ]
    }
   ],
   "source": [
    "print(friendships[1])"
   ]
  },
  {
   "cell_type": "code",
   "execution_count": 21,
   "id": "944ce82d",
   "metadata": {},
   "outputs": [
    {
     "name": "stdout",
     "output_type": "stream",
     "text": [
      "[0, 1, 3]\n"
     ]
    }
   ],
   "source": [
    "print(friendships[2])"
   ]
  },
  {
   "cell_type": "code",
   "execution_count": 22,
   "id": "71777b7a",
   "metadata": {},
   "outputs": [],
   "source": [
    "from collections import Counter                   # Pakiet ten nie jest ładowany domyślnie."
   ]
  },
  {
   "cell_type": "code",
   "execution_count": 23,
   "id": "ee18c63e",
   "metadata": {},
   "outputs": [],
   "source": [
    "def friends_of_friends(user):\n",
    "    user_id = user[\"id\"]\n",
    "    return Counter(\n",
    "        foaf_id\n",
    "        for friend_id in friendships[user_id]     # Dla każdego z moich przyjaciół\n",
    "        for foaf_id in friendships[friend_id]     # wybierz ich znajomych,\n",
    "        if foaf_id != user_id                     # którzy nie są mną\n",
    "        and foaf_id not in friendships[user_id]   # i nie są moimi znajomymi.\n",
    "    )"
   ]
  },
  {
   "cell_type": "code",
   "execution_count": 24,
   "id": "9a6d869c",
   "metadata": {},
   "outputs": [
    {
     "name": "stdout",
     "output_type": "stream",
     "text": [
      "Counter({0: 2, 5: 1})\n"
     ]
    }
   ],
   "source": [
    "print(friends_of_friends(users[3])) "
   ]
  },
  {
   "cell_type": "code",
   "execution_count": 25,
   "id": "28dd94dc",
   "metadata": {},
   "outputs": [],
   "source": [
    "# Użytkownicy i ich zainteresowania\n",
    "interests = [\n",
    "    (0, \"Hadoop\"), (0, \"Big Data\"), (0, \"HBase\"), (0, \"Java\"),\n",
    "    (0, \"Spark\"), (0, \"Storm\"), (0, \"Cassandra\"),\n",
    "    (1, \"NoSQL\"), (1, \"MongoDB\"), (1, \"Cassandra\"), (1, \"HBase\"),\n",
    "    (1, \"Postgres\"), (2, \"Python\"), (2, \"scikit-learn\"), (2, \"scipy\"),\n",
    "    (2, \"numpy\"), (2, \"statsmodels\"), (2, \"pandas\"), (3, \"R\"), (3, \"Python\"),\n",
    "    (3, \"statistics\"), (3, \"regression\"), (3, \"probability\"),\n",
    "    (4, \"machine learning\"), (4, \"regression\"), (4, \"decision trees\"),\n",
    "    (4, \"libsvm\"), (5, \"Python\"), (5, \"R\"), (5, \"Java\"), (5, \"C++\"),\n",
    "    (5, \"Haskell\"), (5, \"programming languages\"), (6, \"statistics\"),\n",
    "    (6, \"probability\"), (6, \"mathematics\"), (6, \"theory\"),\n",
    "    (7, \"machine learning\"), (7, \"scikit-learn\"), (7, \"Mahout\"),\n",
    "    (7, \"neural networks\"), (8, \"neural networks\"), (8, \"deep learning\"),\n",
    "    (8, \"Big Data\"), (8, \"artificial intelligence\"), (9, \"Hadoop\"),\n",
    "    (9, \"Java\"), (9, \"MapReduce\"), (9, \"Big Data\")\n",
    "]"
   ]
  },
  {
   "cell_type": "code",
   "execution_count": 26,
   "id": "40ae5dfb",
   "metadata": {},
   "outputs": [],
   "source": [
    "# Użytkownicy o tych samych zainteresowaniach\n",
    "def data_scientists_who_like(target_interest):\n",
    "    \"\"\"znajduje użytkowników, którzy wśród zainteresowań mają target_interest \"\"\"\n",
    "    return [user_id\n",
    "            for user_id, user_interest in interests\n",
    "            if user_interest == target_interest]"
   ]
  },
  {
   "cell_type": "code",
   "execution_count": 27,
   "id": "d8854acf",
   "metadata": {},
   "outputs": [
    {
     "data": {
      "text/plain": [
       "[0, 5, 9]"
      ]
     },
     "execution_count": 27,
     "metadata": {},
     "output_type": "execute_result"
    }
   ],
   "source": [
    "data_scientists_who_like('Java')"
   ]
  },
  {
   "cell_type": "code",
   "execution_count": 28,
   "id": "18a26cff",
   "metadata": {},
   "outputs": [
    {
     "data": {
      "text/plain": [
       "[0, 5, 9]"
      ]
     },
     "execution_count": 28,
     "metadata": {},
     "output_type": "execute_result"
    }
   ],
   "source": [
    "from collections import defaultdict\n",
    "\n",
    "# Klucze są zainteresowaniami, wartości są listami identyfikatorów użytkowników interesujących się danym tematem.\n",
    "user_ids_by_interest = defaultdict(list)\n",
    "\n",
    "for user_id, interest in interests:\n",
    "    user_ids_by_interest[interest].append(user_id)\n",
    "    \n",
    "user_ids_by_interest['Java']"
   ]
  },
  {
   "cell_type": "code",
   "execution_count": 29,
   "id": "927586de",
   "metadata": {},
   "outputs": [],
   "source": [
    "# Klucze są identyfikatorami użytkowników, wartości są listami zainteresowań danego użytkownika.\n",
    "interests_by_user_id = defaultdict(list)\n",
    "\n",
    "for user_id, interest in interests:\n",
    "    interests_by_user_id[user_id].append(interest)"
   ]
  },
  {
   "cell_type": "code",
   "execution_count": 30,
   "id": "67801d0f",
   "metadata": {},
   "outputs": [
    {
     "data": {
      "text/plain": [
       "['NoSQL', 'MongoDB', 'Cassandra', 'HBase', 'Postgres']"
      ]
     },
     "execution_count": 30,
     "metadata": {},
     "output_type": "execute_result"
    }
   ],
   "source": [
    "interests_by_user_id[1]"
   ]
  },
  {
   "cell_type": "code",
   "execution_count": 31,
   "id": "21456ba4",
   "metadata": {},
   "outputs": [],
   "source": [
    "# Ustalenie osoby, która ma najwięcej wspólnych zainteresowań z wybranym użytkownikiem\n",
    "def most_common_interests_with(user):\n",
    "    return Counter(\n",
    "        interested_user_id\n",
    "        for interest in interests_by_user_id[user[\"id\"]]\n",
    "        for interested_user_id in user_ids_by_interest[interest]\n",
    "        if interested_user_id != user[\"id\"]\n",
    "    )"
   ]
  },
  {
   "cell_type": "markdown",
   "id": "2cddf4fc",
   "metadata": {},
   "source": [
    "#### Wynagrodzenie i doświadczenie"
   ]
  },
  {
   "cell_type": "code",
   "execution_count": 33,
   "id": "7bc1bb3d",
   "metadata": {},
   "outputs": [],
   "source": [
    "salaries_and_tenures = [(83000, 8.7), (88000, 8.1),\n",
    "                        (48000, 0.7), (76000, 6),\n",
    "                        (69000, 6.5), (76000, 7.5),\n",
    "                        (60000, 2.5), (83000, 10),\n",
    "                        (48000, 1.9), (63000, 4.2)]"
   ]
  },
  {
   "cell_type": "code",
   "execution_count": 34,
   "id": "6fbd5a5c",
   "metadata": {},
   "outputs": [],
   "source": [
    "# Klucze są latami, wartości są listami wynagrodzeń dla danego stażu pracy.\n",
    "salary_by_tenure = defaultdict(list)\n",
    "\n",
    "for salary, tenure in salaries_and_tenures:\n",
    "    salary_by_tenure[tenure].append(salary)"
   ]
  },
  {
   "cell_type": "code",
   "execution_count": 35,
   "id": "2a84be21",
   "metadata": {},
   "outputs": [],
   "source": [
    "# Klucze są latami, każda wartość jest średnim wynagrodzeniem dla danego stażu pracy.\n",
    "average_salary_by_tenure = {\n",
    "    tenure: sum(salaries) / len(salaries)\n",
    "    for tenure, salaries in salary_by_tenure.items()\n",
    "}"
   ]
  },
  {
   "cell_type": "code",
   "execution_count": 36,
   "id": "98405ed6",
   "metadata": {},
   "outputs": [
    {
     "data": {
      "text/plain": [
       "{8.7: 83000.0,\n",
       " 8.1: 88000.0,\n",
       " 0.7: 48000.0,\n",
       " 6: 76000.0,\n",
       " 6.5: 69000.0,\n",
       " 7.5: 76000.0,\n",
       " 2.5: 60000.0,\n",
       " 10: 83000.0,\n",
       " 1.9: 48000.0,\n",
       " 4.2: 63000.0}"
      ]
     },
     "execution_count": 36,
     "metadata": {},
     "output_type": "execute_result"
    }
   ],
   "source": [
    "average_salary_by_tenure"
   ]
  },
  {
   "cell_type": "code",
   "execution_count": 37,
   "id": "9482e021",
   "metadata": {},
   "outputs": [],
   "source": [
    "# Podział użytkowników na zbiory o podobnym stażu pracy\n",
    "def tenure_bucket(tenure):\n",
    "    if tenure < 2:\n",
    "        return \"mniej niż dwa\"\n",
    "    elif tenure < 5:\n",
    "        return \"pomiędzy dwoma i pięcioma\"\n",
    "    else:\n",
    "        return \"powyżej pięciu\""
   ]
  },
  {
   "cell_type": "code",
   "execution_count": 38,
   "id": "ad2c95d9",
   "metadata": {},
   "outputs": [],
   "source": [
    "# Przypisanie wynagrodzeń\n",
    "\n",
    "# Klucze są zakresami wynagrodzeń, wartości są listami wynagrodzeń należących do danego zakresu.\n",
    "salary_by_tenure_bucket = defaultdict(list)\n",
    "\n",
    "for salary, tenure in salaries_and_tenures:\n",
    "    bucket = tenure_bucket(tenure)\n",
    "    salary_by_tenure_bucket[bucket].append(salary)"
   ]
  },
  {
   "cell_type": "code",
   "execution_count": 39,
   "id": "aee9992e",
   "metadata": {},
   "outputs": [],
   "source": [
    "# Średnie wynagrodzenie dla każdego zakresu\n",
    "\n",
    "# Klucze są zakresami wynagrodzeń, wartości określają średnie wynagrodzenie w danym zakresie\n",
    "average_salary_by_bucket = {\n",
    "  tenure_bucket: sum(salaries) / len(salaries)\n",
    "  for tenure_bucket, salaries in salary_by_tenure_bucket.items()\n",
    "}"
   ]
  },
  {
   "cell_type": "code",
   "execution_count": 40,
   "id": "66789226",
   "metadata": {},
   "outputs": [
    {
     "data": {
      "text/plain": [
       "{'powyżej pięciu': 79166.66666666667,\n",
       " 'mniej niż dwa': 48000.0,\n",
       " 'pomiędzy dwoma i pięcioma': 61500.0}"
      ]
     },
     "execution_count": 40,
     "metadata": {},
     "output_type": "execute_result"
    }
   ],
   "source": [
    "average_salary_by_bucket"
   ]
  },
  {
   "cell_type": "markdown",
   "id": "fbfb5a38",
   "metadata": {},
   "source": [
    "#### Płatne konta"
   ]
  },
  {
   "cell_type": "code",
   "execution_count": 41,
   "id": "a0f5c07a",
   "metadata": {},
   "outputs": [],
   "source": [
    "def predict_paid_or_unpaid(years_experience):\n",
    "  if years_experience < 3.0:\n",
    "    return \"paid\"\n",
    "  elif years_experience < 8.5:\n",
    "    return \"unpaid\"\n",
    "  else:\n",
    "    return \"paid\""
   ]
  },
  {
   "cell_type": "markdown",
   "id": "f1660a40",
   "metadata": {},
   "source": [
    "#### Tematy interesujące użytkowników"
   ]
  },
  {
   "cell_type": "code",
   "execution_count": 43,
   "id": "bb612b24",
   "metadata": {},
   "outputs": [],
   "source": [
    "interests = [\n",
    "    (0, \"Hadoop\"), (0, \"Big Data\"), (0, \"HBase\"), (0, \"Java\"),\n",
    "    (0, \"Spark\"), (0, \"Storm\"), (0, \"Cassandra\"),\n",
    "    (1, \"NoSQL\"), (1, \"MongoDB\"), (1, \"Cassandra\"), (1, \"HBase\"),\n",
    "    (1, \"Postgres\"), (2, \"Python\"), (2, \"scikit-learn\"), (2, \"scipy\"),\n",
    "    (2, \"numpy\"), (2, \"statsmodels\"), (2, \"pandas\"), (3, \"R\"), (3, \"Python\"),\n",
    "    (3, \"statistics\"), (3, \"regression\"), (3, \"probability\"),\n",
    "    (4, \"machine learning\"), (4, \"regression\"), (4, \"decision trees\"),\n",
    "    (4, \"libsvm\"), (5, \"Python\"), (5, \"R\"), (5, \"Java\"), (5, \"C++\"),\n",
    "    (5, \"Haskell\"), (5, \"programming languages\"), (6, \"statistics\"),\n",
    "    (6, \"probability\"), (6, \"mathematics\"), (6, \"theory\"),\n",
    "    (7, \"machine learning\"), (7, \"scikit-learn\"), (7, \"Mahout\"),\n",
    "    (7, \"neural networks\"), (8, \"neural networks\"), (8, \"deep learning\"),\n",
    "    (8, \"Big Data\"), (8, \"artificial intelligence\"), (9, \"Hadoop\"),\n",
    "    (9, \"Java\"), (9, \"MapReduce\"), (9, \"Big Data\")\n",
    "]"
   ]
  },
  {
   "cell_type": "code",
   "execution_count": 44,
   "id": "915e9ff8",
   "metadata": {},
   "outputs": [],
   "source": [
    "words_and_counts = Counter(word\n",
    "                           for user, interest in interests\n",
    "                           for word in interest.lower().split())"
   ]
  },
  {
   "cell_type": "code",
   "execution_count": 45,
   "id": "123cbd79",
   "metadata": {},
   "outputs": [
    {
     "name": "stdout",
     "output_type": "stream",
     "text": [
      "big 3\n",
      "data 3\n",
      "java 3\n",
      "python 3\n",
      "learning 3\n",
      "hadoop 2\n",
      "hbase 2\n",
      "cassandra 2\n",
      "scikit-learn 2\n",
      "r 2\n",
      "statistics 2\n",
      "regression 2\n",
      "probability 2\n",
      "machine 2\n",
      "neural 2\n",
      "networks 2\n"
     ]
    }
   ],
   "source": [
    "for word, count in words_and_counts.most_common():\n",
    "    if count > 1:\n",
    "        print(word, count)"
   ]
  },
  {
   "cell_type": "code",
   "execution_count": null,
   "id": "1b4741d2",
   "metadata": {},
   "outputs": [],
   "source": []
  }
 ],
 "metadata": {
  "kernelspec": {
   "display_name": "Python 3 (ipykernel)",
   "language": "python",
   "name": "python3"
  },
  "language_info": {
   "codemirror_mode": {
    "name": "ipython",
    "version": 3
   },
   "file_extension": ".py",
   "mimetype": "text/x-python",
   "name": "python",
   "nbconvert_exporter": "python",
   "pygments_lexer": "ipython3",
   "version": "3.10.9"
  }
 },
 "nbformat": 4,
 "nbformat_minor": 5
}
