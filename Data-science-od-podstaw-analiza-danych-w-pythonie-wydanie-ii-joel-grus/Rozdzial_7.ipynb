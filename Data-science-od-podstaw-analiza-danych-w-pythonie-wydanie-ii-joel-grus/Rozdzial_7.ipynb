{
 "cells": [
  {
   "cell_type": "markdown",
   "id": "d8164a37",
   "metadata": {},
   "source": [
    "# Hipotezy i wnioski"
   ]
  },
  {
   "cell_type": "markdown",
   "id": "187362a5",
   "metadata": {},
   "source": [
    "### Sprawdzanie hipotez"
   ]
  },
  {
   "cell_type": "markdown",
   "id": "aded18d6",
   "metadata": {},
   "source": [
    "W klasycznym podejściu mamy hipotezę zerową H0, która stanowi domyślny punkt wyjścia, a także alternatywną hipotezę H1, i chcemy je porównać. Dzięki parametrom statystycznym możemy określić cz hipotezę H0 można odrzucić jako fałszywą. "
   ]
  },
  {
   "cell_type": "markdown",
   "id": "a0bfb2e4",
   "metadata": {},
   "source": [
    "### Przykład: rzut monetą"
   ]
  },
  {
   "cell_type": "markdown",
   "id": "308b2f52",
   "metadata": {},
   "source": [
    "Chcemy sprawdzić czy posiadana przez nas moneta jest \"uczciwa\". \n",
    "\n",
    "Jeśli założymy, żę p to prawdopodobieństwo wyrzucenia tą monetą orła, to naszą hipotezą zerową jest to, że moneta jest uczciwa - tj. p=0,5. Hipotezę tę porównamy z alternatywną hipotezą - p ≠ 0,5.\n",
    "\n",
    "W praktyce test będzie polegał na wykonaniu n rzutów monetą i policzeniu liczby wyrzuconych orłów (X). Każdy rzut monetą jest próbą Bernoulliego, a więc X jest zmienną losową o rozkładzie dwumianowym (n,p)"
   ]
  },
  {
   "cell_type": "code",
   "execution_count": 1,
   "id": "562f2686",
   "metadata": {},
   "outputs": [],
   "source": [
    "from typing import Tuple\n",
    "import math\n",
    "\n",
    "def normal_approximation_to_binomial(n: int, p: float) -> Tuple[float, float]:\n",
    "    \"\"\"Określa wartości mi i sigma.\"\"\"\n",
    "    mu = p * n\n",
    "    sigma = math.sqrt(p * (1 - p) * n)\n",
    "    return mu, sigma"
   ]
  },
  {
   "cell_type": "markdown",
   "id": "583120a0",
   "metadata": {},
   "source": [
    "Jeśli zmienna losowa charakteryzuje się rozkładem normalnym, to możemy skorzystać z funkcji normal_cdf w celu określenia prawdopodobieństwa tego, że wartość znajduje się w obrębie jakiegoś interwału lub poza nim:"
   ]
  },
  {
   "cell_type": "code",
   "execution_count": 3,
   "id": "6203db71",
   "metadata": {},
   "outputs": [],
   "source": [
    "def normal_cdf(x: float, mi: float = 0, sigma: float = 1) -> float:\n",
    "    return (1 + math.erf((x - mi) / math.sqrt(2) / sigma)) / 2\n",
    "\n",
    "# Funkcja dystrybuanty rozkładu normalnego określa prawdopodobieństwo tego, że zmienna znajduje się poniżej wartości progowej.\n",
    "normal_probability_below = normal_cdf\n",
    "\n",
    "# Jeżeli nie znajduje się nad wartością progową, to znajduje się pod nią.\n",
    "def normal_probability_above(lo: float,\n",
    "                             mu: float = 0,\n",
    "                             sigma: float = 1) -> float:\n",
    "    \"\"\"Prawdopodobieństwo tego, że N(mi, sigma) jest większe niż lo.\"\"\"\n",
    "    return 1 - normal_cdf(lo, mu, sigma)\n",
    "\n",
    "# Wartość znajduje się w przedziale, jeżeli jest mniejsza od górnej wartości granicznej i większa od dolnej wartości granicznej.\n",
    "def normal_probability_between(lo: float,\n",
    "                               hi: float,\n",
    "                               mu: float = 0,\n",
    "                               sigma: float = 1) -> float:\n",
    "    \"\"\"Prawdopodobieństwo tego, że N(mi, sigma) jest pomiędzy lo i hi.\"\"\"\n",
    "    return normal_cdf(hi, mu, sigma) - normal_cdf(lo, mu, sigma)\n",
    "\n",
    "# Wartość jest poza przedziałem, jeżeli nie znajduje się pomiędzy ograniczeniami.\n",
    "def normal_probability_outside(lo: float,\n",
    "                               hi: float,\n",
    "                               mu: float = 0,\n",
    "                               sigma: float = 1) -> float:\n",
    "    \"\"\"Prawdopodobieństwo tego, że N(mi, sigma) nie jest pomiędzy lo i hi.\"\"\"\n",
    "    return 1 - normal_probability_between(lo, hi, mu, sigma)"
   ]
  },
  {
   "cell_type": "markdown",
   "id": "d2a7e45d",
   "metadata": {},
   "source": [
    "Możemy teraz wykonać odwrotną operację - znaleźć niekońcowy obszar lub (symetryczny) interwał wokół średniej, który odpowiada pewnemu poziomowi prawdopodobieństwa. Jeśli chcemy określić interwał wyśrodkowany na wartości średniej i zawierajacy 60% prawdopodobieństwa, to musimy określić wartości odcięcia, w których dolne i górne krańcowe obszary zawierają po 20% prawdopodobieństwa (pozostawiajac środkowe 60%)."
   ]
  },
  {
   "cell_type": "code",
   "execution_count": 4,
   "id": "f97ab1ed",
   "metadata": {},
   "outputs": [],
   "source": [
    "def inverse_normal_cdf(p: float,\n",
    "                       mi: float = 0,\n",
    "                       sigma: float = 1,\n",
    "                       tolerance: float = 0.00001) -> float:\n",
    "    \"\"\"Znajduje przybliżoną wartość odwrotności przy użyciu algorytmu wyszukiwania binarnego.\"\"\"\n",
    "\n",
    "    # Jeżeli rozkład nie jest standardowy, to oblicz jego standardową postać i przeskaluj.\n",
    "    if mi != 0 or sigma != 1:\n",
    "        return mi + sigma * inverse_normal_cdf(p, tolerance=tolerance)\n",
    "\n",
    "    low_z = -10.0                      # normal_cdf(-10) ma wartość (zbliżoną do) 0\n",
    "    hi_z  =  10.0                      # normal_cdf(10)  ma wartość (zbliżoną do) 1\n",
    "    while hi_z - low_z > tolerance:\n",
    "        mid_z = (low_z + hi_z) / 2     # Weź pod uwagę punkt środkowy\n",
    "        mid_p = normal_cdf(mid_z)      # i znajdującą się tam wartość dystrybuanty.\n",
    "        if mid_p < p:\n",
    "            low_z = mid_z              # Punkt środkowy znajduje się za nisko, szukaj nad nim.\n",
    "        else:\n",
    "            hi_z = mid_z               # Punkt środkowy znajduje się za wysoko, szukaj pod nim.\n",
    "\n",
    "    return mid_z\n",
    "\n",
    "def normal_upper_bound(probability: float,\n",
    "                       mu: float = 0,\n",
    "                       sigma: float = 1) -> float:\n",
    "    \"\"\"Zwraca z przy zachowaniu warunku P(Z <= z) = prawdopodobieństwo.\"\"\"\n",
    "    return inverse_normal_cdf(probability, mu, sigma)\n",
    "\n",
    "def normal_lower_bound(probability: float,\n",
    "                       mu: float = 0,\n",
    "                       sigma: float = 1) -> float:\n",
    "    \"\"\"Zwraca z przy zachowaniu warunku P(Z >= z) = prawdopodobieństwo\"\"\"\n",
    "    return inverse_normal_cdf(1 - probability, mu, sigma)\n",
    "\n",
    "def normal_two_sided_bounds(probability: float,\n",
    "                            mu: float = 0,\n",
    "                            sigma: float = 1) -> Tuple[float, float]:\n",
    "    \"\"\"\n",
    "    Zwraca granice symetryczne (umieszczone wokół średniej), \n",
    "    które obejmują określone prawdopodobieństwo.\n",
    "    \"\"\"\n",
    "    tail_probability = (1 - probability) / 2\n",
    "\n",
    "    # Nad górną granicą powinna znajdować się wartość tail_probability.\n",
    "    upper_bound = normal_lower_bound(tail_probability, mu, sigma)\n",
    "\n",
    "    # Pod dolną granicą powinna znajdować się wartość tail_probability.\n",
    "    lower_bound = normal_upper_bound(tail_probability, mu, sigma)\n",
    "\n",
    "    return lower_bound, upper_bound"
   ]
  },
  {
   "cell_type": "markdown",
   "id": "8c3f742e",
   "metadata": {},
   "source": [
    "Aby nasza hipoteza o uczciwości monety była prawdziwa w przypadku, gdy chcemy rzucić monetą n=1000, rozkład zmiennej X powiniem być zbiżony do rozkładu normalnego o średniej równej 50 i odchyleniu standardowym równym 15,8"
   ]
  },
  {
   "cell_type": "code",
   "execution_count": 5,
   "id": "a930d858",
   "metadata": {},
   "outputs": [],
   "source": [
    "mu_0, sigma_0 = normal_approximation_to_binomial(1000, 0.5)"
   ]
  },
  {
   "cell_type": "code",
   "execution_count": 6,
   "id": "0e248e1e",
   "metadata": {},
   "outputs": [
    {
     "data": {
      "text/plain": [
       "15.811388300841896"
      ]
     },
     "execution_count": 6,
     "metadata": {},
     "output_type": "execute_result"
    }
   ],
   "source": [
    "sigma_0"
   ]
  },
  {
   "cell_type": "markdown",
   "id": "3e5d9f43",
   "metadata": {},
   "source": [
    "Musimy podjąć decyzję dotyczącą istotności - jak bardzo skłonni jesteśmy popełniać błąd typu 1 (\"fałszywie pozytywny\"), w którym odrzucamy hipotezę H0 nawet wtedy, gdy jest prawdziwa. Z powodów historycznych przyjmuje się, że chęć popełnienia tego błędu jest określana na 5% lub 1%. Przyjmijmy wartość 5%.\n",
    "\n",
    "Przyjrzyjmy się testowi odrzucającemu hipotezę H0, jeśli X znajduje się poza granicami wyznaczonymi przez:"
   ]
  },
  {
   "cell_type": "code",
   "execution_count": 7,
   "id": "870c9f86",
   "metadata": {},
   "outputs": [],
   "source": [
    "# (469, 531)\n",
    "lower_bound, upper_bound = normal_two_sided_bounds(0.95, mu_0, sigma_0)"
   ]
  },
  {
   "cell_type": "code",
   "execution_count": 8,
   "id": "e16424ef",
   "metadata": {},
   "outputs": [
    {
     "data": {
      "text/plain": [
       "469.01026640487555"
      ]
     },
     "execution_count": 8,
     "metadata": {},
     "output_type": "execute_result"
    }
   ],
   "source": [
    "lower_bound"
   ]
  },
  {
   "cell_type": "code",
   "execution_count": 9,
   "id": "08e45435",
   "metadata": {},
   "outputs": [
    {
     "data": {
      "text/plain": [
       "530.9897335951244"
      ]
     },
     "execution_count": 9,
     "metadata": {},
     "output_type": "execute_result"
    }
   ],
   "source": [
    "upper_bound "
   ]
  },
  {
   "cell_type": "code",
   "execution_count": 10,
   "id": "5c909fed",
   "metadata": {},
   "outputs": [],
   "source": [
    "assert 468.5 < lower_bound < 469.5\n",
    "assert 530.5 < upper_bound < 531.5"
   ]
  },
  {
   "cell_type": "markdown",
   "id": "b14a6bc7",
   "metadata": {},
   "source": [
    "Przy założeniu, że p jest naprawdę równe 0,5 (hipoteza H0 jest prawdziwa), istnieje tylko 5% szans na zaobserwowanie wartości X znajdującej się poza tym interwałem.\n",
    "\n",
    "Patrząc na to z innej stronym jeśli hipoteza H0 jest prawdziwa, to wtedy około 19 na 20 razy test da poprawny wynik.\n",
    "\n",
    "Moc testu - prawdopodobieństwo niepopełnienia błędu typu 2, w którym nie odrzuca się hipotezy H0 nawet wtedy, gdy jest ona fałszywa. \n",
    "\n",
    "W celu zmierzenia tego parametru musimy określić, co dokładnie oznacza fałszywość hipotezy H0.\n",
    "\n",
    "Sprawdźmy, co się dzieje, jeżeli p wynosi 0,55 (podczas rzucania monetą częściej wypada orzeł)"
   ]
  },
  {
   "cell_type": "code",
   "execution_count": 11,
   "id": "54388f0f",
   "metadata": {},
   "outputs": [],
   "source": [
    "# Ograniczenie 95% na podstawie założenia, że p jest równe 0,5.\n",
    "lo, hi = normal_two_sided_bounds(0.95, mu_0, sigma_0)\n",
    "\n",
    "# Rzeczywiste wartości mi i sigma przy założeniu, że p = 0,55.\n",
    "mu_1, sigma_1 = normal_approximation_to_binomial(1000, 0.55)\n",
    "\n",
    "# Błąd typu drugiego oznacza błąd polegający na nieodrzuceniu hipotezy zerowej,\n",
    "# do czego dochodzi, gdy X wciąż znajduje się w naszym początkowym interwale.\n",
    "type_2_probability = normal_probability_between(lo, hi, mu_1, sigma_1)\n",
    "power = 1 - type_2_probability      # 0.887"
   ]
  },
  {
   "cell_type": "code",
   "execution_count": 12,
   "id": "f2a49024",
   "metadata": {},
   "outputs": [
    {
     "data": {
      "text/plain": [
       "0.8865480012953671"
      ]
     },
     "execution_count": 12,
     "metadata": {},
     "output_type": "execute_result"
    }
   ],
   "source": [
    "power"
   ]
  },
  {
   "cell_type": "code",
   "execution_count": 13,
   "id": "de2364c2",
   "metadata": {},
   "outputs": [],
   "source": [
    "assert 0.886 < power < 0.888"
   ]
  },
  {
   "cell_type": "markdown",
   "id": "773b168a",
   "metadata": {},
   "source": [
    "Załóżmy, że naszą hipotezą zerową jest to, że moneta nie jest zrobiona tak, że częściej wypada na niej orzeł (p<=0,5). W takim przypadku chcemy sprawdzić test jednostronny, który odrzuca hipotezę H0, gdy wartość X jest o wiele większa od 500, ale nie wtedy, gdy jest mniejsza od 500.\n",
    "W związku z tym test 5% istotności wiąże się z koniecznością zastosowania funkcji narmal_probability_below w celu określenia punktu, poniżej którego znajduje się 95% prawdopodobieństwa"
   ]
  },
  {
   "cell_type": "code",
   "execution_count": 14,
   "id": "f0012750",
   "metadata": {},
   "outputs": [],
   "source": [
    "hi = normal_upper_bound(0.95, mu_0, sigma_0)\n",
    "# Wynosi 526 (< 531, ponieważ potrzebujemy więcej prawdopodobieństwa w górnej części).\n",
    "\n",
    "type_2_probability = normal_probability_below(hi, mu_1, sigma_1)\n",
    "power = 1 - type_2_probability      # 0.936"
   ]
  },
  {
   "cell_type": "code",
   "execution_count": 15,
   "id": "daf4c6e5",
   "metadata": {},
   "outputs": [
    {
     "data": {
      "text/plain": [
       "526.0073585242053"
      ]
     },
     "execution_count": 15,
     "metadata": {},
     "output_type": "execute_result"
    }
   ],
   "source": [
    "hi"
   ]
  },
  {
   "cell_type": "code",
   "execution_count": 16,
   "id": "f6a9645d",
   "metadata": {},
   "outputs": [
    {
     "data": {
      "text/plain": [
       "0.9363794803307173"
      ]
     },
     "execution_count": 16,
     "metadata": {},
     "output_type": "execute_result"
    }
   ],
   "source": [
    "power"
   ]
  },
  {
   "cell_type": "code",
   "execution_count": 17,
   "id": "2f3ac6a5",
   "metadata": {},
   "outputs": [],
   "source": [
    "assert 526 < hi < 526.1\n",
    "assert 0.9363 < power < 0.9364"
   ]
  },
  {
   "cell_type": "markdown",
   "id": "44eaab3a",
   "metadata": {},
   "source": [
    "To test o większej wadze, ponieważ nie odrzucamy już hipotezy H0, gdy wartość X jest mniejsza od 469 (co jest bardzo mało prawdopodobne, jeśli hio=poteza H1 jest prawdziwa), ale odrzucamy hipotezę H0, gdy wartość X znajduje się w przedziale od 526 do 531 (co jest raczej prawdopodobne, jeżeli hipoteza H1 jest prawdziwa)."
   ]
  },
  {
   "cell_type": "markdown",
   "id": "cc039694",
   "metadata": {},
   "source": [
    "### Wartość p"
   ]
  },
  {
   "cell_type": "markdown",
   "id": "11814b1b",
   "metadata": {},
   "source": [
    "Prawdopodobieństwo przy założeniu, że hipoteza H0 jest prawdziwa"
   ]
  },
  {
   "cell_type": "code",
   "execution_count": 18,
   "id": "4f7704f8",
   "metadata": {},
   "outputs": [
    {
     "data": {
      "text/plain": [
       "0.06207721579598835"
      ]
     },
     "execution_count": 18,
     "metadata": {},
     "output_type": "execute_result"
    }
   ],
   "source": [
    "def two_sided_p_value(x: float, mu: float = 0, sigma: float = 1) -> float:\n",
    "    \"\"\"\n",
    "    Jak prawdopodobne jest zaobserwowanie wartości przynajmniej tak skrajnej jak x\n",
    "    (w obydwu kierunkach) jeżeli wartości są z przedziału N(mi, sigma)?\n",
    "    \"\"\"\n",
    "    if x >= mu:\n",
    "        # Jeżeli x jest większy od średniej…\n",
    "        return 2 * normal_probability_above(x, mu, sigma)\n",
    "    else:\n",
    "        # Jeżeli x jest mniejszy od średniej….\n",
    "        return 2 * normal_probability_below(x, mu, sigma)\n",
    "\n",
    "# Gdybyśmy wyrzucili orła 530 razy\n",
    "two_sided_p_value(529.5, mu_0, sigma_0)   # 0.062"
   ]
  },
  {
   "cell_type": "code",
   "execution_count": 22,
   "id": "c1b3ad10",
   "metadata": {},
   "outputs": [
    {
     "data": {
      "text/plain": [
       "64"
      ]
     },
     "execution_count": 22,
     "metadata": {},
     "output_type": "execute_result"
    }
   ],
   "source": [
    "# symulacja\n",
    "import random\n",
    "\n",
    "extreme_value_count = 0\n",
    "for _ in range(1000):\n",
    "    num_heads = sum(1 if random.random() < 0.5 else 0    # Policz liczbę wyrzuconych orłów\n",
    "                    for _ in range(1000))                # podczas 1000 rzutów monetą.\n",
    "    if num_heads >= 530 or num_heads <= 470:             # Oblicz, ile razy liczba ta\n",
    "        extreme_value_count += 1                         # osiąga „ekstremum”.\n",
    "\n",
    "extreme_value_count "
   ]
  },
  {
   "cell_type": "code",
   "execution_count": 23,
   "id": "996f94aa",
   "metadata": {},
   "outputs": [],
   "source": [
    "# wartość p wynosi 0,062, więc około 62 skrajne wartości z 1000\n",
    "assert 59 < extreme_value_count < 65, f\"{extreme_value_count}\""
   ]
  },
  {
   "cell_type": "markdown",
   "id": "a9bd9a73",
   "metadata": {},
   "source": [
    "Wartość p jest wyższa od 5% istotności, a więc nie odrzucamy hipotezy zerowaj, Jeżeli zaobserwowalibyśmy wyrzucenie orła 532 razy, to wartość p wynosiłaby:"
   ]
  },
  {
   "cell_type": "code",
   "execution_count": 26,
   "id": "ce183e67",
   "metadata": {},
   "outputs": [
    {
     "data": {
      "text/plain": [
       "0.046345287837786575"
      ]
     },
     "execution_count": 26,
     "metadata": {},
     "output_type": "execute_result"
    }
   ],
   "source": [
    "two_sided_p_value(531.5, mu_0, sigma_0)   # 0.0463"
   ]
  },
  {
   "cell_type": "markdown",
   "id": "14c555ec",
   "metadata": {},
   "source": [
    "a więc byłaby niższa od 5% istotności i musielibyśmy odrzucić hipotezę zerową. To dokładnie taki sam test jak ten co przeprowadzaliśmy wcześniej, Jedyną różnicą jest podejście do parametrów statycznych.\n",
    "\n",
    "W obu przypadkach zachodzą równości:"
   ]
  },
  {
   "cell_type": "code",
   "execution_count": 27,
   "id": "52b7c5ea",
   "metadata": {},
   "outputs": [],
   "source": [
    "upper_p_value = normal_probability_above\n",
    "lower_p_value = normal_probability_below"
   ]
  },
  {
   "cell_type": "markdown",
   "id": "64df899c",
   "metadata": {},
   "source": [
    "Gdybyśmy zaobserwowami wyrzucanie orła 525 razy:"
   ]
  },
  {
   "cell_type": "code",
   "execution_count": 28,
   "id": "8c542549",
   "metadata": {},
   "outputs": [
    {
     "data": {
      "text/plain": [
       "0.06062885772582072"
      ]
     },
     "execution_count": 28,
     "metadata": {},
     "output_type": "execute_result"
    }
   ],
   "source": [
    "upper_p_value(524.5, mu_0, sigma_0) # 0.061"
   ]
  },
  {
   "cell_type": "code",
   "execution_count": 29,
   "id": "b9450dc3",
   "metadata": {},
   "outputs": [
    {
     "data": {
      "text/plain": [
       "0.04686839508859242"
      ]
     },
     "execution_count": 29,
     "metadata": {},
     "output_type": "execute_result"
    }
   ],
   "source": [
    "# orzeł 527 razy\n",
    "upper_p_value(526.5, mu_0, sigma_0) # 0.047, odrzucilibyśmy hipotezę zerową"
   ]
  },
  {
   "cell_type": "markdown",
   "id": "154e8eeb",
   "metadata": {},
   "source": [
    "### Przedziały ufności"
   ]
  },
  {
   "cell_type": "markdown",
   "id": "c420512a",
   "metadata": {},
   "source": [
    "Możemy np. oszacować prawdopodobieństwo tego, że moneta jest nieuczciwa, przyglądając się średniej wartości zmiennych Bernoulliego odpowiadajacyh poszczególnym rzutom (1 oznacza wyrzucenie orła, a 0 reszki). Jeżeli wykonując 1000 rzutów, zaobserwujemy wyrzucenie orła 525 razy, to szacujemy, że p jest równe 0,525.\n",
    "\n",
    "Jak bardzo możemy ufać temu szacunkowi? Gdybyśmy znali dokładną wartość parametru p, to korzystając z centralnego twierdzenia granicznego, moglibyśmy obliczyć średnie zmiennych Bernoulliego, które powinny charakteryzować się rozkładem normalnym, przy średniej p i odchyleniu standardowym: math.sqrt(p * (1 - p) / 1000)\n",
    "\n",
    "W ym przypadku nie znamy wartości p, a więc możemy skorzystać z naszych szacunków:"
   ]
  },
  {
   "cell_type": "code",
   "execution_count": 30,
   "id": "11c15536",
   "metadata": {},
   "outputs": [],
   "source": [
    "p_hat = 525 / 1000\n",
    "mu = p_hat\n",
    "sigma = math.sqrt(p_hat * (1 - p_hat) / 1000)   # 0.0158"
   ]
  },
  {
   "cell_type": "code",
   "execution_count": 31,
   "id": "840e1166",
   "metadata": {},
   "outputs": [
    {
     "data": {
      "text/plain": [
       "0.015791611697353755"
      ]
     },
     "execution_count": 31,
     "metadata": {},
     "output_type": "execute_result"
    }
   ],
   "source": [
    "sigma"
   ]
  },
  {
   "cell_type": "markdown",
   "id": "feeb56f9",
   "metadata": {},
   "source": [
    "Korzystając z przybliżenia o rozkładzie normalnym, dochodzimy do wniosku, że \"jesteśmy pewni na 95%\" co do tego, że następujacy przedział zawiera prawdziwą wartość parametru p:"
   ]
  },
  {
   "cell_type": "code",
   "execution_count": 32,
   "id": "460604a8",
   "metadata": {},
   "outputs": [
    {
     "data": {
      "text/plain": [
       "(0.4940490278129096, 0.5559509721870904)"
      ]
     },
     "execution_count": 32,
     "metadata": {},
     "output_type": "execute_result"
    }
   ],
   "source": [
    "normal_two_sided_bounds(0.95, mu, sigma)        # [0.4940, 0.5560]"
   ]
  },
  {
   "cell_type": "markdown",
   "id": "fad91297",
   "metadata": {},
   "source": [
    "Gdyby eksperyment został powtórzony wielokrotnie, to w 95% przypadków \"prawdziwy\" parametr (jest on za każdym razem taki sam) znajdowałby się w zaobserwowanym przedziale ufności (za każdym razem może on być inny).\n",
    "\n",
    "W tym przypadku nie dochodzimy do wniosku, że moneta jest nieuczciwa, ponieważ wartość 0,5 mieści się  w przedziale ufności.\n",
    "\n",
    "Gdybyśmy zaobserwowali wyrzucenie orła 540 razy, to:"
   ]
  },
  {
   "cell_type": "code",
   "execution_count": 33,
   "id": "c2b23d1a",
   "metadata": {},
   "outputs": [],
   "source": [
    "p_hat = 540 / 1000\n",
    "mu = p_hat\n",
    "sigma = math.sqrt(p_hat * (1 - p_hat) / 1000) # 0.0158"
   ]
  },
  {
   "cell_type": "code",
   "execution_count": 34,
   "id": "005097b2",
   "metadata": {},
   "outputs": [
    {
     "data": {
      "text/plain": [
       "0.015760710643876435"
      ]
     },
     "execution_count": 34,
     "metadata": {},
     "output_type": "execute_result"
    }
   ],
   "source": [
    "sigma"
   ]
  },
  {
   "cell_type": "code",
   "execution_count": 35,
   "id": "23c22e98",
   "metadata": {},
   "outputs": [
    {
     "data": {
      "text/plain": [
       "(0.5091095927295919, 0.5708904072704082)"
      ]
     },
     "execution_count": 35,
     "metadata": {},
     "output_type": "execute_result"
    }
   ],
   "source": [
    "normal_two_sided_bounds(0.95, mu, sigma) # [0.5091, 0.5709]"
   ]
  },
  {
   "cell_type": "markdown",
   "id": "1337b976",
   "metadata": {},
   "source": [
    "W takim przypadku \"uczciwa moneta\" nie mieści się w przedziale pewności. (Hipoteza \"uczciwej monety\" nie przechodzi testu- założyliśmy, że gdyby hipoteza była prawdziwa, to okazywałaby się prawdziwa w 95% przypadków)."
   ]
  },
  {
   "cell_type": "markdown",
   "id": "41a69263",
   "metadata": {},
   "source": [
    "### Hakowanie wartości p"
   ]
  },
  {
   "cell_type": "markdown",
   "id": "a21ecc3c",
   "metadata": {},
   "source": [
    "Procedura, która błędnie odrzuca hipotezę zerową w tylko 5% przypadków, będzie zgodnie z definicją błędnie odrzucać hopotezę zerową przez 5% czasu:"
   ]
  },
  {
   "cell_type": "code",
   "execution_count": 36,
   "id": "9350b0d5",
   "metadata": {},
   "outputs": [],
   "source": [
    "from typing import List\n",
    "\n",
    "def run_experiment() -> List[bool]:\n",
    "    \"\"\"Wykonaj 1000 rzutów monetą. True oznacza orła, a False reszkę.\"\"\"\n",
    "    return [random.random() < 0.5 for _ in range(1000)]\n",
    "\n",
    "def reject_fairness(experiment: List[bool]) -> bool:\n",
    "    \"\"\"Zakłada 5% poziom ufności.\"\"\"\n",
    "    num_heads = len([flip for flip in experiment if flip])\n",
    "    return num_heads < 469 or num_heads > 531\n",
    "\n",
    "random.seed(0)\n",
    "experiments = [run_experiment() for _ in range(1000)]\n",
    "num_rejections = len([experiment\n",
    "                      for experiment in experiments\n",
    "                      if reject_fairness(experiment)])"
   ]
  },
  {
   "cell_type": "code",
   "execution_count": 37,
   "id": "dc72da14",
   "metadata": {},
   "outputs": [
    {
     "data": {
      "text/plain": [
       "46"
      ]
     },
     "execution_count": 37,
     "metadata": {},
     "output_type": "execute_result"
    }
   ],
   "source": [
    "num_rejections"
   ]
  },
  {
   "cell_type": "markdown",
   "id": "5ad5fb23",
   "metadata": {},
   "source": [
    "Wniosek z tego taki, że jeśli szukamy \"istotnych\" wyników, to zwykle można je znaleźć. Wystarczy przetestować wystarczająco dużo hipotez, a wśród nich z pewnością znajdą się takie, które wydają się być istotne. Po usunięciu odpowiednich obserwacji odstających wartość parametru p można zmniejszyć poniżej 0,05. Zabieg ten określa sie mianem hakowania wartości p. "
   ]
  },
  {
   "cell_type": "markdown",
   "id": "67113288",
   "metadata": {},
   "source": [
    "### Przykład: przeprowadzanie testu A-B"
   ]
  },
  {
   "cell_type": "markdown",
   "id": "ae7d93fa",
   "metadata": {},
   "source": [
    "Przeprowadzono eksperyment polegający na losowym pokazywaniu osobom odwiedzającym stronę jednej z dwóch reklam i śledzeniu liczby kliknięć poszczególnych wersji reklamy.\n",
    "\n",
    "Jeżeli 990 spośród 1000 użytkowników, którzy widzieli reklamę A, kliknęło ją, a tylko 10 z 1000 użytkowników, którzy widzieli reklamę B, kliknęło reklamę, to z pewnością można uznać, że reklama A jest lepsza.\n",
    "\n",
    "Załóżmy, że N_a ludzi widziało reklamę A i n_a z nich ją kliknęło. Każde wyświetlenie reklamy można potraktować jako próbę Bernoulliego, w każdej p_a jest prawdopodobieństwem tego, że ktoś kliknie w reklamę A. Wtedy wiemy, że n_a/N_a jest zmienną losową o rozkładzie zbliżonym do normalnego, a więc o średniej p_a i odchyleniu standardowym sigma_a. Podobnie z B."
   ]
  },
  {
   "cell_type": "code",
   "execution_count": 38,
   "id": "3c7fedfa",
   "metadata": {},
   "outputs": [],
   "source": [
    "def estimated_parameters(N: int, n: int) -> Tuple[float, float]:\n",
    "    p = n / N\n",
    "    sigma = math.sqrt(p * (1 - p) / N)\n",
    "    return p, sigma"
   ]
  },
  {
   "cell_type": "markdown",
   "id": "12142173",
   "metadata": {},
   "source": [
    "Jeżeli założymy, że te dwie zmienne o rozkładzie normalnym są niezależne, to ich różnica również powinna mieć rozkład normalny.\n",
    "\n",
    "W związku z tym możemy sprawdzić hipotezę zerową, mówiącą, że wartości p_a i p_b są takie same."
   ]
  },
  {
   "cell_type": "code",
   "execution_count": 39,
   "id": "e94d51c3",
   "metadata": {},
   "outputs": [],
   "source": [
    "def a_b_test_statistic(N_A: int, n_A: int, N_B: int, n_B: int) -> float:\n",
    "    p_A, sigma_A = estimated_parameters(N_A, n_A)\n",
    "    p_B, sigma_B = estimated_parameters(N_B, n_B)\n",
    "    return (p_B - p_A) / math.sqrt(sigma_A ** 2 + sigma_B ** 2)"
   ]
  },
  {
   "cell_type": "markdown",
   "id": "3ddfc68d",
   "metadata": {},
   "source": [
    "Jeżeli założymy, że jedna reklama uzyska 200 kliknięć na 1000 odsłon, a druga uzyska 180 kliknięć na 1000 odsłon, to będziemy mieli do czynienia z następującą wartością parametru statystycznego:"
   ]
  },
  {
   "cell_type": "code",
   "execution_count": 40,
   "id": "eb722d41",
   "metadata": {},
   "outputs": [],
   "source": [
    "z = a_b_test_statistic(1000, 200, 1000, 180)    # -1.14"
   ]
  },
  {
   "cell_type": "code",
   "execution_count": 41,
   "id": "d1229e6c",
   "metadata": {},
   "outputs": [
    {
     "data": {
      "text/plain": [
       "-1.1403464899034472"
      ]
     },
     "execution_count": 41,
     "metadata": {},
     "output_type": "execute_result"
    }
   ],
   "source": [
    "z"
   ]
  },
  {
   "cell_type": "markdown",
   "id": "dbf6dcff",
   "metadata": {},
   "source": [
    "Prawdopodobieństwo uzyskania tak dużej różnicy, gdyby średnie były w rzeczywistości równe wynosi:"
   ]
  },
  {
   "cell_type": "code",
   "execution_count": 42,
   "id": "cc81b0e2",
   "metadata": {},
   "outputs": [
    {
     "data": {
      "text/plain": [
       "0.254141976542236"
      ]
     },
     "execution_count": 42,
     "metadata": {},
     "output_type": "execute_result"
    }
   ],
   "source": [
    "two_sided_p_value(z)                            # 0.254"
   ]
  },
  {
   "cell_type": "markdown",
   "id": "e3fcebcc",
   "metadata": {},
   "source": [
    "Wartość ta jest na tyle duża, że nie można orzec, iż różnica jest duża. Z drugiej strony, gdyby druga reklama uzyskała tylko 150 kliknięć, to uzyskalibyśmy następujące parametry:"
   ]
  },
  {
   "cell_type": "code",
   "execution_count": 43,
   "id": "ff212d1e",
   "metadata": {},
   "outputs": [
    {
     "data": {
      "text/plain": [
       "-2.948839123097944"
      ]
     },
     "execution_count": 43,
     "metadata": {},
     "output_type": "execute_result"
    }
   ],
   "source": [
    "z = a_b_test_statistic(1000, 200, 1000, 150)    # -2.94\n",
    "z"
   ]
  },
  {
   "cell_type": "code",
   "execution_count": 44,
   "id": "61c842d6",
   "metadata": {},
   "outputs": [
    {
     "data": {
      "text/plain": [
       "0.003189699706216853"
      ]
     },
     "execution_count": 44,
     "metadata": {},
     "output_type": "execute_result"
    }
   ],
   "source": [
    "two_sided_p_value(z)                            # 0.003"
   ]
  },
  {
   "cell_type": "markdown",
   "id": "a5ad838d",
   "metadata": {},
   "source": [
    "Oznacza to, że prawdopodobieństwo uzyskania tak dużej różnicy przy równie skutecznych reklamach wynosi zaledwie 0,003."
   ]
  },
  {
   "cell_type": "markdown",
   "id": "cbffcad6",
   "metadata": {},
   "source": [
    "### Wnioski bayesowskie"
   ]
  },
  {
   "cell_type": "markdown",
   "id": "a86a2c19",
   "metadata": {},
   "source": [
    "Zaprezentowaneprocedury doprowadziły do utworzenia następującego stwierdzenia dotyczącego naszych testów: \"istnieje tylko 3% szans na to, że zaobserwowanie takich parametrów statystycznych byłoby możliwe, gdyby hipoteza zerowa była prawdziwa\".\n",
    "\n",
    "Alternatywną techniką wnioskowania jest traktowanie nieznanych parametrów tak, jakby same były zmiennymi losowymi. Analityk rozpoczyna pracę od rozkładu a priori parametrów, a następnie korzysta z zebranych w ten sposób danych i twierdzenia Bayesa w cellu uzyskania zaktualizowanego rozkładu a posteriori paramentrów. Zamiast określać prawdopodobieństwo związane z testem, określane jest prawdopodobieństwo samych paramentrów. \n",
    "\n",
    "Jeżeli nieznany parametr jest prawdopodobieństwem korzystamy z a prori rozkładu beta, w którym wszystkie prawdopodobieństwa przyjmują wartości od 0 do 1:"
   ]
  },
  {
   "cell_type": "code",
   "execution_count": 45,
   "id": "fdabd43d",
   "metadata": {},
   "outputs": [],
   "source": [
    "def B(alpha: float, beta: float) -> float:\n",
    "    \"\"\"Stała normalizacji zapewniająca całkowite prawdopodobieństwo równe 1.\"\"\"\n",
    "    return math.gamma(alpha) * math.gamma(beta) / math.gamma(alpha + beta)\n",
    "\n",
    "def beta_pdf(x: float, alpha: float, beta: float) -> float:\n",
    "    if x <= 0 or x >= 1:          # Wszystkie wagi mieszczą się w zakresie [0, 1].\n",
    "        return 0\n",
    "    return x ** (alpha - 1) * (1 - x) ** (beta - 1) / B(alpha, beta)"
   ]
  },
  {
   "cell_type": "markdown",
   "id": "222aabb8",
   "metadata": {},
   "source": [
    "Jeśli parametry alpha i beta przyjmują wartość 1, to mamy do czynienia z rozkładem jednorodnym wyśrodkowanym w punkcie 0,5, który jest dość rozłożysty. Jeśli parametr alpha jest znacznie większy od beta, to większość wag przyjmuje wartości zbliżone do 1, a jeżeli parametr alpha jest znacznie mniejszy od beta, to większość wag przyjmuje wartości zbliżone do 0. "
   ]
  },
  {
   "cell_type": "code",
   "execution_count": null,
   "id": "36bcdd27",
   "metadata": {},
   "outputs": [],
   "source": []
  }
 ],
 "metadata": {
  "kernelspec": {
   "display_name": "Python 3 (ipykernel)",
   "language": "python",
   "name": "python3"
  },
  "language_info": {
   "codemirror_mode": {
    "name": "ipython",
    "version": 3
   },
   "file_extension": ".py",
   "mimetype": "text/x-python",
   "name": "python",
   "nbconvert_exporter": "python",
   "pygments_lexer": "ipython3",
   "version": "3.10.9"
  }
 },
 "nbformat": 4,
 "nbformat_minor": 5
}
