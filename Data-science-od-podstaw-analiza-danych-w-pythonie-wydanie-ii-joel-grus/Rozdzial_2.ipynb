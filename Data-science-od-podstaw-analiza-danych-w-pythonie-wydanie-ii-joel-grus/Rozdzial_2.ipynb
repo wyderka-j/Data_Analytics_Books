{
 "cells": [
  {
   "cell_type": "markdown",
   "id": "9c3340c6",
   "metadata": {},
   "source": [
    "# Błyskawiczny kurs Pythona"
   ]
  },
  {
   "cell_type": "markdown",
   "id": "1655cd20",
   "metadata": {},
   "source": [
    "### Zasady tworzenia kodu Pythona"
   ]
  },
  {
   "cell_type": "code",
   "execution_count": 1,
   "id": "a4d508da",
   "metadata": {},
   "outputs": [
    {
     "name": "stdout",
     "output_type": "stream",
     "text": [
      "The Zen of Python, by Tim Peters\n",
      "\n",
      "Beautiful is better than ugly.\n",
      "Explicit is better than implicit.\n",
      "Simple is better than complex.\n",
      "Complex is better than complicated.\n",
      "Flat is better than nested.\n",
      "Sparse is better than dense.\n",
      "Readability counts.\n",
      "Special cases aren't special enough to break the rules.\n",
      "Although practicality beats purity.\n",
      "Errors should never pass silently.\n",
      "Unless explicitly silenced.\n",
      "In the face of ambiguity, refuse the temptation to guess.\n",
      "There should be one-- and preferably only one --obvious way to do it.\n",
      "Although that way may not be obvious at first unless you're Dutch.\n",
      "Now is better than never.\n",
      "Although never is often better than *right* now.\n",
      "If the implementation is hard to explain, it's a bad idea.\n",
      "If the implementation is easy to explain, it may be a good idea.\n",
      "Namespaces are one honking great idea -- let's do more of those!\n"
     ]
    }
   ],
   "source": [
    "import this"
   ]
  },
  {
   "cell_type": "markdown",
   "id": "b927f575",
   "metadata": {},
   "source": [
    "### Środowiska wirtualne\n",
    "\n",
    "#### Wirtualne środowisko Anacondy można stworzyć w następujący sposób:\n",
    "\n",
    "conda create -n dsfs python=3.10.9\n",
    "\n",
    "#### Instalacja IPythona \n",
    "\n",
    "python -m pip install ipython"
   ]
  },
  {
   "cell_type": "markdown",
   "id": "42d02826",
   "metadata": {},
   "source": [
    "### Formatowanie za pomocą białych znaków"
   ]
  },
  {
   "cell_type": "code",
   "execution_count": 2,
   "id": "3e0398a5",
   "metadata": {},
   "outputs": [
    {
     "name": "stdout",
     "output_type": "stream",
     "text": [
      "1\n",
      "1\n",
      "2\n",
      "2\n",
      "3\n",
      "3\n",
      "4\n",
      "4\n",
      "5\n",
      "5\n",
      "6\n",
      "1\n",
      "2\n",
      "1\n",
      "3\n",
      "2\n",
      "4\n",
      "3\n",
      "5\n",
      "4\n",
      "6\n",
      "5\n",
      "7\n",
      "2\n",
      "3\n",
      "1\n",
      "4\n",
      "2\n",
      "5\n",
      "3\n",
      "6\n",
      "4\n",
      "7\n",
      "5\n",
      "8\n",
      "3\n",
      "4\n",
      "1\n",
      "5\n",
      "2\n",
      "6\n",
      "3\n",
      "7\n",
      "4\n",
      "8\n",
      "5\n",
      "9\n",
      "4\n",
      "5\n",
      "1\n",
      "6\n",
      "2\n",
      "7\n",
      "3\n",
      "8\n",
      "4\n",
      "9\n",
      "5\n",
      "10\n",
      "5\n",
      "koniec pętli\n"
     ]
    }
   ],
   "source": [
    "# znak # oznacza początek komentarza. Python ignoruje komentarze,\n",
    "# ale mogą one być pomocne podczas czytania kodu\n",
    "for i in [1, 2, 3, 4, 5]:\n",
    "    print(i)                    # pierwsza linia bloku „for i”\n",
    "    for j in [1, 2, 3, 4, 5]:\n",
    "        print(j)                # pierwsza linia bloku „for j”\n",
    "        print(i + j)            # ostatnia linia bloku „for j”\n",
    "    print(i)                    # ostatnia linia bloku „for i”\n",
    "print(\"koniec pętli\")"
   ]
  },
  {
   "cell_type": "code",
   "execution_count": 3,
   "id": "957047f9",
   "metadata": {},
   "outputs": [
    {
     "data": {
      "text/plain": [
       "210"
      ]
     },
     "execution_count": 3,
     "metadata": {},
     "output_type": "execute_result"
    }
   ],
   "source": [
    "# Białe znaki są ignorowane w nawiasach okrągłych i kwadratowych\n",
    "dluga_operacja_arytmetyczna = (1 + 2 + 3 + 4 + 5 + 6 + 7 + 8 + 9 + 10 + 11 + 12 +\n",
    "                           13 + 14 + 15 + 16 + 17 + 18 + 19 + 20)\n",
    "dluga_operacja_arytmetyczna"
   ]
  },
  {
   "cell_type": "code",
   "execution_count": 4,
   "id": "130e58ee",
   "metadata": {},
   "outputs": [
    {
     "data": {
      "text/plain": [
       "[[1, 2, 3], [4, 5, 6], [7, 8, 9]]"
      ]
     },
     "execution_count": 4,
     "metadata": {},
     "output_type": "execute_result"
    }
   ],
   "source": [
    "lista_list = [[1, 2, 3], [4, 5, 6], [7, 8, 9]]\n",
    "lista_list"
   ]
  },
  {
   "cell_type": "code",
   "execution_count": 5,
   "id": "025b1751",
   "metadata": {},
   "outputs": [],
   "source": [
    "bardziej_czytelna_lista_list = [[1, 2, 3],\n",
    "                                [4, 5, 6],\n",
    "                                [7, 8, 9]]"
   ]
  },
  {
   "cell_type": "code",
   "execution_count": 6,
   "id": "66365d29",
   "metadata": {},
   "outputs": [],
   "source": [
    "# Za pomocą lewego ukośnika można oznaczyć, że ciąg dalszy instrukcji znajduje się w kolejnym wierszu\n",
    "two_plus_three = 2 + \\\n",
    "                 3"
   ]
  },
  {
   "cell_type": "code",
   "execution_count": 7,
   "id": "128563e3",
   "metadata": {},
   "outputs": [
    {
     "name": "stdout",
     "output_type": "stream",
     "text": [
      "1\n",
      "2\n",
      "3\n",
      "4\n",
      "5\n"
     ]
    }
   ],
   "source": [
    "for i in [1, 2, 3, 4, 5]:\n",
    "\n",
    "    # zwróć uwagę na pustą linię\n",
    "    print(i)"
   ]
  },
  {
   "cell_type": "markdown",
   "id": "c34f6df0",
   "metadata": {},
   "source": [
    "Próba wklejenia tego kodu do konsoli zakończyłaby się zwróceniem komunikatu o nieprawidłowym wcięciu kodu:\n",
    "IndentationError: expected an indented\n",
    "Konsola IPython obsługuje funkcję, %paste, która umożliwia poprawne wklejenie zawartości schowka."
   ]
  },
  {
   "cell_type": "markdown",
   "id": "5a1b5dec",
   "metadata": {},
   "source": [
    "### Modyły"
   ]
  },
  {
   "cell_type": "code",
   "execution_count": 8,
   "id": "7d1324ed",
   "metadata": {},
   "outputs": [
    {
     "data": {
      "text/plain": [
       "re.compile(r'[0-9]+', re.IGNORECASE|re.UNICODE)"
      ]
     },
     "execution_count": 8,
     "metadata": {},
     "output_type": "execute_result"
    }
   ],
   "source": [
    "# Przykładowe polecenie importujące cały moduł\n",
    "import re\n",
    "my_regex = re.compile(\"[0-9]+\", re.I)\n",
    "my_regex"
   ]
  },
  {
   "cell_type": "code",
   "execution_count": 9,
   "id": "758bbec1",
   "metadata": {},
   "outputs": [
    {
     "data": {
      "text/plain": [
       "re.compile(r'[0-9]+', re.IGNORECASE|re.UNICODE)"
      ]
     },
     "execution_count": 9,
     "metadata": {},
     "output_type": "execute_result"
    }
   ],
   "source": [
    "# Jeśli w kodzie jest już jakaś klasa re, to można nadać modułowi alias\n",
    "import re as regex\n",
    "my_regex = regex.compile(\"[0-9]+\", regex.I)\n",
    "my_regex"
   ]
  },
  {
   "cell_type": "code",
   "execution_count": 10,
   "id": "e29f19cf",
   "metadata": {},
   "outputs": [],
   "source": [
    "# Jeśli potrzeba tylko kilku zawartości z modułu, to można je zaimportować w sposób jawny, a następnie korzystać z nich bez \n",
    "# żadnych przedrostków\n",
    "from collections import defaultdict, Counter\n",
    "lookup = defaultdict(int)\n",
    "my_counter = Counter()"
   ]
  },
  {
   "cell_type": "code",
   "execution_count": 11,
   "id": "057da363",
   "metadata": {},
   "outputs": [
    {
     "name": "stdout",
     "output_type": "stream",
     "text": [
      "<function match at 0x000001FC24191F30>\n"
     ]
    }
   ],
   "source": [
    "# Nie warto importować całej zawartości modułu do przestrzeni nazw swojego programu, ponieważ spowoduje to nieodwracalne \n",
    "# nadpisanie zdefiniowanych wcześniej zmiennych\n",
    "match = 10\n",
    "from re import *    # O nie, moduł re zawiera funkcję o nazwie match.\n",
    "print(match)        # \"<function match at 0x10281e6a8>\""
   ]
  },
  {
   "cell_type": "markdown",
   "id": "f35bef5a",
   "metadata": {},
   "source": [
    "### Funcje"
   ]
  },
  {
   "cell_type": "markdown",
   "id": "5ab1faf7",
   "metadata": {},
   "source": [
    "Funkcja jest blokiem kodu, który może przyjąć dowolną liczbę argumentów i wygenerować na ich podstawie wynik. \n",
    "W Pythonie funkcje definiowane są za pomocą słowa kluczowego def"
   ]
  },
  {
   "cell_type": "code",
   "execution_count": 12,
   "id": "a5b8c27a",
   "metadata": {},
   "outputs": [
    {
     "data": {
      "text/plain": [
       "4"
      ]
     },
     "execution_count": 12,
     "metadata": {},
     "output_type": "execute_result"
    }
   ],
   "source": [
    "def double(x):\n",
    "    \"\"\"\n",
    "    Tu możesz wstawić wyjaśnienie działania funkcji.\n",
    "    Ta funkcja mnoży przekazaną do niej wartość przez 2\n",
    "    \"\"\"\n",
    "    return x * 2\n",
    "double(2)"
   ]
  },
  {
   "cell_type": "code",
   "execution_count": 13,
   "id": "19e24953",
   "metadata": {},
   "outputs": [
    {
     "name": "stdout",
     "output_type": "stream",
     "text": [
      "2\n"
     ]
    }
   ],
   "source": [
    "# Python umożliwia przypisanie funkcji do zmiennych i przekazywanie ich do innych funkcji w roli argumentów\n",
    "def apply_to_one(f):\n",
    "    \"\"\"Wywołuje funkcję f z argumentem 1\"\"\"\n",
    "    return f(1)\n",
    "\n",
    "my_double = double             # odwołanie do zdefiniowanej wcześniej funkcji\n",
    "x = apply_to_one(my_double) \n",
    "\n",
    "print(x)"
   ]
  },
  {
   "cell_type": "code",
   "execution_count": 14,
   "id": "9ad1ded9",
   "metadata": {},
   "outputs": [
    {
     "data": {
      "text/plain": [
       "5"
      ]
     },
     "execution_count": 14,
     "metadata": {},
     "output_type": "execute_result"
    }
   ],
   "source": [
    "# Python umożliwia tworzenie krótkich anonimowych funkcji lambda\n",
    "y = apply_to_one(lambda x: x + 4) \n",
    "y"
   ]
  },
  {
   "cell_type": "code",
   "execution_count": 15,
   "id": "191f34ca",
   "metadata": {},
   "outputs": [
    {
     "data": {
      "text/plain": [
       "6"
      ]
     },
     "execution_count": 15,
     "metadata": {},
     "output_type": "execute_result"
    }
   ],
   "source": [
    "# Funkcje lambda można przypisać do zmiennych, ale lepiej korzystać ze słow kluczowego def\n",
    "another_double = lambda x: 2 * x    # nie rób tak\n",
    "\n",
    "def another_double(x):\n",
    "    \"\"\" Rób to tak\"\"\"\n",
    "    return 2 * x\n",
    "another_double(3)"
   ]
  },
  {
   "cell_type": "code",
   "execution_count": 16,
   "id": "611ea341",
   "metadata": {},
   "outputs": [
    {
     "name": "stdout",
     "output_type": "stream",
     "text": [
      "Witaj\n",
      "domyślny komunikat\n"
     ]
    }
   ],
   "source": [
    "# Parametrom można nadawa wartości domyślne\n",
    "def my_print(message = \"domyślny komunikat\"):\n",
    "    print(message)\n",
    "\n",
    "my_print(\"Witaj\")   # Wyświetli łańcuch „Witaj”.\n",
    "my_print()          # Wyświetli łańcuch „domyślny komunikat”"
   ]
  },
  {
   "cell_type": "code",
   "execution_count": 17,
   "id": "26866f2e",
   "metadata": {},
   "outputs": [
    {
     "data": {
      "text/plain": [
       "'Joel Grus'"
      ]
     },
     "execution_count": 17,
     "metadata": {},
     "output_type": "execute_result"
    }
   ],
   "source": [
    "# Czasami warto definiować nazwy przekazywanych argumentów\n",
    "def full_name(first = \"Jak-mu-tam\", last = \"Jakiś\"):\n",
    "    return first + \" \" + last\n",
    "\n",
    "full_name(\"Joel\", \"Grus\")   "
   ]
  },
  {
   "cell_type": "code",
   "execution_count": 18,
   "id": "aa4d71ef",
   "metadata": {},
   "outputs": [
    {
     "data": {
      "text/plain": [
       "'Joel Jakiś'"
      ]
     },
     "execution_count": 18,
     "metadata": {},
     "output_type": "execute_result"
    }
   ],
   "source": [
    "full_name(\"Joel\")"
   ]
  },
  {
   "cell_type": "code",
   "execution_count": 19,
   "id": "67903b0e",
   "metadata": {},
   "outputs": [
    {
     "data": {
      "text/plain": [
       "'Jak-mu-tam Grus'"
      ]
     },
     "execution_count": 19,
     "metadata": {},
     "output_type": "execute_result"
    }
   ],
   "source": [
    "full_name(last=\"Grus\")"
   ]
  },
  {
   "cell_type": "markdown",
   "id": "f8147a0f",
   "metadata": {},
   "source": [
    "### Łańcuchy"
   ]
  },
  {
   "cell_type": "markdown",
   "id": "8a743bc4",
   "metadata": {},
   "source": [
    "Łańcuchy można podawać w pojedynczych lub podwójnych cudzysłowach, ale cudzysłów otwierający łańcuch i zamykający go musi być\n",
    "takiego samego typu"
   ]
  },
  {
   "cell_type": "code",
   "execution_count": 20,
   "id": "9710df14",
   "metadata": {},
   "outputs": [],
   "source": [
    "single_quoted_string = 'analiza danych'\n",
    "double_quoted_string = \"analiza danych\""
   ]
  },
  {
   "cell_type": "code",
   "execution_count": 21,
   "id": "d2fe5a40",
   "metadata": {},
   "outputs": [
    {
     "data": {
      "text/plain": [
       "1"
      ]
     },
     "execution_count": 21,
     "metadata": {},
     "output_type": "execute_result"
    }
   ],
   "source": [
    "# znaki specjalne w łańcuchach umieszcza się przy użyciu lewego ukośnika\n",
    "tab_string = \"\\t\"       # symbol znaku tabulacji\n",
    "len(tab_string)     "
   ]
  },
  {
   "cell_type": "code",
   "execution_count": 22,
   "id": "4439f818",
   "metadata": {},
   "outputs": [
    {
     "data": {
      "text/plain": [
       "2"
      ]
     },
     "execution_count": 22,
     "metadata": {},
     "output_type": "execute_result"
    }
   ],
   "source": [
    "# Aby umieścić znak lewego ukośnika, moąna utworzyć surowy łańcuch - skorzystać z notacji r\"\"\n",
    "not_tab_string = r\"\\t\"  # łańcuch zawierający znak ukośnika i literę t\n",
    "len(not_tab_string)    "
   ]
  },
  {
   "cell_type": "code",
   "execution_count": 23,
   "id": "8b8d7594",
   "metadata": {},
   "outputs": [],
   "source": [
    "# Wieloliniowe łańcuchy definiowane są za pomocą potrójnych znaków podwójnych cudzysłowów\n",
    "multi_line_string = \"\"\"To pierwsza linia,\n",
    "to druga linia,\n",
    "a to trzecia linia.\"\"\""
   ]
  },
  {
   "cell_type": "markdown",
   "id": "3a018853",
   "metadata": {},
   "source": [
    "Istnieje możliwość tworzenia łańcuchów znaków przy użyciu notacji f, która pozwala na łatwe podstawienie wartości w łancuchu"
   ]
  },
  {
   "cell_type": "code",
   "execution_count": 24,
   "id": "1590d1c1",
   "metadata": {},
   "outputs": [],
   "source": [
    "# jeśli mamy osobno określone imię i nazwisko\n",
    "first_name = \"Joel\"\n",
    "last_name = \"Grus\""
   ]
  },
  {
   "cell_type": "code",
   "execution_count": 25,
   "id": "5557658a",
   "metadata": {},
   "outputs": [
    {
     "data": {
      "text/plain": [
       "'Joel Grus'"
      ]
     },
     "execution_count": 25,
     "metadata": {},
     "output_type": "execute_result"
    }
   ],
   "source": [
    "# to możemy je połączyć w jeden łańcuch na kilka sposobów\n",
    "full_name1 = first_name + \" \" + last_name             # dodawanie łańcuchów\n",
    "full_name2 = \"{0} {1}\".format(first_name, last_name)  # string.format\n",
    "\n",
    "full_name1"
   ]
  },
  {
   "cell_type": "code",
   "execution_count": 26,
   "id": "5f7e791e",
   "metadata": {},
   "outputs": [
    {
     "data": {
      "text/plain": [
       "'Joel Grus'"
      ]
     },
     "execution_count": 26,
     "metadata": {},
     "output_type": "execute_result"
    }
   ],
   "source": [
    "# notacja f jest znacznie wygodniejsza\n",
    "full_name3 = f\"{first_name} {last_name}\"\n",
    "full_name3"
   ]
  },
  {
   "cell_type": "markdown",
   "id": "fc48aaa8",
   "metadata": {},
   "source": [
    "### Wyjątki"
   ]
  },
  {
   "cell_type": "markdown",
   "id": "e2588222",
   "metadata": {},
   "source": [
    "Jeśli coś pójdzie nie tak, jak powinno, Python generuje wyjątki. Jeśli nie zostaną one obsłużone, to spowodują przerwanie pracy programu. Do obsługi wyjątków służą polecenia try i except"
   ]
  },
  {
   "cell_type": "code",
   "execution_count": 27,
   "id": "12ef1496",
   "metadata": {},
   "outputs": [
    {
     "name": "stdout",
     "output_type": "stream",
     "text": [
      "nie można dzielić przez zero\n"
     ]
    }
   ],
   "source": [
    "try:\n",
    "    print(0 / 0)\n",
    "except ZeroDivisionError:\n",
    "    print(\"nie można dzielić przez zero\")"
   ]
  },
  {
   "cell_type": "markdown",
   "id": "75f829c3",
   "metadata": {},
   "source": [
    "### Listy"
   ]
  },
  {
   "cell_type": "markdown",
   "id": "495dfa24",
   "metadata": {},
   "source": [
    "Lista to chyba najważniejsza struktura danych w Pythonie. Lista to po prostu zbiór kolejnych elementów - obiekty tego typu w innych językach określa się mianem tablicy."
   ]
  },
  {
   "cell_type": "code",
   "execution_count": 28,
   "id": "5566a14a",
   "metadata": {},
   "outputs": [],
   "source": [
    "integer_list = [1, 2, 3]\n",
    "heterogeneous_list = [\"string\", 0.1, True]\n",
    "list_of_lists = [integer_list, heterogeneous_list, []]"
   ]
  },
  {
   "cell_type": "code",
   "execution_count": 29,
   "id": "d59f1dd6",
   "metadata": {},
   "outputs": [
    {
     "data": {
      "text/plain": [
       "[[1, 2, 3], ['string', 0.1, True], []]"
      ]
     },
     "execution_count": 29,
     "metadata": {},
     "output_type": "execute_result"
    }
   ],
   "source": [
    "list_of_lists"
   ]
  },
  {
   "cell_type": "code",
   "execution_count": 30,
   "id": "2a79abfb",
   "metadata": {},
   "outputs": [
    {
     "data": {
      "text/plain": [
       "3"
      ]
     },
     "execution_count": 30,
     "metadata": {},
     "output_type": "execute_result"
    }
   ],
   "source": [
    "list_length = len(integer_list)\n",
    "list_length"
   ]
  },
  {
   "cell_type": "code",
   "execution_count": 31,
   "id": "6017e4ad",
   "metadata": {},
   "outputs": [
    {
     "data": {
      "text/plain": [
       "6"
      ]
     },
     "execution_count": 31,
     "metadata": {},
     "output_type": "execute_result"
    }
   ],
   "source": [
    "list_sum    = sum(integer_list)\n",
    "list_sum "
   ]
  },
  {
   "cell_type": "code",
   "execution_count": 32,
   "id": "0f4c57c6",
   "metadata": {},
   "outputs": [],
   "source": [
    "x = [0, 1, 2, 3, 4, 5, 6, 7, 8, 9]"
   ]
  },
  {
   "cell_type": "code",
   "execution_count": 33,
   "id": "50d08f1e",
   "metadata": {},
   "outputs": [
    {
     "data": {
      "text/plain": [
       "0"
      ]
     },
     "execution_count": 33,
     "metadata": {},
     "output_type": "execute_result"
    }
   ],
   "source": [
    "zero = x[0]    # równa się 0, listy są indeksowane od zera\n",
    "zero"
   ]
  },
  {
   "cell_type": "code",
   "execution_count": 34,
   "id": "285940ba",
   "metadata": {},
   "outputs": [
    {
     "data": {
      "text/plain": [
       "1"
      ]
     },
     "execution_count": 34,
     "metadata": {},
     "output_type": "execute_result"
    }
   ],
   "source": [
    "one = x[1]           # równa się 1\n",
    "one"
   ]
  },
  {
   "cell_type": "code",
   "execution_count": 35,
   "id": "57ddd0dc",
   "metadata": {},
   "outputs": [
    {
     "data": {
      "text/plain": [
       "9"
      ]
     },
     "execution_count": 35,
     "metadata": {},
     "output_type": "execute_result"
    }
   ],
   "source": [
    "nine = x[-1]         # równa się 9, pythonowy sposób uzyskiwania ostatniego elementu\n",
    "nine"
   ]
  },
  {
   "cell_type": "code",
   "execution_count": 36,
   "id": "8e883057",
   "metadata": {},
   "outputs": [
    {
     "data": {
      "text/plain": [
       "8"
      ]
     },
     "execution_count": 36,
     "metadata": {},
     "output_type": "execute_result"
    }
   ],
   "source": [
    "eight = x[-2]        # równa się 8, pythonowy sposób uzyskiwania przedostatniego elementu\n",
    "eight"
   ]
  },
  {
   "cell_type": "code",
   "execution_count": 37,
   "id": "69fb864b",
   "metadata": {},
   "outputs": [
    {
     "data": {
      "text/plain": [
       "[-1, 1, 2, 3, 4, 5, 6, 7, 8, 9]"
      ]
     },
     "execution_count": 37,
     "metadata": {},
     "output_type": "execute_result"
    }
   ],
   "source": [
    "x[0] = -1            # teraz x jest listą [-1, 1, 2, 3, ..., 9]\n",
    "x"
   ]
  },
  {
   "cell_type": "markdown",
   "id": "39347179",
   "metadata": {},
   "source": [
    "Można również generować \"wycinki\" list. Wycinek i:j oznacza wszystkie elementy od elementu numer i włącznie aż do elementu j, ale bez niego. Jeżeli pominiesz początek przedziału, to wycinek będzie zaczynał się na początku listy, a jeżeli pominiesz koniec przedziału, to będzie się on kończył na końcu listy"
   ]
  },
  {
   "cell_type": "code",
   "execution_count": 38,
   "id": "28c13e71",
   "metadata": {},
   "outputs": [
    {
     "data": {
      "text/plain": [
       "[-1, 1, 2]"
      ]
     },
     "execution_count": 38,
     "metadata": {},
     "output_type": "execute_result"
    }
   ],
   "source": [
    "first_three = x[:3] # [-1, 1, 2]\n",
    "first_three"
   ]
  },
  {
   "cell_type": "code",
   "execution_count": 39,
   "id": "882dba8a",
   "metadata": {},
   "outputs": [
    {
     "data": {
      "text/plain": [
       "[3, 4, 5, 6, 7, 8, 9]"
      ]
     },
     "execution_count": 39,
     "metadata": {},
     "output_type": "execute_result"
    }
   ],
   "source": [
    "three_to_end = x[3:]                # [3, 4, ..., 9]\n",
    "three_to_end "
   ]
  },
  {
   "cell_type": "code",
   "execution_count": 40,
   "id": "fbc77b2c",
   "metadata": {},
   "outputs": [
    {
     "data": {
      "text/plain": [
       "[1, 2, 3, 4]"
      ]
     },
     "execution_count": 40,
     "metadata": {},
     "output_type": "execute_result"
    }
   ],
   "source": [
    "one_to_four = x[1:5]                # [1, 2, 3, 4]\n",
    "one_to_four "
   ]
  },
  {
   "cell_type": "code",
   "execution_count": 41,
   "id": "b671b30d",
   "metadata": {},
   "outputs": [
    {
     "data": {
      "text/plain": [
       "[7, 8, 9]"
      ]
     },
     "execution_count": 41,
     "metadata": {},
     "output_type": "execute_result"
    }
   ],
   "source": [
    "last_three = x[-3:]                 # [7, 8, 9]\n",
    "last_three "
   ]
  },
  {
   "cell_type": "code",
   "execution_count": 42,
   "id": "173e73c8",
   "metadata": {},
   "outputs": [
    {
     "data": {
      "text/plain": [
       "[1, 2, 3, 4, 5, 6, 7, 8]"
      ]
     },
     "execution_count": 42,
     "metadata": {},
     "output_type": "execute_result"
    }
   ],
   "source": [
    "without_first_and_last = x[1:-1]    # [1, 2, ..., 8]\n",
    "without_first_and_last "
   ]
  },
  {
   "cell_type": "code",
   "execution_count": 43,
   "id": "c2d5867f",
   "metadata": {},
   "outputs": [
    {
     "data": {
      "text/plain": [
       "[-1, 1, 2, 3, 4, 5, 6, 7, 8, 9]"
      ]
     },
     "execution_count": 43,
     "metadata": {},
     "output_type": "execute_result"
    }
   ],
   "source": [
    "copy_of_x = x[:]                    # [-1, 1, 2, ..., 9]\n",
    "copy_of_x "
   ]
  },
  {
   "cell_type": "code",
   "execution_count": 44,
   "id": "0d87bb97",
   "metadata": {},
   "outputs": [
    {
     "data": {
      "text/plain": [
       "[-1, 3, 6, 9]"
      ]
     },
     "execution_count": 44,
     "metadata": {},
     "output_type": "execute_result"
    }
   ],
   "source": [
    "every_third = x[::3]                 # [-1, 3, 6, 9]\n",
    "every_third "
   ]
  },
  {
   "cell_type": "code",
   "execution_count": 45,
   "id": "629e50a3",
   "metadata": {},
   "outputs": [
    {
     "data": {
      "text/plain": [
       "[5, 4, 3]"
      ]
     },
     "execution_count": 45,
     "metadata": {},
     "output_type": "execute_result"
    }
   ],
   "source": [
    "five_to_three = x[5:2:-1]            # [5, 4, 3]\n",
    "five_to_three "
   ]
  },
  {
   "cell_type": "code",
   "execution_count": 46,
   "id": "d1de8221",
   "metadata": {},
   "outputs": [
    {
     "data": {
      "text/plain": [
       "True"
      ]
     },
     "execution_count": 46,
     "metadata": {},
     "output_type": "execute_result"
    }
   ],
   "source": [
    "# Sprawdzenie przynależności do listy\n",
    "1 in [1, 2, 3]    # prawda (True)"
   ]
  },
  {
   "cell_type": "code",
   "execution_count": 47,
   "id": "eda91254",
   "metadata": {},
   "outputs": [
    {
     "data": {
      "text/plain": [
       "False"
      ]
     },
     "execution_count": 47,
     "metadata": {},
     "output_type": "execute_result"
    }
   ],
   "source": [
    "0 in [1, 2, 3]    # fałsz (False)"
   ]
  },
  {
   "cell_type": "code",
   "execution_count": 48,
   "id": "98fe9f47",
   "metadata": {},
   "outputs": [
    {
     "data": {
      "text/plain": [
       "[1, 2, 3]"
      ]
     },
     "execution_count": 48,
     "metadata": {},
     "output_type": "execute_result"
    }
   ],
   "source": [
    "x = [1, 2, 3]\n",
    "x"
   ]
  },
  {
   "cell_type": "code",
   "execution_count": 49,
   "id": "66021b3e",
   "metadata": {},
   "outputs": [
    {
     "data": {
      "text/plain": [
       "[1, 2, 3, 4, 5, 6]"
      ]
     },
     "execution_count": 49,
     "metadata": {},
     "output_type": "execute_result"
    }
   ],
   "source": [
    "# Dodanie elementów z innego zbioru\n",
    "x.extend([4, 5, 6])     # lista x ma teraz postać [1,2,3,4,5,6]\n",
    "x"
   ]
  },
  {
   "cell_type": "code",
   "execution_count": 50,
   "id": "e8b2faef",
   "metadata": {},
   "outputs": [],
   "source": [
    "x = [1, 2, 3]"
   ]
  },
  {
   "cell_type": "code",
   "execution_count": 51,
   "id": "d2e4a792",
   "metadata": {},
   "outputs": [
    {
     "data": {
      "text/plain": [
       "[1, 2, 3, 4, 5, 6]"
      ]
     },
     "execution_count": 51,
     "metadata": {},
     "output_type": "execute_result"
    }
   ],
   "source": [
    "y = x + [4, 5, 6]       # lista y ma teraz postać [1, 2, 3, 4, 5, 6]; lista x nie jest modyfikowana\n",
    "y"
   ]
  },
  {
   "cell_type": "code",
   "execution_count": 52,
   "id": "99741461",
   "metadata": {},
   "outputs": [
    {
     "data": {
      "text/plain": [
       "[1, 2, 3, 0]"
      ]
     },
     "execution_count": 52,
     "metadata": {},
     "output_type": "execute_result"
    }
   ],
   "source": [
    "# Dodanie jednego elementu\n",
    "x = [1, 2, 3]\n",
    "x.append(0)\n",
    "x"
   ]
  },
  {
   "cell_type": "code",
   "execution_count": 53,
   "id": "51b84951",
   "metadata": {},
   "outputs": [
    {
     "data": {
      "text/plain": [
       "0"
      ]
     },
     "execution_count": 53,
     "metadata": {},
     "output_type": "execute_result"
    }
   ],
   "source": [
    "y = x[-1]\n",
    "y"
   ]
  },
  {
   "cell_type": "code",
   "execution_count": 54,
   "id": "4111c490",
   "metadata": {},
   "outputs": [
    {
     "data": {
      "text/plain": [
       "4"
      ]
     },
     "execution_count": 54,
     "metadata": {},
     "output_type": "execute_result"
    }
   ],
   "source": [
    "z = len(x)\n",
    "z"
   ]
  },
  {
   "cell_type": "code",
   "execution_count": 55,
   "id": "535a316b",
   "metadata": {},
   "outputs": [],
   "source": [
    "# Jeśli wiesz, ile elementów znajduje się na liście, możesz akorzystać z mechanizmu rozpakowywania list\n",
    "x, y = [1, 2]    # teraz x jest równe 1, a y jest równe 2"
   ]
  },
  {
   "cell_type": "code",
   "execution_count": 56,
   "id": "4d9e3070",
   "metadata": {},
   "outputs": [
    {
     "data": {
      "text/plain": [
       "1"
      ]
     },
     "execution_count": 56,
     "metadata": {},
     "output_type": "execute_result"
    }
   ],
   "source": [
    "x"
   ]
  },
  {
   "cell_type": "code",
   "execution_count": 57,
   "id": "e55fe545",
   "metadata": {},
   "outputs": [
    {
     "data": {
      "text/plain": [
       "2"
      ]
     },
     "execution_count": 57,
     "metadata": {},
     "output_type": "execute_result"
    }
   ],
   "source": [
    "y"
   ]
  },
  {
   "cell_type": "code",
   "execution_count": 58,
   "id": "d27ef010",
   "metadata": {},
   "outputs": [
    {
     "data": {
      "text/plain": [
       "2"
      ]
     },
     "execution_count": 58,
     "metadata": {},
     "output_type": "execute_result"
    }
   ],
   "source": [
    "# Jeśli nie potrzebujesz jakiejś wartości, to możesz zastąpić ją znakiem podkreślenia\n",
    "_, y = [1, 2]    # teraz y == 2, a pierwszy element listy został pominięty\n",
    "y"
   ]
  },
  {
   "cell_type": "markdown",
   "id": "7b6ec1df",
   "metadata": {},
   "source": [
    "### Krotki"
   ]
  },
  {
   "cell_type": "markdown",
   "id": "f9bcb4b9",
   "metadata": {},
   "source": [
    "Krotka to niezmienna kuzynka listy. Z krotką można wykonać praktycznie wszystkie operacje niewymagające jej modyfikacji, które można wykonać na liście. "
   ]
  },
  {
   "cell_type": "code",
   "execution_count": 59,
   "id": "204ebb1a",
   "metadata": {},
   "outputs": [],
   "source": [
    "moja_lista = [1, 2]\n",
    "moja_krotka = (1, 2)\n",
    "inna_krotka = 3, 4"
   ]
  },
  {
   "cell_type": "code",
   "execution_count": 60,
   "id": "432d843b",
   "metadata": {},
   "outputs": [
    {
     "data": {
      "text/plain": [
       "[1, 3]"
      ]
     },
     "execution_count": 60,
     "metadata": {},
     "output_type": "execute_result"
    }
   ],
   "source": [
    "moja_lista[1] = 3      # moja_lista ma teraz postać [1, 3]\n",
    "moja_lista"
   ]
  },
  {
   "cell_type": "code",
   "execution_count": 61,
   "id": "8a390da0",
   "metadata": {},
   "outputs": [
    {
     "name": "stdout",
     "output_type": "stream",
     "text": [
      "nie można modyfikować krotki\n"
     ]
    }
   ],
   "source": [
    "try:\n",
    "    moja_krotka[1] = 3\n",
    "except TypeError:\n",
    "    print(\"nie można modyfikować krotki\")"
   ]
  },
  {
   "cell_type": "code",
   "execution_count": 62,
   "id": "2ad987a5",
   "metadata": {},
   "outputs": [],
   "source": [
    "# Krotki pozwalają na wygodne zwracanie wartości przez funkcję\n",
    "def sum_and_product(x, y):\n",
    "    return (x + y), (x * y)"
   ]
  },
  {
   "cell_type": "code",
   "execution_count": 63,
   "id": "93a930e8",
   "metadata": {},
   "outputs": [
    {
     "data": {
      "text/plain": [
       "(5, 6)"
      ]
     },
     "execution_count": 63,
     "metadata": {},
     "output_type": "execute_result"
    }
   ],
   "source": [
    "sp = sum_and_product(2, 3)\n",
    "sp"
   ]
  },
  {
   "cell_type": "code",
   "execution_count": 64,
   "id": "b33b4814",
   "metadata": {},
   "outputs": [
    {
     "data": {
      "text/plain": [
       "(15, 50)"
      ]
     },
     "execution_count": 64,
     "metadata": {},
     "output_type": "execute_result"
    }
   ],
   "source": [
    "s, p = sum_and_product(5, 10)\n",
    "s, p"
   ]
  },
  {
   "cell_type": "code",
   "execution_count": 65,
   "id": "60d93d69",
   "metadata": {},
   "outputs": [
    {
     "name": "stdout",
     "output_type": "stream",
     "text": [
      "x równe 1, y równe 2\n"
     ]
    }
   ],
   "source": [
    "# Krotki i listy mogą być używane podczas wykonywania wielokrotnych operacji przypisania\n",
    "x, y = 1, 2\n",
    "print(\"x równe {0}, y równe {1}\".format(x, y))"
   ]
  },
  {
   "cell_type": "code",
   "execution_count": 66,
   "id": "c302a3f4",
   "metadata": {},
   "outputs": [
    {
     "name": "stdout",
     "output_type": "stream",
     "text": [
      "x równe 2, y równe 1\n"
     ]
    }
   ],
   "source": [
    "x, y = y, x  # Pythonowy sposób zamiany wartości zmiennych; teraz x jest równe 2, a y jest równe 1.\n",
    "print(\"x równe {0}, y równe {1}\".format(x, y))"
   ]
  },
  {
   "cell_type": "markdown",
   "id": "45ba0328",
   "metadata": {},
   "source": [
    "### Słowniki"
   ]
  },
  {
   "cell_type": "markdown",
   "id": "0ff98676",
   "metadata": {},
   "source": [
    "Słownik jest kolejną podstawową strukturą danych. Struktura ta przypisuje wartości do kluczy i pozwala na szybkie odczytanie wartości na podstawie klucza"
   ]
  },
  {
   "cell_type": "code",
   "execution_count": 67,
   "id": "58004828",
   "metadata": {},
   "outputs": [
    {
     "data": {
      "text/plain": [
       "{'Joel': 80, 'Tim': 95}"
      ]
     },
     "execution_count": 67,
     "metadata": {},
     "output_type": "execute_result"
    }
   ],
   "source": [
    "empty_dict = {}                     # zapis pythonowy\n",
    "empty_dict2 = dict()                # zapis mniej pythonowy\n",
    "grades = {\"Joel\": 80, \"Tim\": 95}    # literał słownikowy\n",
    "\n",
    "grades"
   ]
  },
  {
   "cell_type": "code",
   "execution_count": 69,
   "id": "877af98a",
   "metadata": {},
   "outputs": [
    {
     "data": {
      "text/plain": [
       "80"
      ]
     },
     "execution_count": 69,
     "metadata": {},
     "output_type": "execute_result"
    }
   ],
   "source": [
    "# Odczytanie wartości przypisanej do danego klucza\n",
    "joels_grade = grades[\"Joel\"]        # równa się 80\n",
    "joels_grade"
   ]
  },
  {
   "cell_type": "code",
   "execution_count": 70,
   "id": "de741af7",
   "metadata": {},
   "outputs": [
    {
     "name": "stdout",
     "output_type": "stream",
     "text": [
      "Kate nie ma żadnych ocen!\n"
     ]
    }
   ],
   "source": [
    "# Jeśli zapytasz o klucz, którego nie ma w słowniku, to wygenerowany zostanie błąd klucza\n",
    "try:\n",
    "    kates_grade = grades[\"Kate\"]\n",
    "except KeyError:\n",
    "    print(\"Kate nie ma żadnych ocen!\")"
   ]
  },
  {
   "cell_type": "code",
   "execution_count": 71,
   "id": "2216f2f6",
   "metadata": {},
   "outputs": [
    {
     "data": {
      "text/plain": [
       "True"
      ]
     },
     "execution_count": 71,
     "metadata": {},
     "output_type": "execute_result"
    }
   ],
   "source": [
    "# Sprawdzenie istnienia klucza\n",
    "joel_has_grade = \"Joel\" in grades     # prawda\n",
    "joel_has_grade"
   ]
  },
  {
   "cell_type": "code",
   "execution_count": 72,
   "id": "432c5689",
   "metadata": {},
   "outputs": [
    {
     "data": {
      "text/plain": [
       "False"
      ]
     },
     "execution_count": 72,
     "metadata": {},
     "output_type": "execute_result"
    }
   ],
   "source": [
    "kate_has_grade = \"Kate\" in grades  \n",
    "kate_has_grade"
   ]
  },
  {
   "cell_type": "code",
   "execution_count": 73,
   "id": "d6be21ec",
   "metadata": {},
   "outputs": [
    {
     "data": {
      "text/plain": [
       "80"
      ]
     },
     "execution_count": 73,
     "metadata": {},
     "output_type": "execute_result"
    }
   ],
   "source": [
    "# Słowniki mają metodę get zwracającą domyślną wartość\n",
    "joels_grade = grades.get(\"Joel\", 0)   # równa się 80\n",
    "joels_grade"
   ]
  },
  {
   "cell_type": "code",
   "execution_count": 74,
   "id": "117096c7",
   "metadata": {},
   "outputs": [
    {
     "data": {
      "text/plain": [
       "0"
      ]
     },
     "execution_count": 74,
     "metadata": {},
     "output_type": "execute_result"
    }
   ],
   "source": [
    "kates_grade = grades.get(\"Kate\", 0)   # równa się 0\n",
    "kates_grade "
   ]
  },
  {
   "cell_type": "code",
   "execution_count": 75,
   "id": "215ded5e",
   "metadata": {},
   "outputs": [],
   "source": [
    "no_ones_grade = grades.get(\"No One\")  # domyślna wartość to None"
   ]
  },
  {
   "cell_type": "code",
   "execution_count": 76,
   "id": "072dfacf",
   "metadata": {},
   "outputs": [],
   "source": [
    "grades[\"Tim\"] = 99                    # zastępuje poprzednią wartość"
   ]
  },
  {
   "cell_type": "code",
   "execution_count": 77,
   "id": "dd0e05c0",
   "metadata": {},
   "outputs": [],
   "source": [
    "grades[\"Kate\"] = 100                  # dodaje trzeci element"
   ]
  },
  {
   "cell_type": "code",
   "execution_count": 78,
   "id": "4ca5cad6",
   "metadata": {},
   "outputs": [
    {
     "data": {
      "text/plain": [
       "3"
      ]
     },
     "execution_count": 78,
     "metadata": {},
     "output_type": "execute_result"
    }
   ],
   "source": [
    "num_students = len(grades)            # równa się 3\n",
    "num_students"
   ]
  },
  {
   "cell_type": "code",
   "execution_count": 79,
   "id": "ce2bfd47",
   "metadata": {},
   "outputs": [],
   "source": [
    "tweet = {\n",
    "    \"user\" : \"joelgrus\",\n",
    "    \"text\" : \"Data Science is Awesome\",\n",
    "    \"retweet_count\" : 100,\n",
    "    \"hashtags\" : [\"#data\", \"#science\", \"#datascience\", \"#awesome\", \"#yolo\"]\n",
    "}"
   ]
  },
  {
   "cell_type": "code",
   "execution_count": 80,
   "id": "7a15e06c",
   "metadata": {},
   "outputs": [
    {
     "data": {
      "text/plain": [
       "dict_keys(['user', 'text', 'retweet_count', 'hashtags'])"
      ]
     },
     "execution_count": 80,
     "metadata": {},
     "output_type": "execute_result"
    }
   ],
   "source": [
    "tweet_keys   = tweet.keys()     # lista kluczy\n",
    "tweet_keys  "
   ]
  },
  {
   "cell_type": "code",
   "execution_count": 81,
   "id": "efe5bb12",
   "metadata": {},
   "outputs": [
    {
     "data": {
      "text/plain": [
       "dict_values(['joelgrus', 'Data Science is Awesome', 100, ['#data', '#science', '#datascience', '#awesome', '#yolo']])"
      ]
     },
     "execution_count": 81,
     "metadata": {},
     "output_type": "execute_result"
    }
   ],
   "source": [
    "tweet_values = tweet.values()   # lista wartości\n",
    "tweet_values"
   ]
  },
  {
   "cell_type": "code",
   "execution_count": 82,
   "id": "12bc33f5",
   "metadata": {},
   "outputs": [
    {
     "data": {
      "text/plain": [
       "dict_items([('user', 'joelgrus'), ('text', 'Data Science is Awesome'), ('retweet_count', 100), ('hashtags', ['#data', '#science', '#datascience', '#awesome', '#yolo'])])"
      ]
     },
     "execution_count": 82,
     "metadata": {},
     "output_type": "execute_result"
    }
   ],
   "source": [
    "tweet_items  = tweet.items()    # lista krotek mających postać (klucz, wartość)\n",
    "tweet_items "
   ]
  },
  {
   "cell_type": "code",
   "execution_count": 83,
   "id": "d57fa50c",
   "metadata": {},
   "outputs": [
    {
     "data": {
      "text/plain": [
       "True"
      ]
     },
     "execution_count": 83,
     "metadata": {},
     "output_type": "execute_result"
    }
   ],
   "source": [
    "\"user\" in tweet_keys            # prawda, ale niezbyt pythonowy sposób"
   ]
  },
  {
   "cell_type": "code",
   "execution_count": 84,
   "id": "d3ee04f7",
   "metadata": {},
   "outputs": [
    {
     "data": {
      "text/plain": [
       "True"
      ]
     },
     "execution_count": 84,
     "metadata": {},
     "output_type": "execute_result"
    }
   ],
   "source": [
    "\"user\" in tweet                 # pythonowy sposób sprawdzania kluczy"
   ]
  },
  {
   "cell_type": "code",
   "execution_count": 85,
   "id": "dec46752",
   "metadata": {},
   "outputs": [
    {
     "data": {
      "text/plain": [
       "True"
      ]
     },
     "execution_count": 85,
     "metadata": {},
     "output_type": "execute_result"
    }
   ],
   "source": [
    "\"joelgrus\" in tweet_values      # prawda (powolny, ale jedyny sposób, aby to sprawdzić)"
   ]
  },
  {
   "cell_type": "markdown",
   "id": "14c9d494",
   "metadata": {},
   "source": [
    "### Defaultdict"
   ]
  },
  {
   "cell_type": "code",
   "execution_count": 86,
   "id": "c8ad04a8",
   "metadata": {},
   "outputs": [],
   "source": [
    "# Policzenie występowanie słów\n",
    "document = [\"data\", \"science\", \"from\", \"scratch\"]"
   ]
  },
  {
   "cell_type": "code",
   "execution_count": 87,
   "id": "eb510785",
   "metadata": {},
   "outputs": [
    {
     "data": {
      "text/plain": [
       "{'data': 1, 'science': 1, 'from': 1, 'scratch': 1}"
      ]
     },
     "execution_count": 87,
     "metadata": {},
     "output_type": "execute_result"
    }
   ],
   "source": [
    "# Pierwszy sposób \n",
    "word_counts = {}\n",
    "for word in document:\n",
    "    if word in word_counts:\n",
    "        word_counts[word] += 1\n",
    "    else:\n",
    "        word_counts[word] = 1\n",
    "\n",
    "word_counts"
   ]
  },
  {
   "cell_type": "code",
   "execution_count": 88,
   "id": "7f273436",
   "metadata": {},
   "outputs": [
    {
     "data": {
      "text/plain": [
       "{'data': 1, 'science': 1, 'from': 1, 'scratch': 1}"
      ]
     },
     "execution_count": 88,
     "metadata": {},
     "output_type": "execute_result"
    }
   ],
   "source": [
    "# Drugi sposób- Wyjątek\n",
    "word_counts = {}\n",
    "for word in document:\n",
    "    try:\n",
    "        word_counts[word] += 1\n",
    "    except KeyError:\n",
    "        word_counts[word] = 1\n",
    "\n",
    "word_counts"
   ]
  },
  {
   "cell_type": "code",
   "execution_count": 89,
   "id": "46c2225f",
   "metadata": {},
   "outputs": [
    {
     "data": {
      "text/plain": [
       "{'data': 1, 'science': 1, 'from': 1, 'scratch': 1}"
      ]
     },
     "execution_count": 89,
     "metadata": {},
     "output_type": "execute_result"
    }
   ],
   "source": [
    "# trzeci sposób - sprawdzenie brakującego klucza za pomocą polecenia get\n",
    "word_counts = {}\n",
    "for word in document:\n",
    "    previous_count = word_counts.get(word, 0)\n",
    "    word_counts[word] = previous_count + 1\n",
    "    \n",
    "word_counts"
   ]
  },
  {
   "cell_type": "code",
   "execution_count": 90,
   "id": "01045f52",
   "metadata": {},
   "outputs": [],
   "source": [
    "# Słownik default\n",
    "from collections import defaultdict"
   ]
  },
  {
   "cell_type": "code",
   "execution_count": 91,
   "id": "d4e2ea7c",
   "metadata": {},
   "outputs": [
    {
     "data": {
      "text/plain": [
       "defaultdict(int, {'data': 1, 'science': 1, 'from': 1, 'scratch': 1})"
      ]
     },
     "execution_count": 91,
     "metadata": {},
     "output_type": "execute_result"
    }
   ],
   "source": [
    "word_counts = defaultdict(int)          # int() generuje wartość 0\n",
    "for word in document:\n",
    "    word_counts[word] += 1\n",
    "    \n",
    "word_counts"
   ]
  },
  {
   "cell_type": "code",
   "execution_count": 92,
   "id": "ee8cbcb1",
   "metadata": {},
   "outputs": [
    {
     "data": {
      "text/plain": [
       "defaultdict(list, {2: [1]})"
      ]
     },
     "execution_count": 92,
     "metadata": {},
     "output_type": "execute_result"
    }
   ],
   "source": [
    "dd_list = defaultdict(list)             # Funkcja list() generuje pustą listę.\n",
    "dd_list[2].append(1)                    # Teraz dd_list zawiera {2: [1]}.\n",
    "\n",
    "dd_list"
   ]
  },
  {
   "cell_type": "code",
   "execution_count": 93,
   "id": "d0b08cba",
   "metadata": {},
   "outputs": [
    {
     "data": {
      "text/plain": [
       "defaultdict(dict, {'Joel': {'City': 'Seattle'}})"
      ]
     },
     "execution_count": 93,
     "metadata": {},
     "output_type": "execute_result"
    }
   ],
   "source": [
    "dd_dict = defaultdict(dict)             # Funkcja dict() generuje pusty słownik.\n",
    "dd_dict[\"Joel\"][\"City\"] = \"Seattle\"     # { \"Joel\" : { \"City\" : Seattle\"}}\n",
    "\n",
    "dd_dict"
   ]
  },
  {
   "cell_type": "code",
   "execution_count": 94,
   "id": "4087be8f",
   "metadata": {},
   "outputs": [
    {
     "data": {
      "text/plain": [
       "defaultdict(<function __main__.<lambda>()>, {2: [0, 1]})"
      ]
     },
     "execution_count": 94,
     "metadata": {},
     "output_type": "execute_result"
    }
   ],
   "source": [
    "dd_pair = defaultdict(lambda: [0, 0])\n",
    "dd_pair[2][1] = 1                       # Teraz dd_pair zawiera {2: [0,1]}.\n",
    "\n",
    "dd_pair"
   ]
  },
  {
   "cell_type": "markdown",
   "id": "78c8db60",
   "metadata": {},
   "source": [
    "### Counter"
   ]
  },
  {
   "cell_type": "markdown",
   "id": "dbb79c79",
   "metadata": {},
   "source": [
    "Funkcja Counter zamienia sekwencję wartości w obiekt podobny do dafaultdict(int) - mapuje klucze do liczby ich wystąpień"
   ]
  },
  {
   "cell_type": "code",
   "execution_count": 95,
   "id": "b4b96fb3",
   "metadata": {},
   "outputs": [
    {
     "data": {
      "text/plain": [
       "Counter({0: 2, 1: 1, 2: 1})"
      ]
     },
     "execution_count": 95,
     "metadata": {},
     "output_type": "execute_result"
    }
   ],
   "source": [
    "from collections import Counter\n",
    "c = Counter([0, 1, 2, 0])          # Obiekt c ma formę: { 0 : 2, 1 : 1, 2 : 1 }.\n",
    "\n",
    "c"
   ]
  },
  {
   "cell_type": "code",
   "execution_count": 96,
   "id": "1fedecd7",
   "metadata": {},
   "outputs": [
    {
     "data": {
      "text/plain": [
       "Counter({'data': 1, 'science': 1, 'from': 1, 'scratch': 1})"
      ]
     },
     "execution_count": 96,
     "metadata": {},
     "output_type": "execute_result"
    }
   ],
   "source": [
    "# document jest listą słów\n",
    "word_counts = Counter(document)\n",
    "\n",
    "word_counts"
   ]
  },
  {
   "cell_type": "code",
   "execution_count": 97,
   "id": "3b3b61be",
   "metadata": {},
   "outputs": [
    {
     "name": "stdout",
     "output_type": "stream",
     "text": [
      "data 1\n",
      "science 1\n",
      "from 1\n",
      "scratch 1\n"
     ]
    }
   ],
   "source": [
    "# Obiekt Counter ma metodę most_common, która służy do wybierania najczęściej występującego elementu\n",
    "\n",
    "# Wyświetl 10 najczęściej występujących słów i podaj liczbę ich wystąpień.\n",
    "for word, count in word_counts.most_common(10):\n",
    "    print(word, count)"
   ]
  },
  {
   "cell_type": "markdown",
   "id": "8b7bdb2c",
   "metadata": {},
   "source": [
    "### Zbiory"
   ]
  },
  {
   "cell_type": "markdown",
   "id": "39f6caab",
   "metadata": {},
   "source": [
    "Zbiór jest kolejną strukturą danych. Służy on do tworzenia zbiorów unikatowych elementów."
   ]
  },
  {
   "cell_type": "code",
   "execution_count": 98,
   "id": "867191ec",
   "metadata": {},
   "outputs": [],
   "source": [
    "primes_below_10 = {2, 3, 5, 7}"
   ]
  },
  {
   "cell_type": "code",
   "execution_count": 99,
   "id": "038f505c",
   "metadata": {},
   "outputs": [],
   "source": [
    "s = set()\n",
    "s.add(1)       # s zawiera teraz {1}\n",
    "s.add(2)       # s zawiera teraz {1, 2}\n",
    "s.add(2)       # s wciąż zawiera {1, 2}"
   ]
  },
  {
   "cell_type": "code",
   "execution_count": 100,
   "id": "c7ebadfd",
   "metadata": {},
   "outputs": [
    {
     "data": {
      "text/plain": [
       "{1, 2}"
      ]
     },
     "execution_count": 100,
     "metadata": {},
     "output_type": "execute_result"
    }
   ],
   "source": [
    "s"
   ]
  },
  {
   "cell_type": "code",
   "execution_count": 101,
   "id": "e26e6e71",
   "metadata": {},
   "outputs": [
    {
     "data": {
      "text/plain": [
       "2"
      ]
     },
     "execution_count": 101,
     "metadata": {},
     "output_type": "execute_result"
    }
   ],
   "source": [
    "x = len(s)     # równa się 2\n",
    "x"
   ]
  },
  {
   "cell_type": "code",
   "execution_count": 102,
   "id": "7a9d4efd",
   "metadata": {},
   "outputs": [
    {
     "data": {
      "text/plain": [
       "True"
      ]
     },
     "execution_count": 102,
     "metadata": {},
     "output_type": "execute_result"
    }
   ],
   "source": [
    "y = 2 in s     # zwraca prawdę\n",
    "y"
   ]
  },
  {
   "cell_type": "code",
   "execution_count": 103,
   "id": "6c16490e",
   "metadata": {},
   "outputs": [
    {
     "data": {
      "text/plain": [
       "False"
      ]
     },
     "execution_count": 103,
     "metadata": {},
     "output_type": "execute_result"
    }
   ],
   "source": [
    "z = 3 in s     # zwraca fałsz\n",
    "z"
   ]
  },
  {
   "cell_type": "code",
   "execution_count": 104,
   "id": "47d802ef",
   "metadata": {},
   "outputs": [],
   "source": [
    "setki_innych_wyrazow = []  # required for the below code to run"
   ]
  },
  {
   "cell_type": "code",
   "execution_count": 105,
   "id": "2f4be9b4",
   "metadata": {},
   "outputs": [
    {
     "data": {
      "text/plain": [
       "['a', 'an', 'at', 'yet', 'you']"
      ]
     },
     "execution_count": 105,
     "metadata": {},
     "output_type": "execute_result"
    }
   ],
   "source": [
    "stopwords_list = [\"a\", \"an\", \"at\"] + setki_innych_wyrazow + [\"yet\", \"you\"]\n",
    "stopwords_list "
   ]
  },
  {
   "cell_type": "code",
   "execution_count": 106,
   "id": "81f249a8",
   "metadata": {},
   "outputs": [
    {
     "data": {
      "text/plain": [
       "False"
      ]
     },
     "execution_count": 106,
     "metadata": {},
     "output_type": "execute_result"
    }
   ],
   "source": [
    "\"zip\" in stopwords_list     # Zwracany jest fałsz, ale operacja wymagała sprawdzenia każdego elementu."
   ]
  },
  {
   "cell_type": "code",
   "execution_count": 107,
   "id": "fe153b68",
   "metadata": {},
   "outputs": [
    {
     "data": {
      "text/plain": [
       "False"
      ]
     },
     "execution_count": 107,
     "metadata": {},
     "output_type": "execute_result"
    }
   ],
   "source": [
    "stopwords_set = set(stopwords_list)\n",
    "\"zip\" in stopwords_set      # Operacja sprawdzania przebiega bardzo szybko."
   ]
  },
  {
   "cell_type": "code",
   "execution_count": 108,
   "id": "fed72054",
   "metadata": {},
   "outputs": [],
   "source": [
    "# Szukanie unikatowych elementów\n",
    "item_list = [1, 2, 3, 1, 2, 3]"
   ]
  },
  {
   "cell_type": "code",
   "execution_count": 109,
   "id": "07c27ad6",
   "metadata": {},
   "outputs": [
    {
     "data": {
      "text/plain": [
       "6"
      ]
     },
     "execution_count": 109,
     "metadata": {},
     "output_type": "execute_result"
    }
   ],
   "source": [
    "num_items = len(item_list)                # 6\n",
    "num_items "
   ]
  },
  {
   "cell_type": "code",
   "execution_count": 110,
   "id": "c6f4d21c",
   "metadata": {},
   "outputs": [
    {
     "data": {
      "text/plain": [
       "{1, 2, 3}"
      ]
     },
     "execution_count": 110,
     "metadata": {},
     "output_type": "execute_result"
    }
   ],
   "source": [
    "item_set = set(item_list)                 # {1, 2, 3}\n",
    "item_set"
   ]
  },
  {
   "cell_type": "code",
   "execution_count": 111,
   "id": "053f1a2f",
   "metadata": {},
   "outputs": [
    {
     "data": {
      "text/plain": [
       "3"
      ]
     },
     "execution_count": 111,
     "metadata": {},
     "output_type": "execute_result"
    }
   ],
   "source": [
    "num_distinct_items = len(item_set)        # 3\n",
    "num_distinct_items"
   ]
  },
  {
   "cell_type": "code",
   "execution_count": 112,
   "id": "44d9b438",
   "metadata": {},
   "outputs": [
    {
     "data": {
      "text/plain": [
       "[1, 2, 3]"
      ]
     },
     "execution_count": 112,
     "metadata": {},
     "output_type": "execute_result"
    }
   ],
   "source": [
    "distinct_item_list = list(item_set)       # [1, 2, 3]\n",
    "distinct_item_list"
   ]
  },
  {
   "cell_type": "markdown",
   "id": "7c86d25e",
   "metadata": {},
   "source": [
    "### Przepływ sterowania"
   ]
  },
  {
   "cell_type": "code",
   "execution_count": 114,
   "id": "db59fbc0",
   "metadata": {},
   "outputs": [],
   "source": [
    "# Pętla warunkowa if\n",
    "if 1 > 2:\n",
    "    message = \"Gdyby 1 było większe od 2...\"\n",
    "elif 1 > 3:\n",
    "    message = \"Instrukcja elif służy do podawania kolejnego sprawdzanego warunku.\"\n",
    "else:\n",
    "    message = \"Instrukcja else służy do definiowania kodu wykonywanego po niespełnieniu wszystkich warunków.\""
   ]
  },
  {
   "cell_type": "code",
   "execution_count": 115,
   "id": "e9e8e83c",
   "metadata": {},
   "outputs": [],
   "source": [
    "# kod if, then, else można połączyć w jednej linii\n",
    "parity = \"parzyste\" if x % 2 == 0 else \"nieparzyste\""
   ]
  },
  {
   "cell_type": "code",
   "execution_count": 116,
   "id": "8a13fda2",
   "metadata": {},
   "outputs": [
    {
     "name": "stdout",
     "output_type": "stream",
     "text": [
      "0 jest mniejsze od 10\n",
      "1 jest mniejsze od 10\n",
      "2 jest mniejsze od 10\n",
      "3 jest mniejsze od 10\n",
      "4 jest mniejsze od 10\n",
      "5 jest mniejsze od 10\n",
      "6 jest mniejsze od 10\n",
      "7 jest mniejsze od 10\n",
      "8 jest mniejsze od 10\n",
      "9 jest mniejsze od 10\n"
     ]
    }
   ],
   "source": [
    "# Pętla while\n",
    "x = 0\n",
    "while x < 10:\n",
    "    print(f\"{x} jest mniejsze od 10\")\n",
    "    x += 1"
   ]
  },
  {
   "cell_type": "code",
   "execution_count": 117,
   "id": "047ef153",
   "metadata": {},
   "outputs": [
    {
     "name": "stdout",
     "output_type": "stream",
     "text": [
      "0 jest mniejsze od 10\n",
      "1 jest mniejsze od 10\n",
      "2 jest mniejsze od 10\n",
      "3 jest mniejsze od 10\n",
      "4 jest mniejsze od 10\n",
      "5 jest mniejsze od 10\n",
      "6 jest mniejsze od 10\n",
      "7 jest mniejsze od 10\n",
      "8 jest mniejsze od 10\n",
      "9 jest mniejsze od 10\n"
     ]
    }
   ],
   "source": [
    "# range(10) oznacza numery 0, 1, ..., 9\n",
    "for x in range(10):\n",
    "    print(f\"{x} jest mniejsze od 10\")"
   ]
  },
  {
   "cell_type": "code",
   "execution_count": 118,
   "id": "c708684c",
   "metadata": {},
   "outputs": [
    {
     "name": "stdout",
     "output_type": "stream",
     "text": [
      "0\n",
      "1\n",
      "2\n",
      "4\n"
     ]
    }
   ],
   "source": [
    "for x in range(10):\n",
    "    if x == 3:\n",
    "        continue  # Przejdź od razu do kolejnej iteracji.\n",
    "    if x == 5:\n",
    "        break     # Przerwij działanie pętli.\n",
    "    print(x)"
   ]
  },
  {
   "cell_type": "markdown",
   "id": "e594a9c5",
   "metadata": {},
   "source": [
    "### Wartości logiczne"
   ]
  },
  {
   "cell_type": "code",
   "execution_count": 119,
   "id": "15d72ea1",
   "metadata": {},
   "outputs": [
    {
     "data": {
      "text/plain": [
       "True"
      ]
     },
     "execution_count": 119,
     "metadata": {},
     "output_type": "execute_result"
    }
   ],
   "source": [
    "one_is_less_than_two = 1 < 2          # prawda logiczna (True)\n",
    "one_is_less_than_two"
   ]
  },
  {
   "cell_type": "code",
   "execution_count": 120,
   "id": "02c8152c",
   "metadata": {},
   "outputs": [
    {
     "data": {
      "text/plain": [
       "False"
      ]
     },
     "execution_count": 120,
     "metadata": {},
     "output_type": "execute_result"
    }
   ],
   "source": [
    "true_equals_false = True == False     # fałsz logiczny (False)\n",
    "true_equals_false"
   ]
  },
  {
   "cell_type": "code",
   "execution_count": 121,
   "id": "8214c8fc",
   "metadata": {},
   "outputs": [],
   "source": [
    "x = None\n",
    "assert x == None, \"to nie jest pythonowy sposób na sprawdzenie, czy zmienna jest równa None\"\n",
    "assert x is None, \"to jest pythonowy sposób na sprawdzenie, czy zmienna jest równa None\""
   ]
  },
  {
   "cell_type": "code",
   "execution_count": 122,
   "id": "f06f7fda",
   "metadata": {},
   "outputs": [],
   "source": [
    "def some_function_that_returns_a_string():\n",
    "    return \"\""
   ]
  },
  {
   "cell_type": "code",
   "execution_count": 123,
   "id": "c303b5c4",
   "metadata": {},
   "outputs": [],
   "source": [
    "s = some_function_that_returns_a_string()\n",
    "if s:\n",
    "    first_char = s[0]\n",
    "else:\n",
    "    first_char = \"\""
   ]
  },
  {
   "cell_type": "code",
   "execution_count": 124,
   "id": "670d27b6",
   "metadata": {},
   "outputs": [
    {
     "data": {
      "text/plain": [
       "''"
      ]
     },
     "execution_count": 124,
     "metadata": {},
     "output_type": "execute_result"
    }
   ],
   "source": [
    "first_char = s and s[0]\n",
    "first_char"
   ]
  },
  {
   "cell_type": "code",
   "execution_count": 125,
   "id": "bbee14ec",
   "metadata": {},
   "outputs": [
    {
     "data": {
      "text/plain": [
       "0"
      ]
     },
     "execution_count": 125,
     "metadata": {},
     "output_type": "execute_result"
    }
   ],
   "source": [
    "# czy x jest liczbą\n",
    "safe_x = x or 0\n",
    "safe_x"
   ]
  },
  {
   "cell_type": "code",
   "execution_count": 126,
   "id": "2cca7ca2",
   "metadata": {},
   "outputs": [
    {
     "data": {
      "text/plain": [
       "0"
      ]
     },
     "execution_count": 126,
     "metadata": {},
     "output_type": "execute_result"
    }
   ],
   "source": [
    "safe_x = x if x is not None else 0\n",
    "safe_x"
   ]
  },
  {
   "cell_type": "code",
   "execution_count": 127,
   "id": "ab6824fb",
   "metadata": {},
   "outputs": [
    {
     "data": {
      "text/plain": [
       "True"
      ]
     },
     "execution_count": 127,
     "metadata": {},
     "output_type": "execute_result"
    }
   ],
   "source": [
    "# funkcja all\n",
    "all([True, 1, {3}])   # True, wszystkie wartości są traktowane jako prawda."
   ]
  },
  {
   "cell_type": "code",
   "execution_count": 128,
   "id": "406a8741",
   "metadata": {},
   "outputs": [
    {
     "data": {
      "text/plain": [
       "False"
      ]
     },
     "execution_count": 128,
     "metadata": {},
     "output_type": "execute_result"
    }
   ],
   "source": [
    "all([True, 1, {}])    # False, {} jest traktowane jako fałsz."
   ]
  },
  {
   "cell_type": "code",
   "execution_count": 129,
   "id": "5478e326",
   "metadata": {},
   "outputs": [
    {
     "data": {
      "text/plain": [
       "True"
      ]
     },
     "execution_count": 129,
     "metadata": {},
     "output_type": "execute_result"
    }
   ],
   "source": [
    "any([True, 1, {}])    # True, True jest traktowane jako prawda."
   ]
  },
  {
   "cell_type": "code",
   "execution_count": 130,
   "id": "57d5bea8",
   "metadata": {},
   "outputs": [
    {
     "data": {
      "text/plain": [
       "True"
      ]
     },
     "execution_count": 130,
     "metadata": {},
     "output_type": "execute_result"
    }
   ],
   "source": [
    "all([])               # True, brak elementów będących fałszem."
   ]
  },
  {
   "cell_type": "code",
   "execution_count": 131,
   "id": "e2354189",
   "metadata": {},
   "outputs": [
    {
     "data": {
      "text/plain": [
       "False"
      ]
     },
     "execution_count": 131,
     "metadata": {},
     "output_type": "execute_result"
    }
   ],
   "source": [
    "any([])               # False, brak elementów będących prawdą."
   ]
  },
  {
   "cell_type": "markdown",
   "id": "2864ab87",
   "metadata": {},
   "source": [
    "### Sortowanie"
   ]
  },
  {
   "cell_type": "code",
   "execution_count": 132,
   "id": "10121a5f",
   "metadata": {},
   "outputs": [
    {
     "data": {
      "text/plain": [
       "[1, 2, 3, 4]"
      ]
     },
     "execution_count": 132,
     "metadata": {},
     "output_type": "execute_result"
    }
   ],
   "source": [
    "x = [4, 1, 2, 3]\n",
    "y = sorted(x)     # Lista y ma postać [1,2,3,4], a lista x pozostała niezmodyfikowana.\n",
    "x.sort()          # Teraz lista x ma postać [1,2,3,4].\n",
    "y"
   ]
  },
  {
   "cell_type": "code",
   "execution_count": 133,
   "id": "d602eb7d",
   "metadata": {},
   "outputs": [
    {
     "data": {
      "text/plain": [
       "[-4, 3, -2, 1]"
      ]
     },
     "execution_count": 133,
     "metadata": {},
     "output_type": "execute_result"
    }
   ],
   "source": [
    "# Sortuje wartości od najwyższej do najniższej.\n",
    "x = sorted([-4, 1, -2, 3], key=abs, reverse=True)  # is [-4, 3, -2, 1]\n",
    "x"
   ]
  },
  {
   "cell_type": "code",
   "execution_count": 134,
   "id": "6ff73c8d",
   "metadata": {},
   "outputs": [
    {
     "data": {
      "text/plain": [
       "[('data', 1), ('science', 1), ('from', 1), ('scratch', 1)]"
      ]
     },
     "execution_count": 134,
     "metadata": {},
     "output_type": "execute_result"
    }
   ],
   "source": [
    "# Sortuje słowa i przypisane im wartości od najwyższej wartości do najniższej.\n",
    "wc = sorted(word_counts.items(),\n",
    "            key=lambda word_and_count: word_and_count[1],\n",
    "            reverse=True)\n",
    "\n",
    "wc"
   ]
  },
  {
   "cell_type": "markdown",
   "id": "49cf845a",
   "metadata": {},
   "source": [
    "### Składanie list"
   ]
  },
  {
   "cell_type": "code",
   "execution_count": 135,
   "id": "e44c341a",
   "metadata": {},
   "outputs": [
    {
     "data": {
      "text/plain": [
       "[0, 2, 4]"
      ]
     },
     "execution_count": 135,
     "metadata": {},
     "output_type": "execute_result"
    }
   ],
   "source": [
    "even_numbers = [x for x in range(5) if x % 2 == 0]  # [0, 2, 4]\n",
    "even_numbers "
   ]
  },
  {
   "cell_type": "code",
   "execution_count": 136,
   "id": "63e1f521",
   "metadata": {},
   "outputs": [
    {
     "data": {
      "text/plain": [
       "[0, 1, 4, 9, 16]"
      ]
     },
     "execution_count": 136,
     "metadata": {},
     "output_type": "execute_result"
    }
   ],
   "source": [
    "squares      = [x * x for x in range(5)]            # [0, 1, 4, 9, 16]\n",
    "squares  "
   ]
  },
  {
   "cell_type": "code",
   "execution_count": 137,
   "id": "506f6298",
   "metadata": {},
   "outputs": [
    {
     "data": {
      "text/plain": [
       "[0, 4, 16]"
      ]
     },
     "execution_count": 137,
     "metadata": {},
     "output_type": "execute_result"
    }
   ],
   "source": [
    "even_squares = [x * x for x in even_numbers]        # [0, 4, 16]\n",
    "even_squares "
   ]
  },
  {
   "cell_type": "code",
   "execution_count": 138,
   "id": "bcebad00",
   "metadata": {},
   "outputs": [
    {
     "data": {
      "text/plain": [
       "{0: 0, 1: 1, 2: 4, 3: 9, 4: 16}"
      ]
     },
     "execution_count": 138,
     "metadata": {},
     "output_type": "execute_result"
    }
   ],
   "source": [
    "# listy mogą być przekształcane na słowniki lub zbiory\n",
    "square_dict = {x: x * x for x in range(5)}  # {0: 0, 1: 1, 2: 4, 3: 9, 4: 16}\n",
    "square_dict "
   ]
  },
  {
   "cell_type": "code",
   "execution_count": 139,
   "id": "b804dba6",
   "metadata": {},
   "outputs": [
    {
     "data": {
      "text/plain": [
       "{1}"
      ]
     },
     "execution_count": 139,
     "metadata": {},
     "output_type": "execute_result"
    }
   ],
   "source": [
    "square_set  = {x * x for x in [1, -1]}      # {1}\n",
    "square_set "
   ]
  },
  {
   "cell_type": "code",
   "execution_count": 140,
   "id": "9d53ac4f",
   "metadata": {},
   "outputs": [
    {
     "data": {
      "text/plain": [
       "[0, 0, 0]"
      ]
     },
     "execution_count": 140,
     "metadata": {},
     "output_type": "execute_result"
    }
   ],
   "source": [
    "# Jeśli nie potrzeba jakiejś wartości z listy, to można ją pominąć za pomocą znaku podkreślenia\n",
    "zeros = [0 for _ in even_numbers]      # Obiekt wyjściowy ma taką samą długość jak even_numbers.\n",
    "zeros"
   ]
  },
  {
   "cell_type": "code",
   "execution_count": 141,
   "id": "e790989e",
   "metadata": {},
   "outputs": [
    {
     "data": {
      "text/plain": [
       "[(0, 0),\n",
       " (0, 1),\n",
       " (0, 2),\n",
       " (0, 3),\n",
       " (0, 4),\n",
       " (0, 5),\n",
       " (0, 6),\n",
       " (0, 7),\n",
       " (0, 8),\n",
       " (0, 9),\n",
       " (1, 0),\n",
       " (1, 1),\n",
       " (1, 2),\n",
       " (1, 3),\n",
       " (1, 4),\n",
       " (1, 5),\n",
       " (1, 6),\n",
       " (1, 7),\n",
       " (1, 8),\n",
       " (1, 9),\n",
       " (2, 0),\n",
       " (2, 1),\n",
       " (2, 2),\n",
       " (2, 3),\n",
       " (2, 4),\n",
       " (2, 5),\n",
       " (2, 6),\n",
       " (2, 7),\n",
       " (2, 8),\n",
       " (2, 9),\n",
       " (3, 0),\n",
       " (3, 1),\n",
       " (3, 2),\n",
       " (3, 3),\n",
       " (3, 4),\n",
       " (3, 5),\n",
       " (3, 6),\n",
       " (3, 7),\n",
       " (3, 8),\n",
       " (3, 9),\n",
       " (4, 0),\n",
       " (4, 1),\n",
       " (4, 2),\n",
       " (4, 3),\n",
       " (4, 4),\n",
       " (4, 5),\n",
       " (4, 6),\n",
       " (4, 7),\n",
       " (4, 8),\n",
       " (4, 9),\n",
       " (5, 0),\n",
       " (5, 1),\n",
       " (5, 2),\n",
       " (5, 3),\n",
       " (5, 4),\n",
       " (5, 5),\n",
       " (5, 6),\n",
       " (5, 7),\n",
       " (5, 8),\n",
       " (5, 9),\n",
       " (6, 0),\n",
       " (6, 1),\n",
       " (6, 2),\n",
       " (6, 3),\n",
       " (6, 4),\n",
       " (6, 5),\n",
       " (6, 6),\n",
       " (6, 7),\n",
       " (6, 8),\n",
       " (6, 9),\n",
       " (7, 0),\n",
       " (7, 1),\n",
       " (7, 2),\n",
       " (7, 3),\n",
       " (7, 4),\n",
       " (7, 5),\n",
       " (7, 6),\n",
       " (7, 7),\n",
       " (7, 8),\n",
       " (7, 9),\n",
       " (8, 0),\n",
       " (8, 1),\n",
       " (8, 2),\n",
       " (8, 3),\n",
       " (8, 4),\n",
       " (8, 5),\n",
       " (8, 6),\n",
       " (8, 7),\n",
       " (8, 8),\n",
       " (8, 9),\n",
       " (9, 0),\n",
       " (9, 1),\n",
       " (9, 2),\n",
       " (9, 3),\n",
       " (9, 4),\n",
       " (9, 5),\n",
       " (9, 6),\n",
       " (9, 7),\n",
       " (9, 8),\n",
       " (9, 9)]"
      ]
     },
     "execution_count": 141,
     "metadata": {},
     "output_type": "execute_result"
    }
   ],
   "source": [
    "pairs = [(x, y)\n",
    "         for x in range(10)\n",
    "         for y in range(10)]   # 100 par (0,0) (0,1) ... (9,8), (9,9)\n",
    "\n",
    "pairs"
   ]
  },
  {
   "cell_type": "code",
   "execution_count": 142,
   "id": "22c82684",
   "metadata": {},
   "outputs": [
    {
     "data": {
      "text/plain": [
       "[(0, 1),\n",
       " (0, 2),\n",
       " (0, 3),\n",
       " (0, 4),\n",
       " (0, 5),\n",
       " (0, 6),\n",
       " (0, 7),\n",
       " (0, 8),\n",
       " (0, 9),\n",
       " (1, 2),\n",
       " (1, 3),\n",
       " (1, 4),\n",
       " (1, 5),\n",
       " (1, 6),\n",
       " (1, 7),\n",
       " (1, 8),\n",
       " (1, 9),\n",
       " (2, 3),\n",
       " (2, 4),\n",
       " (2, 5),\n",
       " (2, 6),\n",
       " (2, 7),\n",
       " (2, 8),\n",
       " (2, 9),\n",
       " (3, 4),\n",
       " (3, 5),\n",
       " (3, 6),\n",
       " (3, 7),\n",
       " (3, 8),\n",
       " (3, 9),\n",
       " (4, 5),\n",
       " (4, 6),\n",
       " (4, 7),\n",
       " (4, 8),\n",
       " (4, 9),\n",
       " (5, 6),\n",
       " (5, 7),\n",
       " (5, 8),\n",
       " (5, 9),\n",
       " (6, 7),\n",
       " (6, 8),\n",
       " (6, 9),\n",
       " (7, 8),\n",
       " (7, 9),\n",
       " (8, 9)]"
      ]
     },
     "execution_count": 142,
     "metadata": {},
     "output_type": "execute_result"
    }
   ],
   "source": [
    "increasing_pairs = [(x, y)                       # tylko pary spełniające warunek x < y,\n",
    "                    for x in range(10)           # range(pocz., koń.) jest równe\n",
    "                    for y in range(x + 1, 10)]   # [pocz., pocz. + 1, ..., koń. - 1]\n",
    "\n",
    "increasing_pairs"
   ]
  },
  {
   "cell_type": "markdown",
   "id": "edebef03",
   "metadata": {},
   "source": [
    "### Testy automatyczne i instrukcja assert"
   ]
  },
  {
   "cell_type": "code",
   "execution_count": 143,
   "id": "e46ee66f",
   "metadata": {},
   "outputs": [],
   "source": [
    "assert 1 + 1 == 2\n",
    "assert 1 + 1 == 2, \"1 + 1 powinno być równe 2, ale nie jest\""
   ]
  },
  {
   "cell_type": "code",
   "execution_count": 144,
   "id": "d9389f2d",
   "metadata": {},
   "outputs": [
    {
     "data": {
      "text/plain": [
       "5"
      ]
     },
     "execution_count": 144,
     "metadata": {},
     "output_type": "execute_result"
    }
   ],
   "source": [
    "def smallest_item(xs):\n",
    "    return min(xs)\n",
    "\n",
    "smallest_item([10, 20, 5, 40])"
   ]
  },
  {
   "cell_type": "code",
   "execution_count": 145,
   "id": "92895f62",
   "metadata": {},
   "outputs": [
    {
     "data": {
      "text/plain": [
       "-1"
      ]
     },
     "execution_count": 145,
     "metadata": {},
     "output_type": "execute_result"
    }
   ],
   "source": [
    "smallest_item([1, 0, -1, 2])"
   ]
  },
  {
   "cell_type": "code",
   "execution_count": 146,
   "id": "85c743e8",
   "metadata": {},
   "outputs": [],
   "source": [
    "# walidacja parametrów funkcji\n",
    "def smallest_item(xs):\n",
    "    assert xs, \"pusta lista nie ma najmniejszego elementu\"\n",
    "    return min(xs)"
   ]
  },
  {
   "cell_type": "markdown",
   "id": "a10ab077",
   "metadata": {},
   "source": [
    "### Programowanie obiektowe"
   ]
  },
  {
   "cell_type": "code",
   "execution_count": 147,
   "id": "949050ac",
   "metadata": {},
   "outputs": [],
   "source": [
    "# klasa reprezentująca licznik kliknięć\n",
    "class CountingClicker:\n",
    "    \"\"\"Klasa, podobnie jak funkcja, powinna mieć opis dokumentujący. \"\"\"\n",
    "\n",
    "    def __init__(self, count = 0):\n",
    "        self.count = count\n",
    "\n",
    "    def __repr__(self):\n",
    "        return f\"CountingClicker(count={self.count})\"\n",
    "\n",
    "    def click(self, num_times = 1):\n",
    "        \"\"\"Kliknięcie licznika określoną liczbę razy.\"\"\"\n",
    "        self.count += num_times\n",
    "\n",
    "    def read(self):\n",
    "        return self.count\n",
    "\n",
    "    def reset(self):\n",
    "        self.count = 0"
   ]
  },
  {
   "cell_type": "code",
   "execution_count": 148,
   "id": "2eaa4bb3",
   "metadata": {},
   "outputs": [],
   "source": [
    "clicker = CountingClicker()"
   ]
  },
  {
   "cell_type": "code",
   "execution_count": 149,
   "id": "5298baf2",
   "metadata": {},
   "outputs": [
    {
     "data": {
      "text/plain": [
       "CountingClicker(count=0)"
      ]
     },
     "execution_count": 149,
     "metadata": {},
     "output_type": "execute_result"
    }
   ],
   "source": [
    "clicker"
   ]
  },
  {
   "cell_type": "code",
   "execution_count": 150,
   "id": "8b97946b",
   "metadata": {},
   "outputs": [],
   "source": [
    "clicker.click()"
   ]
  },
  {
   "cell_type": "code",
   "execution_count": 151,
   "id": "438d849e",
   "metadata": {},
   "outputs": [],
   "source": [
    "clicker.click()"
   ]
  },
  {
   "cell_type": "code",
   "execution_count": 152,
   "id": "c3b7ee3c",
   "metadata": {},
   "outputs": [
    {
     "data": {
      "text/plain": [
       "CountingClicker(count=2)"
      ]
     },
     "execution_count": 152,
     "metadata": {},
     "output_type": "execute_result"
    }
   ],
   "source": [
    "clicker"
   ]
  },
  {
   "cell_type": "code",
   "execution_count": 153,
   "id": "b5b8ad7f",
   "metadata": {},
   "outputs": [],
   "source": [
    "clicker.reset()"
   ]
  },
  {
   "cell_type": "code",
   "execution_count": 154,
   "id": "fb3567f2",
   "metadata": {},
   "outputs": [
    {
     "data": {
      "text/plain": [
       "CountingClicker(count=0)"
      ]
     },
     "execution_count": 154,
     "metadata": {},
     "output_type": "execute_result"
    }
   ],
   "source": [
    "clicker"
   ]
  },
  {
   "cell_type": "code",
   "execution_count": 155,
   "id": "a4f637ca",
   "metadata": {},
   "outputs": [],
   "source": [
    "# klasy pochodne\n",
    "# Klasa pochodna dziedziczy wszystkie cechy klasy bazowej.\n",
    "class NoResetClicker(CountingClicker):\n",
    "    # TTa klasa ma takie same funkcje jak CountingClicker\n",
    "\n",
    "    # Z wyjątkiem tego, że funkcja reset nic nie robi.\n",
    "    def reset(self):\n",
    "        pass"
   ]
  },
  {
   "cell_type": "code",
   "execution_count": 156,
   "id": "dbfeae72",
   "metadata": {},
   "outputs": [],
   "source": [
    "clicker2 = NoResetClicker()"
   ]
  },
  {
   "cell_type": "code",
   "execution_count": 157,
   "id": "1992e026",
   "metadata": {},
   "outputs": [
    {
     "data": {
      "text/plain": [
       "CountingClicker(count=0)"
      ]
     },
     "execution_count": 157,
     "metadata": {},
     "output_type": "execute_result"
    }
   ],
   "source": [
    "clicker2"
   ]
  },
  {
   "cell_type": "code",
   "execution_count": 158,
   "id": "28cd6548",
   "metadata": {},
   "outputs": [],
   "source": [
    "clicker2.click()"
   ]
  },
  {
   "cell_type": "code",
   "execution_count": 159,
   "id": "4744d7fa",
   "metadata": {},
   "outputs": [],
   "source": [
    "clicker2.click()"
   ]
  },
  {
   "cell_type": "code",
   "execution_count": 160,
   "id": "5cd7b65e",
   "metadata": {},
   "outputs": [
    {
     "data": {
      "text/plain": [
       "CountingClicker(count=2)"
      ]
     },
     "execution_count": 160,
     "metadata": {},
     "output_type": "execute_result"
    }
   ],
   "source": [
    "clicker2"
   ]
  },
  {
   "cell_type": "code",
   "execution_count": 161,
   "id": "84cecfd5",
   "metadata": {},
   "outputs": [],
   "source": [
    "clicker2.reset()"
   ]
  },
  {
   "cell_type": "code",
   "execution_count": 162,
   "id": "0e64f782",
   "metadata": {},
   "outputs": [
    {
     "data": {
      "text/plain": [
       "CountingClicker(count=2)"
      ]
     },
     "execution_count": 162,
     "metadata": {},
     "output_type": "execute_result"
    }
   ],
   "source": [
    "clicker2"
   ]
  },
  {
   "cell_type": "markdown",
   "id": "e7f03d90",
   "metadata": {},
   "source": [
    "### Obiekty iterowalne i generatory"
   ]
  },
  {
   "cell_type": "code",
   "execution_count": 163,
   "id": "9bfdcb9b",
   "metadata": {},
   "outputs": [],
   "source": [
    "# generatory można tworzyć za pomocą funkcji yield\n",
    "def generate_range(n):\n",
    "    i = 0\n",
    "    while i < n:\n",
    "        yield i   # Każde odwołanie do funkcji yield powoduje wygenerowanie wartości generatora\n",
    "        i += 1"
   ]
  },
  {
   "cell_type": "code",
   "execution_count": 164,
   "id": "12c3790a",
   "metadata": {},
   "outputs": [
    {
     "name": "stdout",
     "output_type": "stream",
     "text": [
      "i: 0\n",
      "i: 1\n",
      "i: 2\n",
      "i: 3\n",
      "i: 4\n",
      "i: 5\n",
      "i: 6\n",
      "i: 7\n",
      "i: 8\n",
      "i: 9\n"
     ]
    }
   ],
   "source": [
    "for i in generate_range(10):\n",
    "    print(f\"i: {i}\")"
   ]
  },
  {
   "cell_type": "code",
   "execution_count": 165,
   "id": "6fd627db",
   "metadata": {},
   "outputs": [],
   "source": [
    "def natural_numbers():\n",
    "    \"\"\"Zwraca 1, 2, 3, ...\"\"\"\n",
    "    n = 1\n",
    "    while True:\n",
    "        yield n\n",
    "        n += 1"
   ]
  },
  {
   "cell_type": "code",
   "execution_count": 166,
   "id": "e531e10f",
   "metadata": {},
   "outputs": [],
   "source": [
    "evens_below_20 = (i for i in generate_range(20) if i % 2 == 0)"
   ]
  },
  {
   "cell_type": "code",
   "execution_count": 167,
   "id": "b8e0ce33",
   "metadata": {},
   "outputs": [],
   "source": [
    "# żadne z tych obliczeń nie będzie wykonane, dopóki nie przeprowadzimy iteracji\n",
    "data = natural_numbers()\n",
    "evens = (x for x in data if x % 2 == 0)\n",
    "even_squares = (x ** 2 for x in evens)\n",
    "even_squares_ending_in_six = (x for x in even_squares if x % 10 == 6)\n",
    "# i tak dalej"
   ]
  },
  {
   "cell_type": "code",
   "execution_count": 168,
   "id": "da89ba22",
   "metadata": {},
   "outputs": [],
   "source": [
    "names = [\"Alice\", \"Bob\", \"Charlie\", \"Debbie\"]"
   ]
  },
  {
   "cell_type": "code",
   "execution_count": 169,
   "id": "62d06a63",
   "metadata": {},
   "outputs": [
    {
     "name": "stdout",
     "output_type": "stream",
     "text": [
      "name 0 is Alice\n",
      "name 1 is Bob\n",
      "name 2 is Charlie\n",
      "name 3 is Debbie\n"
     ]
    }
   ],
   "source": [
    "# sposób niepythonowy\n",
    "for i in range(len(names)):\n",
    "    print(f\"name {i} is {names[i]}\")"
   ]
  },
  {
   "cell_type": "code",
   "execution_count": 170,
   "id": "bdad763e",
   "metadata": {},
   "outputs": [
    {
     "name": "stdout",
     "output_type": "stream",
     "text": [
      "name 0 is Alice\n",
      "name 1 is Bob\n",
      "name 2 is Charlie\n",
      "name 3 is Debbie\n"
     ]
    }
   ],
   "source": [
    "# również niepythonowy sposób\n",
    "i = 0\n",
    "for name in names:\n",
    "    print(f\"name {i} is {names[i]}\")\n",
    "    i += 1"
   ]
  },
  {
   "cell_type": "code",
   "execution_count": 171,
   "id": "b5775816",
   "metadata": {},
   "outputs": [
    {
     "name": "stdout",
     "output_type": "stream",
     "text": [
      "name 0 is Alice\n",
      "name 1 is Bob\n",
      "name 2 is Charlie\n",
      "name 3 is Debbie\n"
     ]
    }
   ],
   "source": [
    "# sposób pythonowy\n",
    "for i, name in enumerate(names):\n",
    "    print(f\"name {i} is {name}\")"
   ]
  },
  {
   "cell_type": "markdown",
   "id": "ec5b5f6f",
   "metadata": {},
   "source": [
    "### Losowość"
   ]
  },
  {
   "cell_type": "code",
   "execution_count": 172,
   "id": "b6982e0d",
   "metadata": {},
   "outputs": [],
   "source": [
    "import random"
   ]
  },
  {
   "cell_type": "code",
   "execution_count": 173,
   "id": "5e84ef1a",
   "metadata": {},
   "outputs": [],
   "source": [
    "random.seed(10)  # dzięki temu za każdym razem otrzymamy takie same rezultaty"
   ]
  },
  {
   "cell_type": "code",
   "execution_count": 174,
   "id": "501f2047",
   "metadata": {},
   "outputs": [
    {
     "data": {
      "text/plain": [
       "[0.5714025946899135,\n",
       " 0.4288890546751146,\n",
       " 0.5780913011344704,\n",
       " 0.20609823213950174]"
      ]
     },
     "execution_count": 174,
     "metadata": {},
     "output_type": "execute_result"
    }
   ],
   "source": [
    "four_uniform_randoms = [random.random() for _ in range(4)]\n",
    "four_uniform_randoms"
   ]
  },
  {
   "cell_type": "code",
   "execution_count": 175,
   "id": "ad4a7c52",
   "metadata": {},
   "outputs": [
    {
     "name": "stdout",
     "output_type": "stream",
     "text": [
      "0.5714025946899135\n"
     ]
    }
   ],
   "source": [
    "random.seed(10)         # Ziarno przyjmuje wartość 10.\n",
    "print(random.random())  # 0.57140259469"
   ]
  },
  {
   "cell_type": "code",
   "execution_count": 176,
   "id": "3052d332",
   "metadata": {},
   "outputs": [
    {
     "name": "stdout",
     "output_type": "stream",
     "text": [
      "0.5714025946899135\n"
     ]
    }
   ],
   "source": [
    "random.seed(10)         # Ponowne zdefiniowanie ziarna równego 10.\n",
    "print(random.random())  # Wartość 0.57140259469 została wygenerowana ponownie."
   ]
  },
  {
   "cell_type": "code",
   "execution_count": 177,
   "id": "4275607f",
   "metadata": {},
   "outputs": [
    {
     "data": {
      "text/plain": [
       "6"
      ]
     },
     "execution_count": 177,
     "metadata": {},
     "output_type": "execute_result"
    }
   ],
   "source": [
    "random.randrange(10)    # Wylosuj liczbę z zakresu range(10) = [0, 1, ..., 9]"
   ]
  },
  {
   "cell_type": "code",
   "execution_count": 178,
   "id": "c82bbdb0",
   "metadata": {},
   "outputs": [
    {
     "data": {
      "text/plain": [
       "4"
      ]
     },
     "execution_count": 178,
     "metadata": {},
     "output_type": "execute_result"
    }
   ],
   "source": [
    "random.randrange(3, 6)  # Wylosuj liczbę z zakresu range(3, 6) = [3, 4, 5]"
   ]
  },
  {
   "cell_type": "code",
   "execution_count": 179,
   "id": "caabaeeb",
   "metadata": {},
   "outputs": [
    {
     "name": "stdout",
     "output_type": "stream",
     "text": [
      "[5, 6, 9, 2, 3, 7, 8, 4, 1, 10]\n"
     ]
    }
   ],
   "source": [
    "# metoda random. shuffle - zmienia kolejnośc elementów listy na losową\n",
    "up_to_ten = [1, 2, 3, 4, 5, 6, 7, 8, 9, 10]\n",
    "random.shuffle(up_to_ten)\n",
    "print(up_to_ten)\n",
    "# [7, 2, 6, 8, 9, 4, 10, 1, 3, 5]   (prawdopodobnie uzyskasz inną kolejność)"
   ]
  },
  {
   "cell_type": "code",
   "execution_count": 181,
   "id": "56b3ec47",
   "metadata": {},
   "outputs": [
    {
     "data": {
      "text/plain": [
       "'Alice'"
      ]
     },
     "execution_count": 181,
     "metadata": {},
     "output_type": "execute_result"
    }
   ],
   "source": [
    "# losowy element z listy\n",
    "my_best_friend = random.choice([\"Alice\", \"Bob\", \"Charlie\"])    \n",
    "my_best_friend"
   ]
  },
  {
   "cell_type": "code",
   "execution_count": 182,
   "id": "e298a78c",
   "metadata": {},
   "outputs": [
    {
     "data": {
      "text/plain": [
       "[15, 47, 23, 2, 26, 8]"
      ]
     },
     "execution_count": 182,
     "metadata": {},
     "output_type": "execute_result"
    }
   ],
   "source": [
    "# wylosowanie próbki elementów bez powtórzeń\n",
    "lottery_numbers = range(60)\n",
    "winning_numbers = random.sample(lottery_numbers, 6)  \n",
    "winning_numbers"
   ]
  },
  {
   "cell_type": "code",
   "execution_count": 183,
   "id": "f0977cae",
   "metadata": {},
   "outputs": [
    {
     "name": "stdout",
     "output_type": "stream",
     "text": [
      "[9, 5, 6, 6]\n"
     ]
    }
   ],
   "source": [
    "# wylosowanie próbki elementów z możliwością powtórzeń\n",
    "four_with_replacement = [random.choice(range(10)) for _ in range(4)]\n",
    "print(four_with_replacement)  "
   ]
  },
  {
   "cell_type": "markdown",
   "id": "7f79d16a",
   "metadata": {},
   "source": [
    "### Wyrażenie regularne"
   ]
  },
  {
   "cell_type": "markdown",
   "id": "685cbee2",
   "metadata": {},
   "source": [
    "Wyrażenie regularne umożliwiają przeszukiwanie tekstu"
   ]
  },
  {
   "cell_type": "code",
   "execution_count": 184,
   "id": "83a5277e",
   "metadata": {},
   "outputs": [],
   "source": [
    "import re\n",
    "\n",
    "re_examples = [                        # Wszystkie przykłady generują prawdę logiczną, ponieważ:\n",
    "    not re.match(\"a\", \"cat\"),              #  wyraz cat nie rozpoczyna się od litery a;\n",
    "    re.search(\"a\", \"cat\"),                 #  wyraz cat zawiera literę a;\n",
    "    not re.search(\"c\", \"dog\"),             #  wyraz dog nie zawiera litery c;\n",
    "    3 == len(re.split(\"[ab]\", \"carbs\")),   #  wyraz carbs po podzieleniu na literach a lub b daje listę ['c','r','s'];\n",
    "    \"R-D-\" == re.sub(\"[0-9]\", \"-\", \"R2D2\") #  cyfry zostają zastąpione kreskami.\n",
    "    ]"
   ]
  },
  {
   "cell_type": "code",
   "execution_count": 185,
   "id": "a89cccee",
   "metadata": {},
   "outputs": [
    {
     "data": {
      "text/plain": [
       "True"
      ]
     },
     "execution_count": 185,
     "metadata": {},
     "output_type": "execute_result"
    }
   ],
   "source": [
    "all(re_examples)"
   ]
  },
  {
   "cell_type": "markdown",
   "id": "58e908e3",
   "metadata": {},
   "source": [
    "### Funkcja zip i rozpakowywanie argumentów"
   ]
  },
  {
   "cell_type": "code",
   "execution_count": 186,
   "id": "69c2de0d",
   "metadata": {},
   "outputs": [],
   "source": [
    "list1 = ['a', 'b', 'c']\n",
    "list2 = [1, 2, 3]"
   ]
  },
  {
   "cell_type": "code",
   "execution_count": 187,
   "id": "91f02fd9",
   "metadata": {},
   "outputs": [
    {
     "data": {
      "text/plain": [
       "[('a', 1), ('b', 2), ('c', 3)]"
      ]
     },
     "execution_count": 187,
     "metadata": {},
     "output_type": "execute_result"
    }
   ],
   "source": [
    "# zip generuje wynik tylko wtedy, gdy jest potrzebny (jest tzw. funkcją leniwą). Można więc użyć jej np. tak:\n",
    "[pair for pair in zip(list1, list2)]    # Generowana jest lista [('a', 1), ('b', 2), ('c', 3)]."
   ]
  },
  {
   "cell_type": "code",
   "execution_count": 188,
   "id": "795de59e",
   "metadata": {},
   "outputs": [
    {
     "data": {
      "text/plain": [
       "[('a', 1), ('b', 2), ('c', 3)]"
      ]
     },
     "execution_count": 188,
     "metadata": {},
     "output_type": "execute_result"
    }
   ],
   "source": [
    "# znak * służy do rozpakowania argumentów\n",
    "pairs = [('a', 1), ('b', 2), ('c', 3)]\n",
    "letters, numbers = zip(*pairs)\n",
    "\n",
    "pairs"
   ]
  },
  {
   "cell_type": "code",
   "execution_count": 189,
   "id": "68751230",
   "metadata": {},
   "outputs": [],
   "source": [
    "def add(a, b): return a + b"
   ]
  },
  {
   "cell_type": "code",
   "execution_count": 190,
   "id": "b94bf866",
   "metadata": {},
   "outputs": [
    {
     "name": "stdout",
     "output_type": "stream",
     "text": [
      "funkcja add wymaga dwóch argumentów\n"
     ]
    },
    {
     "data": {
      "text/plain": [
       "3"
      ]
     },
     "execution_count": 190,
     "metadata": {},
     "output_type": "execute_result"
    }
   ],
   "source": [
    "add(1, 2)      # zwraca  3\n",
    "try:\n",
    "    add([1, 2])\n",
    "except TypeError:\n",
    "    print(\"funkcja add wymaga dwóch argumentów\")\n",
    "add(*[1, 2])   # zwraca  3"
   ]
  },
  {
   "cell_type": "markdown",
   "id": "1c43f6b7",
   "metadata": {},
   "source": [
    "### Argumenty nazwane i nienazwane"
   ]
  },
  {
   "cell_type": "code",
   "execution_count": 191,
   "id": "02325e48",
   "metadata": {},
   "outputs": [],
   "source": [
    "# funkcja, która dla dowolnego argumentu wygeneruje wartość wyjściową dwa razy wyższą\n",
    "def doubler(f):\n",
    "    # tutaj definiujemy nową funkcję, która korzysta z funkcji f\n",
    "    def g(x):\n",
    "        return 2 * f(x)\n",
    "\n",
    "    # a tutaj zwracamy tę funkcję\n",
    "    return g"
   ]
  },
  {
   "cell_type": "code",
   "execution_count": 192,
   "id": "9e6ba860",
   "metadata": {},
   "outputs": [],
   "source": [
    "def f1(x):\n",
    "    return x + 1\n",
    "\n",
    "g = doubler(f1)"
   ]
  },
  {
   "cell_type": "code",
   "execution_count": 193,
   "id": "66db0c4f",
   "metadata": {},
   "outputs": [
    {
     "data": {
      "text/plain": [
       "8"
      ]
     },
     "execution_count": 193,
     "metadata": {},
     "output_type": "execute_result"
    }
   ],
   "source": [
    "g(3)  #\"(3 + 1) * 2 powinno być równe 8\""
   ]
  },
  {
   "cell_type": "code",
   "execution_count": 194,
   "id": "b1364243",
   "metadata": {},
   "outputs": [
    {
     "data": {
      "text/plain": [
       "0"
      ]
     },
     "execution_count": 194,
     "metadata": {},
     "output_type": "execute_result"
    }
   ],
   "source": [
    "g(-1) #\"(-1 + 1) * 2 powinno być równe 0\""
   ]
  },
  {
   "cell_type": "code",
   "execution_count": 195,
   "id": "e3fb8367",
   "metadata": {},
   "outputs": [
    {
     "name": "stdout",
     "output_type": "stream",
     "text": [
      "funkcja g przyjmuje tylko jeden argument\n"
     ]
    }
   ],
   "source": [
    "# rozwiązanie to nie działa prawidłowo w przypadku funkcji przyjmujących więcej niż jeden argument\n",
    "def f2(x, y):\n",
    "    return x + y\n",
    "\n",
    "g = doubler(f2)\n",
    "try:\n",
    "    g(1, 2)\n",
    "except TypeError:\n",
    "    print(\"funkcja g przyjmuje tylko jeden argument\")"
   ]
  },
  {
   "cell_type": "code",
   "execution_count": 196,
   "id": "81e7cf61",
   "metadata": {},
   "outputs": [
    {
     "name": "stdout",
     "output_type": "stream",
     "text": [
      "argumenty nienazwane: (1, 2)\n",
      "argumenty nazwane: {'key': 'word', 'key2': 'word2'}\n"
     ]
    }
   ],
   "source": [
    "# funkcja przyjmująca dowolną liczbę argumentów\n",
    "def magic(*args, **kwargs):\n",
    "    print(\"argumenty nienazwane:\", args)\n",
    "    print(\"argumenty nazwane:\", kwargs)\n",
    "\n",
    "magic(1, 2, key=\"word\", key2=\"word2\")"
   ]
  },
  {
   "cell_type": "code",
   "execution_count": 197,
   "id": "10e34f20",
   "metadata": {},
   "outputs": [],
   "source": [
    "# z rozwiazania tego można również skorzystać w celu przekazania do funkcji listy (lub krotki) i słownika obiektów zawierających\n",
    "# argumenty\n",
    "\n",
    "def other_way_magic(x, y, z):\n",
    "    return x + y + z"
   ]
  },
  {
   "cell_type": "code",
   "execution_count": 198,
   "id": "58ffb543",
   "metadata": {},
   "outputs": [],
   "source": [
    "x_y_list = [1, 2]\n",
    "z_dict = {\"z\": 3}"
   ]
  },
  {
   "cell_type": "code",
   "execution_count": 199,
   "id": "fae0cfca",
   "metadata": {},
   "outputs": [
    {
     "data": {
      "text/plain": [
       "6"
      ]
     },
     "execution_count": 199,
     "metadata": {},
     "output_type": "execute_result"
    }
   ],
   "source": [
    "other_way_magic(*x_y_list, **z_dict) #\"1 + 2 + 3 powinno być równe 6\""
   ]
  },
  {
   "cell_type": "code",
   "execution_count": 200,
   "id": "2c64b013",
   "metadata": {},
   "outputs": [],
   "source": [
    "def doubler_correct(f):\n",
    "    \"\"\"Działa niezależnie od argumentów oczekiwanych przez funkcję f\"\"\"\n",
    "    def g(*args, **kwargs):\n",
    "        \"\"\"Wszystkie argumenty funkcji g przekaż do funkcji f\"\"\"\n",
    "        return 2 * f(*args, **kwargs)\n",
    "    return g\n",
    "\n",
    "g = doubler_correct(f2)"
   ]
  },
  {
   "cell_type": "code",
   "execution_count": 201,
   "id": "a1b95f2e",
   "metadata": {},
   "outputs": [
    {
     "data": {
      "text/plain": [
       "6"
      ]
     },
     "execution_count": 201,
     "metadata": {},
     "output_type": "execute_result"
    }
   ],
   "source": [
    "g(1, 2) #\"doubler powinien teraz działać poprawnie\""
   ]
  },
  {
   "cell_type": "markdown",
   "id": "70dde1ee",
   "metadata": {},
   "source": [
    "### Adnotacje typów"
   ]
  },
  {
   "cell_type": "code",
   "execution_count": 202,
   "id": "2e324cd4",
   "metadata": {},
   "outputs": [],
   "source": [
    "def add(a, b):\n",
    "    return a + b"
   ]
  },
  {
   "cell_type": "code",
   "execution_count": 203,
   "id": "6a1e8fb4",
   "metadata": {},
   "outputs": [
    {
     "data": {
      "text/plain": [
       "15"
      ]
     },
     "execution_count": 203,
     "metadata": {},
     "output_type": "execute_result"
    }
   ],
   "source": [
    "add(10, 5) #\"+ jest poprawne dla liczb\""
   ]
  },
  {
   "cell_type": "code",
   "execution_count": 204,
   "id": "1d807f3b",
   "metadata": {},
   "outputs": [
    {
     "data": {
      "text/plain": [
       "[1, 2, 3]"
      ]
     },
     "execution_count": 204,
     "metadata": {},
     "output_type": "execute_result"
    }
   ],
   "source": [
    "add([1, 2], [3])  # \"+ jest poprawne dla list\""
   ]
  },
  {
   "cell_type": "code",
   "execution_count": 205,
   "id": "27835e79",
   "metadata": {},
   "outputs": [
    {
     "data": {
      "text/plain": [
       "'hi there'"
      ]
     },
     "execution_count": 205,
     "metadata": {},
     "output_type": "execute_result"
    }
   ],
   "source": [
    "add(\"hi \", \"there\")  #\"+ jest poprawne dla łańcuchów\""
   ]
  },
  {
   "cell_type": "code",
   "execution_count": 206,
   "id": "ce581079",
   "metadata": {},
   "outputs": [
    {
     "name": "stdout",
     "output_type": "stream",
     "text": [
      "nie można dodać liczby do łańcucha znakowego\n"
     ]
    }
   ],
   "source": [
    "try:\n",
    "    add(10, \"pięć\")\n",
    "except TypeError:\n",
    "    print(\"nie można dodać liczby do łańcucha znakowego\")"
   ]
  },
  {
   "cell_type": "code",
   "execution_count": 207,
   "id": "e6327b21",
   "metadata": {},
   "outputs": [],
   "source": [
    "def add(a: int, b: int) -> int:\n",
    "    return a + b"
   ]
  },
  {
   "cell_type": "code",
   "execution_count": 208,
   "id": "62eb9906",
   "metadata": {},
   "outputs": [
    {
     "data": {
      "text/plain": [
       "15"
      ]
     },
     "execution_count": 208,
     "metadata": {},
     "output_type": "execute_result"
    }
   ],
   "source": [
    "add(10, 5)           # to by było poprawne"
   ]
  },
  {
   "cell_type": "code",
   "execution_count": 209,
   "id": "21f81eac",
   "metadata": {},
   "outputs": [],
   "source": [
    "# Tego fragmentu nie ma w książce, ale jest potrzebny,\n",
    "# aby funkcja `dot_product` nie zwracała błędu.\n",
    "from typing import List\n",
    "Vector = List[float]"
   ]
  },
  {
   "cell_type": "code",
   "execution_count": 210,
   "id": "1811b986",
   "metadata": {},
   "outputs": [],
   "source": [
    "def dot_product(x, y): ..."
   ]
  },
  {
   "cell_type": "code",
   "execution_count": 211,
   "id": "0c013b72",
   "metadata": {},
   "outputs": [],
   "source": [
    "# jeszcze nie zdefiniowaliśmy typu Vector, ale wyobraź sobie, że to zrobiliśmy\n",
    "def dot_product(x: Vector, y: Vector) -> float: ..."
   ]
  },
  {
   "cell_type": "code",
   "execution_count": 212,
   "id": "71167b53",
   "metadata": {},
   "outputs": [],
   "source": [
    "from typing import Union\n",
    "\n",
    "def secretly_ugly_function(value, operation): ...\n",
    "\n",
    "def ugly_function(value: int, operation: Union[str, int, float, bool]) -> int:\n",
    "    ..."
   ]
  },
  {
   "cell_type": "code",
   "execution_count": 213,
   "id": "1e4b3481",
   "metadata": {},
   "outputs": [],
   "source": [
    "def total(xs: list) -> float:\n",
    "    return sum(xs)"
   ]
  },
  {
   "cell_type": "code",
   "execution_count": 214,
   "id": "41a8a08f",
   "metadata": {},
   "outputs": [],
   "source": [
    "from typing import List  # pisane wielką literą L\n",
    "\n",
    "def total(xs: List[float]) -> float:\n",
    "    return sum(xs)"
   ]
  },
  {
   "cell_type": "code",
   "execution_count": 215,
   "id": "8a47c1b5",
   "metadata": {},
   "outputs": [],
   "source": [
    "# tak wygląda adnotacja typu zmiennej podczas jej definiowania\n",
    "# nie jest to konieczne, gdyż w tym przypadku jest oczywiste, że x jest typu int\n",
    "x: int = 5"
   ]
  },
  {
   "cell_type": "code",
   "execution_count": 216,
   "id": "08a308a9",
   "metadata": {},
   "outputs": [],
   "source": [
    "values = []         # jaki to typ?\n",
    "best_so_far = None  # jaki to typ?"
   ]
  },
  {
   "cell_type": "code",
   "execution_count": 217,
   "id": "0a4dc183",
   "metadata": {},
   "outputs": [],
   "source": [
    "from typing import Optional\n",
    "\n",
    "values: List[int] = []\n",
    "best_so_far: Optional[float] = None  # zmienna może być albo typu float, albo None"
   ]
  },
  {
   "cell_type": "code",
   "execution_count": 218,
   "id": "a5263c1d",
   "metadata": {},
   "outputs": [],
   "source": [
    "lazy = True"
   ]
  },
  {
   "cell_type": "code",
   "execution_count": 219,
   "id": "8fe957d6",
   "metadata": {},
   "outputs": [],
   "source": [
    "# żadna z adnotacji typu w tym fragmencie nie jest konieczna\n",
    "from typing import Dict, Iterable, Tuple\n",
    "\n",
    "# klucze są typu string, a wartości typu int\n",
    "counts: Dict[str, int] = {'data': 1, 'science': 2}\n",
    "\n",
    "# # zarówno listy, jak i generatory są iterowalne\n",
    "if lazy:\n",
    "    evens: Iterable[int] = (x for x in range(10) if x % 2 == 0)\n",
    "else:\n",
    "    evens = [0, 2, 4, 6, 8]\n",
    "\n",
    "# krotka z określonym typem każdego elementu\n",
    "triple: Tuple[int, float, int] = (10, 2.3, 5)"
   ]
  },
  {
   "cell_type": "code",
   "execution_count": 220,
   "id": "38c98d20",
   "metadata": {},
   "outputs": [],
   "source": [
    "from typing import Callable\n",
    "\n",
    "# funkcja repeater przyjmuje dwa argumenty, jeden typu string, \n",
    "# a drugi typu int, i zwraca wartość typu string\n",
    "def twice(repeater: Callable[[str, int], str], s: str) -> str:\n",
    "    return repeater(s, 2)\n",
    "\n",
    "def comma_repeater(s: str, n: int) -> str:\n",
    "    n_copies = [s for _ in range(n)]\n",
    "    return ', '.join(n_copies)\n",
    "\n",
    "assert twice(comma_repeater, \"adnotacja typu\") == \"adnotacja typu, adnotacja typu\""
   ]
  },
  {
   "cell_type": "code",
   "execution_count": 221,
   "id": "5494e530",
   "metadata": {},
   "outputs": [],
   "source": [
    "Number = int\n",
    "Numbers = List[Number]\n",
    "\n",
    "def total(xs: Numbers) -> Number:\n",
    "    return sum(xs)"
   ]
  },
  {
   "cell_type": "code",
   "execution_count": null,
   "id": "8638f8f8",
   "metadata": {},
   "outputs": [],
   "source": []
  }
 ],
 "metadata": {
  "kernelspec": {
   "display_name": "Python 3 (ipykernel)",
   "language": "python",
   "name": "python3"
  },
  "language_info": {
   "codemirror_mode": {
    "name": "ipython",
    "version": 3
   },
   "file_extension": ".py",
   "mimetype": "text/x-python",
   "name": "python",
   "nbconvert_exporter": "python",
   "pygments_lexer": "ipython3",
   "version": "3.10.9"
  }
 },
 "nbformat": 4,
 "nbformat_minor": 5
}
