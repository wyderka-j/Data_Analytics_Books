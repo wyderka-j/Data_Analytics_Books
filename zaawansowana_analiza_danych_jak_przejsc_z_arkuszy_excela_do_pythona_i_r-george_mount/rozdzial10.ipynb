{
 "cells": [
  {
   "cell_type": "markdown",
   "id": "27b85633",
   "metadata": {},
   "source": [
    "Witaj, Jupyterze!"
   ]
  },
  {
   "cell_type": "markdown",
   "id": "c106bc7d",
   "metadata": {},
   "source": [
    "# Duży nagłówek 1\n",
    "## Mniejszy nagłówek 2\n",
    "### Jeszcze mniejszy\n",
    "#### jeszcze mniejszy\n",
    "*Tekst zapisany między gwiazdkami jest pochylony*\n",
    "\n",
    "**Tekst zapisany pomiędzy dwoma gwiazdkami jest pogrubiony**\n",
    "\n",
    "- Wykorzystaj minus..\n",
    "- to stworzenia listy wypunktowanej\n",
    "\n",
    "Kod, który nie zostanie uruchomiony, możesz zapisać w ten sposób: `czcionka o stałej szerokości znaków`"
   ]
  },
  {
   "cell_type": "code",
   "execution_count": 1,
   "id": "0dfded80",
   "metadata": {},
   "outputs": [
    {
     "data": {
      "text/plain": [
       "2"
      ]
     },
     "execution_count": 1,
     "metadata": {},
     "output_type": "execute_result"
    }
   ],
   "source": [
    "1 + 1"
   ]
  },
  {
   "cell_type": "code",
   "execution_count": 2,
   "id": "42c83cc5",
   "metadata": {},
   "outputs": [
    {
     "data": {
      "text/plain": [
       "8"
      ]
     },
     "execution_count": 2,
     "metadata": {},
     "output_type": "execute_result"
    }
   ],
   "source": [
    "2 * 4"
   ]
  },
  {
   "cell_type": "code",
   "execution_count": 3,
   "id": "a2f513a1",
   "metadata": {},
   "outputs": [
    {
     "data": {
      "text/plain": [
       "-6.0"
      ]
     },
     "execution_count": 3,
     "metadata": {},
     "output_type": "execute_result"
    }
   ],
   "source": [
    "# Mnożenie przed dodawaniem\n",
    "3 * 5 + 6 \n",
    "2 / 2 - 7 # Dzielenie przed odejmowaniem"
   ]
  },
  {
   "cell_type": "code",
   "execution_count": 4,
   "id": "98baa362",
   "metadata": {},
   "outputs": [
    {
     "data": {
      "text/plain": [
       "21"
      ]
     },
     "execution_count": 4,
     "metadata": {},
     "output_type": "execute_result"
    }
   ],
   "source": [
    "# Mnożenie przed dodawaniem\n",
    "3 * 5 + 6"
   ]
  },
  {
   "cell_type": "code",
   "execution_count": 5,
   "id": "1bab4152",
   "metadata": {},
   "outputs": [
    {
     "data": {
      "text/plain": [
       "-6.0"
      ]
     },
     "execution_count": 5,
     "metadata": {},
     "output_type": "execute_result"
    }
   ],
   "source": [
    "2 / 2 - 7 # Dzielenie przed odejmowaniem"
   ]
  },
  {
   "cell_type": "code",
   "execution_count": 6,
   "id": "904aecf2",
   "metadata": {},
   "outputs": [
    {
     "data": {
      "text/plain": [
       "100"
      ]
     },
     "execution_count": 6,
     "metadata": {},
     "output_type": "execute_result"
    }
   ],
   "source": [
    "abs(-100)"
   ]
  },
  {
   "cell_type": "code",
   "execution_count": 7,
   "id": "b1391fde",
   "metadata": {},
   "outputs": [
    {
     "data": {
      "text/plain": [
       "15"
      ]
     },
     "execution_count": 7,
     "metadata": {},
     "output_type": "execute_result"
    }
   ],
   "source": [
    "len('Witaj, świecie!')"
   ]
  },
  {
   "cell_type": "code",
   "execution_count": 8,
   "id": "bcdb2786",
   "metadata": {},
   "outputs": [
    {
     "ename": "NameError",
     "evalue": "name 'ABS' is not defined",
     "output_type": "error",
     "traceback": [
      "\u001b[1;31m---------------------------------------------------------------------------\u001b[0m",
      "\u001b[1;31mNameError\u001b[0m                                 Traceback (most recent call last)",
      "Cell \u001b[1;32mIn[8], line 1\u001b[0m\n\u001b[1;32m----> 1\u001b[0m \u001b[43mABS\u001b[49m(\u001b[38;5;241m-\u001b[39m\u001b[38;5;241m100\u001b[39m)\n",
      "\u001b[1;31mNameError\u001b[0m: name 'ABS' is not defined"
     ]
    }
   ],
   "source": [
    "ABS(-100)"
   ]
  },
  {
   "cell_type": "code",
   "execution_count": 9,
   "id": "e2ea1912",
   "metadata": {},
   "outputs": [],
   "source": [
    "# uzyskanie informacji o funkcji\n",
    "?abs"
   ]
  },
  {
   "cell_type": "code",
   "execution_count": 10,
   "id": "b458b10e",
   "metadata": {},
   "outputs": [
    {
     "data": {
      "text/plain": [
       "False"
      ]
     },
     "execution_count": 10,
     "metadata": {},
     "output_type": "execute_result"
    }
   ],
   "source": [
    "# Czy 3 jest większe niż 4?\n",
    "3 > 4"
   ]
  },
  {
   "cell_type": "code",
   "execution_count": 11,
   "id": "6e15a82d",
   "metadata": {},
   "outputs": [],
   "source": [
    "# Przypisywanie wartości do obiektu w Pythonie\n",
    "my_first_object = abs(-100)"
   ]
  },
  {
   "cell_type": "code",
   "execution_count": 12,
   "id": "f7077540",
   "metadata": {},
   "outputs": [
    {
     "data": {
      "text/plain": [
       "100"
      ]
     },
     "execution_count": 12,
     "metadata": {},
     "output_type": "execute_result"
    }
   ],
   "source": [
    "my_first_object"
   ]
  },
  {
   "cell_type": "code",
   "execution_count": 13,
   "id": "44b6b2dc",
   "metadata": {},
   "outputs": [
    {
     "data": {
      "text/plain": [
       "str"
      ]
     },
     "execution_count": 13,
     "metadata": {},
     "output_type": "execute_result"
    }
   ],
   "source": [
    "my_string = 'Witaj, świecie'\n",
    "type(my_string)"
   ]
  },
  {
   "cell_type": "code",
   "execution_count": 14,
   "id": "d92fd879",
   "metadata": {},
   "outputs": [
    {
     "data": {
      "text/plain": [
       "str"
      ]
     },
     "execution_count": 14,
     "metadata": {},
     "output_type": "execute_result"
    }
   ],
   "source": [
    "# Podwójny cudzysłów również działa\n",
    "my_other_string = \"Możemy programować w Pythonie!\"\n",
    "type(my_other_string)"
   ]
  },
  {
   "cell_type": "code",
   "execution_count": 15,
   "id": "276e55dc",
   "metadata": {},
   "outputs": [
    {
     "data": {
      "text/plain": [
       "float"
      ]
     },
     "execution_count": 15,
     "metadata": {},
     "output_type": "execute_result"
    }
   ],
   "source": [
    "my_float = 6.2\n",
    "type(my_float)"
   ]
  },
  {
   "cell_type": "code",
   "execution_count": 16,
   "id": "8092107b",
   "metadata": {},
   "outputs": [
    {
     "data": {
      "text/plain": [
       "int"
      ]
     },
     "execution_count": 16,
     "metadata": {},
     "output_type": "execute_result"
    }
   ],
   "source": [
    "my_integer = 3\n",
    "type(my_integer)"
   ]
  },
  {
   "cell_type": "code",
   "execution_count": 17,
   "id": "96f95072",
   "metadata": {},
   "outputs": [
    {
     "data": {
      "text/plain": [
       "bool"
      ]
     },
     "execution_count": 17,
     "metadata": {},
     "output_type": "execute_result"
    }
   ],
   "source": [
    "my_bool = True\n",
    "type(my_bool)"
   ]
  },
  {
   "cell_type": "code",
   "execution_count": 18,
   "id": "e068c419",
   "metadata": {},
   "outputs": [
    {
     "data": {
      "text/plain": [
       "False"
      ]
     },
     "execution_count": 18,
     "metadata": {},
     "output_type": "execute_result"
    }
   ],
   "source": [
    "# Czy my_float równa się 6.1\n",
    "my_float == 6.1"
   ]
  },
  {
   "cell_type": "code",
   "execution_count": 19,
   "id": "0c8bf75d",
   "metadata": {},
   "outputs": [
    {
     "data": {
      "text/plain": [
       "14"
      ]
     },
     "execution_count": 19,
     "metadata": {},
     "output_type": "execute_result"
    }
   ],
   "source": [
    "# Ile znaków znajduje się w my_string?\n",
    "# (Ta sama funkcja co w Excelu!)\n",
    "len(my_string)"
   ]
  },
  {
   "cell_type": "code",
   "execution_count": 20,
   "id": "6baa0c31",
   "metadata": {},
   "outputs": [
    {
     "data": {
      "text/plain": [
       "'WITAJ, ŚWIECIE'"
      ]
     },
     "execution_count": 20,
     "metadata": {},
     "output_type": "execute_result"
    }
   ],
   "source": [
    "# metody\n",
    "my_string.upper()"
   ]
  },
  {
   "cell_type": "code",
   "execution_count": 21,
   "id": "92e9c35b",
   "metadata": {},
   "outputs": [
    {
     "ename": "NameError",
     "evalue": "name 'sqrt' is not defined",
     "output_type": "error",
     "traceback": [
      "\u001b[1;31m---------------------------------------------------------------------------\u001b[0m",
      "\u001b[1;31mNameError\u001b[0m                                 Traceback (most recent call last)",
      "Cell \u001b[1;32mIn[21], line 2\u001b[0m\n\u001b[0;32m      1\u001b[0m \u001b[38;5;66;03m# funkcje\u001b[39;00m\n\u001b[1;32m----> 2\u001b[0m \u001b[43msqrt\u001b[49m(\u001b[38;5;241m25\u001b[39m)\n",
      "\u001b[1;31mNameError\u001b[0m: name 'sqrt' is not defined"
     ]
    }
   ],
   "source": [
    "# funkcje\n",
    "sqrt(25)"
   ]
  },
  {
   "cell_type": "code",
   "execution_count": 22,
   "id": "bfa536c6",
   "metadata": {},
   "outputs": [],
   "source": [
    "# import modułu\n",
    "import math"
   ]
  },
  {
   "cell_type": "code",
   "execution_count": 23,
   "id": "d901724c",
   "metadata": {},
   "outputs": [
    {
     "ename": "NameError",
     "evalue": "name 'sqrt' is not defined",
     "output_type": "error",
     "traceback": [
      "\u001b[1;31m---------------------------------------------------------------------------\u001b[0m",
      "\u001b[1;31mNameError\u001b[0m                                 Traceback (most recent call last)",
      "Cell \u001b[1;32mIn[23], line 1\u001b[0m\n\u001b[1;32m----> 1\u001b[0m \u001b[43msqrt\u001b[49m(\u001b[38;5;241m25\u001b[39m)\n",
      "\u001b[1;31mNameError\u001b[0m: name 'sqrt' is not defined"
     ]
    }
   ],
   "source": [
    "sqrt(25)"
   ]
  },
  {
   "cell_type": "code",
   "execution_count": 24,
   "id": "e922459a",
   "metadata": {},
   "outputs": [
    {
     "data": {
      "text/plain": [
       "5.0"
      ]
     },
     "execution_count": 24,
     "metadata": {},
     "output_type": "execute_result"
    }
   ],
   "source": [
    "math.sqrt(25)"
   ]
  },
  {
   "cell_type": "code",
   "execution_count": 25,
   "id": "482279cf",
   "metadata": {},
   "outputs": [],
   "source": [
    "#!conda install plotly"
   ]
  },
  {
   "cell_type": "code",
   "execution_count": null,
   "id": "75854eac",
   "metadata": {},
   "outputs": [],
   "source": [
    "!conda install plotly"
   ]
  },
  {
   "cell_type": "code",
   "execution_count": null,
   "id": "b2667d5c",
   "metadata": {},
   "outputs": [],
   "source": [
    "#!pip install pyxlsb\n",
    "!pip install pyxlsb"
   ]
  },
  {
   "cell_type": "code",
   "execution_count": null,
   "id": "b4ae3c3f",
   "metadata": {},
   "outputs": [],
   "source": []
  }
 ],
 "metadata": {
  "kernelspec": {
   "display_name": "Python 3 (ipykernel)",
   "language": "python",
   "name": "python3"
  },
  "language_info": {
   "codemirror_mode": {
    "name": "ipython",
    "version": 3
   },
   "file_extension": ".py",
   "mimetype": "text/x-python",
   "name": "python",
   "nbconvert_exporter": "python",
   "pygments_lexer": "ipython3",
   "version": "3.10.9"
  }
 },
 "nbformat": 4,
 "nbformat_minor": 5
}
