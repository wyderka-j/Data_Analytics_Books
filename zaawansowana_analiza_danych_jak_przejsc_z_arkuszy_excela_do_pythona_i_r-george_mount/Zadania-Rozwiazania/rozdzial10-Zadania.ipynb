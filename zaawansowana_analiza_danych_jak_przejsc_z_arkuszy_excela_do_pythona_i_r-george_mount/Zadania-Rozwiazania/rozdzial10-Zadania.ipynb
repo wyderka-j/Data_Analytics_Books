{
 "cells": [
  {
   "cell_type": "markdown",
   "id": "1c744d3b",
   "metadata": {},
   "source": [
    "Zadanie 1. W nowym notatniku wykonaj następujące czynności:"
   ]
  },
  {
   "cell_type": "code",
   "execution_count": 1,
   "id": "6efbc23c",
   "metadata": {},
   "outputs": [
    {
     "data": {
      "text/plain": [
       "-3"
      ]
     },
     "execution_count": 1,
     "metadata": {},
     "output_type": "execute_result"
    }
   ],
   "source": [
    "# 1a. Przypisz sumę 1 i -4 do obiektu a\n",
    "a = 1 - 4\n",
    "a"
   ]
  },
  {
   "cell_type": "code",
   "execution_count": 2,
   "id": "04fa2777",
   "metadata": {},
   "outputs": [
    {
     "data": {
      "text/plain": [
       "3"
      ]
     },
     "execution_count": 2,
     "metadata": {},
     "output_type": "execute_result"
    }
   ],
   "source": [
    "# 1b. Przypisz wartość bezwzględną a do b\n",
    "b = abs(a)\n",
    "b"
   ]
  },
  {
   "cell_type": "code",
   "execution_count": 3,
   "id": "50c0d3ee",
   "metadata": {},
   "outputs": [
    {
     "data": {
      "text/plain": [
       "2"
      ]
     },
     "execution_count": 3,
     "metadata": {},
     "output_type": "execute_result"
    }
   ],
   "source": [
    "# 1c. Przypisz b minus 1 do d.\n",
    "d = b - 1\n",
    "d"
   ]
  },
  {
   "cell_type": "code",
   "execution_count": 4,
   "id": "5d5097ac",
   "metadata": {},
   "outputs": [
    {
     "data": {
      "text/plain": [
       "False"
      ]
     },
     "execution_count": 4,
     "metadata": {},
     "output_type": "execute_result"
    }
   ],
   "source": [
    "# 1d. Czy d jest większe niż 2?\n",
    "d > 2"
   ]
  },
  {
   "cell_type": "markdown",
   "id": "3ccd9844",
   "metadata": {},
   "source": [
    "Zadanie 2. Biblioteka standardowa Pythona zawiera moduł random, który posiada funcję randint(). Funkcja ta jest odpowiednikiem LOS.ZAKR z Excela. Na przykład wywołanie randint(1, 6) zwróci liczbę całkowitą z zakresu od 1 do 6. Użyj tej funkcji, aby znaleźć liczbę losową z zakresu od 0 do 36."
   ]
  },
  {
   "cell_type": "code",
   "execution_count": 5,
   "id": "0e656915",
   "metadata": {},
   "outputs": [],
   "source": [
    "# Nie ma konieczności instalacji. Ten pakiet jest częścią biblioteki standardowej. Musimy go jednak zaimportować\n",
    "import random"
   ]
  },
  {
   "cell_type": "code",
   "execution_count": 6,
   "id": "c3c1c1ed",
   "metadata": {},
   "outputs": [
    {
     "data": {
      "text/plain": [
       "22"
      ]
     },
     "execution_count": 6,
     "metadata": {},
     "output_type": "execute_result"
    }
   ],
   "source": [
    "# oraz określić skąd pochodzi interesująca nas funkcja\n",
    "random.randint(0, 36)"
   ]
  },
  {
   "cell_type": "markdown",
   "id": "52ca6ede",
   "metadata": {},
   "source": [
    "Zadanie 3. Biblioteka standardowa Pythona zawiera również moduł o nazwie this. Co się stanie gdy go zaimportujesz?"
   ]
  },
  {
   "cell_type": "code",
   "execution_count": 7,
   "id": "afdb904d",
   "metadata": {},
   "outputs": [
    {
     "name": "stdout",
     "output_type": "stream",
     "text": [
      "The Zen of Python, by Tim Peters\n",
      "\n",
      "Beautiful is better than ugly.\n",
      "Explicit is better than implicit.\n",
      "Simple is better than complex.\n",
      "Complex is better than complicated.\n",
      "Flat is better than nested.\n",
      "Sparse is better than dense.\n",
      "Readability counts.\n",
      "Special cases aren't special enough to break the rules.\n",
      "Although practicality beats purity.\n",
      "Errors should never pass silently.\n",
      "Unless explicitly silenced.\n",
      "In the face of ambiguity, refuse the temptation to guess.\n",
      "There should be one-- and preferably only one --obvious way to do it.\n",
      "Although that way may not be obvious at first unless you're Dutch.\n",
      "Now is better than never.\n",
      "Although never is often better than *right* now.\n",
      "If the implementation is hard to explain, it's a bad idea.\n",
      "If the implementation is easy to explain, it may be a good idea.\n",
      "Namespaces are one honking great idea -- let's do more of those!\n"
     ]
    }
   ],
   "source": [
    "import this"
   ]
  },
  {
   "cell_type": "markdown",
   "id": "8bdac830",
   "metadata": {},
   "source": [
    "Zadanie 4. Pobierz pakiet xlutis z repozytorium Anacondy, a następnie wykorzystaj operator ?, aby przejrzeć jego dokumentację."
   ]
  },
  {
   "cell_type": "code",
   "execution_count": null,
   "id": "0a37783c",
   "metadata": {},
   "outputs": [],
   "source": [
    "# Pobieranie xlutils\n",
    "#!conda install xlutils"
   ]
  },
  {
   "cell_type": "code",
   "execution_count": null,
   "id": "fd94eddb",
   "metadata": {},
   "outputs": [],
   "source": [
    "# Przeglądanie dokumentacji pakietu xlutils\n",
    "import xlutils\n",
    "?xlutils"
   ]
  },
  {
   "cell_type": "code",
   "execution_count": null,
   "id": "e0bbfe37",
   "metadata": {},
   "outputs": [],
   "source": []
  }
 ],
 "metadata": {
  "kernelspec": {
   "display_name": "Python 3 (ipykernel)",
   "language": "python",
   "name": "python3"
  },
  "language_info": {
   "codemirror_mode": {
    "name": "ipython",
    "version": 3
   },
   "file_extension": ".py",
   "mimetype": "text/x-python",
   "name": "python",
   "nbconvert_exporter": "python",
   "pygments_lexer": "ipython3",
   "version": "3.10.9"
  }
 },
 "nbformat": 4,
 "nbformat_minor": 5
}
